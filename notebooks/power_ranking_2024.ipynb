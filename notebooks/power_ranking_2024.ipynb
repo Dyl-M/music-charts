{
 "cells": [
  {
   "cell_type": "markdown",
   "id": "7aaa225e4bcf3e36",
   "metadata": {
    "jp-MarkdownHeadingCollapsed": true
   },
   "source": [
    "#4on4 : 2024 Power Ranking\n",
    "---------------------------\n",
    "\n",
    "## Dependencies"
   ]
  },
  {
   "cell_type": "code",
   "id": "e57a10e7bdf0d679",
   "metadata": {
    "ExecuteTime": {
     "end_time": "2024-12-17T17:41:37.375065Z",
     "start_time": "2024-12-17T17:41:37.371064Z"
    }
   },
   "source": [
    "import json\n",
    "import pandas as pd\n",
    "import plotly.express as px\n",
    "\n",
    "from sklearn.preprocessing import MinMaxScaler"
   ],
   "outputs": [],
   "execution_count": 290
  },
  {
   "cell_type": "markdown",
   "id": "c9f21e81a783c0de",
   "metadata": {},
   "source": [
    "## Functions"
   ]
  },
  {
   "metadata": {
    "ExecuteTime": {
     "end_time": "2024-12-17T17:41:37.468327Z",
     "start_time": "2024-12-17T17:41:37.461471Z"
    }
   },
   "cell_type": "code",
   "source": [
    "def load_data(file_path: str, category: str = None) -> pd.DataFrame:\n",
    "    \"\"\"Load data as pandas Dataframe, with basic information and selected statistics if needed\n",
    "    :param file_path: path to data as JSON file to parse\n",
    "    :param category: category of stats to select\n",
    "    :return: pandas Dataframe with all information requested.\n",
    "    \"\"\"\n",
    "    with open(file_path, 'r', encoding='utf-8') as j_file:\n",
    "        json_data = json.load(j_file)\n",
    "\n",
    "    with open('../data/stats_category.json', 'r', encoding='utf-8') as c_file:\n",
    "        stats_categories = json.load(c_file)\n",
    "\n",
    "    general_data_keys = ('artist_list', 'genre', 'label', 'title')\n",
    "    renaming = {'s_id': 'songstats_id', 's_title': 'songstats_title'}\n",
    "\n",
    "    ids = pd.DataFrame([{key: value for key, value in field['songstats_identifiers'].items()} for field in\n",
    "                        json_data]).rename(columns=renaming)\n",
    "\n",
    "    general_data = pd.DataFrame(\n",
    "        [{key: value for key, value in field.items() if key in general_data_keys} for field in json_data])\n",
    "\n",
    "    if not category:\n",
    "        return pd.concat((ids, general_data), axis=1)\n",
    "\n",
    "    stats_selected = pd.DataFrame(\n",
    "        [{key: value for key, value in field['data'].items() if key in stats_categories[category]}\n",
    "         for field in json_data]).fillna(0)\n",
    "\n",
    "    return pd.concat((ids, general_data, stats_selected), axis=1)"
   ],
   "id": "ddc6f319bc248fe4",
   "outputs": [],
   "execution_count": 291
  },
  {
   "metadata": {
    "ExecuteTime": {
     "end_time": "2024-12-17T17:41:37.476028Z",
     "start_time": "2024-12-17T17:41:37.471967Z"
    }
   },
   "cell_type": "code",
   "source": [
    "def rescale_stats(df: pd.DataFrame, other_fields: list) -> pd.DataFrame:\n",
    "    \"\"\"Rescale stats for better comparaison\n",
    "    :param df: input pandas Dataframe\n",
    "    :param other_fields: field to not rescale\n",
    "    :return: data rescaled.\n",
    "    \"\"\"\n",
    "    df[df.columns.difference(other_fields)] = MinMaxScaler(feature_range=(0, 100)).fit_transform(\n",
    "        df[df.columns.difference(other_fields)])\n",
    "\n",
    "    return df\n"
   ],
   "id": "67fbce3464eab2a1",
   "outputs": [],
   "execution_count": 292
  },
  {
   "metadata": {
    "ExecuteTime": {
     "end_time": "2024-12-17T17:41:37.555858Z",
     "start_time": "2024-12-17T17:41:37.550858Z"
    }
   },
   "cell_type": "code",
   "source": [
    "def compute_power(df: pd.DataFrame, other_fields: list) -> (pd.DataFrame, float):\n",
    "    \"\"\"Compute\n",
    "    :param df: input pandas Dataframe\n",
    "    :param other_fields: field to not rescale\n",
    "    :return: data with power ranking computed and category weight\n",
    "    \"\"\"\n",
    "    # \"prw\" stand for \"Power Ranking Weight\" : proportion of data available for each stat\n",
    "    prw = df[df.columns.difference(other_fields)].astype(bool).sum(axis=0) / df.shape[0]\n",
    "    pr = df[df.columns.difference(other_fields)].dot(prw) / prw.sum()\n",
    "\n",
    "    category_weight = prw.sum() / prw.shape[0]\n",
    "\n",
    "    pr_results = pd.concat((df, pr), axis=1)\n",
    "    pr_results.rename({0: \"PWR\"}, axis=1, inplace=True)\n",
    "\n",
    "    return pr_results, category_weight"
   ],
   "id": "567bde9b90b15858",
   "outputs": [],
   "execution_count": 293
  },
  {
   "metadata": {
    "ExecuteTime": {
     "end_time": "2024-12-17T17:41:37.730926Z",
     "start_time": "2024-12-17T17:41:37.724772Z"
    }
   },
   "cell_type": "code",
   "source": [
    "def plot_bar(dataframe: pd.DataFrame, x: str, y: str, title: str, x_label: str, y_label: str, col_range: tuple):\n",
    "    \"\"\"Compute a Bar Chart using Plotly express\n",
    "    :param dataframe: dataframe as input (has to be sorted)\n",
    "    :param x: x value for bar chart (labels)\n",
    "    :param y: y value for bar chart (feature)\n",
    "    :param title: title of the chart\n",
    "    :param x_label: x-axis label\n",
    "    :param y_label: y-axis label\n",
    "    :param col_range: color range for the chart\n",
    "    :return: bar chart as plotly \"Figure\" object.\n",
    "    \"\"\"\n",
    "    if x_label is None:\n",
    "        x_label = x\n",
    "\n",
    "    if y_label is None:\n",
    "        y_label = y\n",
    "\n",
    "    fig = px.bar(data_frame=dataframe, y=y, x=x,\n",
    "                 labels={x: x_label, y: y_label},\n",
    "                 title=title, color=y,\n",
    "                 width=960, height=540, color_continuous_scale='orrd', range_color=col_range)\n",
    "\n",
    "    fig.update_layout(xaxis={'categoryorder': 'total descending'})\n",
    "    fig.update_coloraxes(showscale=False)\n",
    "    return fig"
   ],
   "id": "49210c144e6fa66b",
   "outputs": [],
   "execution_count": 294
  },
  {
   "metadata": {},
   "cell_type": "markdown",
   "source": "## Data Loading & Pre-treatments",
   "id": "93b266adff3382b8"
  },
  {
   "metadata": {
    "ExecuteTime": {
     "end_time": "2024-12-17T17:41:37.775199Z",
     "start_time": "2024-12-17T17:41:37.742474Z"
    }
   },
   "cell_type": "code",
   "source": [
    "data = load_data(file_path='../data/data_2024.json')\n",
    "general_field = data.columns.tolist()\n",
    "data"
   ],
   "id": "506bb966d1394729",
   "outputs": [
    {
     "data": {
      "text/plain": [
       "    songstats_id                songstats_title  \\\n",
       "0       qmr6e0bx                             16   \n",
       "1       cxsruom1  17 (Ekko & Sidetrack Bootleg)   \n",
       "2       847p1x5v             Never Let You Down   \n",
       "3       4owlyi76                           4 AM   \n",
       "4       a3ok10ce                             4D   \n",
       "..           ...                            ...   \n",
       "302     cqdneir6                Can You Feel It   \n",
       "303     nwqit015              Curse of the Moai   \n",
       "304     em4stqoh                       Himalaya   \n",
       "305     wx93mcy6                     Next To Me   \n",
       "306     0wpg1fj9             Hopelessly Falling   \n",
       "\n",
       "                                           artist_list  \\\n",
       "0                      [blasterjaxx, hardwell, maddix]   \n",
       "1                               [ekko & sidetrack, mk]   \n",
       "2    [cimone, deadline, duskee, emily makis, fricti...   \n",
       "3                                       [lexed, oshan]   \n",
       "4                            [bad computer, ryan coss]   \n",
       "..                                                 ...   \n",
       "302                                      [retrovision]   \n",
       "303                                      [exyl, nasko]   \n",
       "304                                  [matisse & sadko]   \n",
       "305                      [don diablo, gaby gerlis, mk]   \n",
       "306                   [enrem, jonah sky, rico 56, ubo]   \n",
       "\n",
       "                              genre                 label  \\\n",
       "0                     [hard techno]            [revealed]   \n",
       "1                     [drum & bass]         [[no labels]]   \n",
       "2                     [drum & bass]        [shogun audio]   \n",
       "3    [future house / future bounce]  [future house cloud]   \n",
       "4                   [electro house]          [monstercat]   \n",
       "..                              ...                   ...   \n",
       "302                    [bass house]               [stmpd]   \n",
       "303        [drumstep / moombahcore]         [[no labels]]   \n",
       "304             [progressive house]               [stmpd]   \n",
       "305  [future house / future bounce]             [hexagon]   \n",
       "306                 [melodic house]     [monstercat silk]   \n",
       "\n",
       "                           title  \n",
       "0                             16  \n",
       "1    17 ekko & sidetrack bootleg  \n",
       "2             never let you down  \n",
       "3                           4 am  \n",
       "4                             4d  \n",
       "..                           ...  \n",
       "302              can you feel it  \n",
       "303            curse of the moai  \n",
       "304                     himalaya  \n",
       "305                   next to me  \n",
       "306           hopelessly falling  \n",
       "\n",
       "[307 rows x 6 columns]"
      ],
      "text/html": [
       "<div>\n",
       "<style scoped>\n",
       "    .dataframe tbody tr th:only-of-type {\n",
       "        vertical-align: middle;\n",
       "    }\n",
       "\n",
       "    .dataframe tbody tr th {\n",
       "        vertical-align: top;\n",
       "    }\n",
       "\n",
       "    .dataframe thead th {\n",
       "        text-align: right;\n",
       "    }\n",
       "</style>\n",
       "<table border=\"1\" class=\"dataframe\">\n",
       "  <thead>\n",
       "    <tr style=\"text-align: right;\">\n",
       "      <th></th>\n",
       "      <th>songstats_id</th>\n",
       "      <th>songstats_title</th>\n",
       "      <th>artist_list</th>\n",
       "      <th>genre</th>\n",
       "      <th>label</th>\n",
       "      <th>title</th>\n",
       "    </tr>\n",
       "  </thead>\n",
       "  <tbody>\n",
       "    <tr>\n",
       "      <th>0</th>\n",
       "      <td>qmr6e0bx</td>\n",
       "      <td>16</td>\n",
       "      <td>[blasterjaxx, hardwell, maddix]</td>\n",
       "      <td>[hard techno]</td>\n",
       "      <td>[revealed]</td>\n",
       "      <td>16</td>\n",
       "    </tr>\n",
       "    <tr>\n",
       "      <th>1</th>\n",
       "      <td>cxsruom1</td>\n",
       "      <td>17 (Ekko &amp; Sidetrack Bootleg)</td>\n",
       "      <td>[ekko &amp; sidetrack, mk]</td>\n",
       "      <td>[drum &amp; bass]</td>\n",
       "      <td>[[no labels]]</td>\n",
       "      <td>17 ekko &amp; sidetrack bootleg</td>\n",
       "    </tr>\n",
       "    <tr>\n",
       "      <th>2</th>\n",
       "      <td>847p1x5v</td>\n",
       "      <td>Never Let You Down</td>\n",
       "      <td>[cimone, deadline, duskee, emily makis, fricti...</td>\n",
       "      <td>[drum &amp; bass]</td>\n",
       "      <td>[shogun audio]</td>\n",
       "      <td>never let you down</td>\n",
       "    </tr>\n",
       "    <tr>\n",
       "      <th>3</th>\n",
       "      <td>4owlyi76</td>\n",
       "      <td>4 AM</td>\n",
       "      <td>[lexed, oshan]</td>\n",
       "      <td>[future house / future bounce]</td>\n",
       "      <td>[future house cloud]</td>\n",
       "      <td>4 am</td>\n",
       "    </tr>\n",
       "    <tr>\n",
       "      <th>4</th>\n",
       "      <td>a3ok10ce</td>\n",
       "      <td>4D</td>\n",
       "      <td>[bad computer, ryan coss]</td>\n",
       "      <td>[electro house]</td>\n",
       "      <td>[monstercat]</td>\n",
       "      <td>4d</td>\n",
       "    </tr>\n",
       "    <tr>\n",
       "      <th>...</th>\n",
       "      <td>...</td>\n",
       "      <td>...</td>\n",
       "      <td>...</td>\n",
       "      <td>...</td>\n",
       "      <td>...</td>\n",
       "      <td>...</td>\n",
       "    </tr>\n",
       "    <tr>\n",
       "      <th>302</th>\n",
       "      <td>cqdneir6</td>\n",
       "      <td>Can You Feel It</td>\n",
       "      <td>[retrovision]</td>\n",
       "      <td>[bass house]</td>\n",
       "      <td>[stmpd]</td>\n",
       "      <td>can you feel it</td>\n",
       "    </tr>\n",
       "    <tr>\n",
       "      <th>303</th>\n",
       "      <td>nwqit015</td>\n",
       "      <td>Curse of the Moai</td>\n",
       "      <td>[exyl, nasko]</td>\n",
       "      <td>[drumstep / moombahcore]</td>\n",
       "      <td>[[no labels]]</td>\n",
       "      <td>curse of the moai</td>\n",
       "    </tr>\n",
       "    <tr>\n",
       "      <th>304</th>\n",
       "      <td>em4stqoh</td>\n",
       "      <td>Himalaya</td>\n",
       "      <td>[matisse &amp; sadko]</td>\n",
       "      <td>[progressive house]</td>\n",
       "      <td>[stmpd]</td>\n",
       "      <td>himalaya</td>\n",
       "    </tr>\n",
       "    <tr>\n",
       "      <th>305</th>\n",
       "      <td>wx93mcy6</td>\n",
       "      <td>Next To Me</td>\n",
       "      <td>[don diablo, gaby gerlis, mk]</td>\n",
       "      <td>[future house / future bounce]</td>\n",
       "      <td>[hexagon]</td>\n",
       "      <td>next to me</td>\n",
       "    </tr>\n",
       "    <tr>\n",
       "      <th>306</th>\n",
       "      <td>0wpg1fj9</td>\n",
       "      <td>Hopelessly Falling</td>\n",
       "      <td>[enrem, jonah sky, rico 56, ubo]</td>\n",
       "      <td>[melodic house]</td>\n",
       "      <td>[monstercat silk]</td>\n",
       "      <td>hopelessly falling</td>\n",
       "    </tr>\n",
       "  </tbody>\n",
       "</table>\n",
       "<p>307 rows × 6 columns</p>\n",
       "</div>"
      ]
     },
     "execution_count": 295,
     "metadata": {},
     "output_type": "execute_result"
    }
   ],
   "execution_count": 295
  },
  {
   "metadata": {
    "ExecuteTime": {
     "end_time": "2024-12-17T17:41:37.898314Z",
     "start_time": "2024-12-17T17:41:37.891927Z"
    }
   },
   "cell_type": "code",
   "source": [
    "# Stats by artist\n",
    "data_art = data.explode('artist_list').reset_index(drop=True)\n",
    "data_art.rename({'artist_list': 'artist'}, axis=1, inplace=True)"
   ],
   "id": "9f578df92f0f9227",
   "outputs": [],
   "execution_count": 296
  },
  {
   "metadata": {
    "ExecuteTime": {
     "end_time": "2024-12-17T17:41:37.966341Z",
     "start_time": "2024-12-17T17:41:37.959167Z"
    }
   },
   "cell_type": "code",
   "source": [
    "# Stats by labels\n",
    "data_lab = data.explode('label').reset_index(drop=True)\n",
    "data_lab = data_lab.loc[data_lab.label != '[no labels]']"
   ],
   "id": "63d37020a509ff65",
   "outputs": [],
   "execution_count": 297
  },
  {
   "metadata": {
    "ExecuteTime": {
     "end_time": "2024-12-17T17:41:38.015160Z",
     "start_time": "2024-12-17T17:41:38.008544Z"
    }
   },
   "cell_type": "code",
   "source": [
    "# Stats by genre\n",
    "data_gen = data.explode('genre').reset_index(drop=True)"
   ],
   "id": "82be3e69b61c78c5",
   "outputs": [],
   "execution_count": 298
  },
  {
   "metadata": {},
   "cell_type": "markdown",
   "source": [
    "## Basic statistics\n",
    "### Artists of the year by number of release\n"
   ],
   "id": "334551b0cc7be83b"
  },
  {
   "metadata": {
    "ExecuteTime": {
     "end_time": "2024-12-17T17:41:38.177163Z",
     "start_time": "2024-12-17T17:41:38.164405Z"
    }
   },
   "cell_type": "code",
   "source": [
    "data_art_count = (data_art[['artist', 'title']]\n",
    "                  .groupby('artist', as_index=False)\n",
    "                  .count()\n",
    "                  .rename({'title': 'n_release'}, axis=1)\n",
    "                  .sort_values('n_release', ascending=False)\n",
    "                  .reset_index(drop=True))\n",
    "\n",
    "data_art_count.describe()"
   ],
   "id": "63776666128b45f",
   "outputs": [
    {
     "data": {
      "text/plain": [
       "        n_release\n",
       "count  433.000000\n",
       "mean     1.348730\n",
       "std      0.969848\n",
       "min      1.000000\n",
       "25%      1.000000\n",
       "50%      1.000000\n",
       "75%      1.000000\n",
       "max      9.000000"
      ],
      "text/html": [
       "<div>\n",
       "<style scoped>\n",
       "    .dataframe tbody tr th:only-of-type {\n",
       "        vertical-align: middle;\n",
       "    }\n",
       "\n",
       "    .dataframe tbody tr th {\n",
       "        vertical-align: top;\n",
       "    }\n",
       "\n",
       "    .dataframe thead th {\n",
       "        text-align: right;\n",
       "    }\n",
       "</style>\n",
       "<table border=\"1\" class=\"dataframe\">\n",
       "  <thead>\n",
       "    <tr style=\"text-align: right;\">\n",
       "      <th></th>\n",
       "      <th>n_release</th>\n",
       "    </tr>\n",
       "  </thead>\n",
       "  <tbody>\n",
       "    <tr>\n",
       "      <th>count</th>\n",
       "      <td>433.000000</td>\n",
       "    </tr>\n",
       "    <tr>\n",
       "      <th>mean</th>\n",
       "      <td>1.348730</td>\n",
       "    </tr>\n",
       "    <tr>\n",
       "      <th>std</th>\n",
       "      <td>0.969848</td>\n",
       "    </tr>\n",
       "    <tr>\n",
       "      <th>min</th>\n",
       "      <td>1.000000</td>\n",
       "    </tr>\n",
       "    <tr>\n",
       "      <th>25%</th>\n",
       "      <td>1.000000</td>\n",
       "    </tr>\n",
       "    <tr>\n",
       "      <th>50%</th>\n",
       "      <td>1.000000</td>\n",
       "    </tr>\n",
       "    <tr>\n",
       "      <th>75%</th>\n",
       "      <td>1.000000</td>\n",
       "    </tr>\n",
       "    <tr>\n",
       "      <th>max</th>\n",
       "      <td>9.000000</td>\n",
       "    </tr>\n",
       "  </tbody>\n",
       "</table>\n",
       "</div>"
      ]
     },
     "execution_count": 299,
     "metadata": {},
     "output_type": "execute_result"
    }
   ],
   "execution_count": 299
  },
  {
   "metadata": {
    "ExecuteTime": {
     "end_time": "2024-12-17T17:41:38.277541Z",
     "start_time": "2024-12-17T17:41:38.222887Z"
    }
   },
   "cell_type": "code",
   "source": [
    "bar_artists_release = plot_bar(dataframe=data_art_count.head(10),\n",
    "                               x='artist',\n",
    "                               y='n_release',\n",
    "                               title='Number of release by Artist (Top 10)<br><sup>Remixes included</sup>',\n",
    "                               x_label='Artists',\n",
    "                               y_label='Number of releases',\n",
    "                               col_range=(data_art_count.n_release.min(), data_art_count.n_release.max()))\n",
    "\n",
    "bar_artists_release.show()"
   ],
   "id": "d50b2a295119b32a",
   "outputs": [
    {
     "data": {
      "application/vnd.plotly.v1+json": {
       "data": [
        {
         "alignmentgroup": "True",
         "hovertemplate": "Artists=%{x}<br>Number of releases=%{marker.color}<extra></extra>",
         "legendgroup": "",
         "marker": {
          "color": [
           9,
           7,
           7,
           6,
           6,
           6,
           5,
           5,
           5,
           5
          ],
          "coloraxis": "coloraxis",
          "pattern": {
           "shape": ""
          }
         },
         "name": "",
         "offsetgroup": "",
         "orientation": "v",
         "showlegend": false,
         "textposition": "auto",
         "x": [
          "retrovision",
          "don diablo",
          "martin garrix",
          "nuzb",
          "eleganto",
          "chime",
          "arcando",
          "hardwell",
          "dubvision",
          "hiraeth"
         ],
         "xaxis": "x",
         "y": [
          9,
          7,
          7,
          6,
          6,
          6,
          5,
          5,
          5,
          5
         ],
         "yaxis": "y",
         "type": "bar"
        }
       ],
       "layout": {
        "template": {
         "data": {
          "histogram2dcontour": [
           {
            "type": "histogram2dcontour",
            "colorbar": {
             "outlinewidth": 0,
             "ticks": ""
            },
            "colorscale": [
             [
              0.0,
              "#0d0887"
             ],
             [
              0.1111111111111111,
              "#46039f"
             ],
             [
              0.2222222222222222,
              "#7201a8"
             ],
             [
              0.3333333333333333,
              "#9c179e"
             ],
             [
              0.4444444444444444,
              "#bd3786"
             ],
             [
              0.5555555555555556,
              "#d8576b"
             ],
             [
              0.6666666666666666,
              "#ed7953"
             ],
             [
              0.7777777777777778,
              "#fb9f3a"
             ],
             [
              0.8888888888888888,
              "#fdca26"
             ],
             [
              1.0,
              "#f0f921"
             ]
            ]
           }
          ],
          "choropleth": [
           {
            "type": "choropleth",
            "colorbar": {
             "outlinewidth": 0,
             "ticks": ""
            }
           }
          ],
          "histogram2d": [
           {
            "type": "histogram2d",
            "colorbar": {
             "outlinewidth": 0,
             "ticks": ""
            },
            "colorscale": [
             [
              0.0,
              "#0d0887"
             ],
             [
              0.1111111111111111,
              "#46039f"
             ],
             [
              0.2222222222222222,
              "#7201a8"
             ],
             [
              0.3333333333333333,
              "#9c179e"
             ],
             [
              0.4444444444444444,
              "#bd3786"
             ],
             [
              0.5555555555555556,
              "#d8576b"
             ],
             [
              0.6666666666666666,
              "#ed7953"
             ],
             [
              0.7777777777777778,
              "#fb9f3a"
             ],
             [
              0.8888888888888888,
              "#fdca26"
             ],
             [
              1.0,
              "#f0f921"
             ]
            ]
           }
          ],
          "heatmap": [
           {
            "type": "heatmap",
            "colorbar": {
             "outlinewidth": 0,
             "ticks": ""
            },
            "colorscale": [
             [
              0.0,
              "#0d0887"
             ],
             [
              0.1111111111111111,
              "#46039f"
             ],
             [
              0.2222222222222222,
              "#7201a8"
             ],
             [
              0.3333333333333333,
              "#9c179e"
             ],
             [
              0.4444444444444444,
              "#bd3786"
             ],
             [
              0.5555555555555556,
              "#d8576b"
             ],
             [
              0.6666666666666666,
              "#ed7953"
             ],
             [
              0.7777777777777778,
              "#fb9f3a"
             ],
             [
              0.8888888888888888,
              "#fdca26"
             ],
             [
              1.0,
              "#f0f921"
             ]
            ]
           }
          ],
          "heatmapgl": [
           {
            "type": "heatmapgl",
            "colorbar": {
             "outlinewidth": 0,
             "ticks": ""
            },
            "colorscale": [
             [
              0.0,
              "#0d0887"
             ],
             [
              0.1111111111111111,
              "#46039f"
             ],
             [
              0.2222222222222222,
              "#7201a8"
             ],
             [
              0.3333333333333333,
              "#9c179e"
             ],
             [
              0.4444444444444444,
              "#bd3786"
             ],
             [
              0.5555555555555556,
              "#d8576b"
             ],
             [
              0.6666666666666666,
              "#ed7953"
             ],
             [
              0.7777777777777778,
              "#fb9f3a"
             ],
             [
              0.8888888888888888,
              "#fdca26"
             ],
             [
              1.0,
              "#f0f921"
             ]
            ]
           }
          ],
          "contourcarpet": [
           {
            "type": "contourcarpet",
            "colorbar": {
             "outlinewidth": 0,
             "ticks": ""
            }
           }
          ],
          "contour": [
           {
            "type": "contour",
            "colorbar": {
             "outlinewidth": 0,
             "ticks": ""
            },
            "colorscale": [
             [
              0.0,
              "#0d0887"
             ],
             [
              0.1111111111111111,
              "#46039f"
             ],
             [
              0.2222222222222222,
              "#7201a8"
             ],
             [
              0.3333333333333333,
              "#9c179e"
             ],
             [
              0.4444444444444444,
              "#bd3786"
             ],
             [
              0.5555555555555556,
              "#d8576b"
             ],
             [
              0.6666666666666666,
              "#ed7953"
             ],
             [
              0.7777777777777778,
              "#fb9f3a"
             ],
             [
              0.8888888888888888,
              "#fdca26"
             ],
             [
              1.0,
              "#f0f921"
             ]
            ]
           }
          ],
          "surface": [
           {
            "type": "surface",
            "colorbar": {
             "outlinewidth": 0,
             "ticks": ""
            },
            "colorscale": [
             [
              0.0,
              "#0d0887"
             ],
             [
              0.1111111111111111,
              "#46039f"
             ],
             [
              0.2222222222222222,
              "#7201a8"
             ],
             [
              0.3333333333333333,
              "#9c179e"
             ],
             [
              0.4444444444444444,
              "#bd3786"
             ],
             [
              0.5555555555555556,
              "#d8576b"
             ],
             [
              0.6666666666666666,
              "#ed7953"
             ],
             [
              0.7777777777777778,
              "#fb9f3a"
             ],
             [
              0.8888888888888888,
              "#fdca26"
             ],
             [
              1.0,
              "#f0f921"
             ]
            ]
           }
          ],
          "mesh3d": [
           {
            "type": "mesh3d",
            "colorbar": {
             "outlinewidth": 0,
             "ticks": ""
            }
           }
          ],
          "scatter": [
           {
            "marker": {
             "line": {
              "color": "#283442"
             }
            },
            "type": "scatter"
           }
          ],
          "parcoords": [
           {
            "type": "parcoords",
            "line": {
             "colorbar": {
              "outlinewidth": 0,
              "ticks": ""
             }
            }
           }
          ],
          "scatterpolargl": [
           {
            "type": "scatterpolargl",
            "marker": {
             "colorbar": {
              "outlinewidth": 0,
              "ticks": ""
             }
            }
           }
          ],
          "bar": [
           {
            "error_x": {
             "color": "#f2f5fa"
            },
            "error_y": {
             "color": "#f2f5fa"
            },
            "marker": {
             "line": {
              "color": "rgb(17,17,17)",
              "width": 0.5
             },
             "pattern": {
              "fillmode": "overlay",
              "size": 10,
              "solidity": 0.2
             }
            },
            "type": "bar"
           }
          ],
          "scattergeo": [
           {
            "type": "scattergeo",
            "marker": {
             "colorbar": {
              "outlinewidth": 0,
              "ticks": ""
             }
            }
           }
          ],
          "scatterpolar": [
           {
            "type": "scatterpolar",
            "marker": {
             "colorbar": {
              "outlinewidth": 0,
              "ticks": ""
             }
            }
           }
          ],
          "histogram": [
           {
            "marker": {
             "pattern": {
              "fillmode": "overlay",
              "size": 10,
              "solidity": 0.2
             }
            },
            "type": "histogram"
           }
          ],
          "scattergl": [
           {
            "marker": {
             "line": {
              "color": "#283442"
             }
            },
            "type": "scattergl"
           }
          ],
          "scatter3d": [
           {
            "type": "scatter3d",
            "line": {
             "colorbar": {
              "outlinewidth": 0,
              "ticks": ""
             }
            },
            "marker": {
             "colorbar": {
              "outlinewidth": 0,
              "ticks": ""
             }
            }
           }
          ],
          "scattermapbox": [
           {
            "type": "scattermapbox",
            "marker": {
             "colorbar": {
              "outlinewidth": 0,
              "ticks": ""
             }
            }
           }
          ],
          "scatterternary": [
           {
            "type": "scatterternary",
            "marker": {
             "colorbar": {
              "outlinewidth": 0,
              "ticks": ""
             }
            }
           }
          ],
          "scattercarpet": [
           {
            "type": "scattercarpet",
            "marker": {
             "colorbar": {
              "outlinewidth": 0,
              "ticks": ""
             }
            }
           }
          ],
          "carpet": [
           {
            "aaxis": {
             "endlinecolor": "#A2B1C6",
             "gridcolor": "#506784",
             "linecolor": "#506784",
             "minorgridcolor": "#506784",
             "startlinecolor": "#A2B1C6"
            },
            "baxis": {
             "endlinecolor": "#A2B1C6",
             "gridcolor": "#506784",
             "linecolor": "#506784",
             "minorgridcolor": "#506784",
             "startlinecolor": "#A2B1C6"
            },
            "type": "carpet"
           }
          ],
          "table": [
           {
            "cells": {
             "fill": {
              "color": "#506784"
             },
             "line": {
              "color": "rgb(17,17,17)"
             }
            },
            "header": {
             "fill": {
              "color": "#2a3f5f"
             },
             "line": {
              "color": "rgb(17,17,17)"
             }
            },
            "type": "table"
           }
          ],
          "barpolar": [
           {
            "marker": {
             "line": {
              "color": "rgb(17,17,17)",
              "width": 0.5
             },
             "pattern": {
              "fillmode": "overlay",
              "size": 10,
              "solidity": 0.2
             }
            },
            "type": "barpolar"
           }
          ],
          "pie": [
           {
            "automargin": true,
            "type": "pie"
           }
          ]
         },
         "layout": {
          "autotypenumbers": "strict",
          "colorway": [
           "#636efa",
           "#EF553B",
           "#00cc96",
           "#ab63fa",
           "#FFA15A",
           "#19d3f3",
           "#FF6692",
           "#B6E880",
           "#FF97FF",
           "#FECB52"
          ],
          "font": {
           "color": "#f2f5fa"
          },
          "hovermode": "closest",
          "hoverlabel": {
           "align": "left"
          },
          "paper_bgcolor": "rgb(17,17,17)",
          "plot_bgcolor": "rgb(17,17,17)",
          "polar": {
           "bgcolor": "rgb(17,17,17)",
           "angularaxis": {
            "gridcolor": "#506784",
            "linecolor": "#506784",
            "ticks": ""
           },
           "radialaxis": {
            "gridcolor": "#506784",
            "linecolor": "#506784",
            "ticks": ""
           }
          },
          "ternary": {
           "bgcolor": "rgb(17,17,17)",
           "aaxis": {
            "gridcolor": "#506784",
            "linecolor": "#506784",
            "ticks": ""
           },
           "baxis": {
            "gridcolor": "#506784",
            "linecolor": "#506784",
            "ticks": ""
           },
           "caxis": {
            "gridcolor": "#506784",
            "linecolor": "#506784",
            "ticks": ""
           }
          },
          "coloraxis": {
           "colorbar": {
            "outlinewidth": 0,
            "ticks": ""
           }
          },
          "colorscale": {
           "sequential": [
            [
             0.0,
             "#0d0887"
            ],
            [
             0.1111111111111111,
             "#46039f"
            ],
            [
             0.2222222222222222,
             "#7201a8"
            ],
            [
             0.3333333333333333,
             "#9c179e"
            ],
            [
             0.4444444444444444,
             "#bd3786"
            ],
            [
             0.5555555555555556,
             "#d8576b"
            ],
            [
             0.6666666666666666,
             "#ed7953"
            ],
            [
             0.7777777777777778,
             "#fb9f3a"
            ],
            [
             0.8888888888888888,
             "#fdca26"
            ],
            [
             1.0,
             "#f0f921"
            ]
           ],
           "sequentialminus": [
            [
             0.0,
             "#0d0887"
            ],
            [
             0.1111111111111111,
             "#46039f"
            ],
            [
             0.2222222222222222,
             "#7201a8"
            ],
            [
             0.3333333333333333,
             "#9c179e"
            ],
            [
             0.4444444444444444,
             "#bd3786"
            ],
            [
             0.5555555555555556,
             "#d8576b"
            ],
            [
             0.6666666666666666,
             "#ed7953"
            ],
            [
             0.7777777777777778,
             "#fb9f3a"
            ],
            [
             0.8888888888888888,
             "#fdca26"
            ],
            [
             1.0,
             "#f0f921"
            ]
           ],
           "diverging": [
            [
             0,
             "#8e0152"
            ],
            [
             0.1,
             "#c51b7d"
            ],
            [
             0.2,
             "#de77ae"
            ],
            [
             0.3,
             "#f1b6da"
            ],
            [
             0.4,
             "#fde0ef"
            ],
            [
             0.5,
             "#f7f7f7"
            ],
            [
             0.6,
             "#e6f5d0"
            ],
            [
             0.7,
             "#b8e186"
            ],
            [
             0.8,
             "#7fbc41"
            ],
            [
             0.9,
             "#4d9221"
            ],
            [
             1,
             "#276419"
            ]
           ]
          },
          "xaxis": {
           "gridcolor": "#283442",
           "linecolor": "#506784",
           "ticks": "",
           "title": {
            "standoff": 15
           },
           "zerolinecolor": "#283442",
           "automargin": true,
           "zerolinewidth": 2
          },
          "yaxis": {
           "gridcolor": "#283442",
           "linecolor": "#506784",
           "ticks": "",
           "title": {
            "standoff": 15
           },
           "zerolinecolor": "#283442",
           "automargin": true,
           "zerolinewidth": 2
          },
          "scene": {
           "xaxis": {
            "backgroundcolor": "rgb(17,17,17)",
            "gridcolor": "#506784",
            "linecolor": "#506784",
            "showbackground": true,
            "ticks": "",
            "zerolinecolor": "#C8D4E3",
            "gridwidth": 2
           },
           "yaxis": {
            "backgroundcolor": "rgb(17,17,17)",
            "gridcolor": "#506784",
            "linecolor": "#506784",
            "showbackground": true,
            "ticks": "",
            "zerolinecolor": "#C8D4E3",
            "gridwidth": 2
           },
           "zaxis": {
            "backgroundcolor": "rgb(17,17,17)",
            "gridcolor": "#506784",
            "linecolor": "#506784",
            "showbackground": true,
            "ticks": "",
            "zerolinecolor": "#C8D4E3",
            "gridwidth": 2
           }
          },
          "shapedefaults": {
           "line": {
            "color": "#f2f5fa"
           }
          },
          "annotationdefaults": {
           "arrowcolor": "#f2f5fa",
           "arrowhead": 0,
           "arrowwidth": 1
          },
          "geo": {
           "bgcolor": "rgb(17,17,17)",
           "landcolor": "rgb(17,17,17)",
           "subunitcolor": "#506784",
           "showland": true,
           "showlakes": true,
           "lakecolor": "rgb(17,17,17)"
          },
          "title": {
           "x": 0.05
          },
          "updatemenudefaults": {
           "bgcolor": "#506784",
           "borderwidth": 0
          },
          "sliderdefaults": {
           "bgcolor": "#C8D4E3",
           "borderwidth": 1,
           "bordercolor": "rgb(17,17,17)",
           "tickwidth": 0
          },
          "mapbox": {
           "style": "dark"
          }
         }
        },
        "xaxis": {
         "anchor": "y",
         "domain": [
          0.0,
          1.0
         ],
         "title": {
          "text": "Artists"
         },
         "categoryorder": "total descending"
        },
        "yaxis": {
         "anchor": "x",
         "domain": [
          0.0,
          1.0
         ],
         "title": {
          "text": "Number of releases"
         }
        },
        "coloraxis": {
         "colorbar": {
          "title": {
           "text": "Number of releases"
          }
         },
         "colorscale": [
          [
           0.0,
           "rgb(255,247,236)"
          ],
          [
           0.125,
           "rgb(254,232,200)"
          ],
          [
           0.25,
           "rgb(253,212,158)"
          ],
          [
           0.375,
           "rgb(253,187,132)"
          ],
          [
           0.5,
           "rgb(252,141,89)"
          ],
          [
           0.625,
           "rgb(239,101,72)"
          ],
          [
           0.75,
           "rgb(215,48,31)"
          ],
          [
           0.875,
           "rgb(179,0,0)"
          ],
          [
           1.0,
           "rgb(127,0,0)"
          ]
         ],
         "cmin": 1,
         "cmax": 9,
         "showscale": false
        },
        "legend": {
         "tracegroupgap": 0
        },
        "title": {
         "text": "Number of release by Artist (Top 10)<br><sup>Remixes included</sup>"
        },
        "barmode": "relative",
        "height": 540,
        "width": 960
       },
       "config": {
        "plotlyServerURL": "https://plot.ly"
       }
      },
      "text/html": [
       "<div>                            <div id=\"55e4981e-7139-4c14-8493-6bc5d2d012f5\" class=\"plotly-graph-div\" style=\"height:540px; width:960px;\"></div>            <script type=\"text/javascript\">                require([\"plotly\"], function(Plotly) {                    window.PLOTLYENV=window.PLOTLYENV || {};                                    if (document.getElementById(\"55e4981e-7139-4c14-8493-6bc5d2d012f5\")) {                    Plotly.newPlot(                        \"55e4981e-7139-4c14-8493-6bc5d2d012f5\",                        [{\"alignmentgroup\":\"True\",\"hovertemplate\":\"Artists=%{x}\\u003cbr\\u003eNumber of releases=%{marker.color}\\u003cextra\\u003e\\u003c\\u002fextra\\u003e\",\"legendgroup\":\"\",\"marker\":{\"color\":[9,7,7,6,6,6,5,5,5,5],\"coloraxis\":\"coloraxis\",\"pattern\":{\"shape\":\"\"}},\"name\":\"\",\"offsetgroup\":\"\",\"orientation\":\"v\",\"showlegend\":false,\"textposition\":\"auto\",\"x\":[\"retrovision\",\"don diablo\",\"martin garrix\",\"nuzb\",\"eleganto\",\"chime\",\"arcando\",\"hardwell\",\"dubvision\",\"hiraeth\"],\"xaxis\":\"x\",\"y\":[9,7,7,6,6,6,5,5,5,5],\"yaxis\":\"y\",\"type\":\"bar\"}],                        {\"template\":{\"data\":{\"histogram2dcontour\":[{\"type\":\"histogram2dcontour\",\"colorbar\":{\"outlinewidth\":0,\"ticks\":\"\"},\"colorscale\":[[0.0,\"#0d0887\"],[0.1111111111111111,\"#46039f\"],[0.2222222222222222,\"#7201a8\"],[0.3333333333333333,\"#9c179e\"],[0.4444444444444444,\"#bd3786\"],[0.5555555555555556,\"#d8576b\"],[0.6666666666666666,\"#ed7953\"],[0.7777777777777778,\"#fb9f3a\"],[0.8888888888888888,\"#fdca26\"],[1.0,\"#f0f921\"]]}],\"choropleth\":[{\"type\":\"choropleth\",\"colorbar\":{\"outlinewidth\":0,\"ticks\":\"\"}}],\"histogram2d\":[{\"type\":\"histogram2d\",\"colorbar\":{\"outlinewidth\":0,\"ticks\":\"\"},\"colorscale\":[[0.0,\"#0d0887\"],[0.1111111111111111,\"#46039f\"],[0.2222222222222222,\"#7201a8\"],[0.3333333333333333,\"#9c179e\"],[0.4444444444444444,\"#bd3786\"],[0.5555555555555556,\"#d8576b\"],[0.6666666666666666,\"#ed7953\"],[0.7777777777777778,\"#fb9f3a\"],[0.8888888888888888,\"#fdca26\"],[1.0,\"#f0f921\"]]}],\"heatmap\":[{\"type\":\"heatmap\",\"colorbar\":{\"outlinewidth\":0,\"ticks\":\"\"},\"colorscale\":[[0.0,\"#0d0887\"],[0.1111111111111111,\"#46039f\"],[0.2222222222222222,\"#7201a8\"],[0.3333333333333333,\"#9c179e\"],[0.4444444444444444,\"#bd3786\"],[0.5555555555555556,\"#d8576b\"],[0.6666666666666666,\"#ed7953\"],[0.7777777777777778,\"#fb9f3a\"],[0.8888888888888888,\"#fdca26\"],[1.0,\"#f0f921\"]]}],\"heatmapgl\":[{\"type\":\"heatmapgl\",\"colorbar\":{\"outlinewidth\":0,\"ticks\":\"\"},\"colorscale\":[[0.0,\"#0d0887\"],[0.1111111111111111,\"#46039f\"],[0.2222222222222222,\"#7201a8\"],[0.3333333333333333,\"#9c179e\"],[0.4444444444444444,\"#bd3786\"],[0.5555555555555556,\"#d8576b\"],[0.6666666666666666,\"#ed7953\"],[0.7777777777777778,\"#fb9f3a\"],[0.8888888888888888,\"#fdca26\"],[1.0,\"#f0f921\"]]}],\"contourcarpet\":[{\"type\":\"contourcarpet\",\"colorbar\":{\"outlinewidth\":0,\"ticks\":\"\"}}],\"contour\":[{\"type\":\"contour\",\"colorbar\":{\"outlinewidth\":0,\"ticks\":\"\"},\"colorscale\":[[0.0,\"#0d0887\"],[0.1111111111111111,\"#46039f\"],[0.2222222222222222,\"#7201a8\"],[0.3333333333333333,\"#9c179e\"],[0.4444444444444444,\"#bd3786\"],[0.5555555555555556,\"#d8576b\"],[0.6666666666666666,\"#ed7953\"],[0.7777777777777778,\"#fb9f3a\"],[0.8888888888888888,\"#fdca26\"],[1.0,\"#f0f921\"]]}],\"surface\":[{\"type\":\"surface\",\"colorbar\":{\"outlinewidth\":0,\"ticks\":\"\"},\"colorscale\":[[0.0,\"#0d0887\"],[0.1111111111111111,\"#46039f\"],[0.2222222222222222,\"#7201a8\"],[0.3333333333333333,\"#9c179e\"],[0.4444444444444444,\"#bd3786\"],[0.5555555555555556,\"#d8576b\"],[0.6666666666666666,\"#ed7953\"],[0.7777777777777778,\"#fb9f3a\"],[0.8888888888888888,\"#fdca26\"],[1.0,\"#f0f921\"]]}],\"mesh3d\":[{\"type\":\"mesh3d\",\"colorbar\":{\"outlinewidth\":0,\"ticks\":\"\"}}],\"scatter\":[{\"marker\":{\"line\":{\"color\":\"#283442\"}},\"type\":\"scatter\"}],\"parcoords\":[{\"type\":\"parcoords\",\"line\":{\"colorbar\":{\"outlinewidth\":0,\"ticks\":\"\"}}}],\"scatterpolargl\":[{\"type\":\"scatterpolargl\",\"marker\":{\"colorbar\":{\"outlinewidth\":0,\"ticks\":\"\"}}}],\"bar\":[{\"error_x\":{\"color\":\"#f2f5fa\"},\"error_y\":{\"color\":\"#f2f5fa\"},\"marker\":{\"line\":{\"color\":\"rgb(17,17,17)\",\"width\":0.5},\"pattern\":{\"fillmode\":\"overlay\",\"size\":10,\"solidity\":0.2}},\"type\":\"bar\"}],\"scattergeo\":[{\"type\":\"scattergeo\",\"marker\":{\"colorbar\":{\"outlinewidth\":0,\"ticks\":\"\"}}}],\"scatterpolar\":[{\"type\":\"scatterpolar\",\"marker\":{\"colorbar\":{\"outlinewidth\":0,\"ticks\":\"\"}}}],\"histogram\":[{\"marker\":{\"pattern\":{\"fillmode\":\"overlay\",\"size\":10,\"solidity\":0.2}},\"type\":\"histogram\"}],\"scattergl\":[{\"marker\":{\"line\":{\"color\":\"#283442\"}},\"type\":\"scattergl\"}],\"scatter3d\":[{\"type\":\"scatter3d\",\"line\":{\"colorbar\":{\"outlinewidth\":0,\"ticks\":\"\"}},\"marker\":{\"colorbar\":{\"outlinewidth\":0,\"ticks\":\"\"}}}],\"scattermapbox\":[{\"type\":\"scattermapbox\",\"marker\":{\"colorbar\":{\"outlinewidth\":0,\"ticks\":\"\"}}}],\"scatterternary\":[{\"type\":\"scatterternary\",\"marker\":{\"colorbar\":{\"outlinewidth\":0,\"ticks\":\"\"}}}],\"scattercarpet\":[{\"type\":\"scattercarpet\",\"marker\":{\"colorbar\":{\"outlinewidth\":0,\"ticks\":\"\"}}}],\"carpet\":[{\"aaxis\":{\"endlinecolor\":\"#A2B1C6\",\"gridcolor\":\"#506784\",\"linecolor\":\"#506784\",\"minorgridcolor\":\"#506784\",\"startlinecolor\":\"#A2B1C6\"},\"baxis\":{\"endlinecolor\":\"#A2B1C6\",\"gridcolor\":\"#506784\",\"linecolor\":\"#506784\",\"minorgridcolor\":\"#506784\",\"startlinecolor\":\"#A2B1C6\"},\"type\":\"carpet\"}],\"table\":[{\"cells\":{\"fill\":{\"color\":\"#506784\"},\"line\":{\"color\":\"rgb(17,17,17)\"}},\"header\":{\"fill\":{\"color\":\"#2a3f5f\"},\"line\":{\"color\":\"rgb(17,17,17)\"}},\"type\":\"table\"}],\"barpolar\":[{\"marker\":{\"line\":{\"color\":\"rgb(17,17,17)\",\"width\":0.5},\"pattern\":{\"fillmode\":\"overlay\",\"size\":10,\"solidity\":0.2}},\"type\":\"barpolar\"}],\"pie\":[{\"automargin\":true,\"type\":\"pie\"}]},\"layout\":{\"autotypenumbers\":\"strict\",\"colorway\":[\"#636efa\",\"#EF553B\",\"#00cc96\",\"#ab63fa\",\"#FFA15A\",\"#19d3f3\",\"#FF6692\",\"#B6E880\",\"#FF97FF\",\"#FECB52\"],\"font\":{\"color\":\"#f2f5fa\"},\"hovermode\":\"closest\",\"hoverlabel\":{\"align\":\"left\"},\"paper_bgcolor\":\"rgb(17,17,17)\",\"plot_bgcolor\":\"rgb(17,17,17)\",\"polar\":{\"bgcolor\":\"rgb(17,17,17)\",\"angularaxis\":{\"gridcolor\":\"#506784\",\"linecolor\":\"#506784\",\"ticks\":\"\"},\"radialaxis\":{\"gridcolor\":\"#506784\",\"linecolor\":\"#506784\",\"ticks\":\"\"}},\"ternary\":{\"bgcolor\":\"rgb(17,17,17)\",\"aaxis\":{\"gridcolor\":\"#506784\",\"linecolor\":\"#506784\",\"ticks\":\"\"},\"baxis\":{\"gridcolor\":\"#506784\",\"linecolor\":\"#506784\",\"ticks\":\"\"},\"caxis\":{\"gridcolor\":\"#506784\",\"linecolor\":\"#506784\",\"ticks\":\"\"}},\"coloraxis\":{\"colorbar\":{\"outlinewidth\":0,\"ticks\":\"\"}},\"colorscale\":{\"sequential\":[[0.0,\"#0d0887\"],[0.1111111111111111,\"#46039f\"],[0.2222222222222222,\"#7201a8\"],[0.3333333333333333,\"#9c179e\"],[0.4444444444444444,\"#bd3786\"],[0.5555555555555556,\"#d8576b\"],[0.6666666666666666,\"#ed7953\"],[0.7777777777777778,\"#fb9f3a\"],[0.8888888888888888,\"#fdca26\"],[1.0,\"#f0f921\"]],\"sequentialminus\":[[0.0,\"#0d0887\"],[0.1111111111111111,\"#46039f\"],[0.2222222222222222,\"#7201a8\"],[0.3333333333333333,\"#9c179e\"],[0.4444444444444444,\"#bd3786\"],[0.5555555555555556,\"#d8576b\"],[0.6666666666666666,\"#ed7953\"],[0.7777777777777778,\"#fb9f3a\"],[0.8888888888888888,\"#fdca26\"],[1.0,\"#f0f921\"]],\"diverging\":[[0,\"#8e0152\"],[0.1,\"#c51b7d\"],[0.2,\"#de77ae\"],[0.3,\"#f1b6da\"],[0.4,\"#fde0ef\"],[0.5,\"#f7f7f7\"],[0.6,\"#e6f5d0\"],[0.7,\"#b8e186\"],[0.8,\"#7fbc41\"],[0.9,\"#4d9221\"],[1,\"#276419\"]]},\"xaxis\":{\"gridcolor\":\"#283442\",\"linecolor\":\"#506784\",\"ticks\":\"\",\"title\":{\"standoff\":15},\"zerolinecolor\":\"#283442\",\"automargin\":true,\"zerolinewidth\":2},\"yaxis\":{\"gridcolor\":\"#283442\",\"linecolor\":\"#506784\",\"ticks\":\"\",\"title\":{\"standoff\":15},\"zerolinecolor\":\"#283442\",\"automargin\":true,\"zerolinewidth\":2},\"scene\":{\"xaxis\":{\"backgroundcolor\":\"rgb(17,17,17)\",\"gridcolor\":\"#506784\",\"linecolor\":\"#506784\",\"showbackground\":true,\"ticks\":\"\",\"zerolinecolor\":\"#C8D4E3\",\"gridwidth\":2},\"yaxis\":{\"backgroundcolor\":\"rgb(17,17,17)\",\"gridcolor\":\"#506784\",\"linecolor\":\"#506784\",\"showbackground\":true,\"ticks\":\"\",\"zerolinecolor\":\"#C8D4E3\",\"gridwidth\":2},\"zaxis\":{\"backgroundcolor\":\"rgb(17,17,17)\",\"gridcolor\":\"#506784\",\"linecolor\":\"#506784\",\"showbackground\":true,\"ticks\":\"\",\"zerolinecolor\":\"#C8D4E3\",\"gridwidth\":2}},\"shapedefaults\":{\"line\":{\"color\":\"#f2f5fa\"}},\"annotationdefaults\":{\"arrowcolor\":\"#f2f5fa\",\"arrowhead\":0,\"arrowwidth\":1},\"geo\":{\"bgcolor\":\"rgb(17,17,17)\",\"landcolor\":\"rgb(17,17,17)\",\"subunitcolor\":\"#506784\",\"showland\":true,\"showlakes\":true,\"lakecolor\":\"rgb(17,17,17)\"},\"title\":{\"x\":0.05},\"updatemenudefaults\":{\"bgcolor\":\"#506784\",\"borderwidth\":0},\"sliderdefaults\":{\"bgcolor\":\"#C8D4E3\",\"borderwidth\":1,\"bordercolor\":\"rgb(17,17,17)\",\"tickwidth\":0},\"mapbox\":{\"style\":\"dark\"}}},\"xaxis\":{\"anchor\":\"y\",\"domain\":[0.0,1.0],\"title\":{\"text\":\"Artists\"},\"categoryorder\":\"total descending\"},\"yaxis\":{\"anchor\":\"x\",\"domain\":[0.0,1.0],\"title\":{\"text\":\"Number of releases\"}},\"coloraxis\":{\"colorbar\":{\"title\":{\"text\":\"Number of releases\"}},\"colorscale\":[[0.0,\"rgb(255,247,236)\"],[0.125,\"rgb(254,232,200)\"],[0.25,\"rgb(253,212,158)\"],[0.375,\"rgb(253,187,132)\"],[0.5,\"rgb(252,141,89)\"],[0.625,\"rgb(239,101,72)\"],[0.75,\"rgb(215,48,31)\"],[0.875,\"rgb(179,0,0)\"],[1.0,\"rgb(127,0,0)\"]],\"cmin\":1,\"cmax\":9,\"showscale\":false},\"legend\":{\"tracegroupgap\":0},\"title\":{\"text\":\"Number of release by Artist (Top 10)\\u003cbr\\u003e\\u003csup\\u003eRemixes included\\u003c\\u002fsup\\u003e\"},\"barmode\":\"relative\",\"height\":540,\"width\":960},                        {\"responsive\": true}                    ).then(function(){\n",
       "                            \n",
       "var gd = document.getElementById('55e4981e-7139-4c14-8493-6bc5d2d012f5');\n",
       "var x = new MutationObserver(function (mutations, observer) {{\n",
       "        var display = window.getComputedStyle(gd).display;\n",
       "        if (!display || display === 'none') {{\n",
       "            console.log([gd, 'removed!']);\n",
       "            Plotly.purge(gd);\n",
       "            observer.disconnect();\n",
       "        }}\n",
       "}});\n",
       "\n",
       "// Listen for the removal of the full notebook cells\n",
       "var notebookContainer = gd.closest('#notebook-container');\n",
       "if (notebookContainer) {{\n",
       "    x.observe(notebookContainer, {childList: true});\n",
       "}}\n",
       "\n",
       "// Listen for the clearing of the current output cell\n",
       "var outputEl = gd.closest('.output');\n",
       "if (outputEl) {{\n",
       "    x.observe(outputEl, {childList: true});\n",
       "}}\n",
       "\n",
       "                        })                };                });            </script>        </div>"
      ]
     },
     "metadata": {},
     "output_type": "display_data"
    }
   ],
   "execution_count": 300
  },
  {
   "metadata": {},
   "cell_type": "markdown",
   "source": [
    "\n",
    "### Labels of the year by number of release"
   ],
   "id": "b26a1509d2088f5a"
  },
  {
   "metadata": {
    "ExecuteTime": {
     "end_time": "2024-12-17T17:41:38.338032Z",
     "start_time": "2024-12-17T17:41:38.325964Z"
    }
   },
   "cell_type": "code",
   "source": [
    "data_lab_count = (data_lab[['label', 'title']]\n",
    "                  .groupby('label', as_index=False)\n",
    "                  .count()\n",
    "                  .rename({'title': 'n_release'}, axis=1)\n",
    "                  .sort_values('n_release', ascending=False)\n",
    "                  .reset_index(drop=True))\n",
    "\n",
    "data_lab_count.describe()"
   ],
   "id": "94e5f5adb2c31f7e",
   "outputs": [
    {
     "data": {
      "text/plain": [
       "       n_release\n",
       "count  89.000000\n",
       "mean    3.303371\n",
       "std     6.951789\n",
       "min     1.000000\n",
       "25%     1.000000\n",
       "50%     1.000000\n",
       "75%     2.000000\n",
       "max    54.000000"
      ],
      "text/html": [
       "<div>\n",
       "<style scoped>\n",
       "    .dataframe tbody tr th:only-of-type {\n",
       "        vertical-align: middle;\n",
       "    }\n",
       "\n",
       "    .dataframe tbody tr th {\n",
       "        vertical-align: top;\n",
       "    }\n",
       "\n",
       "    .dataframe thead th {\n",
       "        text-align: right;\n",
       "    }\n",
       "</style>\n",
       "<table border=\"1\" class=\"dataframe\">\n",
       "  <thead>\n",
       "    <tr style=\"text-align: right;\">\n",
       "      <th></th>\n",
       "      <th>n_release</th>\n",
       "    </tr>\n",
       "  </thead>\n",
       "  <tbody>\n",
       "    <tr>\n",
       "      <th>count</th>\n",
       "      <td>89.000000</td>\n",
       "    </tr>\n",
       "    <tr>\n",
       "      <th>mean</th>\n",
       "      <td>3.303371</td>\n",
       "    </tr>\n",
       "    <tr>\n",
       "      <th>std</th>\n",
       "      <td>6.951789</td>\n",
       "    </tr>\n",
       "    <tr>\n",
       "      <th>min</th>\n",
       "      <td>1.000000</td>\n",
       "    </tr>\n",
       "    <tr>\n",
       "      <th>25%</th>\n",
       "      <td>1.000000</td>\n",
       "    </tr>\n",
       "    <tr>\n",
       "      <th>50%</th>\n",
       "      <td>1.000000</td>\n",
       "    </tr>\n",
       "    <tr>\n",
       "      <th>75%</th>\n",
       "      <td>2.000000</td>\n",
       "    </tr>\n",
       "    <tr>\n",
       "      <th>max</th>\n",
       "      <td>54.000000</td>\n",
       "    </tr>\n",
       "  </tbody>\n",
       "</table>\n",
       "</div>"
      ]
     },
     "execution_count": 301,
     "metadata": {},
     "output_type": "execute_result"
    }
   ],
   "execution_count": 301
  },
  {
   "metadata": {
    "ExecuteTime": {
     "end_time": "2024-12-17T17:41:38.451584Z",
     "start_time": "2024-12-17T17:41:38.401957Z"
    }
   },
   "cell_type": "code",
   "source": [
    "bar_label_release = plot_bar(dataframe=data_lab_count.head(10),\n",
    "                             x='label',\n",
    "                             y='n_release',\n",
    "                             title='Number of release by Label (Top 10)',\n",
    "                             x_label='Labels',\n",
    "                             y_label='Number of releases',\n",
    "                             col_range=(data_lab_count.n_release.min(), data_lab_count.n_release.max()))\n",
    "bar_label_release.show()"
   ],
   "id": "51f3fc05849b11c8",
   "outputs": [
    {
     "data": {
      "application/vnd.plotly.v1+json": {
       "data": [
        {
         "alignmentgroup": "True",
         "hovertemplate": "Labels=%{x}<br>Number of releases=%{marker.color}<extra></extra>",
         "legendgroup": "",
         "marker": {
          "color": [
           54,
           36,
           13,
           12,
           11,
           10,
           8,
           6,
           6,
           5
          ],
          "coloraxis": "coloraxis",
          "pattern": {
           "shape": ""
          }
         },
         "name": "",
         "offsetgroup": "",
         "orientation": "v",
         "showlegend": false,
         "textposition": "auto",
         "x": [
          "monstercat",
          "stmpd",
          "galacy",
          "revealed",
          "hexagon",
          "liquicity",
          "ukf",
          "pilot.",
          "ncs",
          "hospital"
         ],
         "xaxis": "x",
         "y": [
          54,
          36,
          13,
          12,
          11,
          10,
          8,
          6,
          6,
          5
         ],
         "yaxis": "y",
         "type": "bar"
        }
       ],
       "layout": {
        "template": {
         "data": {
          "histogram2dcontour": [
           {
            "type": "histogram2dcontour",
            "colorbar": {
             "outlinewidth": 0,
             "ticks": ""
            },
            "colorscale": [
             [
              0.0,
              "#0d0887"
             ],
             [
              0.1111111111111111,
              "#46039f"
             ],
             [
              0.2222222222222222,
              "#7201a8"
             ],
             [
              0.3333333333333333,
              "#9c179e"
             ],
             [
              0.4444444444444444,
              "#bd3786"
             ],
             [
              0.5555555555555556,
              "#d8576b"
             ],
             [
              0.6666666666666666,
              "#ed7953"
             ],
             [
              0.7777777777777778,
              "#fb9f3a"
             ],
             [
              0.8888888888888888,
              "#fdca26"
             ],
             [
              1.0,
              "#f0f921"
             ]
            ]
           }
          ],
          "choropleth": [
           {
            "type": "choropleth",
            "colorbar": {
             "outlinewidth": 0,
             "ticks": ""
            }
           }
          ],
          "histogram2d": [
           {
            "type": "histogram2d",
            "colorbar": {
             "outlinewidth": 0,
             "ticks": ""
            },
            "colorscale": [
             [
              0.0,
              "#0d0887"
             ],
             [
              0.1111111111111111,
              "#46039f"
             ],
             [
              0.2222222222222222,
              "#7201a8"
             ],
             [
              0.3333333333333333,
              "#9c179e"
             ],
             [
              0.4444444444444444,
              "#bd3786"
             ],
             [
              0.5555555555555556,
              "#d8576b"
             ],
             [
              0.6666666666666666,
              "#ed7953"
             ],
             [
              0.7777777777777778,
              "#fb9f3a"
             ],
             [
              0.8888888888888888,
              "#fdca26"
             ],
             [
              1.0,
              "#f0f921"
             ]
            ]
           }
          ],
          "heatmap": [
           {
            "type": "heatmap",
            "colorbar": {
             "outlinewidth": 0,
             "ticks": ""
            },
            "colorscale": [
             [
              0.0,
              "#0d0887"
             ],
             [
              0.1111111111111111,
              "#46039f"
             ],
             [
              0.2222222222222222,
              "#7201a8"
             ],
             [
              0.3333333333333333,
              "#9c179e"
             ],
             [
              0.4444444444444444,
              "#bd3786"
             ],
             [
              0.5555555555555556,
              "#d8576b"
             ],
             [
              0.6666666666666666,
              "#ed7953"
             ],
             [
              0.7777777777777778,
              "#fb9f3a"
             ],
             [
              0.8888888888888888,
              "#fdca26"
             ],
             [
              1.0,
              "#f0f921"
             ]
            ]
           }
          ],
          "heatmapgl": [
           {
            "type": "heatmapgl",
            "colorbar": {
             "outlinewidth": 0,
             "ticks": ""
            },
            "colorscale": [
             [
              0.0,
              "#0d0887"
             ],
             [
              0.1111111111111111,
              "#46039f"
             ],
             [
              0.2222222222222222,
              "#7201a8"
             ],
             [
              0.3333333333333333,
              "#9c179e"
             ],
             [
              0.4444444444444444,
              "#bd3786"
             ],
             [
              0.5555555555555556,
              "#d8576b"
             ],
             [
              0.6666666666666666,
              "#ed7953"
             ],
             [
              0.7777777777777778,
              "#fb9f3a"
             ],
             [
              0.8888888888888888,
              "#fdca26"
             ],
             [
              1.0,
              "#f0f921"
             ]
            ]
           }
          ],
          "contourcarpet": [
           {
            "type": "contourcarpet",
            "colorbar": {
             "outlinewidth": 0,
             "ticks": ""
            }
           }
          ],
          "contour": [
           {
            "type": "contour",
            "colorbar": {
             "outlinewidth": 0,
             "ticks": ""
            },
            "colorscale": [
             [
              0.0,
              "#0d0887"
             ],
             [
              0.1111111111111111,
              "#46039f"
             ],
             [
              0.2222222222222222,
              "#7201a8"
             ],
             [
              0.3333333333333333,
              "#9c179e"
             ],
             [
              0.4444444444444444,
              "#bd3786"
             ],
             [
              0.5555555555555556,
              "#d8576b"
             ],
             [
              0.6666666666666666,
              "#ed7953"
             ],
             [
              0.7777777777777778,
              "#fb9f3a"
             ],
             [
              0.8888888888888888,
              "#fdca26"
             ],
             [
              1.0,
              "#f0f921"
             ]
            ]
           }
          ],
          "surface": [
           {
            "type": "surface",
            "colorbar": {
             "outlinewidth": 0,
             "ticks": ""
            },
            "colorscale": [
             [
              0.0,
              "#0d0887"
             ],
             [
              0.1111111111111111,
              "#46039f"
             ],
             [
              0.2222222222222222,
              "#7201a8"
             ],
             [
              0.3333333333333333,
              "#9c179e"
             ],
             [
              0.4444444444444444,
              "#bd3786"
             ],
             [
              0.5555555555555556,
              "#d8576b"
             ],
             [
              0.6666666666666666,
              "#ed7953"
             ],
             [
              0.7777777777777778,
              "#fb9f3a"
             ],
             [
              0.8888888888888888,
              "#fdca26"
             ],
             [
              1.0,
              "#f0f921"
             ]
            ]
           }
          ],
          "mesh3d": [
           {
            "type": "mesh3d",
            "colorbar": {
             "outlinewidth": 0,
             "ticks": ""
            }
           }
          ],
          "scatter": [
           {
            "marker": {
             "line": {
              "color": "#283442"
             }
            },
            "type": "scatter"
           }
          ],
          "parcoords": [
           {
            "type": "parcoords",
            "line": {
             "colorbar": {
              "outlinewidth": 0,
              "ticks": ""
             }
            }
           }
          ],
          "scatterpolargl": [
           {
            "type": "scatterpolargl",
            "marker": {
             "colorbar": {
              "outlinewidth": 0,
              "ticks": ""
             }
            }
           }
          ],
          "bar": [
           {
            "error_x": {
             "color": "#f2f5fa"
            },
            "error_y": {
             "color": "#f2f5fa"
            },
            "marker": {
             "line": {
              "color": "rgb(17,17,17)",
              "width": 0.5
             },
             "pattern": {
              "fillmode": "overlay",
              "size": 10,
              "solidity": 0.2
             }
            },
            "type": "bar"
           }
          ],
          "scattergeo": [
           {
            "type": "scattergeo",
            "marker": {
             "colorbar": {
              "outlinewidth": 0,
              "ticks": ""
             }
            }
           }
          ],
          "scatterpolar": [
           {
            "type": "scatterpolar",
            "marker": {
             "colorbar": {
              "outlinewidth": 0,
              "ticks": ""
             }
            }
           }
          ],
          "histogram": [
           {
            "marker": {
             "pattern": {
              "fillmode": "overlay",
              "size": 10,
              "solidity": 0.2
             }
            },
            "type": "histogram"
           }
          ],
          "scattergl": [
           {
            "marker": {
             "line": {
              "color": "#283442"
             }
            },
            "type": "scattergl"
           }
          ],
          "scatter3d": [
           {
            "type": "scatter3d",
            "line": {
             "colorbar": {
              "outlinewidth": 0,
              "ticks": ""
             }
            },
            "marker": {
             "colorbar": {
              "outlinewidth": 0,
              "ticks": ""
             }
            }
           }
          ],
          "scattermapbox": [
           {
            "type": "scattermapbox",
            "marker": {
             "colorbar": {
              "outlinewidth": 0,
              "ticks": ""
             }
            }
           }
          ],
          "scatterternary": [
           {
            "type": "scatterternary",
            "marker": {
             "colorbar": {
              "outlinewidth": 0,
              "ticks": ""
             }
            }
           }
          ],
          "scattercarpet": [
           {
            "type": "scattercarpet",
            "marker": {
             "colorbar": {
              "outlinewidth": 0,
              "ticks": ""
             }
            }
           }
          ],
          "carpet": [
           {
            "aaxis": {
             "endlinecolor": "#A2B1C6",
             "gridcolor": "#506784",
             "linecolor": "#506784",
             "minorgridcolor": "#506784",
             "startlinecolor": "#A2B1C6"
            },
            "baxis": {
             "endlinecolor": "#A2B1C6",
             "gridcolor": "#506784",
             "linecolor": "#506784",
             "minorgridcolor": "#506784",
             "startlinecolor": "#A2B1C6"
            },
            "type": "carpet"
           }
          ],
          "table": [
           {
            "cells": {
             "fill": {
              "color": "#506784"
             },
             "line": {
              "color": "rgb(17,17,17)"
             }
            },
            "header": {
             "fill": {
              "color": "#2a3f5f"
             },
             "line": {
              "color": "rgb(17,17,17)"
             }
            },
            "type": "table"
           }
          ],
          "barpolar": [
           {
            "marker": {
             "line": {
              "color": "rgb(17,17,17)",
              "width": 0.5
             },
             "pattern": {
              "fillmode": "overlay",
              "size": 10,
              "solidity": 0.2
             }
            },
            "type": "barpolar"
           }
          ],
          "pie": [
           {
            "automargin": true,
            "type": "pie"
           }
          ]
         },
         "layout": {
          "autotypenumbers": "strict",
          "colorway": [
           "#636efa",
           "#EF553B",
           "#00cc96",
           "#ab63fa",
           "#FFA15A",
           "#19d3f3",
           "#FF6692",
           "#B6E880",
           "#FF97FF",
           "#FECB52"
          ],
          "font": {
           "color": "#f2f5fa"
          },
          "hovermode": "closest",
          "hoverlabel": {
           "align": "left"
          },
          "paper_bgcolor": "rgb(17,17,17)",
          "plot_bgcolor": "rgb(17,17,17)",
          "polar": {
           "bgcolor": "rgb(17,17,17)",
           "angularaxis": {
            "gridcolor": "#506784",
            "linecolor": "#506784",
            "ticks": ""
           },
           "radialaxis": {
            "gridcolor": "#506784",
            "linecolor": "#506784",
            "ticks": ""
           }
          },
          "ternary": {
           "bgcolor": "rgb(17,17,17)",
           "aaxis": {
            "gridcolor": "#506784",
            "linecolor": "#506784",
            "ticks": ""
           },
           "baxis": {
            "gridcolor": "#506784",
            "linecolor": "#506784",
            "ticks": ""
           },
           "caxis": {
            "gridcolor": "#506784",
            "linecolor": "#506784",
            "ticks": ""
           }
          },
          "coloraxis": {
           "colorbar": {
            "outlinewidth": 0,
            "ticks": ""
           }
          },
          "colorscale": {
           "sequential": [
            [
             0.0,
             "#0d0887"
            ],
            [
             0.1111111111111111,
             "#46039f"
            ],
            [
             0.2222222222222222,
             "#7201a8"
            ],
            [
             0.3333333333333333,
             "#9c179e"
            ],
            [
             0.4444444444444444,
             "#bd3786"
            ],
            [
             0.5555555555555556,
             "#d8576b"
            ],
            [
             0.6666666666666666,
             "#ed7953"
            ],
            [
             0.7777777777777778,
             "#fb9f3a"
            ],
            [
             0.8888888888888888,
             "#fdca26"
            ],
            [
             1.0,
             "#f0f921"
            ]
           ],
           "sequentialminus": [
            [
             0.0,
             "#0d0887"
            ],
            [
             0.1111111111111111,
             "#46039f"
            ],
            [
             0.2222222222222222,
             "#7201a8"
            ],
            [
             0.3333333333333333,
             "#9c179e"
            ],
            [
             0.4444444444444444,
             "#bd3786"
            ],
            [
             0.5555555555555556,
             "#d8576b"
            ],
            [
             0.6666666666666666,
             "#ed7953"
            ],
            [
             0.7777777777777778,
             "#fb9f3a"
            ],
            [
             0.8888888888888888,
             "#fdca26"
            ],
            [
             1.0,
             "#f0f921"
            ]
           ],
           "diverging": [
            [
             0,
             "#8e0152"
            ],
            [
             0.1,
             "#c51b7d"
            ],
            [
             0.2,
             "#de77ae"
            ],
            [
             0.3,
             "#f1b6da"
            ],
            [
             0.4,
             "#fde0ef"
            ],
            [
             0.5,
             "#f7f7f7"
            ],
            [
             0.6,
             "#e6f5d0"
            ],
            [
             0.7,
             "#b8e186"
            ],
            [
             0.8,
             "#7fbc41"
            ],
            [
             0.9,
             "#4d9221"
            ],
            [
             1,
             "#276419"
            ]
           ]
          },
          "xaxis": {
           "gridcolor": "#283442",
           "linecolor": "#506784",
           "ticks": "",
           "title": {
            "standoff": 15
           },
           "zerolinecolor": "#283442",
           "automargin": true,
           "zerolinewidth": 2
          },
          "yaxis": {
           "gridcolor": "#283442",
           "linecolor": "#506784",
           "ticks": "",
           "title": {
            "standoff": 15
           },
           "zerolinecolor": "#283442",
           "automargin": true,
           "zerolinewidth": 2
          },
          "scene": {
           "xaxis": {
            "backgroundcolor": "rgb(17,17,17)",
            "gridcolor": "#506784",
            "linecolor": "#506784",
            "showbackground": true,
            "ticks": "",
            "zerolinecolor": "#C8D4E3",
            "gridwidth": 2
           },
           "yaxis": {
            "backgroundcolor": "rgb(17,17,17)",
            "gridcolor": "#506784",
            "linecolor": "#506784",
            "showbackground": true,
            "ticks": "",
            "zerolinecolor": "#C8D4E3",
            "gridwidth": 2
           },
           "zaxis": {
            "backgroundcolor": "rgb(17,17,17)",
            "gridcolor": "#506784",
            "linecolor": "#506784",
            "showbackground": true,
            "ticks": "",
            "zerolinecolor": "#C8D4E3",
            "gridwidth": 2
           }
          },
          "shapedefaults": {
           "line": {
            "color": "#f2f5fa"
           }
          },
          "annotationdefaults": {
           "arrowcolor": "#f2f5fa",
           "arrowhead": 0,
           "arrowwidth": 1
          },
          "geo": {
           "bgcolor": "rgb(17,17,17)",
           "landcolor": "rgb(17,17,17)",
           "subunitcolor": "#506784",
           "showland": true,
           "showlakes": true,
           "lakecolor": "rgb(17,17,17)"
          },
          "title": {
           "x": 0.05
          },
          "updatemenudefaults": {
           "bgcolor": "#506784",
           "borderwidth": 0
          },
          "sliderdefaults": {
           "bgcolor": "#C8D4E3",
           "borderwidth": 1,
           "bordercolor": "rgb(17,17,17)",
           "tickwidth": 0
          },
          "mapbox": {
           "style": "dark"
          }
         }
        },
        "xaxis": {
         "anchor": "y",
         "domain": [
          0.0,
          1.0
         ],
         "title": {
          "text": "Labels"
         },
         "categoryorder": "total descending"
        },
        "yaxis": {
         "anchor": "x",
         "domain": [
          0.0,
          1.0
         ],
         "title": {
          "text": "Number of releases"
         }
        },
        "coloraxis": {
         "colorbar": {
          "title": {
           "text": "Number of releases"
          }
         },
         "colorscale": [
          [
           0.0,
           "rgb(255,247,236)"
          ],
          [
           0.125,
           "rgb(254,232,200)"
          ],
          [
           0.25,
           "rgb(253,212,158)"
          ],
          [
           0.375,
           "rgb(253,187,132)"
          ],
          [
           0.5,
           "rgb(252,141,89)"
          ],
          [
           0.625,
           "rgb(239,101,72)"
          ],
          [
           0.75,
           "rgb(215,48,31)"
          ],
          [
           0.875,
           "rgb(179,0,0)"
          ],
          [
           1.0,
           "rgb(127,0,0)"
          ]
         ],
         "cmin": 1,
         "cmax": 54,
         "showscale": false
        },
        "legend": {
         "tracegroupgap": 0
        },
        "title": {
         "text": "Number of release by Label (Top 10)"
        },
        "barmode": "relative",
        "height": 540,
        "width": 960
       },
       "config": {
        "plotlyServerURL": "https://plot.ly"
       }
      },
      "text/html": [
       "<div>                            <div id=\"16bbc874-b254-464d-8a34-e3849ec5e6f6\" class=\"plotly-graph-div\" style=\"height:540px; width:960px;\"></div>            <script type=\"text/javascript\">                require([\"plotly\"], function(Plotly) {                    window.PLOTLYENV=window.PLOTLYENV || {};                                    if (document.getElementById(\"16bbc874-b254-464d-8a34-e3849ec5e6f6\")) {                    Plotly.newPlot(                        \"16bbc874-b254-464d-8a34-e3849ec5e6f6\",                        [{\"alignmentgroup\":\"True\",\"hovertemplate\":\"Labels=%{x}\\u003cbr\\u003eNumber of releases=%{marker.color}\\u003cextra\\u003e\\u003c\\u002fextra\\u003e\",\"legendgroup\":\"\",\"marker\":{\"color\":[54,36,13,12,11,10,8,6,6,5],\"coloraxis\":\"coloraxis\",\"pattern\":{\"shape\":\"\"}},\"name\":\"\",\"offsetgroup\":\"\",\"orientation\":\"v\",\"showlegend\":false,\"textposition\":\"auto\",\"x\":[\"monstercat\",\"stmpd\",\"galacy\",\"revealed\",\"hexagon\",\"liquicity\",\"ukf\",\"pilot.\",\"ncs\",\"hospital\"],\"xaxis\":\"x\",\"y\":[54,36,13,12,11,10,8,6,6,5],\"yaxis\":\"y\",\"type\":\"bar\"}],                        {\"template\":{\"data\":{\"histogram2dcontour\":[{\"type\":\"histogram2dcontour\",\"colorbar\":{\"outlinewidth\":0,\"ticks\":\"\"},\"colorscale\":[[0.0,\"#0d0887\"],[0.1111111111111111,\"#46039f\"],[0.2222222222222222,\"#7201a8\"],[0.3333333333333333,\"#9c179e\"],[0.4444444444444444,\"#bd3786\"],[0.5555555555555556,\"#d8576b\"],[0.6666666666666666,\"#ed7953\"],[0.7777777777777778,\"#fb9f3a\"],[0.8888888888888888,\"#fdca26\"],[1.0,\"#f0f921\"]]}],\"choropleth\":[{\"type\":\"choropleth\",\"colorbar\":{\"outlinewidth\":0,\"ticks\":\"\"}}],\"histogram2d\":[{\"type\":\"histogram2d\",\"colorbar\":{\"outlinewidth\":0,\"ticks\":\"\"},\"colorscale\":[[0.0,\"#0d0887\"],[0.1111111111111111,\"#46039f\"],[0.2222222222222222,\"#7201a8\"],[0.3333333333333333,\"#9c179e\"],[0.4444444444444444,\"#bd3786\"],[0.5555555555555556,\"#d8576b\"],[0.6666666666666666,\"#ed7953\"],[0.7777777777777778,\"#fb9f3a\"],[0.8888888888888888,\"#fdca26\"],[1.0,\"#f0f921\"]]}],\"heatmap\":[{\"type\":\"heatmap\",\"colorbar\":{\"outlinewidth\":0,\"ticks\":\"\"},\"colorscale\":[[0.0,\"#0d0887\"],[0.1111111111111111,\"#46039f\"],[0.2222222222222222,\"#7201a8\"],[0.3333333333333333,\"#9c179e\"],[0.4444444444444444,\"#bd3786\"],[0.5555555555555556,\"#d8576b\"],[0.6666666666666666,\"#ed7953\"],[0.7777777777777778,\"#fb9f3a\"],[0.8888888888888888,\"#fdca26\"],[1.0,\"#f0f921\"]]}],\"heatmapgl\":[{\"type\":\"heatmapgl\",\"colorbar\":{\"outlinewidth\":0,\"ticks\":\"\"},\"colorscale\":[[0.0,\"#0d0887\"],[0.1111111111111111,\"#46039f\"],[0.2222222222222222,\"#7201a8\"],[0.3333333333333333,\"#9c179e\"],[0.4444444444444444,\"#bd3786\"],[0.5555555555555556,\"#d8576b\"],[0.6666666666666666,\"#ed7953\"],[0.7777777777777778,\"#fb9f3a\"],[0.8888888888888888,\"#fdca26\"],[1.0,\"#f0f921\"]]}],\"contourcarpet\":[{\"type\":\"contourcarpet\",\"colorbar\":{\"outlinewidth\":0,\"ticks\":\"\"}}],\"contour\":[{\"type\":\"contour\",\"colorbar\":{\"outlinewidth\":0,\"ticks\":\"\"},\"colorscale\":[[0.0,\"#0d0887\"],[0.1111111111111111,\"#46039f\"],[0.2222222222222222,\"#7201a8\"],[0.3333333333333333,\"#9c179e\"],[0.4444444444444444,\"#bd3786\"],[0.5555555555555556,\"#d8576b\"],[0.6666666666666666,\"#ed7953\"],[0.7777777777777778,\"#fb9f3a\"],[0.8888888888888888,\"#fdca26\"],[1.0,\"#f0f921\"]]}],\"surface\":[{\"type\":\"surface\",\"colorbar\":{\"outlinewidth\":0,\"ticks\":\"\"},\"colorscale\":[[0.0,\"#0d0887\"],[0.1111111111111111,\"#46039f\"],[0.2222222222222222,\"#7201a8\"],[0.3333333333333333,\"#9c179e\"],[0.4444444444444444,\"#bd3786\"],[0.5555555555555556,\"#d8576b\"],[0.6666666666666666,\"#ed7953\"],[0.7777777777777778,\"#fb9f3a\"],[0.8888888888888888,\"#fdca26\"],[1.0,\"#f0f921\"]]}],\"mesh3d\":[{\"type\":\"mesh3d\",\"colorbar\":{\"outlinewidth\":0,\"ticks\":\"\"}}],\"scatter\":[{\"marker\":{\"line\":{\"color\":\"#283442\"}},\"type\":\"scatter\"}],\"parcoords\":[{\"type\":\"parcoords\",\"line\":{\"colorbar\":{\"outlinewidth\":0,\"ticks\":\"\"}}}],\"scatterpolargl\":[{\"type\":\"scatterpolargl\",\"marker\":{\"colorbar\":{\"outlinewidth\":0,\"ticks\":\"\"}}}],\"bar\":[{\"error_x\":{\"color\":\"#f2f5fa\"},\"error_y\":{\"color\":\"#f2f5fa\"},\"marker\":{\"line\":{\"color\":\"rgb(17,17,17)\",\"width\":0.5},\"pattern\":{\"fillmode\":\"overlay\",\"size\":10,\"solidity\":0.2}},\"type\":\"bar\"}],\"scattergeo\":[{\"type\":\"scattergeo\",\"marker\":{\"colorbar\":{\"outlinewidth\":0,\"ticks\":\"\"}}}],\"scatterpolar\":[{\"type\":\"scatterpolar\",\"marker\":{\"colorbar\":{\"outlinewidth\":0,\"ticks\":\"\"}}}],\"histogram\":[{\"marker\":{\"pattern\":{\"fillmode\":\"overlay\",\"size\":10,\"solidity\":0.2}},\"type\":\"histogram\"}],\"scattergl\":[{\"marker\":{\"line\":{\"color\":\"#283442\"}},\"type\":\"scattergl\"}],\"scatter3d\":[{\"type\":\"scatter3d\",\"line\":{\"colorbar\":{\"outlinewidth\":0,\"ticks\":\"\"}},\"marker\":{\"colorbar\":{\"outlinewidth\":0,\"ticks\":\"\"}}}],\"scattermapbox\":[{\"type\":\"scattermapbox\",\"marker\":{\"colorbar\":{\"outlinewidth\":0,\"ticks\":\"\"}}}],\"scatterternary\":[{\"type\":\"scatterternary\",\"marker\":{\"colorbar\":{\"outlinewidth\":0,\"ticks\":\"\"}}}],\"scattercarpet\":[{\"type\":\"scattercarpet\",\"marker\":{\"colorbar\":{\"outlinewidth\":0,\"ticks\":\"\"}}}],\"carpet\":[{\"aaxis\":{\"endlinecolor\":\"#A2B1C6\",\"gridcolor\":\"#506784\",\"linecolor\":\"#506784\",\"minorgridcolor\":\"#506784\",\"startlinecolor\":\"#A2B1C6\"},\"baxis\":{\"endlinecolor\":\"#A2B1C6\",\"gridcolor\":\"#506784\",\"linecolor\":\"#506784\",\"minorgridcolor\":\"#506784\",\"startlinecolor\":\"#A2B1C6\"},\"type\":\"carpet\"}],\"table\":[{\"cells\":{\"fill\":{\"color\":\"#506784\"},\"line\":{\"color\":\"rgb(17,17,17)\"}},\"header\":{\"fill\":{\"color\":\"#2a3f5f\"},\"line\":{\"color\":\"rgb(17,17,17)\"}},\"type\":\"table\"}],\"barpolar\":[{\"marker\":{\"line\":{\"color\":\"rgb(17,17,17)\",\"width\":0.5},\"pattern\":{\"fillmode\":\"overlay\",\"size\":10,\"solidity\":0.2}},\"type\":\"barpolar\"}],\"pie\":[{\"automargin\":true,\"type\":\"pie\"}]},\"layout\":{\"autotypenumbers\":\"strict\",\"colorway\":[\"#636efa\",\"#EF553B\",\"#00cc96\",\"#ab63fa\",\"#FFA15A\",\"#19d3f3\",\"#FF6692\",\"#B6E880\",\"#FF97FF\",\"#FECB52\"],\"font\":{\"color\":\"#f2f5fa\"},\"hovermode\":\"closest\",\"hoverlabel\":{\"align\":\"left\"},\"paper_bgcolor\":\"rgb(17,17,17)\",\"plot_bgcolor\":\"rgb(17,17,17)\",\"polar\":{\"bgcolor\":\"rgb(17,17,17)\",\"angularaxis\":{\"gridcolor\":\"#506784\",\"linecolor\":\"#506784\",\"ticks\":\"\"},\"radialaxis\":{\"gridcolor\":\"#506784\",\"linecolor\":\"#506784\",\"ticks\":\"\"}},\"ternary\":{\"bgcolor\":\"rgb(17,17,17)\",\"aaxis\":{\"gridcolor\":\"#506784\",\"linecolor\":\"#506784\",\"ticks\":\"\"},\"baxis\":{\"gridcolor\":\"#506784\",\"linecolor\":\"#506784\",\"ticks\":\"\"},\"caxis\":{\"gridcolor\":\"#506784\",\"linecolor\":\"#506784\",\"ticks\":\"\"}},\"coloraxis\":{\"colorbar\":{\"outlinewidth\":0,\"ticks\":\"\"}},\"colorscale\":{\"sequential\":[[0.0,\"#0d0887\"],[0.1111111111111111,\"#46039f\"],[0.2222222222222222,\"#7201a8\"],[0.3333333333333333,\"#9c179e\"],[0.4444444444444444,\"#bd3786\"],[0.5555555555555556,\"#d8576b\"],[0.6666666666666666,\"#ed7953\"],[0.7777777777777778,\"#fb9f3a\"],[0.8888888888888888,\"#fdca26\"],[1.0,\"#f0f921\"]],\"sequentialminus\":[[0.0,\"#0d0887\"],[0.1111111111111111,\"#46039f\"],[0.2222222222222222,\"#7201a8\"],[0.3333333333333333,\"#9c179e\"],[0.4444444444444444,\"#bd3786\"],[0.5555555555555556,\"#d8576b\"],[0.6666666666666666,\"#ed7953\"],[0.7777777777777778,\"#fb9f3a\"],[0.8888888888888888,\"#fdca26\"],[1.0,\"#f0f921\"]],\"diverging\":[[0,\"#8e0152\"],[0.1,\"#c51b7d\"],[0.2,\"#de77ae\"],[0.3,\"#f1b6da\"],[0.4,\"#fde0ef\"],[0.5,\"#f7f7f7\"],[0.6,\"#e6f5d0\"],[0.7,\"#b8e186\"],[0.8,\"#7fbc41\"],[0.9,\"#4d9221\"],[1,\"#276419\"]]},\"xaxis\":{\"gridcolor\":\"#283442\",\"linecolor\":\"#506784\",\"ticks\":\"\",\"title\":{\"standoff\":15},\"zerolinecolor\":\"#283442\",\"automargin\":true,\"zerolinewidth\":2},\"yaxis\":{\"gridcolor\":\"#283442\",\"linecolor\":\"#506784\",\"ticks\":\"\",\"title\":{\"standoff\":15},\"zerolinecolor\":\"#283442\",\"automargin\":true,\"zerolinewidth\":2},\"scene\":{\"xaxis\":{\"backgroundcolor\":\"rgb(17,17,17)\",\"gridcolor\":\"#506784\",\"linecolor\":\"#506784\",\"showbackground\":true,\"ticks\":\"\",\"zerolinecolor\":\"#C8D4E3\",\"gridwidth\":2},\"yaxis\":{\"backgroundcolor\":\"rgb(17,17,17)\",\"gridcolor\":\"#506784\",\"linecolor\":\"#506784\",\"showbackground\":true,\"ticks\":\"\",\"zerolinecolor\":\"#C8D4E3\",\"gridwidth\":2},\"zaxis\":{\"backgroundcolor\":\"rgb(17,17,17)\",\"gridcolor\":\"#506784\",\"linecolor\":\"#506784\",\"showbackground\":true,\"ticks\":\"\",\"zerolinecolor\":\"#C8D4E3\",\"gridwidth\":2}},\"shapedefaults\":{\"line\":{\"color\":\"#f2f5fa\"}},\"annotationdefaults\":{\"arrowcolor\":\"#f2f5fa\",\"arrowhead\":0,\"arrowwidth\":1},\"geo\":{\"bgcolor\":\"rgb(17,17,17)\",\"landcolor\":\"rgb(17,17,17)\",\"subunitcolor\":\"#506784\",\"showland\":true,\"showlakes\":true,\"lakecolor\":\"rgb(17,17,17)\"},\"title\":{\"x\":0.05},\"updatemenudefaults\":{\"bgcolor\":\"#506784\",\"borderwidth\":0},\"sliderdefaults\":{\"bgcolor\":\"#C8D4E3\",\"borderwidth\":1,\"bordercolor\":\"rgb(17,17,17)\",\"tickwidth\":0},\"mapbox\":{\"style\":\"dark\"}}},\"xaxis\":{\"anchor\":\"y\",\"domain\":[0.0,1.0],\"title\":{\"text\":\"Labels\"},\"categoryorder\":\"total descending\"},\"yaxis\":{\"anchor\":\"x\",\"domain\":[0.0,1.0],\"title\":{\"text\":\"Number of releases\"}},\"coloraxis\":{\"colorbar\":{\"title\":{\"text\":\"Number of releases\"}},\"colorscale\":[[0.0,\"rgb(255,247,236)\"],[0.125,\"rgb(254,232,200)\"],[0.25,\"rgb(253,212,158)\"],[0.375,\"rgb(253,187,132)\"],[0.5,\"rgb(252,141,89)\"],[0.625,\"rgb(239,101,72)\"],[0.75,\"rgb(215,48,31)\"],[0.875,\"rgb(179,0,0)\"],[1.0,\"rgb(127,0,0)\"]],\"cmin\":1,\"cmax\":54,\"showscale\":false},\"legend\":{\"tracegroupgap\":0},\"title\":{\"text\":\"Number of release by Label (Top 10)\"},\"barmode\":\"relative\",\"height\":540,\"width\":960},                        {\"responsive\": true}                    ).then(function(){\n",
       "                            \n",
       "var gd = document.getElementById('16bbc874-b254-464d-8a34-e3849ec5e6f6');\n",
       "var x = new MutationObserver(function (mutations, observer) {{\n",
       "        var display = window.getComputedStyle(gd).display;\n",
       "        if (!display || display === 'none') {{\n",
       "            console.log([gd, 'removed!']);\n",
       "            Plotly.purge(gd);\n",
       "            observer.disconnect();\n",
       "        }}\n",
       "}});\n",
       "\n",
       "// Listen for the removal of the full notebook cells\n",
       "var notebookContainer = gd.closest('#notebook-container');\n",
       "if (notebookContainer) {{\n",
       "    x.observe(notebookContainer, {childList: true});\n",
       "}}\n",
       "\n",
       "// Listen for the clearing of the current output cell\n",
       "var outputEl = gd.closest('.output');\n",
       "if (outputEl) {{\n",
       "    x.observe(outputEl, {childList: true});\n",
       "}}\n",
       "\n",
       "                        })                };                });            </script>        </div>"
      ]
     },
     "metadata": {},
     "output_type": "display_data"
    }
   ],
   "execution_count": 302
  },
  {
   "metadata": {},
   "cell_type": "markdown",
   "source": "### Genre of the year by number of release\n",
   "id": "cad023b39e1d6f09"
  },
  {
   "metadata": {
    "ExecuteTime": {
     "end_time": "2024-12-17T17:41:38.501442Z",
     "start_time": "2024-12-17T17:41:38.490386Z"
    }
   },
   "cell_type": "code",
   "source": [
    "data_gen_count = (data_gen[['genre', 'title']]\n",
    "                  .groupby('genre', as_index=False)\n",
    "                  .count()\n",
    "                  .rename({'title': 'n_release'}, axis=1)\n",
    "                  .sort_values('n_release', ascending=False)\n",
    "                  .reset_index(drop=True))\n",
    "\n",
    "data_gen_count.describe()"
   ],
   "id": "415dfa3bee807f4",
   "outputs": [
    {
     "data": {
      "text/plain": [
       "        n_release\n",
       "count   39.000000\n",
       "mean     8.128205\n",
       "std     18.450759\n",
       "min      1.000000\n",
       "25%      1.500000\n",
       "50%      3.000000\n",
       "75%      5.500000\n",
       "max    112.000000"
      ],
      "text/html": [
       "<div>\n",
       "<style scoped>\n",
       "    .dataframe tbody tr th:only-of-type {\n",
       "        vertical-align: middle;\n",
       "    }\n",
       "\n",
       "    .dataframe tbody tr th {\n",
       "        vertical-align: top;\n",
       "    }\n",
       "\n",
       "    .dataframe thead th {\n",
       "        text-align: right;\n",
       "    }\n",
       "</style>\n",
       "<table border=\"1\" class=\"dataframe\">\n",
       "  <thead>\n",
       "    <tr style=\"text-align: right;\">\n",
       "      <th></th>\n",
       "      <th>n_release</th>\n",
       "    </tr>\n",
       "  </thead>\n",
       "  <tbody>\n",
       "    <tr>\n",
       "      <th>count</th>\n",
       "      <td>39.000000</td>\n",
       "    </tr>\n",
       "    <tr>\n",
       "      <th>mean</th>\n",
       "      <td>8.128205</td>\n",
       "    </tr>\n",
       "    <tr>\n",
       "      <th>std</th>\n",
       "      <td>18.450759</td>\n",
       "    </tr>\n",
       "    <tr>\n",
       "      <th>min</th>\n",
       "      <td>1.000000</td>\n",
       "    </tr>\n",
       "    <tr>\n",
       "      <th>25%</th>\n",
       "      <td>1.500000</td>\n",
       "    </tr>\n",
       "    <tr>\n",
       "      <th>50%</th>\n",
       "      <td>3.000000</td>\n",
       "    </tr>\n",
       "    <tr>\n",
       "      <th>75%</th>\n",
       "      <td>5.500000</td>\n",
       "    </tr>\n",
       "    <tr>\n",
       "      <th>max</th>\n",
       "      <td>112.000000</td>\n",
       "    </tr>\n",
       "  </tbody>\n",
       "</table>\n",
       "</div>"
      ]
     },
     "execution_count": 303,
     "metadata": {},
     "output_type": "execute_result"
    }
   ],
   "execution_count": 303
  },
  {
   "metadata": {
    "ExecuteTime": {
     "end_time": "2024-12-17T17:41:38.619779Z",
     "start_time": "2024-12-17T17:41:38.570224Z"
    }
   },
   "cell_type": "code",
   "source": [
    "bar_genre_release = plot_bar(dataframe=data_gen_count,\n",
    "                             x='genre',\n",
    "                             y='n_release',\n",
    "                             title='Number of release by Genre',\n",
    "                             x_label='Music Genres',\n",
    "                             y_label='Number of releases',\n",
    "                             col_range=(data_gen_count.n_release.min(), data_gen_count.n_release.max()))\n",
    "bar_genre_release.show()"
   ],
   "id": "8c03f3fbe91e8c5c",
   "outputs": [
    {
     "data": {
      "application/vnd.plotly.v1+json": {
       "data": [
        {
         "alignmentgroup": "True",
         "hovertemplate": "Music Genres=%{x}<br>Number of releases=%{marker.color}<extra></extra>",
         "legendgroup": "",
         "marker": {
          "color": [
           112,
           35,
           25,
           15,
           14,
           14,
           11,
           8,
           8,
           6,
           5,
           5,
           5,
           4,
           4,
           4,
           4,
           3,
           3,
           3,
           3,
           2,
           2,
           2,
           2,
           2,
           2,
           2,
           2,
           1,
           1,
           1,
           1,
           1,
           1,
           1,
           1,
           1,
           1
          ],
          "coloraxis": "coloraxis",
          "pattern": {
           "shape": ""
          }
         },
         "name": "",
         "offsetgroup": "",
         "orientation": "v",
         "showlegend": false,
         "textposition": "auto",
         "x": [
          "drum & bass",
          "future house / future bounce",
          "bass house",
          "tech house",
          "progressive house",
          "dubstep / brostep / riddim",
          "hard techno",
          "electro house",
          "uk garage",
          "house",
          "techno",
          "electro funk",
          "melodic house",
          "synthwave",
          "deep house",
          "complextro",
          "trance",
          "phonk",
          "ghetto house",
          "trapstep / hybrid trap",
          "drumstep / moombahcore",
          "big room",
          "ochestral electro",
          "latina house",
          "indie dance / nu disco",
          "speed house",
          "future rave",
          "future bass",
          "darkwave",
          "trap",
          "disco",
          "slap house",
          "psy trance",
          "breakbeat",
          "kawaii future bass",
          "hyper techno",
          "afro house",
          "hard style",
          "8-bit house"
         ],
         "xaxis": "x",
         "y": [
          112,
          35,
          25,
          15,
          14,
          14,
          11,
          8,
          8,
          6,
          5,
          5,
          5,
          4,
          4,
          4,
          4,
          3,
          3,
          3,
          3,
          2,
          2,
          2,
          2,
          2,
          2,
          2,
          2,
          1,
          1,
          1,
          1,
          1,
          1,
          1,
          1,
          1,
          1
         ],
         "yaxis": "y",
         "type": "bar"
        }
       ],
       "layout": {
        "template": {
         "data": {
          "histogram2dcontour": [
           {
            "type": "histogram2dcontour",
            "colorbar": {
             "outlinewidth": 0,
             "ticks": ""
            },
            "colorscale": [
             [
              0.0,
              "#0d0887"
             ],
             [
              0.1111111111111111,
              "#46039f"
             ],
             [
              0.2222222222222222,
              "#7201a8"
             ],
             [
              0.3333333333333333,
              "#9c179e"
             ],
             [
              0.4444444444444444,
              "#bd3786"
             ],
             [
              0.5555555555555556,
              "#d8576b"
             ],
             [
              0.6666666666666666,
              "#ed7953"
             ],
             [
              0.7777777777777778,
              "#fb9f3a"
             ],
             [
              0.8888888888888888,
              "#fdca26"
             ],
             [
              1.0,
              "#f0f921"
             ]
            ]
           }
          ],
          "choropleth": [
           {
            "type": "choropleth",
            "colorbar": {
             "outlinewidth": 0,
             "ticks": ""
            }
           }
          ],
          "histogram2d": [
           {
            "type": "histogram2d",
            "colorbar": {
             "outlinewidth": 0,
             "ticks": ""
            },
            "colorscale": [
             [
              0.0,
              "#0d0887"
             ],
             [
              0.1111111111111111,
              "#46039f"
             ],
             [
              0.2222222222222222,
              "#7201a8"
             ],
             [
              0.3333333333333333,
              "#9c179e"
             ],
             [
              0.4444444444444444,
              "#bd3786"
             ],
             [
              0.5555555555555556,
              "#d8576b"
             ],
             [
              0.6666666666666666,
              "#ed7953"
             ],
             [
              0.7777777777777778,
              "#fb9f3a"
             ],
             [
              0.8888888888888888,
              "#fdca26"
             ],
             [
              1.0,
              "#f0f921"
             ]
            ]
           }
          ],
          "heatmap": [
           {
            "type": "heatmap",
            "colorbar": {
             "outlinewidth": 0,
             "ticks": ""
            },
            "colorscale": [
             [
              0.0,
              "#0d0887"
             ],
             [
              0.1111111111111111,
              "#46039f"
             ],
             [
              0.2222222222222222,
              "#7201a8"
             ],
             [
              0.3333333333333333,
              "#9c179e"
             ],
             [
              0.4444444444444444,
              "#bd3786"
             ],
             [
              0.5555555555555556,
              "#d8576b"
             ],
             [
              0.6666666666666666,
              "#ed7953"
             ],
             [
              0.7777777777777778,
              "#fb9f3a"
             ],
             [
              0.8888888888888888,
              "#fdca26"
             ],
             [
              1.0,
              "#f0f921"
             ]
            ]
           }
          ],
          "heatmapgl": [
           {
            "type": "heatmapgl",
            "colorbar": {
             "outlinewidth": 0,
             "ticks": ""
            },
            "colorscale": [
             [
              0.0,
              "#0d0887"
             ],
             [
              0.1111111111111111,
              "#46039f"
             ],
             [
              0.2222222222222222,
              "#7201a8"
             ],
             [
              0.3333333333333333,
              "#9c179e"
             ],
             [
              0.4444444444444444,
              "#bd3786"
             ],
             [
              0.5555555555555556,
              "#d8576b"
             ],
             [
              0.6666666666666666,
              "#ed7953"
             ],
             [
              0.7777777777777778,
              "#fb9f3a"
             ],
             [
              0.8888888888888888,
              "#fdca26"
             ],
             [
              1.0,
              "#f0f921"
             ]
            ]
           }
          ],
          "contourcarpet": [
           {
            "type": "contourcarpet",
            "colorbar": {
             "outlinewidth": 0,
             "ticks": ""
            }
           }
          ],
          "contour": [
           {
            "type": "contour",
            "colorbar": {
             "outlinewidth": 0,
             "ticks": ""
            },
            "colorscale": [
             [
              0.0,
              "#0d0887"
             ],
             [
              0.1111111111111111,
              "#46039f"
             ],
             [
              0.2222222222222222,
              "#7201a8"
             ],
             [
              0.3333333333333333,
              "#9c179e"
             ],
             [
              0.4444444444444444,
              "#bd3786"
             ],
             [
              0.5555555555555556,
              "#d8576b"
             ],
             [
              0.6666666666666666,
              "#ed7953"
             ],
             [
              0.7777777777777778,
              "#fb9f3a"
             ],
             [
              0.8888888888888888,
              "#fdca26"
             ],
             [
              1.0,
              "#f0f921"
             ]
            ]
           }
          ],
          "surface": [
           {
            "type": "surface",
            "colorbar": {
             "outlinewidth": 0,
             "ticks": ""
            },
            "colorscale": [
             [
              0.0,
              "#0d0887"
             ],
             [
              0.1111111111111111,
              "#46039f"
             ],
             [
              0.2222222222222222,
              "#7201a8"
             ],
             [
              0.3333333333333333,
              "#9c179e"
             ],
             [
              0.4444444444444444,
              "#bd3786"
             ],
             [
              0.5555555555555556,
              "#d8576b"
             ],
             [
              0.6666666666666666,
              "#ed7953"
             ],
             [
              0.7777777777777778,
              "#fb9f3a"
             ],
             [
              0.8888888888888888,
              "#fdca26"
             ],
             [
              1.0,
              "#f0f921"
             ]
            ]
           }
          ],
          "mesh3d": [
           {
            "type": "mesh3d",
            "colorbar": {
             "outlinewidth": 0,
             "ticks": ""
            }
           }
          ],
          "scatter": [
           {
            "marker": {
             "line": {
              "color": "#283442"
             }
            },
            "type": "scatter"
           }
          ],
          "parcoords": [
           {
            "type": "parcoords",
            "line": {
             "colorbar": {
              "outlinewidth": 0,
              "ticks": ""
             }
            }
           }
          ],
          "scatterpolargl": [
           {
            "type": "scatterpolargl",
            "marker": {
             "colorbar": {
              "outlinewidth": 0,
              "ticks": ""
             }
            }
           }
          ],
          "bar": [
           {
            "error_x": {
             "color": "#f2f5fa"
            },
            "error_y": {
             "color": "#f2f5fa"
            },
            "marker": {
             "line": {
              "color": "rgb(17,17,17)",
              "width": 0.5
             },
             "pattern": {
              "fillmode": "overlay",
              "size": 10,
              "solidity": 0.2
             }
            },
            "type": "bar"
           }
          ],
          "scattergeo": [
           {
            "type": "scattergeo",
            "marker": {
             "colorbar": {
              "outlinewidth": 0,
              "ticks": ""
             }
            }
           }
          ],
          "scatterpolar": [
           {
            "type": "scatterpolar",
            "marker": {
             "colorbar": {
              "outlinewidth": 0,
              "ticks": ""
             }
            }
           }
          ],
          "histogram": [
           {
            "marker": {
             "pattern": {
              "fillmode": "overlay",
              "size": 10,
              "solidity": 0.2
             }
            },
            "type": "histogram"
           }
          ],
          "scattergl": [
           {
            "marker": {
             "line": {
              "color": "#283442"
             }
            },
            "type": "scattergl"
           }
          ],
          "scatter3d": [
           {
            "type": "scatter3d",
            "line": {
             "colorbar": {
              "outlinewidth": 0,
              "ticks": ""
             }
            },
            "marker": {
             "colorbar": {
              "outlinewidth": 0,
              "ticks": ""
             }
            }
           }
          ],
          "scattermapbox": [
           {
            "type": "scattermapbox",
            "marker": {
             "colorbar": {
              "outlinewidth": 0,
              "ticks": ""
             }
            }
           }
          ],
          "scatterternary": [
           {
            "type": "scatterternary",
            "marker": {
             "colorbar": {
              "outlinewidth": 0,
              "ticks": ""
             }
            }
           }
          ],
          "scattercarpet": [
           {
            "type": "scattercarpet",
            "marker": {
             "colorbar": {
              "outlinewidth": 0,
              "ticks": ""
             }
            }
           }
          ],
          "carpet": [
           {
            "aaxis": {
             "endlinecolor": "#A2B1C6",
             "gridcolor": "#506784",
             "linecolor": "#506784",
             "minorgridcolor": "#506784",
             "startlinecolor": "#A2B1C6"
            },
            "baxis": {
             "endlinecolor": "#A2B1C6",
             "gridcolor": "#506784",
             "linecolor": "#506784",
             "minorgridcolor": "#506784",
             "startlinecolor": "#A2B1C6"
            },
            "type": "carpet"
           }
          ],
          "table": [
           {
            "cells": {
             "fill": {
              "color": "#506784"
             },
             "line": {
              "color": "rgb(17,17,17)"
             }
            },
            "header": {
             "fill": {
              "color": "#2a3f5f"
             },
             "line": {
              "color": "rgb(17,17,17)"
             }
            },
            "type": "table"
           }
          ],
          "barpolar": [
           {
            "marker": {
             "line": {
              "color": "rgb(17,17,17)",
              "width": 0.5
             },
             "pattern": {
              "fillmode": "overlay",
              "size": 10,
              "solidity": 0.2
             }
            },
            "type": "barpolar"
           }
          ],
          "pie": [
           {
            "automargin": true,
            "type": "pie"
           }
          ]
         },
         "layout": {
          "autotypenumbers": "strict",
          "colorway": [
           "#636efa",
           "#EF553B",
           "#00cc96",
           "#ab63fa",
           "#FFA15A",
           "#19d3f3",
           "#FF6692",
           "#B6E880",
           "#FF97FF",
           "#FECB52"
          ],
          "font": {
           "color": "#f2f5fa"
          },
          "hovermode": "closest",
          "hoverlabel": {
           "align": "left"
          },
          "paper_bgcolor": "rgb(17,17,17)",
          "plot_bgcolor": "rgb(17,17,17)",
          "polar": {
           "bgcolor": "rgb(17,17,17)",
           "angularaxis": {
            "gridcolor": "#506784",
            "linecolor": "#506784",
            "ticks": ""
           },
           "radialaxis": {
            "gridcolor": "#506784",
            "linecolor": "#506784",
            "ticks": ""
           }
          },
          "ternary": {
           "bgcolor": "rgb(17,17,17)",
           "aaxis": {
            "gridcolor": "#506784",
            "linecolor": "#506784",
            "ticks": ""
           },
           "baxis": {
            "gridcolor": "#506784",
            "linecolor": "#506784",
            "ticks": ""
           },
           "caxis": {
            "gridcolor": "#506784",
            "linecolor": "#506784",
            "ticks": ""
           }
          },
          "coloraxis": {
           "colorbar": {
            "outlinewidth": 0,
            "ticks": ""
           }
          },
          "colorscale": {
           "sequential": [
            [
             0.0,
             "#0d0887"
            ],
            [
             0.1111111111111111,
             "#46039f"
            ],
            [
             0.2222222222222222,
             "#7201a8"
            ],
            [
             0.3333333333333333,
             "#9c179e"
            ],
            [
             0.4444444444444444,
             "#bd3786"
            ],
            [
             0.5555555555555556,
             "#d8576b"
            ],
            [
             0.6666666666666666,
             "#ed7953"
            ],
            [
             0.7777777777777778,
             "#fb9f3a"
            ],
            [
             0.8888888888888888,
             "#fdca26"
            ],
            [
             1.0,
             "#f0f921"
            ]
           ],
           "sequentialminus": [
            [
             0.0,
             "#0d0887"
            ],
            [
             0.1111111111111111,
             "#46039f"
            ],
            [
             0.2222222222222222,
             "#7201a8"
            ],
            [
             0.3333333333333333,
             "#9c179e"
            ],
            [
             0.4444444444444444,
             "#bd3786"
            ],
            [
             0.5555555555555556,
             "#d8576b"
            ],
            [
             0.6666666666666666,
             "#ed7953"
            ],
            [
             0.7777777777777778,
             "#fb9f3a"
            ],
            [
             0.8888888888888888,
             "#fdca26"
            ],
            [
             1.0,
             "#f0f921"
            ]
           ],
           "diverging": [
            [
             0,
             "#8e0152"
            ],
            [
             0.1,
             "#c51b7d"
            ],
            [
             0.2,
             "#de77ae"
            ],
            [
             0.3,
             "#f1b6da"
            ],
            [
             0.4,
             "#fde0ef"
            ],
            [
             0.5,
             "#f7f7f7"
            ],
            [
             0.6,
             "#e6f5d0"
            ],
            [
             0.7,
             "#b8e186"
            ],
            [
             0.8,
             "#7fbc41"
            ],
            [
             0.9,
             "#4d9221"
            ],
            [
             1,
             "#276419"
            ]
           ]
          },
          "xaxis": {
           "gridcolor": "#283442",
           "linecolor": "#506784",
           "ticks": "",
           "title": {
            "standoff": 15
           },
           "zerolinecolor": "#283442",
           "automargin": true,
           "zerolinewidth": 2
          },
          "yaxis": {
           "gridcolor": "#283442",
           "linecolor": "#506784",
           "ticks": "",
           "title": {
            "standoff": 15
           },
           "zerolinecolor": "#283442",
           "automargin": true,
           "zerolinewidth": 2
          },
          "scene": {
           "xaxis": {
            "backgroundcolor": "rgb(17,17,17)",
            "gridcolor": "#506784",
            "linecolor": "#506784",
            "showbackground": true,
            "ticks": "",
            "zerolinecolor": "#C8D4E3",
            "gridwidth": 2
           },
           "yaxis": {
            "backgroundcolor": "rgb(17,17,17)",
            "gridcolor": "#506784",
            "linecolor": "#506784",
            "showbackground": true,
            "ticks": "",
            "zerolinecolor": "#C8D4E3",
            "gridwidth": 2
           },
           "zaxis": {
            "backgroundcolor": "rgb(17,17,17)",
            "gridcolor": "#506784",
            "linecolor": "#506784",
            "showbackground": true,
            "ticks": "",
            "zerolinecolor": "#C8D4E3",
            "gridwidth": 2
           }
          },
          "shapedefaults": {
           "line": {
            "color": "#f2f5fa"
           }
          },
          "annotationdefaults": {
           "arrowcolor": "#f2f5fa",
           "arrowhead": 0,
           "arrowwidth": 1
          },
          "geo": {
           "bgcolor": "rgb(17,17,17)",
           "landcolor": "rgb(17,17,17)",
           "subunitcolor": "#506784",
           "showland": true,
           "showlakes": true,
           "lakecolor": "rgb(17,17,17)"
          },
          "title": {
           "x": 0.05
          },
          "updatemenudefaults": {
           "bgcolor": "#506784",
           "borderwidth": 0
          },
          "sliderdefaults": {
           "bgcolor": "#C8D4E3",
           "borderwidth": 1,
           "bordercolor": "rgb(17,17,17)",
           "tickwidth": 0
          },
          "mapbox": {
           "style": "dark"
          }
         }
        },
        "xaxis": {
         "anchor": "y",
         "domain": [
          0.0,
          1.0
         ],
         "title": {
          "text": "Music Genres"
         },
         "categoryorder": "total descending"
        },
        "yaxis": {
         "anchor": "x",
         "domain": [
          0.0,
          1.0
         ],
         "title": {
          "text": "Number of releases"
         }
        },
        "coloraxis": {
         "colorbar": {
          "title": {
           "text": "Number of releases"
          }
         },
         "colorscale": [
          [
           0.0,
           "rgb(255,247,236)"
          ],
          [
           0.125,
           "rgb(254,232,200)"
          ],
          [
           0.25,
           "rgb(253,212,158)"
          ],
          [
           0.375,
           "rgb(253,187,132)"
          ],
          [
           0.5,
           "rgb(252,141,89)"
          ],
          [
           0.625,
           "rgb(239,101,72)"
          ],
          [
           0.75,
           "rgb(215,48,31)"
          ],
          [
           0.875,
           "rgb(179,0,0)"
          ],
          [
           1.0,
           "rgb(127,0,0)"
          ]
         ],
         "cmin": 1,
         "cmax": 112,
         "showscale": false
        },
        "legend": {
         "tracegroupgap": 0
        },
        "title": {
         "text": "Number of release by Genre"
        },
        "barmode": "relative",
        "height": 540,
        "width": 960
       },
       "config": {
        "plotlyServerURL": "https://plot.ly"
       }
      },
      "text/html": [
       "<div>                            <div id=\"87db23ec-88c0-42f7-ac86-c4ff73233c2a\" class=\"plotly-graph-div\" style=\"height:540px; width:960px;\"></div>            <script type=\"text/javascript\">                require([\"plotly\"], function(Plotly) {                    window.PLOTLYENV=window.PLOTLYENV || {};                                    if (document.getElementById(\"87db23ec-88c0-42f7-ac86-c4ff73233c2a\")) {                    Plotly.newPlot(                        \"87db23ec-88c0-42f7-ac86-c4ff73233c2a\",                        [{\"alignmentgroup\":\"True\",\"hovertemplate\":\"Music Genres=%{x}\\u003cbr\\u003eNumber of releases=%{marker.color}\\u003cextra\\u003e\\u003c\\u002fextra\\u003e\",\"legendgroup\":\"\",\"marker\":{\"color\":[112,35,25,15,14,14,11,8,8,6,5,5,5,4,4,4,4,3,3,3,3,2,2,2,2,2,2,2,2,1,1,1,1,1,1,1,1,1,1],\"coloraxis\":\"coloraxis\",\"pattern\":{\"shape\":\"\"}},\"name\":\"\",\"offsetgroup\":\"\",\"orientation\":\"v\",\"showlegend\":false,\"textposition\":\"auto\",\"x\":[\"drum & bass\",\"future house \\u002f future bounce\",\"bass house\",\"tech house\",\"progressive house\",\"dubstep \\u002f brostep \\u002f riddim\",\"hard techno\",\"electro house\",\"uk garage\",\"house\",\"techno\",\"electro funk\",\"melodic house\",\"synthwave\",\"deep house\",\"complextro\",\"trance\",\"phonk\",\"ghetto house\",\"trapstep \\u002f hybrid trap\",\"drumstep \\u002f moombahcore\",\"big room\",\"ochestral electro\",\"latina house\",\"indie dance \\u002f nu disco\",\"speed house\",\"future rave\",\"future bass\",\"darkwave\",\"trap\",\"disco\",\"slap house\",\"psy trance\",\"breakbeat\",\"kawaii future bass\",\"hyper techno\",\"afro house\",\"hard style\",\"8-bit house\"],\"xaxis\":\"x\",\"y\":[112,35,25,15,14,14,11,8,8,6,5,5,5,4,4,4,4,3,3,3,3,2,2,2,2,2,2,2,2,1,1,1,1,1,1,1,1,1,1],\"yaxis\":\"y\",\"type\":\"bar\"}],                        {\"template\":{\"data\":{\"histogram2dcontour\":[{\"type\":\"histogram2dcontour\",\"colorbar\":{\"outlinewidth\":0,\"ticks\":\"\"},\"colorscale\":[[0.0,\"#0d0887\"],[0.1111111111111111,\"#46039f\"],[0.2222222222222222,\"#7201a8\"],[0.3333333333333333,\"#9c179e\"],[0.4444444444444444,\"#bd3786\"],[0.5555555555555556,\"#d8576b\"],[0.6666666666666666,\"#ed7953\"],[0.7777777777777778,\"#fb9f3a\"],[0.8888888888888888,\"#fdca26\"],[1.0,\"#f0f921\"]]}],\"choropleth\":[{\"type\":\"choropleth\",\"colorbar\":{\"outlinewidth\":0,\"ticks\":\"\"}}],\"histogram2d\":[{\"type\":\"histogram2d\",\"colorbar\":{\"outlinewidth\":0,\"ticks\":\"\"},\"colorscale\":[[0.0,\"#0d0887\"],[0.1111111111111111,\"#46039f\"],[0.2222222222222222,\"#7201a8\"],[0.3333333333333333,\"#9c179e\"],[0.4444444444444444,\"#bd3786\"],[0.5555555555555556,\"#d8576b\"],[0.6666666666666666,\"#ed7953\"],[0.7777777777777778,\"#fb9f3a\"],[0.8888888888888888,\"#fdca26\"],[1.0,\"#f0f921\"]]}],\"heatmap\":[{\"type\":\"heatmap\",\"colorbar\":{\"outlinewidth\":0,\"ticks\":\"\"},\"colorscale\":[[0.0,\"#0d0887\"],[0.1111111111111111,\"#46039f\"],[0.2222222222222222,\"#7201a8\"],[0.3333333333333333,\"#9c179e\"],[0.4444444444444444,\"#bd3786\"],[0.5555555555555556,\"#d8576b\"],[0.6666666666666666,\"#ed7953\"],[0.7777777777777778,\"#fb9f3a\"],[0.8888888888888888,\"#fdca26\"],[1.0,\"#f0f921\"]]}],\"heatmapgl\":[{\"type\":\"heatmapgl\",\"colorbar\":{\"outlinewidth\":0,\"ticks\":\"\"},\"colorscale\":[[0.0,\"#0d0887\"],[0.1111111111111111,\"#46039f\"],[0.2222222222222222,\"#7201a8\"],[0.3333333333333333,\"#9c179e\"],[0.4444444444444444,\"#bd3786\"],[0.5555555555555556,\"#d8576b\"],[0.6666666666666666,\"#ed7953\"],[0.7777777777777778,\"#fb9f3a\"],[0.8888888888888888,\"#fdca26\"],[1.0,\"#f0f921\"]]}],\"contourcarpet\":[{\"type\":\"contourcarpet\",\"colorbar\":{\"outlinewidth\":0,\"ticks\":\"\"}}],\"contour\":[{\"type\":\"contour\",\"colorbar\":{\"outlinewidth\":0,\"ticks\":\"\"},\"colorscale\":[[0.0,\"#0d0887\"],[0.1111111111111111,\"#46039f\"],[0.2222222222222222,\"#7201a8\"],[0.3333333333333333,\"#9c179e\"],[0.4444444444444444,\"#bd3786\"],[0.5555555555555556,\"#d8576b\"],[0.6666666666666666,\"#ed7953\"],[0.7777777777777778,\"#fb9f3a\"],[0.8888888888888888,\"#fdca26\"],[1.0,\"#f0f921\"]]}],\"surface\":[{\"type\":\"surface\",\"colorbar\":{\"outlinewidth\":0,\"ticks\":\"\"},\"colorscale\":[[0.0,\"#0d0887\"],[0.1111111111111111,\"#46039f\"],[0.2222222222222222,\"#7201a8\"],[0.3333333333333333,\"#9c179e\"],[0.4444444444444444,\"#bd3786\"],[0.5555555555555556,\"#d8576b\"],[0.6666666666666666,\"#ed7953\"],[0.7777777777777778,\"#fb9f3a\"],[0.8888888888888888,\"#fdca26\"],[1.0,\"#f0f921\"]]}],\"mesh3d\":[{\"type\":\"mesh3d\",\"colorbar\":{\"outlinewidth\":0,\"ticks\":\"\"}}],\"scatter\":[{\"marker\":{\"line\":{\"color\":\"#283442\"}},\"type\":\"scatter\"}],\"parcoords\":[{\"type\":\"parcoords\",\"line\":{\"colorbar\":{\"outlinewidth\":0,\"ticks\":\"\"}}}],\"scatterpolargl\":[{\"type\":\"scatterpolargl\",\"marker\":{\"colorbar\":{\"outlinewidth\":0,\"ticks\":\"\"}}}],\"bar\":[{\"error_x\":{\"color\":\"#f2f5fa\"},\"error_y\":{\"color\":\"#f2f5fa\"},\"marker\":{\"line\":{\"color\":\"rgb(17,17,17)\",\"width\":0.5},\"pattern\":{\"fillmode\":\"overlay\",\"size\":10,\"solidity\":0.2}},\"type\":\"bar\"}],\"scattergeo\":[{\"type\":\"scattergeo\",\"marker\":{\"colorbar\":{\"outlinewidth\":0,\"ticks\":\"\"}}}],\"scatterpolar\":[{\"type\":\"scatterpolar\",\"marker\":{\"colorbar\":{\"outlinewidth\":0,\"ticks\":\"\"}}}],\"histogram\":[{\"marker\":{\"pattern\":{\"fillmode\":\"overlay\",\"size\":10,\"solidity\":0.2}},\"type\":\"histogram\"}],\"scattergl\":[{\"marker\":{\"line\":{\"color\":\"#283442\"}},\"type\":\"scattergl\"}],\"scatter3d\":[{\"type\":\"scatter3d\",\"line\":{\"colorbar\":{\"outlinewidth\":0,\"ticks\":\"\"}},\"marker\":{\"colorbar\":{\"outlinewidth\":0,\"ticks\":\"\"}}}],\"scattermapbox\":[{\"type\":\"scattermapbox\",\"marker\":{\"colorbar\":{\"outlinewidth\":0,\"ticks\":\"\"}}}],\"scatterternary\":[{\"type\":\"scatterternary\",\"marker\":{\"colorbar\":{\"outlinewidth\":0,\"ticks\":\"\"}}}],\"scattercarpet\":[{\"type\":\"scattercarpet\",\"marker\":{\"colorbar\":{\"outlinewidth\":0,\"ticks\":\"\"}}}],\"carpet\":[{\"aaxis\":{\"endlinecolor\":\"#A2B1C6\",\"gridcolor\":\"#506784\",\"linecolor\":\"#506784\",\"minorgridcolor\":\"#506784\",\"startlinecolor\":\"#A2B1C6\"},\"baxis\":{\"endlinecolor\":\"#A2B1C6\",\"gridcolor\":\"#506784\",\"linecolor\":\"#506784\",\"minorgridcolor\":\"#506784\",\"startlinecolor\":\"#A2B1C6\"},\"type\":\"carpet\"}],\"table\":[{\"cells\":{\"fill\":{\"color\":\"#506784\"},\"line\":{\"color\":\"rgb(17,17,17)\"}},\"header\":{\"fill\":{\"color\":\"#2a3f5f\"},\"line\":{\"color\":\"rgb(17,17,17)\"}},\"type\":\"table\"}],\"barpolar\":[{\"marker\":{\"line\":{\"color\":\"rgb(17,17,17)\",\"width\":0.5},\"pattern\":{\"fillmode\":\"overlay\",\"size\":10,\"solidity\":0.2}},\"type\":\"barpolar\"}],\"pie\":[{\"automargin\":true,\"type\":\"pie\"}]},\"layout\":{\"autotypenumbers\":\"strict\",\"colorway\":[\"#636efa\",\"#EF553B\",\"#00cc96\",\"#ab63fa\",\"#FFA15A\",\"#19d3f3\",\"#FF6692\",\"#B6E880\",\"#FF97FF\",\"#FECB52\"],\"font\":{\"color\":\"#f2f5fa\"},\"hovermode\":\"closest\",\"hoverlabel\":{\"align\":\"left\"},\"paper_bgcolor\":\"rgb(17,17,17)\",\"plot_bgcolor\":\"rgb(17,17,17)\",\"polar\":{\"bgcolor\":\"rgb(17,17,17)\",\"angularaxis\":{\"gridcolor\":\"#506784\",\"linecolor\":\"#506784\",\"ticks\":\"\"},\"radialaxis\":{\"gridcolor\":\"#506784\",\"linecolor\":\"#506784\",\"ticks\":\"\"}},\"ternary\":{\"bgcolor\":\"rgb(17,17,17)\",\"aaxis\":{\"gridcolor\":\"#506784\",\"linecolor\":\"#506784\",\"ticks\":\"\"},\"baxis\":{\"gridcolor\":\"#506784\",\"linecolor\":\"#506784\",\"ticks\":\"\"},\"caxis\":{\"gridcolor\":\"#506784\",\"linecolor\":\"#506784\",\"ticks\":\"\"}},\"coloraxis\":{\"colorbar\":{\"outlinewidth\":0,\"ticks\":\"\"}},\"colorscale\":{\"sequential\":[[0.0,\"#0d0887\"],[0.1111111111111111,\"#46039f\"],[0.2222222222222222,\"#7201a8\"],[0.3333333333333333,\"#9c179e\"],[0.4444444444444444,\"#bd3786\"],[0.5555555555555556,\"#d8576b\"],[0.6666666666666666,\"#ed7953\"],[0.7777777777777778,\"#fb9f3a\"],[0.8888888888888888,\"#fdca26\"],[1.0,\"#f0f921\"]],\"sequentialminus\":[[0.0,\"#0d0887\"],[0.1111111111111111,\"#46039f\"],[0.2222222222222222,\"#7201a8\"],[0.3333333333333333,\"#9c179e\"],[0.4444444444444444,\"#bd3786\"],[0.5555555555555556,\"#d8576b\"],[0.6666666666666666,\"#ed7953\"],[0.7777777777777778,\"#fb9f3a\"],[0.8888888888888888,\"#fdca26\"],[1.0,\"#f0f921\"]],\"diverging\":[[0,\"#8e0152\"],[0.1,\"#c51b7d\"],[0.2,\"#de77ae\"],[0.3,\"#f1b6da\"],[0.4,\"#fde0ef\"],[0.5,\"#f7f7f7\"],[0.6,\"#e6f5d0\"],[0.7,\"#b8e186\"],[0.8,\"#7fbc41\"],[0.9,\"#4d9221\"],[1,\"#276419\"]]},\"xaxis\":{\"gridcolor\":\"#283442\",\"linecolor\":\"#506784\",\"ticks\":\"\",\"title\":{\"standoff\":15},\"zerolinecolor\":\"#283442\",\"automargin\":true,\"zerolinewidth\":2},\"yaxis\":{\"gridcolor\":\"#283442\",\"linecolor\":\"#506784\",\"ticks\":\"\",\"title\":{\"standoff\":15},\"zerolinecolor\":\"#283442\",\"automargin\":true,\"zerolinewidth\":2},\"scene\":{\"xaxis\":{\"backgroundcolor\":\"rgb(17,17,17)\",\"gridcolor\":\"#506784\",\"linecolor\":\"#506784\",\"showbackground\":true,\"ticks\":\"\",\"zerolinecolor\":\"#C8D4E3\",\"gridwidth\":2},\"yaxis\":{\"backgroundcolor\":\"rgb(17,17,17)\",\"gridcolor\":\"#506784\",\"linecolor\":\"#506784\",\"showbackground\":true,\"ticks\":\"\",\"zerolinecolor\":\"#C8D4E3\",\"gridwidth\":2},\"zaxis\":{\"backgroundcolor\":\"rgb(17,17,17)\",\"gridcolor\":\"#506784\",\"linecolor\":\"#506784\",\"showbackground\":true,\"ticks\":\"\",\"zerolinecolor\":\"#C8D4E3\",\"gridwidth\":2}},\"shapedefaults\":{\"line\":{\"color\":\"#f2f5fa\"}},\"annotationdefaults\":{\"arrowcolor\":\"#f2f5fa\",\"arrowhead\":0,\"arrowwidth\":1},\"geo\":{\"bgcolor\":\"rgb(17,17,17)\",\"landcolor\":\"rgb(17,17,17)\",\"subunitcolor\":\"#506784\",\"showland\":true,\"showlakes\":true,\"lakecolor\":\"rgb(17,17,17)\"},\"title\":{\"x\":0.05},\"updatemenudefaults\":{\"bgcolor\":\"#506784\",\"borderwidth\":0},\"sliderdefaults\":{\"bgcolor\":\"#C8D4E3\",\"borderwidth\":1,\"bordercolor\":\"rgb(17,17,17)\",\"tickwidth\":0},\"mapbox\":{\"style\":\"dark\"}}},\"xaxis\":{\"anchor\":\"y\",\"domain\":[0.0,1.0],\"title\":{\"text\":\"Music Genres\"},\"categoryorder\":\"total descending\"},\"yaxis\":{\"anchor\":\"x\",\"domain\":[0.0,1.0],\"title\":{\"text\":\"Number of releases\"}},\"coloraxis\":{\"colorbar\":{\"title\":{\"text\":\"Number of releases\"}},\"colorscale\":[[0.0,\"rgb(255,247,236)\"],[0.125,\"rgb(254,232,200)\"],[0.25,\"rgb(253,212,158)\"],[0.375,\"rgb(253,187,132)\"],[0.5,\"rgb(252,141,89)\"],[0.625,\"rgb(239,101,72)\"],[0.75,\"rgb(215,48,31)\"],[0.875,\"rgb(179,0,0)\"],[1.0,\"rgb(127,0,0)\"]],\"cmin\":1,\"cmax\":112,\"showscale\":false},\"legend\":{\"tracegroupgap\":0},\"title\":{\"text\":\"Number of release by Genre\"},\"barmode\":\"relative\",\"height\":540,\"width\":960},                        {\"responsive\": true}                    ).then(function(){\n",
       "                            \n",
       "var gd = document.getElementById('87db23ec-88c0-42f7-ac86-c4ff73233c2a');\n",
       "var x = new MutationObserver(function (mutations, observer) {{\n",
       "        var display = window.getComputedStyle(gd).display;\n",
       "        if (!display || display === 'none') {{\n",
       "            console.log([gd, 'removed!']);\n",
       "            Plotly.purge(gd);\n",
       "            observer.disconnect();\n",
       "        }}\n",
       "}});\n",
       "\n",
       "// Listen for the removal of the full notebook cells\n",
       "var notebookContainer = gd.closest('#notebook-container');\n",
       "if (notebookContainer) {{\n",
       "    x.observe(notebookContainer, {childList: true});\n",
       "}}\n",
       "\n",
       "// Listen for the clearing of the current output cell\n",
       "var outputEl = gd.closest('.output');\n",
       "if (outputEl) {{\n",
       "    x.observe(outputEl, {childList: true});\n",
       "}}\n",
       "\n",
       "                        })                };                });            </script>        </div>"
      ]
     },
     "metadata": {},
     "output_type": "display_data"
    }
   ],
   "execution_count": 304
  },
  {
   "metadata": {},
   "cell_type": "markdown",
   "source": [
    "## Power Rankings by stats categories\n",
    "### Loading data"
   ],
   "id": "69fa20f6e7403563"
  },
  {
   "metadata": {
    "ExecuteTime": {
     "end_time": "2024-12-17T17:41:38.976493Z",
     "start_time": "2024-12-17T17:41:38.661069Z"
    }
   },
   "cell_type": "code",
   "source": [
    "data_cha = load_data(file_path='../data/data_2024.json', category='charts')\n",
    "data_eng = load_data(file_path='../data/data_2024.json', category='engagement')\n",
    "data_pla = load_data(file_path='../data/data_2024.json', category='playlists')\n",
    "data_pop = load_data(file_path='../data/data_2024.json', category='popularity')\n",
    "data_pro = load_data(file_path='../data/data_2024.json', category='professional_support')\n",
    "data_rea = load_data(file_path='../data/data_2024.json', category='reach')\n",
    "data_sho = load_data(file_path='../data/data_2024.json', category='shorts')\n",
    "data_str = load_data(file_path='../data/data_2024.json', category='streams')"
   ],
   "id": "de03ad78212ade95",
   "outputs": [],
   "execution_count": 305
  },
  {
   "metadata": {},
   "cell_type": "markdown",
   "source": [
    "### Charts\n",
    "#### Rescale statistics"
   ],
   "id": "33e8141b1ea845df"
  },
  {
   "metadata": {
    "ExecuteTime": {
     "end_time": "2024-12-17T17:41:39.006811Z",
     "start_time": "2024-12-17T17:41:38.982165Z"
    }
   },
   "cell_type": "code",
   "source": [
    "data_cha = rescale_stats(data_cha, general_field)\n",
    "data_cha"
   ],
   "id": "6b02e5b80fdfd079",
   "outputs": [
    {
     "data": {
      "text/plain": [
       "    songstats_id                songstats_title  \\\n",
       "0       qmr6e0bx                             16   \n",
       "1       cxsruom1  17 (Ekko & Sidetrack Bootleg)   \n",
       "2       847p1x5v             Never Let You Down   \n",
       "3       4owlyi76                           4 AM   \n",
       "4       a3ok10ce                             4D   \n",
       "..           ...                            ...   \n",
       "302     cqdneir6                Can You Feel It   \n",
       "303     nwqit015              Curse of the Moai   \n",
       "304     em4stqoh                       Himalaya   \n",
       "305     wx93mcy6                     Next To Me   \n",
       "306     0wpg1fj9             Hopelessly Falling   \n",
       "\n",
       "                                           artist_list  \\\n",
       "0                      [blasterjaxx, hardwell, maddix]   \n",
       "1                               [ekko & sidetrack, mk]   \n",
       "2    [cimone, deadline, duskee, emily makis, fricti...   \n",
       "3                                       [lexed, oshan]   \n",
       "4                            [bad computer, ryan coss]   \n",
       "..                                                 ...   \n",
       "302                                      [retrovision]   \n",
       "303                                      [exyl, nasko]   \n",
       "304                                  [matisse & sadko]   \n",
       "305                      [don diablo, gaby gerlis, mk]   \n",
       "306                   [enrem, jonah sky, rico 56, ubo]   \n",
       "\n",
       "                              genre                 label  \\\n",
       "0                     [hard techno]            [revealed]   \n",
       "1                     [drum & bass]         [[no labels]]   \n",
       "2                     [drum & bass]        [shogun audio]   \n",
       "3    [future house / future bounce]  [future house cloud]   \n",
       "4                   [electro house]          [monstercat]   \n",
       "..                              ...                   ...   \n",
       "302                    [bass house]               [stmpd]   \n",
       "303        [drumstep / moombahcore]         [[no labels]]   \n",
       "304             [progressive house]               [stmpd]   \n",
       "305  [future house / future bounce]             [hexagon]   \n",
       "306                 [melodic house]     [monstercat silk]   \n",
       "\n",
       "                           title  amazon_charts_total  \\\n",
       "0                             16                  0.0   \n",
       "1    17 ekko & sidetrack bootleg                  0.0   \n",
       "2             never let you down                  0.0   \n",
       "3                           4 am                  0.0   \n",
       "4                             4d                  0.0   \n",
       "..                           ...                  ...   \n",
       "302              can you feel it                  0.0   \n",
       "303            curse of the moai                  0.0   \n",
       "304                     himalaya                  0.0   \n",
       "305                   next to me                  0.0   \n",
       "306           hopelessly falling                  0.0   \n",
       "\n",
       "     apple_music_charts_total  soundcloud_charts_total  spotify_charts_total  \\\n",
       "0                    9.433962                      0.0                   0.0   \n",
       "1                    0.000000                      0.0                   0.0   \n",
       "2                    0.000000                      0.0                   0.0   \n",
       "3                    0.628931                      0.0                   0.0   \n",
       "4                    1.257862                      0.0                   0.0   \n",
       "..                        ...                      ...                   ...   \n",
       "302                  0.000000                      0.0                   0.0   \n",
       "303                  0.000000                      0.0                   0.0   \n",
       "304                  0.000000                      0.0                   0.0   \n",
       "305                  2.515723                      0.0                   0.0   \n",
       "306                  0.000000                      0.0                   0.0   \n",
       "\n",
       "     tidal_charts_total  tiktok_charts_total  traxsource_dj_charts_total  \\\n",
       "0                   0.0                  0.0                         0.0   \n",
       "1                   0.0                  0.0                         0.0   \n",
       "2                   0.0                  0.0                         0.0   \n",
       "3                   0.0                  0.0                         0.0   \n",
       "4                   0.0                  0.0                         0.0   \n",
       "..                  ...                  ...                         ...   \n",
       "302                 0.0                  0.0                         0.0   \n",
       "303                 0.0                  0.0                         0.0   \n",
       "304                 0.0                  0.0                         0.0   \n",
       "305                 0.0                  0.0                         0.0   \n",
       "306                 0.0                  0.0                         0.0   \n",
       "\n",
       "     youtube_charts_total  \n",
       "0                     0.0  \n",
       "1                     0.0  \n",
       "2                     0.0  \n",
       "3                     0.0  \n",
       "4                     0.0  \n",
       "..                    ...  \n",
       "302                   0.0  \n",
       "303                   0.0  \n",
       "304                   0.0  \n",
       "305                   0.0  \n",
       "306                   0.0  \n",
       "\n",
       "[307 rows x 14 columns]"
      ],
      "text/html": [
       "<div>\n",
       "<style scoped>\n",
       "    .dataframe tbody tr th:only-of-type {\n",
       "        vertical-align: middle;\n",
       "    }\n",
       "\n",
       "    .dataframe tbody tr th {\n",
       "        vertical-align: top;\n",
       "    }\n",
       "\n",
       "    .dataframe thead th {\n",
       "        text-align: right;\n",
       "    }\n",
       "</style>\n",
       "<table border=\"1\" class=\"dataframe\">\n",
       "  <thead>\n",
       "    <tr style=\"text-align: right;\">\n",
       "      <th></th>\n",
       "      <th>songstats_id</th>\n",
       "      <th>songstats_title</th>\n",
       "      <th>artist_list</th>\n",
       "      <th>genre</th>\n",
       "      <th>label</th>\n",
       "      <th>title</th>\n",
       "      <th>amazon_charts_total</th>\n",
       "      <th>apple_music_charts_total</th>\n",
       "      <th>soundcloud_charts_total</th>\n",
       "      <th>spotify_charts_total</th>\n",
       "      <th>tidal_charts_total</th>\n",
       "      <th>tiktok_charts_total</th>\n",
       "      <th>traxsource_dj_charts_total</th>\n",
       "      <th>youtube_charts_total</th>\n",
       "    </tr>\n",
       "  </thead>\n",
       "  <tbody>\n",
       "    <tr>\n",
       "      <th>0</th>\n",
       "      <td>qmr6e0bx</td>\n",
       "      <td>16</td>\n",
       "      <td>[blasterjaxx, hardwell, maddix]</td>\n",
       "      <td>[hard techno]</td>\n",
       "      <td>[revealed]</td>\n",
       "      <td>16</td>\n",
       "      <td>0.0</td>\n",
       "      <td>9.433962</td>\n",
       "      <td>0.0</td>\n",
       "      <td>0.0</td>\n",
       "      <td>0.0</td>\n",
       "      <td>0.0</td>\n",
       "      <td>0.0</td>\n",
       "      <td>0.0</td>\n",
       "    </tr>\n",
       "    <tr>\n",
       "      <th>1</th>\n",
       "      <td>cxsruom1</td>\n",
       "      <td>17 (Ekko &amp; Sidetrack Bootleg)</td>\n",
       "      <td>[ekko &amp; sidetrack, mk]</td>\n",
       "      <td>[drum &amp; bass]</td>\n",
       "      <td>[[no labels]]</td>\n",
       "      <td>17 ekko &amp; sidetrack bootleg</td>\n",
       "      <td>0.0</td>\n",
       "      <td>0.000000</td>\n",
       "      <td>0.0</td>\n",
       "      <td>0.0</td>\n",
       "      <td>0.0</td>\n",
       "      <td>0.0</td>\n",
       "      <td>0.0</td>\n",
       "      <td>0.0</td>\n",
       "    </tr>\n",
       "    <tr>\n",
       "      <th>2</th>\n",
       "      <td>847p1x5v</td>\n",
       "      <td>Never Let You Down</td>\n",
       "      <td>[cimone, deadline, duskee, emily makis, fricti...</td>\n",
       "      <td>[drum &amp; bass]</td>\n",
       "      <td>[shogun audio]</td>\n",
       "      <td>never let you down</td>\n",
       "      <td>0.0</td>\n",
       "      <td>0.000000</td>\n",
       "      <td>0.0</td>\n",
       "      <td>0.0</td>\n",
       "      <td>0.0</td>\n",
       "      <td>0.0</td>\n",
       "      <td>0.0</td>\n",
       "      <td>0.0</td>\n",
       "    </tr>\n",
       "    <tr>\n",
       "      <th>3</th>\n",
       "      <td>4owlyi76</td>\n",
       "      <td>4 AM</td>\n",
       "      <td>[lexed, oshan]</td>\n",
       "      <td>[future house / future bounce]</td>\n",
       "      <td>[future house cloud]</td>\n",
       "      <td>4 am</td>\n",
       "      <td>0.0</td>\n",
       "      <td>0.628931</td>\n",
       "      <td>0.0</td>\n",
       "      <td>0.0</td>\n",
       "      <td>0.0</td>\n",
       "      <td>0.0</td>\n",
       "      <td>0.0</td>\n",
       "      <td>0.0</td>\n",
       "    </tr>\n",
       "    <tr>\n",
       "      <th>4</th>\n",
       "      <td>a3ok10ce</td>\n",
       "      <td>4D</td>\n",
       "      <td>[bad computer, ryan coss]</td>\n",
       "      <td>[electro house]</td>\n",
       "      <td>[monstercat]</td>\n",
       "      <td>4d</td>\n",
       "      <td>0.0</td>\n",
       "      <td>1.257862</td>\n",
       "      <td>0.0</td>\n",
       "      <td>0.0</td>\n",
       "      <td>0.0</td>\n",
       "      <td>0.0</td>\n",
       "      <td>0.0</td>\n",
       "      <td>0.0</td>\n",
       "    </tr>\n",
       "    <tr>\n",
       "      <th>...</th>\n",
       "      <td>...</td>\n",
       "      <td>...</td>\n",
       "      <td>...</td>\n",
       "      <td>...</td>\n",
       "      <td>...</td>\n",
       "      <td>...</td>\n",
       "      <td>...</td>\n",
       "      <td>...</td>\n",
       "      <td>...</td>\n",
       "      <td>...</td>\n",
       "      <td>...</td>\n",
       "      <td>...</td>\n",
       "      <td>...</td>\n",
       "      <td>...</td>\n",
       "    </tr>\n",
       "    <tr>\n",
       "      <th>302</th>\n",
       "      <td>cqdneir6</td>\n",
       "      <td>Can You Feel It</td>\n",
       "      <td>[retrovision]</td>\n",
       "      <td>[bass house]</td>\n",
       "      <td>[stmpd]</td>\n",
       "      <td>can you feel it</td>\n",
       "      <td>0.0</td>\n",
       "      <td>0.000000</td>\n",
       "      <td>0.0</td>\n",
       "      <td>0.0</td>\n",
       "      <td>0.0</td>\n",
       "      <td>0.0</td>\n",
       "      <td>0.0</td>\n",
       "      <td>0.0</td>\n",
       "    </tr>\n",
       "    <tr>\n",
       "      <th>303</th>\n",
       "      <td>nwqit015</td>\n",
       "      <td>Curse of the Moai</td>\n",
       "      <td>[exyl, nasko]</td>\n",
       "      <td>[drumstep / moombahcore]</td>\n",
       "      <td>[[no labels]]</td>\n",
       "      <td>curse of the moai</td>\n",
       "      <td>0.0</td>\n",
       "      <td>0.000000</td>\n",
       "      <td>0.0</td>\n",
       "      <td>0.0</td>\n",
       "      <td>0.0</td>\n",
       "      <td>0.0</td>\n",
       "      <td>0.0</td>\n",
       "      <td>0.0</td>\n",
       "    </tr>\n",
       "    <tr>\n",
       "      <th>304</th>\n",
       "      <td>em4stqoh</td>\n",
       "      <td>Himalaya</td>\n",
       "      <td>[matisse &amp; sadko]</td>\n",
       "      <td>[progressive house]</td>\n",
       "      <td>[stmpd]</td>\n",
       "      <td>himalaya</td>\n",
       "      <td>0.0</td>\n",
       "      <td>0.000000</td>\n",
       "      <td>0.0</td>\n",
       "      <td>0.0</td>\n",
       "      <td>0.0</td>\n",
       "      <td>0.0</td>\n",
       "      <td>0.0</td>\n",
       "      <td>0.0</td>\n",
       "    </tr>\n",
       "    <tr>\n",
       "      <th>305</th>\n",
       "      <td>wx93mcy6</td>\n",
       "      <td>Next To Me</td>\n",
       "      <td>[don diablo, gaby gerlis, mk]</td>\n",
       "      <td>[future house / future bounce]</td>\n",
       "      <td>[hexagon]</td>\n",
       "      <td>next to me</td>\n",
       "      <td>0.0</td>\n",
       "      <td>2.515723</td>\n",
       "      <td>0.0</td>\n",
       "      <td>0.0</td>\n",
       "      <td>0.0</td>\n",
       "      <td>0.0</td>\n",
       "      <td>0.0</td>\n",
       "      <td>0.0</td>\n",
       "    </tr>\n",
       "    <tr>\n",
       "      <th>306</th>\n",
       "      <td>0wpg1fj9</td>\n",
       "      <td>Hopelessly Falling</td>\n",
       "      <td>[enrem, jonah sky, rico 56, ubo]</td>\n",
       "      <td>[melodic house]</td>\n",
       "      <td>[monstercat silk]</td>\n",
       "      <td>hopelessly falling</td>\n",
       "      <td>0.0</td>\n",
       "      <td>0.000000</td>\n",
       "      <td>0.0</td>\n",
       "      <td>0.0</td>\n",
       "      <td>0.0</td>\n",
       "      <td>0.0</td>\n",
       "      <td>0.0</td>\n",
       "      <td>0.0</td>\n",
       "    </tr>\n",
       "  </tbody>\n",
       "</table>\n",
       "<p>307 rows × 14 columns</p>\n",
       "</div>"
      ]
     },
     "execution_count": 306,
     "metadata": {},
     "output_type": "execute_result"
    }
   ],
   "execution_count": 306
  },
  {
   "metadata": {},
   "cell_type": "markdown",
   "source": "#### Weighting by recorded by stats",
   "id": "e6ce8f8c6713b0eb"
  },
  {
   "metadata": {
    "ExecuteTime": {
     "end_time": "2024-12-17T17:41:39.144257Z",
     "start_time": "2024-12-17T17:41:39.119783Z"
    }
   },
   "cell_type": "code",
   "source": [
    "pr_cha, w_cha = compute_power(data_cha, general_field)  # 'w_cha' is calculated for the final step of the Power Ranking\n",
    "pr_cha"
   ],
   "id": "17c871fdf5dcfd3c",
   "outputs": [
    {
     "data": {
      "text/plain": [
       "    songstats_id                songstats_title  \\\n",
       "0       qmr6e0bx                             16   \n",
       "1       cxsruom1  17 (Ekko & Sidetrack Bootleg)   \n",
       "2       847p1x5v             Never Let You Down   \n",
       "3       4owlyi76                           4 AM   \n",
       "4       a3ok10ce                             4D   \n",
       "..           ...                            ...   \n",
       "302     cqdneir6                Can You Feel It   \n",
       "303     nwqit015              Curse of the Moai   \n",
       "304     em4stqoh                       Himalaya   \n",
       "305     wx93mcy6                     Next To Me   \n",
       "306     0wpg1fj9             Hopelessly Falling   \n",
       "\n",
       "                                           artist_list  \\\n",
       "0                      [blasterjaxx, hardwell, maddix]   \n",
       "1                               [ekko & sidetrack, mk]   \n",
       "2    [cimone, deadline, duskee, emily makis, fricti...   \n",
       "3                                       [lexed, oshan]   \n",
       "4                            [bad computer, ryan coss]   \n",
       "..                                                 ...   \n",
       "302                                      [retrovision]   \n",
       "303                                      [exyl, nasko]   \n",
       "304                                  [matisse & sadko]   \n",
       "305                      [don diablo, gaby gerlis, mk]   \n",
       "306                   [enrem, jonah sky, rico 56, ubo]   \n",
       "\n",
       "                              genre                 label  \\\n",
       "0                     [hard techno]            [revealed]   \n",
       "1                     [drum & bass]         [[no labels]]   \n",
       "2                     [drum & bass]        [shogun audio]   \n",
       "3    [future house / future bounce]  [future house cloud]   \n",
       "4                   [electro house]          [monstercat]   \n",
       "..                              ...                   ...   \n",
       "302                    [bass house]               [stmpd]   \n",
       "303        [drumstep / moombahcore]         [[no labels]]   \n",
       "304             [progressive house]               [stmpd]   \n",
       "305  [future house / future bounce]             [hexagon]   \n",
       "306                 [melodic house]     [monstercat silk]   \n",
       "\n",
       "                           title  amazon_charts_total  \\\n",
       "0                             16                  0.0   \n",
       "1    17 ekko & sidetrack bootleg                  0.0   \n",
       "2             never let you down                  0.0   \n",
       "3                           4 am                  0.0   \n",
       "4                             4d                  0.0   \n",
       "..                           ...                  ...   \n",
       "302              can you feel it                  0.0   \n",
       "303            curse of the moai                  0.0   \n",
       "304                     himalaya                  0.0   \n",
       "305                   next to me                  0.0   \n",
       "306           hopelessly falling                  0.0   \n",
       "\n",
       "     apple_music_charts_total  soundcloud_charts_total  spotify_charts_total  \\\n",
       "0                    9.433962                      0.0                   0.0   \n",
       "1                    0.000000                      0.0                   0.0   \n",
       "2                    0.000000                      0.0                   0.0   \n",
       "3                    0.628931                      0.0                   0.0   \n",
       "4                    1.257862                      0.0                   0.0   \n",
       "..                        ...                      ...                   ...   \n",
       "302                  0.000000                      0.0                   0.0   \n",
       "303                  0.000000                      0.0                   0.0   \n",
       "304                  0.000000                      0.0                   0.0   \n",
       "305                  2.515723                      0.0                   0.0   \n",
       "306                  0.000000                      0.0                   0.0   \n",
       "\n",
       "     tidal_charts_total  tiktok_charts_total  traxsource_dj_charts_total  \\\n",
       "0                   0.0                  0.0                         0.0   \n",
       "1                   0.0                  0.0                         0.0   \n",
       "2                   0.0                  0.0                         0.0   \n",
       "3                   0.0                  0.0                         0.0   \n",
       "4                   0.0                  0.0                         0.0   \n",
       "..                  ...                  ...                         ...   \n",
       "302                 0.0                  0.0                         0.0   \n",
       "303                 0.0                  0.0                         0.0   \n",
       "304                 0.0                  0.0                         0.0   \n",
       "305                 0.0                  0.0                         0.0   \n",
       "306                 0.0                  0.0                         0.0   \n",
       "\n",
       "     youtube_charts_total       PWR  \n",
       "0                     0.0  6.728635  \n",
       "1                     0.0  0.000000  \n",
       "2                     0.0  0.000000  \n",
       "3                     0.0  0.448576  \n",
       "4                     0.0  0.897151  \n",
       "..                    ...       ...  \n",
       "302                   0.0  0.000000  \n",
       "303                   0.0  0.000000  \n",
       "304                   0.0  0.000000  \n",
       "305                   0.0  1.794303  \n",
       "306                   0.0  0.000000  \n",
       "\n",
       "[307 rows x 15 columns]"
      ],
      "text/html": [
       "<div>\n",
       "<style scoped>\n",
       "    .dataframe tbody tr th:only-of-type {\n",
       "        vertical-align: middle;\n",
       "    }\n",
       "\n",
       "    .dataframe tbody tr th {\n",
       "        vertical-align: top;\n",
       "    }\n",
       "\n",
       "    .dataframe thead th {\n",
       "        text-align: right;\n",
       "    }\n",
       "</style>\n",
       "<table border=\"1\" class=\"dataframe\">\n",
       "  <thead>\n",
       "    <tr style=\"text-align: right;\">\n",
       "      <th></th>\n",
       "      <th>songstats_id</th>\n",
       "      <th>songstats_title</th>\n",
       "      <th>artist_list</th>\n",
       "      <th>genre</th>\n",
       "      <th>label</th>\n",
       "      <th>title</th>\n",
       "      <th>amazon_charts_total</th>\n",
       "      <th>apple_music_charts_total</th>\n",
       "      <th>soundcloud_charts_total</th>\n",
       "      <th>spotify_charts_total</th>\n",
       "      <th>tidal_charts_total</th>\n",
       "      <th>tiktok_charts_total</th>\n",
       "      <th>traxsource_dj_charts_total</th>\n",
       "      <th>youtube_charts_total</th>\n",
       "      <th>PWR</th>\n",
       "    </tr>\n",
       "  </thead>\n",
       "  <tbody>\n",
       "    <tr>\n",
       "      <th>0</th>\n",
       "      <td>qmr6e0bx</td>\n",
       "      <td>16</td>\n",
       "      <td>[blasterjaxx, hardwell, maddix]</td>\n",
       "      <td>[hard techno]</td>\n",
       "      <td>[revealed]</td>\n",
       "      <td>16</td>\n",
       "      <td>0.0</td>\n",
       "      <td>9.433962</td>\n",
       "      <td>0.0</td>\n",
       "      <td>0.0</td>\n",
       "      <td>0.0</td>\n",
       "      <td>0.0</td>\n",
       "      <td>0.0</td>\n",
       "      <td>0.0</td>\n",
       "      <td>6.728635</td>\n",
       "    </tr>\n",
       "    <tr>\n",
       "      <th>1</th>\n",
       "      <td>cxsruom1</td>\n",
       "      <td>17 (Ekko &amp; Sidetrack Bootleg)</td>\n",
       "      <td>[ekko &amp; sidetrack, mk]</td>\n",
       "      <td>[drum &amp; bass]</td>\n",
       "      <td>[[no labels]]</td>\n",
       "      <td>17 ekko &amp; sidetrack bootleg</td>\n",
       "      <td>0.0</td>\n",
       "      <td>0.000000</td>\n",
       "      <td>0.0</td>\n",
       "      <td>0.0</td>\n",
       "      <td>0.0</td>\n",
       "      <td>0.0</td>\n",
       "      <td>0.0</td>\n",
       "      <td>0.0</td>\n",
       "      <td>0.000000</td>\n",
       "    </tr>\n",
       "    <tr>\n",
       "      <th>2</th>\n",
       "      <td>847p1x5v</td>\n",
       "      <td>Never Let You Down</td>\n",
       "      <td>[cimone, deadline, duskee, emily makis, fricti...</td>\n",
       "      <td>[drum &amp; bass]</td>\n",
       "      <td>[shogun audio]</td>\n",
       "      <td>never let you down</td>\n",
       "      <td>0.0</td>\n",
       "      <td>0.000000</td>\n",
       "      <td>0.0</td>\n",
       "      <td>0.0</td>\n",
       "      <td>0.0</td>\n",
       "      <td>0.0</td>\n",
       "      <td>0.0</td>\n",
       "      <td>0.0</td>\n",
       "      <td>0.000000</td>\n",
       "    </tr>\n",
       "    <tr>\n",
       "      <th>3</th>\n",
       "      <td>4owlyi76</td>\n",
       "      <td>4 AM</td>\n",
       "      <td>[lexed, oshan]</td>\n",
       "      <td>[future house / future bounce]</td>\n",
       "      <td>[future house cloud]</td>\n",
       "      <td>4 am</td>\n",
       "      <td>0.0</td>\n",
       "      <td>0.628931</td>\n",
       "      <td>0.0</td>\n",
       "      <td>0.0</td>\n",
       "      <td>0.0</td>\n",
       "      <td>0.0</td>\n",
       "      <td>0.0</td>\n",
       "      <td>0.0</td>\n",
       "      <td>0.448576</td>\n",
       "    </tr>\n",
       "    <tr>\n",
       "      <th>4</th>\n",
       "      <td>a3ok10ce</td>\n",
       "      <td>4D</td>\n",
       "      <td>[bad computer, ryan coss]</td>\n",
       "      <td>[electro house]</td>\n",
       "      <td>[monstercat]</td>\n",
       "      <td>4d</td>\n",
       "      <td>0.0</td>\n",
       "      <td>1.257862</td>\n",
       "      <td>0.0</td>\n",
       "      <td>0.0</td>\n",
       "      <td>0.0</td>\n",
       "      <td>0.0</td>\n",
       "      <td>0.0</td>\n",
       "      <td>0.0</td>\n",
       "      <td>0.897151</td>\n",
       "    </tr>\n",
       "    <tr>\n",
       "      <th>...</th>\n",
       "      <td>...</td>\n",
       "      <td>...</td>\n",
       "      <td>...</td>\n",
       "      <td>...</td>\n",
       "      <td>...</td>\n",
       "      <td>...</td>\n",
       "      <td>...</td>\n",
       "      <td>...</td>\n",
       "      <td>...</td>\n",
       "      <td>...</td>\n",
       "      <td>...</td>\n",
       "      <td>...</td>\n",
       "      <td>...</td>\n",
       "      <td>...</td>\n",
       "      <td>...</td>\n",
       "    </tr>\n",
       "    <tr>\n",
       "      <th>302</th>\n",
       "      <td>cqdneir6</td>\n",
       "      <td>Can You Feel It</td>\n",
       "      <td>[retrovision]</td>\n",
       "      <td>[bass house]</td>\n",
       "      <td>[stmpd]</td>\n",
       "      <td>can you feel it</td>\n",
       "      <td>0.0</td>\n",
       "      <td>0.000000</td>\n",
       "      <td>0.0</td>\n",
       "      <td>0.0</td>\n",
       "      <td>0.0</td>\n",
       "      <td>0.0</td>\n",
       "      <td>0.0</td>\n",
       "      <td>0.0</td>\n",
       "      <td>0.000000</td>\n",
       "    </tr>\n",
       "    <tr>\n",
       "      <th>303</th>\n",
       "      <td>nwqit015</td>\n",
       "      <td>Curse of the Moai</td>\n",
       "      <td>[exyl, nasko]</td>\n",
       "      <td>[drumstep / moombahcore]</td>\n",
       "      <td>[[no labels]]</td>\n",
       "      <td>curse of the moai</td>\n",
       "      <td>0.0</td>\n",
       "      <td>0.000000</td>\n",
       "      <td>0.0</td>\n",
       "      <td>0.0</td>\n",
       "      <td>0.0</td>\n",
       "      <td>0.0</td>\n",
       "      <td>0.0</td>\n",
       "      <td>0.0</td>\n",
       "      <td>0.000000</td>\n",
       "    </tr>\n",
       "    <tr>\n",
       "      <th>304</th>\n",
       "      <td>em4stqoh</td>\n",
       "      <td>Himalaya</td>\n",
       "      <td>[matisse &amp; sadko]</td>\n",
       "      <td>[progressive house]</td>\n",
       "      <td>[stmpd]</td>\n",
       "      <td>himalaya</td>\n",
       "      <td>0.0</td>\n",
       "      <td>0.000000</td>\n",
       "      <td>0.0</td>\n",
       "      <td>0.0</td>\n",
       "      <td>0.0</td>\n",
       "      <td>0.0</td>\n",
       "      <td>0.0</td>\n",
       "      <td>0.0</td>\n",
       "      <td>0.000000</td>\n",
       "    </tr>\n",
       "    <tr>\n",
       "      <th>305</th>\n",
       "      <td>wx93mcy6</td>\n",
       "      <td>Next To Me</td>\n",
       "      <td>[don diablo, gaby gerlis, mk]</td>\n",
       "      <td>[future house / future bounce]</td>\n",
       "      <td>[hexagon]</td>\n",
       "      <td>next to me</td>\n",
       "      <td>0.0</td>\n",
       "      <td>2.515723</td>\n",
       "      <td>0.0</td>\n",
       "      <td>0.0</td>\n",
       "      <td>0.0</td>\n",
       "      <td>0.0</td>\n",
       "      <td>0.0</td>\n",
       "      <td>0.0</td>\n",
       "      <td>1.794303</td>\n",
       "    </tr>\n",
       "    <tr>\n",
       "      <th>306</th>\n",
       "      <td>0wpg1fj9</td>\n",
       "      <td>Hopelessly Falling</td>\n",
       "      <td>[enrem, jonah sky, rico 56, ubo]</td>\n",
       "      <td>[melodic house]</td>\n",
       "      <td>[monstercat silk]</td>\n",
       "      <td>hopelessly falling</td>\n",
       "      <td>0.0</td>\n",
       "      <td>0.000000</td>\n",
       "      <td>0.0</td>\n",
       "      <td>0.0</td>\n",
       "      <td>0.0</td>\n",
       "      <td>0.0</td>\n",
       "      <td>0.0</td>\n",
       "      <td>0.0</td>\n",
       "      <td>0.000000</td>\n",
       "    </tr>\n",
       "  </tbody>\n",
       "</table>\n",
       "<p>307 rows × 15 columns</p>\n",
       "</div>"
      ]
     },
     "execution_count": 307,
     "metadata": {},
     "output_type": "execute_result"
    }
   ],
   "execution_count": 307
  },
  {
   "metadata": {},
   "cell_type": "markdown",
   "source": "#### Graphical Representation",
   "id": "424dbb03e5f2d577"
  },
  {
   "metadata": {
    "ExecuteTime": {
     "end_time": "2024-12-17T17:41:39.287867Z",
     "start_time": "2024-12-17T17:41:39.239685Z"
    }
   },
   "cell_type": "code",
   "source": [
    "bar_pr_cha = plot_bar(dataframe=pr_cha.sort_values('PWR', ascending=False).head(20),\n",
    "                      x='songstats_title',\n",
    "                      y='PWR',\n",
    "                      title='Charts Power Ranking (Top 20)',\n",
    "                      x_label='Track',\n",
    "                      y_label='Power',\n",
    "                      col_range=(pr_cha.PWR.min(), pr_cha.PWR.max()))\n",
    "bar_pr_cha.show()"
   ],
   "id": "495ae3910e9f9e5e",
   "outputs": [
    {
     "data": {
      "application/vnd.plotly.v1+json": {
       "data": [
        {
         "alignmentgroup": "True",
         "hovertemplate": "Track=%{x}<br>Power=%{marker.color}<extra></extra>",
         "legendgroup": "",
         "marker": {
          "color": [
           84.49850775561029,
           80.26150017934002,
           64.39321809890546,
           61.987606363300046,
           52.97820271401242,
           50.20973759959575,
           40.02859289136731,
           37.23177950425453,
           36.897804875228964,
           31.023152135048676,
           30.836485882894344,
           29.955706396686605,
           28.796927307508366,
           24.846517645254146,
           21.980207177210506,
           21.49314108984597,
           17.669307138409895,
           14.430414940941862,
           14.133827138770833,
           11.442373198704237
          ],
          "coloraxis": "coloraxis",
          "pattern": {
           "shape": ""
          }
         },
         "name": "",
         "offsetgroup": "",
         "orientation": "v",
         "showlegend": false,
         "textposition": "auto",
         "x": [
          "Neverender",
          "Shiver",
          "Go Back (feat. Julia Church)",
          "I Only Smoke When I Drink",
          "Carry You",
          "Told You So",
          "Gravity",
          "Dear Alan",
          "Wherever You Are",
          "Wildfire",
          "This Moment",
          "Empty",
          "Push The Tempo",
          "Breakaway",
          "Biochemical",
          "Mas Que Nada",
          "Eternity - Massano Remix",
          "Heaven Knows",
          "Delete Our Love",
          "Napalm"
         ],
         "xaxis": "x",
         "y": [
          84.49850775561029,
          80.26150017934002,
          64.39321809890546,
          61.987606363300046,
          52.97820271401242,
          50.20973759959575,
          40.02859289136731,
          37.23177950425453,
          36.897804875228964,
          31.023152135048676,
          30.836485882894344,
          29.955706396686605,
          28.796927307508366,
          24.846517645254146,
          21.980207177210506,
          21.49314108984597,
          17.669307138409895,
          14.430414940941862,
          14.133827138770833,
          11.442373198704237
         ],
         "yaxis": "y",
         "type": "bar"
        }
       ],
       "layout": {
        "template": {
         "data": {
          "histogram2dcontour": [
           {
            "type": "histogram2dcontour",
            "colorbar": {
             "outlinewidth": 0,
             "ticks": ""
            },
            "colorscale": [
             [
              0.0,
              "#0d0887"
             ],
             [
              0.1111111111111111,
              "#46039f"
             ],
             [
              0.2222222222222222,
              "#7201a8"
             ],
             [
              0.3333333333333333,
              "#9c179e"
             ],
             [
              0.4444444444444444,
              "#bd3786"
             ],
             [
              0.5555555555555556,
              "#d8576b"
             ],
             [
              0.6666666666666666,
              "#ed7953"
             ],
             [
              0.7777777777777778,
              "#fb9f3a"
             ],
             [
              0.8888888888888888,
              "#fdca26"
             ],
             [
              1.0,
              "#f0f921"
             ]
            ]
           }
          ],
          "choropleth": [
           {
            "type": "choropleth",
            "colorbar": {
             "outlinewidth": 0,
             "ticks": ""
            }
           }
          ],
          "histogram2d": [
           {
            "type": "histogram2d",
            "colorbar": {
             "outlinewidth": 0,
             "ticks": ""
            },
            "colorscale": [
             [
              0.0,
              "#0d0887"
             ],
             [
              0.1111111111111111,
              "#46039f"
             ],
             [
              0.2222222222222222,
              "#7201a8"
             ],
             [
              0.3333333333333333,
              "#9c179e"
             ],
             [
              0.4444444444444444,
              "#bd3786"
             ],
             [
              0.5555555555555556,
              "#d8576b"
             ],
             [
              0.6666666666666666,
              "#ed7953"
             ],
             [
              0.7777777777777778,
              "#fb9f3a"
             ],
             [
              0.8888888888888888,
              "#fdca26"
             ],
             [
              1.0,
              "#f0f921"
             ]
            ]
           }
          ],
          "heatmap": [
           {
            "type": "heatmap",
            "colorbar": {
             "outlinewidth": 0,
             "ticks": ""
            },
            "colorscale": [
             [
              0.0,
              "#0d0887"
             ],
             [
              0.1111111111111111,
              "#46039f"
             ],
             [
              0.2222222222222222,
              "#7201a8"
             ],
             [
              0.3333333333333333,
              "#9c179e"
             ],
             [
              0.4444444444444444,
              "#bd3786"
             ],
             [
              0.5555555555555556,
              "#d8576b"
             ],
             [
              0.6666666666666666,
              "#ed7953"
             ],
             [
              0.7777777777777778,
              "#fb9f3a"
             ],
             [
              0.8888888888888888,
              "#fdca26"
             ],
             [
              1.0,
              "#f0f921"
             ]
            ]
           }
          ],
          "heatmapgl": [
           {
            "type": "heatmapgl",
            "colorbar": {
             "outlinewidth": 0,
             "ticks": ""
            },
            "colorscale": [
             [
              0.0,
              "#0d0887"
             ],
             [
              0.1111111111111111,
              "#46039f"
             ],
             [
              0.2222222222222222,
              "#7201a8"
             ],
             [
              0.3333333333333333,
              "#9c179e"
             ],
             [
              0.4444444444444444,
              "#bd3786"
             ],
             [
              0.5555555555555556,
              "#d8576b"
             ],
             [
              0.6666666666666666,
              "#ed7953"
             ],
             [
              0.7777777777777778,
              "#fb9f3a"
             ],
             [
              0.8888888888888888,
              "#fdca26"
             ],
             [
              1.0,
              "#f0f921"
             ]
            ]
           }
          ],
          "contourcarpet": [
           {
            "type": "contourcarpet",
            "colorbar": {
             "outlinewidth": 0,
             "ticks": ""
            }
           }
          ],
          "contour": [
           {
            "type": "contour",
            "colorbar": {
             "outlinewidth": 0,
             "ticks": ""
            },
            "colorscale": [
             [
              0.0,
              "#0d0887"
             ],
             [
              0.1111111111111111,
              "#46039f"
             ],
             [
              0.2222222222222222,
              "#7201a8"
             ],
             [
              0.3333333333333333,
              "#9c179e"
             ],
             [
              0.4444444444444444,
              "#bd3786"
             ],
             [
              0.5555555555555556,
              "#d8576b"
             ],
             [
              0.6666666666666666,
              "#ed7953"
             ],
             [
              0.7777777777777778,
              "#fb9f3a"
             ],
             [
              0.8888888888888888,
              "#fdca26"
             ],
             [
              1.0,
              "#f0f921"
             ]
            ]
           }
          ],
          "surface": [
           {
            "type": "surface",
            "colorbar": {
             "outlinewidth": 0,
             "ticks": ""
            },
            "colorscale": [
             [
              0.0,
              "#0d0887"
             ],
             [
              0.1111111111111111,
              "#46039f"
             ],
             [
              0.2222222222222222,
              "#7201a8"
             ],
             [
              0.3333333333333333,
              "#9c179e"
             ],
             [
              0.4444444444444444,
              "#bd3786"
             ],
             [
              0.5555555555555556,
              "#d8576b"
             ],
             [
              0.6666666666666666,
              "#ed7953"
             ],
             [
              0.7777777777777778,
              "#fb9f3a"
             ],
             [
              0.8888888888888888,
              "#fdca26"
             ],
             [
              1.0,
              "#f0f921"
             ]
            ]
           }
          ],
          "mesh3d": [
           {
            "type": "mesh3d",
            "colorbar": {
             "outlinewidth": 0,
             "ticks": ""
            }
           }
          ],
          "scatter": [
           {
            "marker": {
             "line": {
              "color": "#283442"
             }
            },
            "type": "scatter"
           }
          ],
          "parcoords": [
           {
            "type": "parcoords",
            "line": {
             "colorbar": {
              "outlinewidth": 0,
              "ticks": ""
             }
            }
           }
          ],
          "scatterpolargl": [
           {
            "type": "scatterpolargl",
            "marker": {
             "colorbar": {
              "outlinewidth": 0,
              "ticks": ""
             }
            }
           }
          ],
          "bar": [
           {
            "error_x": {
             "color": "#f2f5fa"
            },
            "error_y": {
             "color": "#f2f5fa"
            },
            "marker": {
             "line": {
              "color": "rgb(17,17,17)",
              "width": 0.5
             },
             "pattern": {
              "fillmode": "overlay",
              "size": 10,
              "solidity": 0.2
             }
            },
            "type": "bar"
           }
          ],
          "scattergeo": [
           {
            "type": "scattergeo",
            "marker": {
             "colorbar": {
              "outlinewidth": 0,
              "ticks": ""
             }
            }
           }
          ],
          "scatterpolar": [
           {
            "type": "scatterpolar",
            "marker": {
             "colorbar": {
              "outlinewidth": 0,
              "ticks": ""
             }
            }
           }
          ],
          "histogram": [
           {
            "marker": {
             "pattern": {
              "fillmode": "overlay",
              "size": 10,
              "solidity": 0.2
             }
            },
            "type": "histogram"
           }
          ],
          "scattergl": [
           {
            "marker": {
             "line": {
              "color": "#283442"
             }
            },
            "type": "scattergl"
           }
          ],
          "scatter3d": [
           {
            "type": "scatter3d",
            "line": {
             "colorbar": {
              "outlinewidth": 0,
              "ticks": ""
             }
            },
            "marker": {
             "colorbar": {
              "outlinewidth": 0,
              "ticks": ""
             }
            }
           }
          ],
          "scattermapbox": [
           {
            "type": "scattermapbox",
            "marker": {
             "colorbar": {
              "outlinewidth": 0,
              "ticks": ""
             }
            }
           }
          ],
          "scatterternary": [
           {
            "type": "scatterternary",
            "marker": {
             "colorbar": {
              "outlinewidth": 0,
              "ticks": ""
             }
            }
           }
          ],
          "scattercarpet": [
           {
            "type": "scattercarpet",
            "marker": {
             "colorbar": {
              "outlinewidth": 0,
              "ticks": ""
             }
            }
           }
          ],
          "carpet": [
           {
            "aaxis": {
             "endlinecolor": "#A2B1C6",
             "gridcolor": "#506784",
             "linecolor": "#506784",
             "minorgridcolor": "#506784",
             "startlinecolor": "#A2B1C6"
            },
            "baxis": {
             "endlinecolor": "#A2B1C6",
             "gridcolor": "#506784",
             "linecolor": "#506784",
             "minorgridcolor": "#506784",
             "startlinecolor": "#A2B1C6"
            },
            "type": "carpet"
           }
          ],
          "table": [
           {
            "cells": {
             "fill": {
              "color": "#506784"
             },
             "line": {
              "color": "rgb(17,17,17)"
             }
            },
            "header": {
             "fill": {
              "color": "#2a3f5f"
             },
             "line": {
              "color": "rgb(17,17,17)"
             }
            },
            "type": "table"
           }
          ],
          "barpolar": [
           {
            "marker": {
             "line": {
              "color": "rgb(17,17,17)",
              "width": 0.5
             },
             "pattern": {
              "fillmode": "overlay",
              "size": 10,
              "solidity": 0.2
             }
            },
            "type": "barpolar"
           }
          ],
          "pie": [
           {
            "automargin": true,
            "type": "pie"
           }
          ]
         },
         "layout": {
          "autotypenumbers": "strict",
          "colorway": [
           "#636efa",
           "#EF553B",
           "#00cc96",
           "#ab63fa",
           "#FFA15A",
           "#19d3f3",
           "#FF6692",
           "#B6E880",
           "#FF97FF",
           "#FECB52"
          ],
          "font": {
           "color": "#f2f5fa"
          },
          "hovermode": "closest",
          "hoverlabel": {
           "align": "left"
          },
          "paper_bgcolor": "rgb(17,17,17)",
          "plot_bgcolor": "rgb(17,17,17)",
          "polar": {
           "bgcolor": "rgb(17,17,17)",
           "angularaxis": {
            "gridcolor": "#506784",
            "linecolor": "#506784",
            "ticks": ""
           },
           "radialaxis": {
            "gridcolor": "#506784",
            "linecolor": "#506784",
            "ticks": ""
           }
          },
          "ternary": {
           "bgcolor": "rgb(17,17,17)",
           "aaxis": {
            "gridcolor": "#506784",
            "linecolor": "#506784",
            "ticks": ""
           },
           "baxis": {
            "gridcolor": "#506784",
            "linecolor": "#506784",
            "ticks": ""
           },
           "caxis": {
            "gridcolor": "#506784",
            "linecolor": "#506784",
            "ticks": ""
           }
          },
          "coloraxis": {
           "colorbar": {
            "outlinewidth": 0,
            "ticks": ""
           }
          },
          "colorscale": {
           "sequential": [
            [
             0.0,
             "#0d0887"
            ],
            [
             0.1111111111111111,
             "#46039f"
            ],
            [
             0.2222222222222222,
             "#7201a8"
            ],
            [
             0.3333333333333333,
             "#9c179e"
            ],
            [
             0.4444444444444444,
             "#bd3786"
            ],
            [
             0.5555555555555556,
             "#d8576b"
            ],
            [
             0.6666666666666666,
             "#ed7953"
            ],
            [
             0.7777777777777778,
             "#fb9f3a"
            ],
            [
             0.8888888888888888,
             "#fdca26"
            ],
            [
             1.0,
             "#f0f921"
            ]
           ],
           "sequentialminus": [
            [
             0.0,
             "#0d0887"
            ],
            [
             0.1111111111111111,
             "#46039f"
            ],
            [
             0.2222222222222222,
             "#7201a8"
            ],
            [
             0.3333333333333333,
             "#9c179e"
            ],
            [
             0.4444444444444444,
             "#bd3786"
            ],
            [
             0.5555555555555556,
             "#d8576b"
            ],
            [
             0.6666666666666666,
             "#ed7953"
            ],
            [
             0.7777777777777778,
             "#fb9f3a"
            ],
            [
             0.8888888888888888,
             "#fdca26"
            ],
            [
             1.0,
             "#f0f921"
            ]
           ],
           "diverging": [
            [
             0,
             "#8e0152"
            ],
            [
             0.1,
             "#c51b7d"
            ],
            [
             0.2,
             "#de77ae"
            ],
            [
             0.3,
             "#f1b6da"
            ],
            [
             0.4,
             "#fde0ef"
            ],
            [
             0.5,
             "#f7f7f7"
            ],
            [
             0.6,
             "#e6f5d0"
            ],
            [
             0.7,
             "#b8e186"
            ],
            [
             0.8,
             "#7fbc41"
            ],
            [
             0.9,
             "#4d9221"
            ],
            [
             1,
             "#276419"
            ]
           ]
          },
          "xaxis": {
           "gridcolor": "#283442",
           "linecolor": "#506784",
           "ticks": "",
           "title": {
            "standoff": 15
           },
           "zerolinecolor": "#283442",
           "automargin": true,
           "zerolinewidth": 2
          },
          "yaxis": {
           "gridcolor": "#283442",
           "linecolor": "#506784",
           "ticks": "",
           "title": {
            "standoff": 15
           },
           "zerolinecolor": "#283442",
           "automargin": true,
           "zerolinewidth": 2
          },
          "scene": {
           "xaxis": {
            "backgroundcolor": "rgb(17,17,17)",
            "gridcolor": "#506784",
            "linecolor": "#506784",
            "showbackground": true,
            "ticks": "",
            "zerolinecolor": "#C8D4E3",
            "gridwidth": 2
           },
           "yaxis": {
            "backgroundcolor": "rgb(17,17,17)",
            "gridcolor": "#506784",
            "linecolor": "#506784",
            "showbackground": true,
            "ticks": "",
            "zerolinecolor": "#C8D4E3",
            "gridwidth": 2
           },
           "zaxis": {
            "backgroundcolor": "rgb(17,17,17)",
            "gridcolor": "#506784",
            "linecolor": "#506784",
            "showbackground": true,
            "ticks": "",
            "zerolinecolor": "#C8D4E3",
            "gridwidth": 2
           }
          },
          "shapedefaults": {
           "line": {
            "color": "#f2f5fa"
           }
          },
          "annotationdefaults": {
           "arrowcolor": "#f2f5fa",
           "arrowhead": 0,
           "arrowwidth": 1
          },
          "geo": {
           "bgcolor": "rgb(17,17,17)",
           "landcolor": "rgb(17,17,17)",
           "subunitcolor": "#506784",
           "showland": true,
           "showlakes": true,
           "lakecolor": "rgb(17,17,17)"
          },
          "title": {
           "x": 0.05
          },
          "updatemenudefaults": {
           "bgcolor": "#506784",
           "borderwidth": 0
          },
          "sliderdefaults": {
           "bgcolor": "#C8D4E3",
           "borderwidth": 1,
           "bordercolor": "rgb(17,17,17)",
           "tickwidth": 0
          },
          "mapbox": {
           "style": "dark"
          }
         }
        },
        "xaxis": {
         "anchor": "y",
         "domain": [
          0.0,
          1.0
         ],
         "title": {
          "text": "Track"
         },
         "categoryorder": "total descending"
        },
        "yaxis": {
         "anchor": "x",
         "domain": [
          0.0,
          1.0
         ],
         "title": {
          "text": "Power"
         }
        },
        "coloraxis": {
         "colorbar": {
          "title": {
           "text": "Power"
          }
         },
         "colorscale": [
          [
           0.0,
           "rgb(255,247,236)"
          ],
          [
           0.125,
           "rgb(254,232,200)"
          ],
          [
           0.25,
           "rgb(253,212,158)"
          ],
          [
           0.375,
           "rgb(253,187,132)"
          ],
          [
           0.5,
           "rgb(252,141,89)"
          ],
          [
           0.625,
           "rgb(239,101,72)"
          ],
          [
           0.75,
           "rgb(215,48,31)"
          ],
          [
           0.875,
           "rgb(179,0,0)"
          ],
          [
           1.0,
           "rgb(127,0,0)"
          ]
         ],
         "cmin": 0.0,
         "cmax": 84.49850775561029,
         "showscale": false
        },
        "legend": {
         "tracegroupgap": 0
        },
        "title": {
         "text": "Charts Power Ranking (Top 20)"
        },
        "barmode": "relative",
        "height": 540,
        "width": 960
       },
       "config": {
        "plotlyServerURL": "https://plot.ly"
       }
      },
      "text/html": [
       "<div>                            <div id=\"00e41189-c2d9-4835-b706-3565adda9e89\" class=\"plotly-graph-div\" style=\"height:540px; width:960px;\"></div>            <script type=\"text/javascript\">                require([\"plotly\"], function(Plotly) {                    window.PLOTLYENV=window.PLOTLYENV || {};                                    if (document.getElementById(\"00e41189-c2d9-4835-b706-3565adda9e89\")) {                    Plotly.newPlot(                        \"00e41189-c2d9-4835-b706-3565adda9e89\",                        [{\"alignmentgroup\":\"True\",\"hovertemplate\":\"Track=%{x}\\u003cbr\\u003ePower=%{marker.color}\\u003cextra\\u003e\\u003c\\u002fextra\\u003e\",\"legendgroup\":\"\",\"marker\":{\"color\":[84.49850775561029,80.26150017934002,64.39321809890546,61.987606363300046,52.97820271401242,50.20973759959575,40.02859289136731,37.23177950425453,36.897804875228964,31.023152135048676,30.836485882894344,29.955706396686605,28.796927307508366,24.846517645254146,21.980207177210506,21.49314108984597,17.669307138409895,14.430414940941862,14.133827138770833,11.442373198704237],\"coloraxis\":\"coloraxis\",\"pattern\":{\"shape\":\"\"}},\"name\":\"\",\"offsetgroup\":\"\",\"orientation\":\"v\",\"showlegend\":false,\"textposition\":\"auto\",\"x\":[\"Neverender\",\"Shiver\",\"Go Back (feat. Julia Church)\",\"I Only Smoke When I Drink\",\"Carry You\",\"Told You So\",\"Gravity\",\"Dear Alan\",\"Wherever You Are\",\"Wildfire\",\"This Moment\",\"Empty\",\"Push The Tempo\",\"Breakaway\",\"Biochemical\",\"Mas Que Nada\",\"Eternity - Massano Remix\",\"Heaven Knows\",\"Delete Our Love\",\"Napalm\"],\"xaxis\":\"x\",\"y\":[84.49850775561029,80.26150017934002,64.39321809890546,61.987606363300046,52.97820271401242,50.20973759959575,40.02859289136731,37.23177950425453,36.897804875228964,31.023152135048676,30.836485882894344,29.955706396686605,28.796927307508366,24.846517645254146,21.980207177210506,21.49314108984597,17.669307138409895,14.430414940941862,14.133827138770833,11.442373198704237],\"yaxis\":\"y\",\"type\":\"bar\"}],                        {\"template\":{\"data\":{\"histogram2dcontour\":[{\"type\":\"histogram2dcontour\",\"colorbar\":{\"outlinewidth\":0,\"ticks\":\"\"},\"colorscale\":[[0.0,\"#0d0887\"],[0.1111111111111111,\"#46039f\"],[0.2222222222222222,\"#7201a8\"],[0.3333333333333333,\"#9c179e\"],[0.4444444444444444,\"#bd3786\"],[0.5555555555555556,\"#d8576b\"],[0.6666666666666666,\"#ed7953\"],[0.7777777777777778,\"#fb9f3a\"],[0.8888888888888888,\"#fdca26\"],[1.0,\"#f0f921\"]]}],\"choropleth\":[{\"type\":\"choropleth\",\"colorbar\":{\"outlinewidth\":0,\"ticks\":\"\"}}],\"histogram2d\":[{\"type\":\"histogram2d\",\"colorbar\":{\"outlinewidth\":0,\"ticks\":\"\"},\"colorscale\":[[0.0,\"#0d0887\"],[0.1111111111111111,\"#46039f\"],[0.2222222222222222,\"#7201a8\"],[0.3333333333333333,\"#9c179e\"],[0.4444444444444444,\"#bd3786\"],[0.5555555555555556,\"#d8576b\"],[0.6666666666666666,\"#ed7953\"],[0.7777777777777778,\"#fb9f3a\"],[0.8888888888888888,\"#fdca26\"],[1.0,\"#f0f921\"]]}],\"heatmap\":[{\"type\":\"heatmap\",\"colorbar\":{\"outlinewidth\":0,\"ticks\":\"\"},\"colorscale\":[[0.0,\"#0d0887\"],[0.1111111111111111,\"#46039f\"],[0.2222222222222222,\"#7201a8\"],[0.3333333333333333,\"#9c179e\"],[0.4444444444444444,\"#bd3786\"],[0.5555555555555556,\"#d8576b\"],[0.6666666666666666,\"#ed7953\"],[0.7777777777777778,\"#fb9f3a\"],[0.8888888888888888,\"#fdca26\"],[1.0,\"#f0f921\"]]}],\"heatmapgl\":[{\"type\":\"heatmapgl\",\"colorbar\":{\"outlinewidth\":0,\"ticks\":\"\"},\"colorscale\":[[0.0,\"#0d0887\"],[0.1111111111111111,\"#46039f\"],[0.2222222222222222,\"#7201a8\"],[0.3333333333333333,\"#9c179e\"],[0.4444444444444444,\"#bd3786\"],[0.5555555555555556,\"#d8576b\"],[0.6666666666666666,\"#ed7953\"],[0.7777777777777778,\"#fb9f3a\"],[0.8888888888888888,\"#fdca26\"],[1.0,\"#f0f921\"]]}],\"contourcarpet\":[{\"type\":\"contourcarpet\",\"colorbar\":{\"outlinewidth\":0,\"ticks\":\"\"}}],\"contour\":[{\"type\":\"contour\",\"colorbar\":{\"outlinewidth\":0,\"ticks\":\"\"},\"colorscale\":[[0.0,\"#0d0887\"],[0.1111111111111111,\"#46039f\"],[0.2222222222222222,\"#7201a8\"],[0.3333333333333333,\"#9c179e\"],[0.4444444444444444,\"#bd3786\"],[0.5555555555555556,\"#d8576b\"],[0.6666666666666666,\"#ed7953\"],[0.7777777777777778,\"#fb9f3a\"],[0.8888888888888888,\"#fdca26\"],[1.0,\"#f0f921\"]]}],\"surface\":[{\"type\":\"surface\",\"colorbar\":{\"outlinewidth\":0,\"ticks\":\"\"},\"colorscale\":[[0.0,\"#0d0887\"],[0.1111111111111111,\"#46039f\"],[0.2222222222222222,\"#7201a8\"],[0.3333333333333333,\"#9c179e\"],[0.4444444444444444,\"#bd3786\"],[0.5555555555555556,\"#d8576b\"],[0.6666666666666666,\"#ed7953\"],[0.7777777777777778,\"#fb9f3a\"],[0.8888888888888888,\"#fdca26\"],[1.0,\"#f0f921\"]]}],\"mesh3d\":[{\"type\":\"mesh3d\",\"colorbar\":{\"outlinewidth\":0,\"ticks\":\"\"}}],\"scatter\":[{\"marker\":{\"line\":{\"color\":\"#283442\"}},\"type\":\"scatter\"}],\"parcoords\":[{\"type\":\"parcoords\",\"line\":{\"colorbar\":{\"outlinewidth\":0,\"ticks\":\"\"}}}],\"scatterpolargl\":[{\"type\":\"scatterpolargl\",\"marker\":{\"colorbar\":{\"outlinewidth\":0,\"ticks\":\"\"}}}],\"bar\":[{\"error_x\":{\"color\":\"#f2f5fa\"},\"error_y\":{\"color\":\"#f2f5fa\"},\"marker\":{\"line\":{\"color\":\"rgb(17,17,17)\",\"width\":0.5},\"pattern\":{\"fillmode\":\"overlay\",\"size\":10,\"solidity\":0.2}},\"type\":\"bar\"}],\"scattergeo\":[{\"type\":\"scattergeo\",\"marker\":{\"colorbar\":{\"outlinewidth\":0,\"ticks\":\"\"}}}],\"scatterpolar\":[{\"type\":\"scatterpolar\",\"marker\":{\"colorbar\":{\"outlinewidth\":0,\"ticks\":\"\"}}}],\"histogram\":[{\"marker\":{\"pattern\":{\"fillmode\":\"overlay\",\"size\":10,\"solidity\":0.2}},\"type\":\"histogram\"}],\"scattergl\":[{\"marker\":{\"line\":{\"color\":\"#283442\"}},\"type\":\"scattergl\"}],\"scatter3d\":[{\"type\":\"scatter3d\",\"line\":{\"colorbar\":{\"outlinewidth\":0,\"ticks\":\"\"}},\"marker\":{\"colorbar\":{\"outlinewidth\":0,\"ticks\":\"\"}}}],\"scattermapbox\":[{\"type\":\"scattermapbox\",\"marker\":{\"colorbar\":{\"outlinewidth\":0,\"ticks\":\"\"}}}],\"scatterternary\":[{\"type\":\"scatterternary\",\"marker\":{\"colorbar\":{\"outlinewidth\":0,\"ticks\":\"\"}}}],\"scattercarpet\":[{\"type\":\"scattercarpet\",\"marker\":{\"colorbar\":{\"outlinewidth\":0,\"ticks\":\"\"}}}],\"carpet\":[{\"aaxis\":{\"endlinecolor\":\"#A2B1C6\",\"gridcolor\":\"#506784\",\"linecolor\":\"#506784\",\"minorgridcolor\":\"#506784\",\"startlinecolor\":\"#A2B1C6\"},\"baxis\":{\"endlinecolor\":\"#A2B1C6\",\"gridcolor\":\"#506784\",\"linecolor\":\"#506784\",\"minorgridcolor\":\"#506784\",\"startlinecolor\":\"#A2B1C6\"},\"type\":\"carpet\"}],\"table\":[{\"cells\":{\"fill\":{\"color\":\"#506784\"},\"line\":{\"color\":\"rgb(17,17,17)\"}},\"header\":{\"fill\":{\"color\":\"#2a3f5f\"},\"line\":{\"color\":\"rgb(17,17,17)\"}},\"type\":\"table\"}],\"barpolar\":[{\"marker\":{\"line\":{\"color\":\"rgb(17,17,17)\",\"width\":0.5},\"pattern\":{\"fillmode\":\"overlay\",\"size\":10,\"solidity\":0.2}},\"type\":\"barpolar\"}],\"pie\":[{\"automargin\":true,\"type\":\"pie\"}]},\"layout\":{\"autotypenumbers\":\"strict\",\"colorway\":[\"#636efa\",\"#EF553B\",\"#00cc96\",\"#ab63fa\",\"#FFA15A\",\"#19d3f3\",\"#FF6692\",\"#B6E880\",\"#FF97FF\",\"#FECB52\"],\"font\":{\"color\":\"#f2f5fa\"},\"hovermode\":\"closest\",\"hoverlabel\":{\"align\":\"left\"},\"paper_bgcolor\":\"rgb(17,17,17)\",\"plot_bgcolor\":\"rgb(17,17,17)\",\"polar\":{\"bgcolor\":\"rgb(17,17,17)\",\"angularaxis\":{\"gridcolor\":\"#506784\",\"linecolor\":\"#506784\",\"ticks\":\"\"},\"radialaxis\":{\"gridcolor\":\"#506784\",\"linecolor\":\"#506784\",\"ticks\":\"\"}},\"ternary\":{\"bgcolor\":\"rgb(17,17,17)\",\"aaxis\":{\"gridcolor\":\"#506784\",\"linecolor\":\"#506784\",\"ticks\":\"\"},\"baxis\":{\"gridcolor\":\"#506784\",\"linecolor\":\"#506784\",\"ticks\":\"\"},\"caxis\":{\"gridcolor\":\"#506784\",\"linecolor\":\"#506784\",\"ticks\":\"\"}},\"coloraxis\":{\"colorbar\":{\"outlinewidth\":0,\"ticks\":\"\"}},\"colorscale\":{\"sequential\":[[0.0,\"#0d0887\"],[0.1111111111111111,\"#46039f\"],[0.2222222222222222,\"#7201a8\"],[0.3333333333333333,\"#9c179e\"],[0.4444444444444444,\"#bd3786\"],[0.5555555555555556,\"#d8576b\"],[0.6666666666666666,\"#ed7953\"],[0.7777777777777778,\"#fb9f3a\"],[0.8888888888888888,\"#fdca26\"],[1.0,\"#f0f921\"]],\"sequentialminus\":[[0.0,\"#0d0887\"],[0.1111111111111111,\"#46039f\"],[0.2222222222222222,\"#7201a8\"],[0.3333333333333333,\"#9c179e\"],[0.4444444444444444,\"#bd3786\"],[0.5555555555555556,\"#d8576b\"],[0.6666666666666666,\"#ed7953\"],[0.7777777777777778,\"#fb9f3a\"],[0.8888888888888888,\"#fdca26\"],[1.0,\"#f0f921\"]],\"diverging\":[[0,\"#8e0152\"],[0.1,\"#c51b7d\"],[0.2,\"#de77ae\"],[0.3,\"#f1b6da\"],[0.4,\"#fde0ef\"],[0.5,\"#f7f7f7\"],[0.6,\"#e6f5d0\"],[0.7,\"#b8e186\"],[0.8,\"#7fbc41\"],[0.9,\"#4d9221\"],[1,\"#276419\"]]},\"xaxis\":{\"gridcolor\":\"#283442\",\"linecolor\":\"#506784\",\"ticks\":\"\",\"title\":{\"standoff\":15},\"zerolinecolor\":\"#283442\",\"automargin\":true,\"zerolinewidth\":2},\"yaxis\":{\"gridcolor\":\"#283442\",\"linecolor\":\"#506784\",\"ticks\":\"\",\"title\":{\"standoff\":15},\"zerolinecolor\":\"#283442\",\"automargin\":true,\"zerolinewidth\":2},\"scene\":{\"xaxis\":{\"backgroundcolor\":\"rgb(17,17,17)\",\"gridcolor\":\"#506784\",\"linecolor\":\"#506784\",\"showbackground\":true,\"ticks\":\"\",\"zerolinecolor\":\"#C8D4E3\",\"gridwidth\":2},\"yaxis\":{\"backgroundcolor\":\"rgb(17,17,17)\",\"gridcolor\":\"#506784\",\"linecolor\":\"#506784\",\"showbackground\":true,\"ticks\":\"\",\"zerolinecolor\":\"#C8D4E3\",\"gridwidth\":2},\"zaxis\":{\"backgroundcolor\":\"rgb(17,17,17)\",\"gridcolor\":\"#506784\",\"linecolor\":\"#506784\",\"showbackground\":true,\"ticks\":\"\",\"zerolinecolor\":\"#C8D4E3\",\"gridwidth\":2}},\"shapedefaults\":{\"line\":{\"color\":\"#f2f5fa\"}},\"annotationdefaults\":{\"arrowcolor\":\"#f2f5fa\",\"arrowhead\":0,\"arrowwidth\":1},\"geo\":{\"bgcolor\":\"rgb(17,17,17)\",\"landcolor\":\"rgb(17,17,17)\",\"subunitcolor\":\"#506784\",\"showland\":true,\"showlakes\":true,\"lakecolor\":\"rgb(17,17,17)\"},\"title\":{\"x\":0.05},\"updatemenudefaults\":{\"bgcolor\":\"#506784\",\"borderwidth\":0},\"sliderdefaults\":{\"bgcolor\":\"#C8D4E3\",\"borderwidth\":1,\"bordercolor\":\"rgb(17,17,17)\",\"tickwidth\":0},\"mapbox\":{\"style\":\"dark\"}}},\"xaxis\":{\"anchor\":\"y\",\"domain\":[0.0,1.0],\"title\":{\"text\":\"Track\"},\"categoryorder\":\"total descending\"},\"yaxis\":{\"anchor\":\"x\",\"domain\":[0.0,1.0],\"title\":{\"text\":\"Power\"}},\"coloraxis\":{\"colorbar\":{\"title\":{\"text\":\"Power\"}},\"colorscale\":[[0.0,\"rgb(255,247,236)\"],[0.125,\"rgb(254,232,200)\"],[0.25,\"rgb(253,212,158)\"],[0.375,\"rgb(253,187,132)\"],[0.5,\"rgb(252,141,89)\"],[0.625,\"rgb(239,101,72)\"],[0.75,\"rgb(215,48,31)\"],[0.875,\"rgb(179,0,0)\"],[1.0,\"rgb(127,0,0)\"]],\"cmin\":0.0,\"cmax\":84.49850775561029,\"showscale\":false},\"legend\":{\"tracegroupgap\":0},\"title\":{\"text\":\"Charts Power Ranking (Top 20)\"},\"barmode\":\"relative\",\"height\":540,\"width\":960},                        {\"responsive\": true}                    ).then(function(){\n",
       "                            \n",
       "var gd = document.getElementById('00e41189-c2d9-4835-b706-3565adda9e89');\n",
       "var x = new MutationObserver(function (mutations, observer) {{\n",
       "        var display = window.getComputedStyle(gd).display;\n",
       "        if (!display || display === 'none') {{\n",
       "            console.log([gd, 'removed!']);\n",
       "            Plotly.purge(gd);\n",
       "            observer.disconnect();\n",
       "        }}\n",
       "}});\n",
       "\n",
       "// Listen for the removal of the full notebook cells\n",
       "var notebookContainer = gd.closest('#notebook-container');\n",
       "if (notebookContainer) {{\n",
       "    x.observe(notebookContainer, {childList: true});\n",
       "}}\n",
       "\n",
       "// Listen for the clearing of the current output cell\n",
       "var outputEl = gd.closest('.output');\n",
       "if (outputEl) {{\n",
       "    x.observe(outputEl, {childList: true});\n",
       "}}\n",
       "\n",
       "                        })                };                });            </script>        </div>"
      ]
     },
     "metadata": {},
     "output_type": "display_data"
    }
   ],
   "execution_count": 308
  },
  {
   "metadata": {},
   "cell_type": "markdown",
   "source": [
    "### Engagement\n",
    "#### Rescale statistics"
   ],
   "id": "8d3e46aa55125324"
  },
  {
   "metadata": {
    "ExecuteTime": {
     "end_time": "2024-12-17T17:41:39.399811Z",
     "start_time": "2024-12-17T17:41:39.377661Z"
    }
   },
   "cell_type": "code",
   "source": [
    "data_eng = rescale_stats(data_eng, general_field)\n",
    "data_eng"
   ],
   "id": "208e9085f8a916b3",
   "outputs": [
    {
     "data": {
      "text/plain": [
       "    songstats_id                songstats_title  \\\n",
       "0       qmr6e0bx                             16   \n",
       "1       cxsruom1  17 (Ekko & Sidetrack Bootleg)   \n",
       "2       847p1x5v             Never Let You Down   \n",
       "3       4owlyi76                           4 AM   \n",
       "4       a3ok10ce                             4D   \n",
       "..           ...                            ...   \n",
       "302     cqdneir6                Can You Feel It   \n",
       "303     nwqit015              Curse of the Moai   \n",
       "304     em4stqoh                       Himalaya   \n",
       "305     wx93mcy6                     Next To Me   \n",
       "306     0wpg1fj9             Hopelessly Falling   \n",
       "\n",
       "                                           artist_list  \\\n",
       "0                      [blasterjaxx, hardwell, maddix]   \n",
       "1                               [ekko & sidetrack, mk]   \n",
       "2    [cimone, deadline, duskee, emily makis, fricti...   \n",
       "3                                       [lexed, oshan]   \n",
       "4                            [bad computer, ryan coss]   \n",
       "..                                                 ...   \n",
       "302                                      [retrovision]   \n",
       "303                                      [exyl, nasko]   \n",
       "304                                  [matisse & sadko]   \n",
       "305                      [don diablo, gaby gerlis, mk]   \n",
       "306                   [enrem, jonah sky, rico 56, ubo]   \n",
       "\n",
       "                              genre                 label  \\\n",
       "0                     [hard techno]            [revealed]   \n",
       "1                     [drum & bass]         [[no labels]]   \n",
       "2                     [drum & bass]        [shogun audio]   \n",
       "3    [future house / future bounce]  [future house cloud]   \n",
       "4                   [electro house]          [monstercat]   \n",
       "..                              ...                   ...   \n",
       "302                    [bass house]               [stmpd]   \n",
       "303        [drumstep / moombahcore]         [[no labels]]   \n",
       "304             [progressive house]               [stmpd]   \n",
       "305  [future house / future bounce]             [hexagon]   \n",
       "306                 [melodic house]     [monstercat silk]   \n",
       "\n",
       "                           title  soundcloud_engagement_rate_total  \\\n",
       "0                             16                         27.522936   \n",
       "1    17 ekko & sidetrack bootleg                         35.779817   \n",
       "2             never let you down                         51.376147   \n",
       "3                           4 am                         29.357798   \n",
       "4                             4d                         33.027523   \n",
       "..                           ...                               ...   \n",
       "302              can you feel it                          0.000000   \n",
       "303            curse of the moai                          0.000000   \n",
       "304                     himalaya                        100.000000   \n",
       "305                   next to me                          0.000000   \n",
       "306           hopelessly falling                         33.027523   \n",
       "\n",
       "     tiktok_engagement_rate_total  youtube_engagement_rate_total  \n",
       "0                       22.983871                      25.641026  \n",
       "1                        0.000000                      18.803419  \n",
       "2                       48.387097                      27.350427  \n",
       "3                        0.000000                      17.948718  \n",
       "4                       18.548387                      15.384615  \n",
       "..                            ...                            ...  \n",
       "302                      0.000000                      88.888889  \n",
       "303                      0.000000                       0.000000  \n",
       "304                     39.919355                      70.940171  \n",
       "305                     49.596774                      35.042735  \n",
       "306                      0.000000                     100.000000  \n",
       "\n",
       "[307 rows x 9 columns]"
      ],
      "text/html": [
       "<div>\n",
       "<style scoped>\n",
       "    .dataframe tbody tr th:only-of-type {\n",
       "        vertical-align: middle;\n",
       "    }\n",
       "\n",
       "    .dataframe tbody tr th {\n",
       "        vertical-align: top;\n",
       "    }\n",
       "\n",
       "    .dataframe thead th {\n",
       "        text-align: right;\n",
       "    }\n",
       "</style>\n",
       "<table border=\"1\" class=\"dataframe\">\n",
       "  <thead>\n",
       "    <tr style=\"text-align: right;\">\n",
       "      <th></th>\n",
       "      <th>songstats_id</th>\n",
       "      <th>songstats_title</th>\n",
       "      <th>artist_list</th>\n",
       "      <th>genre</th>\n",
       "      <th>label</th>\n",
       "      <th>title</th>\n",
       "      <th>soundcloud_engagement_rate_total</th>\n",
       "      <th>tiktok_engagement_rate_total</th>\n",
       "      <th>youtube_engagement_rate_total</th>\n",
       "    </tr>\n",
       "  </thead>\n",
       "  <tbody>\n",
       "    <tr>\n",
       "      <th>0</th>\n",
       "      <td>qmr6e0bx</td>\n",
       "      <td>16</td>\n",
       "      <td>[blasterjaxx, hardwell, maddix]</td>\n",
       "      <td>[hard techno]</td>\n",
       "      <td>[revealed]</td>\n",
       "      <td>16</td>\n",
       "      <td>27.522936</td>\n",
       "      <td>22.983871</td>\n",
       "      <td>25.641026</td>\n",
       "    </tr>\n",
       "    <tr>\n",
       "      <th>1</th>\n",
       "      <td>cxsruom1</td>\n",
       "      <td>17 (Ekko &amp; Sidetrack Bootleg)</td>\n",
       "      <td>[ekko &amp; sidetrack, mk]</td>\n",
       "      <td>[drum &amp; bass]</td>\n",
       "      <td>[[no labels]]</td>\n",
       "      <td>17 ekko &amp; sidetrack bootleg</td>\n",
       "      <td>35.779817</td>\n",
       "      <td>0.000000</td>\n",
       "      <td>18.803419</td>\n",
       "    </tr>\n",
       "    <tr>\n",
       "      <th>2</th>\n",
       "      <td>847p1x5v</td>\n",
       "      <td>Never Let You Down</td>\n",
       "      <td>[cimone, deadline, duskee, emily makis, fricti...</td>\n",
       "      <td>[drum &amp; bass]</td>\n",
       "      <td>[shogun audio]</td>\n",
       "      <td>never let you down</td>\n",
       "      <td>51.376147</td>\n",
       "      <td>48.387097</td>\n",
       "      <td>27.350427</td>\n",
       "    </tr>\n",
       "    <tr>\n",
       "      <th>3</th>\n",
       "      <td>4owlyi76</td>\n",
       "      <td>4 AM</td>\n",
       "      <td>[lexed, oshan]</td>\n",
       "      <td>[future house / future bounce]</td>\n",
       "      <td>[future house cloud]</td>\n",
       "      <td>4 am</td>\n",
       "      <td>29.357798</td>\n",
       "      <td>0.000000</td>\n",
       "      <td>17.948718</td>\n",
       "    </tr>\n",
       "    <tr>\n",
       "      <th>4</th>\n",
       "      <td>a3ok10ce</td>\n",
       "      <td>4D</td>\n",
       "      <td>[bad computer, ryan coss]</td>\n",
       "      <td>[electro house]</td>\n",
       "      <td>[monstercat]</td>\n",
       "      <td>4d</td>\n",
       "      <td>33.027523</td>\n",
       "      <td>18.548387</td>\n",
       "      <td>15.384615</td>\n",
       "    </tr>\n",
       "    <tr>\n",
       "      <th>...</th>\n",
       "      <td>...</td>\n",
       "      <td>...</td>\n",
       "      <td>...</td>\n",
       "      <td>...</td>\n",
       "      <td>...</td>\n",
       "      <td>...</td>\n",
       "      <td>...</td>\n",
       "      <td>...</td>\n",
       "      <td>...</td>\n",
       "    </tr>\n",
       "    <tr>\n",
       "      <th>302</th>\n",
       "      <td>cqdneir6</td>\n",
       "      <td>Can You Feel It</td>\n",
       "      <td>[retrovision]</td>\n",
       "      <td>[bass house]</td>\n",
       "      <td>[stmpd]</td>\n",
       "      <td>can you feel it</td>\n",
       "      <td>0.000000</td>\n",
       "      <td>0.000000</td>\n",
       "      <td>88.888889</td>\n",
       "    </tr>\n",
       "    <tr>\n",
       "      <th>303</th>\n",
       "      <td>nwqit015</td>\n",
       "      <td>Curse of the Moai</td>\n",
       "      <td>[exyl, nasko]</td>\n",
       "      <td>[drumstep / moombahcore]</td>\n",
       "      <td>[[no labels]]</td>\n",
       "      <td>curse of the moai</td>\n",
       "      <td>0.000000</td>\n",
       "      <td>0.000000</td>\n",
       "      <td>0.000000</td>\n",
       "    </tr>\n",
       "    <tr>\n",
       "      <th>304</th>\n",
       "      <td>em4stqoh</td>\n",
       "      <td>Himalaya</td>\n",
       "      <td>[matisse &amp; sadko]</td>\n",
       "      <td>[progressive house]</td>\n",
       "      <td>[stmpd]</td>\n",
       "      <td>himalaya</td>\n",
       "      <td>100.000000</td>\n",
       "      <td>39.919355</td>\n",
       "      <td>70.940171</td>\n",
       "    </tr>\n",
       "    <tr>\n",
       "      <th>305</th>\n",
       "      <td>wx93mcy6</td>\n",
       "      <td>Next To Me</td>\n",
       "      <td>[don diablo, gaby gerlis, mk]</td>\n",
       "      <td>[future house / future bounce]</td>\n",
       "      <td>[hexagon]</td>\n",
       "      <td>next to me</td>\n",
       "      <td>0.000000</td>\n",
       "      <td>49.596774</td>\n",
       "      <td>35.042735</td>\n",
       "    </tr>\n",
       "    <tr>\n",
       "      <th>306</th>\n",
       "      <td>0wpg1fj9</td>\n",
       "      <td>Hopelessly Falling</td>\n",
       "      <td>[enrem, jonah sky, rico 56, ubo]</td>\n",
       "      <td>[melodic house]</td>\n",
       "      <td>[monstercat silk]</td>\n",
       "      <td>hopelessly falling</td>\n",
       "      <td>33.027523</td>\n",
       "      <td>0.000000</td>\n",
       "      <td>100.000000</td>\n",
       "    </tr>\n",
       "  </tbody>\n",
       "</table>\n",
       "<p>307 rows × 9 columns</p>\n",
       "</div>"
      ]
     },
     "execution_count": 309,
     "metadata": {},
     "output_type": "execute_result"
    }
   ],
   "execution_count": 309
  },
  {
   "metadata": {},
   "cell_type": "markdown",
   "source": "#### Weighting by recorded by stats",
   "id": "f082b54e7a3c4e9d"
  },
  {
   "metadata": {
    "ExecuteTime": {
     "end_time": "2024-12-17T17:41:39.494551Z",
     "start_time": "2024-12-17T17:41:39.473984Z"
    }
   },
   "cell_type": "code",
   "source": [
    "pr_eng, w_eng = compute_power(data_eng, general_field)  # 'w_eng' is calculated for the final step of the Power Ranking\n",
    "pr_eng"
   ],
   "id": "2f9ccb565f11aee",
   "outputs": [
    {
     "data": {
      "text/plain": [
       "    songstats_id                songstats_title  \\\n",
       "0       qmr6e0bx                             16   \n",
       "1       cxsruom1  17 (Ekko & Sidetrack Bootleg)   \n",
       "2       847p1x5v             Never Let You Down   \n",
       "3       4owlyi76                           4 AM   \n",
       "4       a3ok10ce                             4D   \n",
       "..           ...                            ...   \n",
       "302     cqdneir6                Can You Feel It   \n",
       "303     nwqit015              Curse of the Moai   \n",
       "304     em4stqoh                       Himalaya   \n",
       "305     wx93mcy6                     Next To Me   \n",
       "306     0wpg1fj9             Hopelessly Falling   \n",
       "\n",
       "                                           artist_list  \\\n",
       "0                      [blasterjaxx, hardwell, maddix]   \n",
       "1                               [ekko & sidetrack, mk]   \n",
       "2    [cimone, deadline, duskee, emily makis, fricti...   \n",
       "3                                       [lexed, oshan]   \n",
       "4                            [bad computer, ryan coss]   \n",
       "..                                                 ...   \n",
       "302                                      [retrovision]   \n",
       "303                                      [exyl, nasko]   \n",
       "304                                  [matisse & sadko]   \n",
       "305                      [don diablo, gaby gerlis, mk]   \n",
       "306                   [enrem, jonah sky, rico 56, ubo]   \n",
       "\n",
       "                              genre                 label  \\\n",
       "0                     [hard techno]            [revealed]   \n",
       "1                     [drum & bass]         [[no labels]]   \n",
       "2                     [drum & bass]        [shogun audio]   \n",
       "3    [future house / future bounce]  [future house cloud]   \n",
       "4                   [electro house]          [monstercat]   \n",
       "..                              ...                   ...   \n",
       "302                    [bass house]               [stmpd]   \n",
       "303        [drumstep / moombahcore]         [[no labels]]   \n",
       "304             [progressive house]               [stmpd]   \n",
       "305  [future house / future bounce]             [hexagon]   \n",
       "306                 [melodic house]     [monstercat silk]   \n",
       "\n",
       "                           title  soundcloud_engagement_rate_total  \\\n",
       "0                             16                         27.522936   \n",
       "1    17 ekko & sidetrack bootleg                         35.779817   \n",
       "2             never let you down                         51.376147   \n",
       "3                           4 am                         29.357798   \n",
       "4                             4d                         33.027523   \n",
       "..                           ...                               ...   \n",
       "302              can you feel it                          0.000000   \n",
       "303            curse of the moai                          0.000000   \n",
       "304                     himalaya                        100.000000   \n",
       "305                   next to me                          0.000000   \n",
       "306           hopelessly falling                         33.027523   \n",
       "\n",
       "     tiktok_engagement_rate_total  youtube_engagement_rate_total        PWR  \n",
       "0                       22.983871                      25.641026  25.544699  \n",
       "1                        0.000000                      18.803419  19.380532  \n",
       "2                       48.387097                      27.350427  41.503941  \n",
       "3                        0.000000                      17.948718  16.849796  \n",
       "4                       18.548387                      15.384615  22.339668  \n",
       "..                            ...                            ...        ...  \n",
       "302                      0.000000                      88.888889  33.429237  \n",
       "303                      0.000000                       0.000000   0.000000  \n",
       "304                     39.919355                      70.940171  72.254557  \n",
       "305                     49.596774                      35.042735  27.061038  \n",
       "306                      0.000000                     100.000000  48.970011  \n",
       "\n",
       "[307 rows x 10 columns]"
      ],
      "text/html": [
       "<div>\n",
       "<style scoped>\n",
       "    .dataframe tbody tr th:only-of-type {\n",
       "        vertical-align: middle;\n",
       "    }\n",
       "\n",
       "    .dataframe tbody tr th {\n",
       "        vertical-align: top;\n",
       "    }\n",
       "\n",
       "    .dataframe thead th {\n",
       "        text-align: right;\n",
       "    }\n",
       "</style>\n",
       "<table border=\"1\" class=\"dataframe\">\n",
       "  <thead>\n",
       "    <tr style=\"text-align: right;\">\n",
       "      <th></th>\n",
       "      <th>songstats_id</th>\n",
       "      <th>songstats_title</th>\n",
       "      <th>artist_list</th>\n",
       "      <th>genre</th>\n",
       "      <th>label</th>\n",
       "      <th>title</th>\n",
       "      <th>soundcloud_engagement_rate_total</th>\n",
       "      <th>tiktok_engagement_rate_total</th>\n",
       "      <th>youtube_engagement_rate_total</th>\n",
       "      <th>PWR</th>\n",
       "    </tr>\n",
       "  </thead>\n",
       "  <tbody>\n",
       "    <tr>\n",
       "      <th>0</th>\n",
       "      <td>qmr6e0bx</td>\n",
       "      <td>16</td>\n",
       "      <td>[blasterjaxx, hardwell, maddix]</td>\n",
       "      <td>[hard techno]</td>\n",
       "      <td>[revealed]</td>\n",
       "      <td>16</td>\n",
       "      <td>27.522936</td>\n",
       "      <td>22.983871</td>\n",
       "      <td>25.641026</td>\n",
       "      <td>25.544699</td>\n",
       "    </tr>\n",
       "    <tr>\n",
       "      <th>1</th>\n",
       "      <td>cxsruom1</td>\n",
       "      <td>17 (Ekko &amp; Sidetrack Bootleg)</td>\n",
       "      <td>[ekko &amp; sidetrack, mk]</td>\n",
       "      <td>[drum &amp; bass]</td>\n",
       "      <td>[[no labels]]</td>\n",
       "      <td>17 ekko &amp; sidetrack bootleg</td>\n",
       "      <td>35.779817</td>\n",
       "      <td>0.000000</td>\n",
       "      <td>18.803419</td>\n",
       "      <td>19.380532</td>\n",
       "    </tr>\n",
       "    <tr>\n",
       "      <th>2</th>\n",
       "      <td>847p1x5v</td>\n",
       "      <td>Never Let You Down</td>\n",
       "      <td>[cimone, deadline, duskee, emily makis, fricti...</td>\n",
       "      <td>[drum &amp; bass]</td>\n",
       "      <td>[shogun audio]</td>\n",
       "      <td>never let you down</td>\n",
       "      <td>51.376147</td>\n",
       "      <td>48.387097</td>\n",
       "      <td>27.350427</td>\n",
       "      <td>41.503941</td>\n",
       "    </tr>\n",
       "    <tr>\n",
       "      <th>3</th>\n",
       "      <td>4owlyi76</td>\n",
       "      <td>4 AM</td>\n",
       "      <td>[lexed, oshan]</td>\n",
       "      <td>[future house / future bounce]</td>\n",
       "      <td>[future house cloud]</td>\n",
       "      <td>4 am</td>\n",
       "      <td>29.357798</td>\n",
       "      <td>0.000000</td>\n",
       "      <td>17.948718</td>\n",
       "      <td>16.849796</td>\n",
       "    </tr>\n",
       "    <tr>\n",
       "      <th>4</th>\n",
       "      <td>a3ok10ce</td>\n",
       "      <td>4D</td>\n",
       "      <td>[bad computer, ryan coss]</td>\n",
       "      <td>[electro house]</td>\n",
       "      <td>[monstercat]</td>\n",
       "      <td>4d</td>\n",
       "      <td>33.027523</td>\n",
       "      <td>18.548387</td>\n",
       "      <td>15.384615</td>\n",
       "      <td>22.339668</td>\n",
       "    </tr>\n",
       "    <tr>\n",
       "      <th>...</th>\n",
       "      <td>...</td>\n",
       "      <td>...</td>\n",
       "      <td>...</td>\n",
       "      <td>...</td>\n",
       "      <td>...</td>\n",
       "      <td>...</td>\n",
       "      <td>...</td>\n",
       "      <td>...</td>\n",
       "      <td>...</td>\n",
       "      <td>...</td>\n",
       "    </tr>\n",
       "    <tr>\n",
       "      <th>302</th>\n",
       "      <td>cqdneir6</td>\n",
       "      <td>Can You Feel It</td>\n",
       "      <td>[retrovision]</td>\n",
       "      <td>[bass house]</td>\n",
       "      <td>[stmpd]</td>\n",
       "      <td>can you feel it</td>\n",
       "      <td>0.000000</td>\n",
       "      <td>0.000000</td>\n",
       "      <td>88.888889</td>\n",
       "      <td>33.429237</td>\n",
       "    </tr>\n",
       "    <tr>\n",
       "      <th>303</th>\n",
       "      <td>nwqit015</td>\n",
       "      <td>Curse of the Moai</td>\n",
       "      <td>[exyl, nasko]</td>\n",
       "      <td>[drumstep / moombahcore]</td>\n",
       "      <td>[[no labels]]</td>\n",
       "      <td>curse of the moai</td>\n",
       "      <td>0.000000</td>\n",
       "      <td>0.000000</td>\n",
       "      <td>0.000000</td>\n",
       "      <td>0.000000</td>\n",
       "    </tr>\n",
       "    <tr>\n",
       "      <th>304</th>\n",
       "      <td>em4stqoh</td>\n",
       "      <td>Himalaya</td>\n",
       "      <td>[matisse &amp; sadko]</td>\n",
       "      <td>[progressive house]</td>\n",
       "      <td>[stmpd]</td>\n",
       "      <td>himalaya</td>\n",
       "      <td>100.000000</td>\n",
       "      <td>39.919355</td>\n",
       "      <td>70.940171</td>\n",
       "      <td>72.254557</td>\n",
       "    </tr>\n",
       "    <tr>\n",
       "      <th>305</th>\n",
       "      <td>wx93mcy6</td>\n",
       "      <td>Next To Me</td>\n",
       "      <td>[don diablo, gaby gerlis, mk]</td>\n",
       "      <td>[future house / future bounce]</td>\n",
       "      <td>[hexagon]</td>\n",
       "      <td>next to me</td>\n",
       "      <td>0.000000</td>\n",
       "      <td>49.596774</td>\n",
       "      <td>35.042735</td>\n",
       "      <td>27.061038</td>\n",
       "    </tr>\n",
       "    <tr>\n",
       "      <th>306</th>\n",
       "      <td>0wpg1fj9</td>\n",
       "      <td>Hopelessly Falling</td>\n",
       "      <td>[enrem, jonah sky, rico 56, ubo]</td>\n",
       "      <td>[melodic house]</td>\n",
       "      <td>[monstercat silk]</td>\n",
       "      <td>hopelessly falling</td>\n",
       "      <td>33.027523</td>\n",
       "      <td>0.000000</td>\n",
       "      <td>100.000000</td>\n",
       "      <td>48.970011</td>\n",
       "    </tr>\n",
       "  </tbody>\n",
       "</table>\n",
       "<p>307 rows × 10 columns</p>\n",
       "</div>"
      ]
     },
     "execution_count": 310,
     "metadata": {},
     "output_type": "execute_result"
    }
   ],
   "execution_count": 310
  },
  {
   "metadata": {},
   "cell_type": "markdown",
   "source": "#### Graphical Representation",
   "id": "a40ecdb64aeffff9"
  },
  {
   "metadata": {
    "ExecuteTime": {
     "end_time": "2024-12-17T17:41:39.676825Z",
     "start_time": "2024-12-17T17:41:39.625279Z"
    }
   },
   "cell_type": "code",
   "source": [
    "bar_pr_eng = plot_bar(dataframe=pr_eng.sort_values('PWR', ascending=False).head(20),\n",
    "                      x='songstats_title',\n",
    "                      y='PWR',\n",
    "                      title='Engagement Power Ranking (Top 20)',\n",
    "                      x_label='Track',\n",
    "                      y_label='Power',\n",
    "                      col_range=(pr_eng.PWR.min(), pr_eng.PWR.max()))\n",
    "bar_pr_eng.show()"
   ],
   "id": "bc37e4707c20d1dd",
   "outputs": [
    {
     "data": {
      "application/vnd.plotly.v1+json": {
       "data": [
        {
         "alignmentgroup": "True",
         "hovertemplate": "Track=%{x}<br>Power=%{marker.color}<extra></extra>",
         "legendgroup": "",
         "marker": {
          "color": [
           72.25455694838377,
           48.9700109729748,
           48.05428146642414,
           46.01510852117978,
           45.388553566900164,
           43.806449113083914,
           43.80507456334106,
           43.12728138337025,
           42.67168783212061,
           42.66236914354285,
           41.55111793806619,
           41.503941139026786,
           41.46059586279498,
           40.77751629792523,
           40.77567886055448,
           40.64893026306617,
           40.58359905258626,
           39.91414958487732,
           39.72814735540029,
           39.36954507807831
          ],
          "coloraxis": "coloraxis",
          "pattern": {
           "shape": ""
          }
         },
         "name": "",
         "offsetgroup": "",
         "orientation": "v",
         "showlegend": false,
         "textposition": "auto",
         "x": [
          "Himalaya",
          "Hopelessly Falling",
          "Second Chance",
          "Mantarave",
          "Terminal",
          "In The Echo",
          "Limerence",
          "EYEZ ON ME",
          "Wassup",
          "So High",
          "Decimate",
          "Never Let You Down",
          "Rhyme Dust (RetroVision Flip)",
          "Freefalling",
          "Soul",
          "PLAY - VIP",
          "Melodic Riddim Vol. 2 - Sample Pack Demo",
          "Wish You Were Dead",
          "Owe Me Love",
          "Intuition"
         ],
         "xaxis": "x",
         "y": [
          72.25455694838377,
          48.9700109729748,
          48.05428146642414,
          46.01510852117978,
          45.388553566900164,
          43.806449113083914,
          43.80507456334106,
          43.12728138337025,
          42.67168783212061,
          42.66236914354285,
          41.55111793806619,
          41.503941139026786,
          41.46059586279498,
          40.77751629792523,
          40.77567886055448,
          40.64893026306617,
          40.58359905258626,
          39.91414958487732,
          39.72814735540029,
          39.36954507807831
         ],
         "yaxis": "y",
         "type": "bar"
        }
       ],
       "layout": {
        "template": {
         "data": {
          "histogram2dcontour": [
           {
            "type": "histogram2dcontour",
            "colorbar": {
             "outlinewidth": 0,
             "ticks": ""
            },
            "colorscale": [
             [
              0.0,
              "#0d0887"
             ],
             [
              0.1111111111111111,
              "#46039f"
             ],
             [
              0.2222222222222222,
              "#7201a8"
             ],
             [
              0.3333333333333333,
              "#9c179e"
             ],
             [
              0.4444444444444444,
              "#bd3786"
             ],
             [
              0.5555555555555556,
              "#d8576b"
             ],
             [
              0.6666666666666666,
              "#ed7953"
             ],
             [
              0.7777777777777778,
              "#fb9f3a"
             ],
             [
              0.8888888888888888,
              "#fdca26"
             ],
             [
              1.0,
              "#f0f921"
             ]
            ]
           }
          ],
          "choropleth": [
           {
            "type": "choropleth",
            "colorbar": {
             "outlinewidth": 0,
             "ticks": ""
            }
           }
          ],
          "histogram2d": [
           {
            "type": "histogram2d",
            "colorbar": {
             "outlinewidth": 0,
             "ticks": ""
            },
            "colorscale": [
             [
              0.0,
              "#0d0887"
             ],
             [
              0.1111111111111111,
              "#46039f"
             ],
             [
              0.2222222222222222,
              "#7201a8"
             ],
             [
              0.3333333333333333,
              "#9c179e"
             ],
             [
              0.4444444444444444,
              "#bd3786"
             ],
             [
              0.5555555555555556,
              "#d8576b"
             ],
             [
              0.6666666666666666,
              "#ed7953"
             ],
             [
              0.7777777777777778,
              "#fb9f3a"
             ],
             [
              0.8888888888888888,
              "#fdca26"
             ],
             [
              1.0,
              "#f0f921"
             ]
            ]
           }
          ],
          "heatmap": [
           {
            "type": "heatmap",
            "colorbar": {
             "outlinewidth": 0,
             "ticks": ""
            },
            "colorscale": [
             [
              0.0,
              "#0d0887"
             ],
             [
              0.1111111111111111,
              "#46039f"
             ],
             [
              0.2222222222222222,
              "#7201a8"
             ],
             [
              0.3333333333333333,
              "#9c179e"
             ],
             [
              0.4444444444444444,
              "#bd3786"
             ],
             [
              0.5555555555555556,
              "#d8576b"
             ],
             [
              0.6666666666666666,
              "#ed7953"
             ],
             [
              0.7777777777777778,
              "#fb9f3a"
             ],
             [
              0.8888888888888888,
              "#fdca26"
             ],
             [
              1.0,
              "#f0f921"
             ]
            ]
           }
          ],
          "heatmapgl": [
           {
            "type": "heatmapgl",
            "colorbar": {
             "outlinewidth": 0,
             "ticks": ""
            },
            "colorscale": [
             [
              0.0,
              "#0d0887"
             ],
             [
              0.1111111111111111,
              "#46039f"
             ],
             [
              0.2222222222222222,
              "#7201a8"
             ],
             [
              0.3333333333333333,
              "#9c179e"
             ],
             [
              0.4444444444444444,
              "#bd3786"
             ],
             [
              0.5555555555555556,
              "#d8576b"
             ],
             [
              0.6666666666666666,
              "#ed7953"
             ],
             [
              0.7777777777777778,
              "#fb9f3a"
             ],
             [
              0.8888888888888888,
              "#fdca26"
             ],
             [
              1.0,
              "#f0f921"
             ]
            ]
           }
          ],
          "contourcarpet": [
           {
            "type": "contourcarpet",
            "colorbar": {
             "outlinewidth": 0,
             "ticks": ""
            }
           }
          ],
          "contour": [
           {
            "type": "contour",
            "colorbar": {
             "outlinewidth": 0,
             "ticks": ""
            },
            "colorscale": [
             [
              0.0,
              "#0d0887"
             ],
             [
              0.1111111111111111,
              "#46039f"
             ],
             [
              0.2222222222222222,
              "#7201a8"
             ],
             [
              0.3333333333333333,
              "#9c179e"
             ],
             [
              0.4444444444444444,
              "#bd3786"
             ],
             [
              0.5555555555555556,
              "#d8576b"
             ],
             [
              0.6666666666666666,
              "#ed7953"
             ],
             [
              0.7777777777777778,
              "#fb9f3a"
             ],
             [
              0.8888888888888888,
              "#fdca26"
             ],
             [
              1.0,
              "#f0f921"
             ]
            ]
           }
          ],
          "surface": [
           {
            "type": "surface",
            "colorbar": {
             "outlinewidth": 0,
             "ticks": ""
            },
            "colorscale": [
             [
              0.0,
              "#0d0887"
             ],
             [
              0.1111111111111111,
              "#46039f"
             ],
             [
              0.2222222222222222,
              "#7201a8"
             ],
             [
              0.3333333333333333,
              "#9c179e"
             ],
             [
              0.4444444444444444,
              "#bd3786"
             ],
             [
              0.5555555555555556,
              "#d8576b"
             ],
             [
              0.6666666666666666,
              "#ed7953"
             ],
             [
              0.7777777777777778,
              "#fb9f3a"
             ],
             [
              0.8888888888888888,
              "#fdca26"
             ],
             [
              1.0,
              "#f0f921"
             ]
            ]
           }
          ],
          "mesh3d": [
           {
            "type": "mesh3d",
            "colorbar": {
             "outlinewidth": 0,
             "ticks": ""
            }
           }
          ],
          "scatter": [
           {
            "marker": {
             "line": {
              "color": "#283442"
             }
            },
            "type": "scatter"
           }
          ],
          "parcoords": [
           {
            "type": "parcoords",
            "line": {
             "colorbar": {
              "outlinewidth": 0,
              "ticks": ""
             }
            }
           }
          ],
          "scatterpolargl": [
           {
            "type": "scatterpolargl",
            "marker": {
             "colorbar": {
              "outlinewidth": 0,
              "ticks": ""
             }
            }
           }
          ],
          "bar": [
           {
            "error_x": {
             "color": "#f2f5fa"
            },
            "error_y": {
             "color": "#f2f5fa"
            },
            "marker": {
             "line": {
              "color": "rgb(17,17,17)",
              "width": 0.5
             },
             "pattern": {
              "fillmode": "overlay",
              "size": 10,
              "solidity": 0.2
             }
            },
            "type": "bar"
           }
          ],
          "scattergeo": [
           {
            "type": "scattergeo",
            "marker": {
             "colorbar": {
              "outlinewidth": 0,
              "ticks": ""
             }
            }
           }
          ],
          "scatterpolar": [
           {
            "type": "scatterpolar",
            "marker": {
             "colorbar": {
              "outlinewidth": 0,
              "ticks": ""
             }
            }
           }
          ],
          "histogram": [
           {
            "marker": {
             "pattern": {
              "fillmode": "overlay",
              "size": 10,
              "solidity": 0.2
             }
            },
            "type": "histogram"
           }
          ],
          "scattergl": [
           {
            "marker": {
             "line": {
              "color": "#283442"
             }
            },
            "type": "scattergl"
           }
          ],
          "scatter3d": [
           {
            "type": "scatter3d",
            "line": {
             "colorbar": {
              "outlinewidth": 0,
              "ticks": ""
             }
            },
            "marker": {
             "colorbar": {
              "outlinewidth": 0,
              "ticks": ""
             }
            }
           }
          ],
          "scattermapbox": [
           {
            "type": "scattermapbox",
            "marker": {
             "colorbar": {
              "outlinewidth": 0,
              "ticks": ""
             }
            }
           }
          ],
          "scatterternary": [
           {
            "type": "scatterternary",
            "marker": {
             "colorbar": {
              "outlinewidth": 0,
              "ticks": ""
             }
            }
           }
          ],
          "scattercarpet": [
           {
            "type": "scattercarpet",
            "marker": {
             "colorbar": {
              "outlinewidth": 0,
              "ticks": ""
             }
            }
           }
          ],
          "carpet": [
           {
            "aaxis": {
             "endlinecolor": "#A2B1C6",
             "gridcolor": "#506784",
             "linecolor": "#506784",
             "minorgridcolor": "#506784",
             "startlinecolor": "#A2B1C6"
            },
            "baxis": {
             "endlinecolor": "#A2B1C6",
             "gridcolor": "#506784",
             "linecolor": "#506784",
             "minorgridcolor": "#506784",
             "startlinecolor": "#A2B1C6"
            },
            "type": "carpet"
           }
          ],
          "table": [
           {
            "cells": {
             "fill": {
              "color": "#506784"
             },
             "line": {
              "color": "rgb(17,17,17)"
             }
            },
            "header": {
             "fill": {
              "color": "#2a3f5f"
             },
             "line": {
              "color": "rgb(17,17,17)"
             }
            },
            "type": "table"
           }
          ],
          "barpolar": [
           {
            "marker": {
             "line": {
              "color": "rgb(17,17,17)",
              "width": 0.5
             },
             "pattern": {
              "fillmode": "overlay",
              "size": 10,
              "solidity": 0.2
             }
            },
            "type": "barpolar"
           }
          ],
          "pie": [
           {
            "automargin": true,
            "type": "pie"
           }
          ]
         },
         "layout": {
          "autotypenumbers": "strict",
          "colorway": [
           "#636efa",
           "#EF553B",
           "#00cc96",
           "#ab63fa",
           "#FFA15A",
           "#19d3f3",
           "#FF6692",
           "#B6E880",
           "#FF97FF",
           "#FECB52"
          ],
          "font": {
           "color": "#f2f5fa"
          },
          "hovermode": "closest",
          "hoverlabel": {
           "align": "left"
          },
          "paper_bgcolor": "rgb(17,17,17)",
          "plot_bgcolor": "rgb(17,17,17)",
          "polar": {
           "bgcolor": "rgb(17,17,17)",
           "angularaxis": {
            "gridcolor": "#506784",
            "linecolor": "#506784",
            "ticks": ""
           },
           "radialaxis": {
            "gridcolor": "#506784",
            "linecolor": "#506784",
            "ticks": ""
           }
          },
          "ternary": {
           "bgcolor": "rgb(17,17,17)",
           "aaxis": {
            "gridcolor": "#506784",
            "linecolor": "#506784",
            "ticks": ""
           },
           "baxis": {
            "gridcolor": "#506784",
            "linecolor": "#506784",
            "ticks": ""
           },
           "caxis": {
            "gridcolor": "#506784",
            "linecolor": "#506784",
            "ticks": ""
           }
          },
          "coloraxis": {
           "colorbar": {
            "outlinewidth": 0,
            "ticks": ""
           }
          },
          "colorscale": {
           "sequential": [
            [
             0.0,
             "#0d0887"
            ],
            [
             0.1111111111111111,
             "#46039f"
            ],
            [
             0.2222222222222222,
             "#7201a8"
            ],
            [
             0.3333333333333333,
             "#9c179e"
            ],
            [
             0.4444444444444444,
             "#bd3786"
            ],
            [
             0.5555555555555556,
             "#d8576b"
            ],
            [
             0.6666666666666666,
             "#ed7953"
            ],
            [
             0.7777777777777778,
             "#fb9f3a"
            ],
            [
             0.8888888888888888,
             "#fdca26"
            ],
            [
             1.0,
             "#f0f921"
            ]
           ],
           "sequentialminus": [
            [
             0.0,
             "#0d0887"
            ],
            [
             0.1111111111111111,
             "#46039f"
            ],
            [
             0.2222222222222222,
             "#7201a8"
            ],
            [
             0.3333333333333333,
             "#9c179e"
            ],
            [
             0.4444444444444444,
             "#bd3786"
            ],
            [
             0.5555555555555556,
             "#d8576b"
            ],
            [
             0.6666666666666666,
             "#ed7953"
            ],
            [
             0.7777777777777778,
             "#fb9f3a"
            ],
            [
             0.8888888888888888,
             "#fdca26"
            ],
            [
             1.0,
             "#f0f921"
            ]
           ],
           "diverging": [
            [
             0,
             "#8e0152"
            ],
            [
             0.1,
             "#c51b7d"
            ],
            [
             0.2,
             "#de77ae"
            ],
            [
             0.3,
             "#f1b6da"
            ],
            [
             0.4,
             "#fde0ef"
            ],
            [
             0.5,
             "#f7f7f7"
            ],
            [
             0.6,
             "#e6f5d0"
            ],
            [
             0.7,
             "#b8e186"
            ],
            [
             0.8,
             "#7fbc41"
            ],
            [
             0.9,
             "#4d9221"
            ],
            [
             1,
             "#276419"
            ]
           ]
          },
          "xaxis": {
           "gridcolor": "#283442",
           "linecolor": "#506784",
           "ticks": "",
           "title": {
            "standoff": 15
           },
           "zerolinecolor": "#283442",
           "automargin": true,
           "zerolinewidth": 2
          },
          "yaxis": {
           "gridcolor": "#283442",
           "linecolor": "#506784",
           "ticks": "",
           "title": {
            "standoff": 15
           },
           "zerolinecolor": "#283442",
           "automargin": true,
           "zerolinewidth": 2
          },
          "scene": {
           "xaxis": {
            "backgroundcolor": "rgb(17,17,17)",
            "gridcolor": "#506784",
            "linecolor": "#506784",
            "showbackground": true,
            "ticks": "",
            "zerolinecolor": "#C8D4E3",
            "gridwidth": 2
           },
           "yaxis": {
            "backgroundcolor": "rgb(17,17,17)",
            "gridcolor": "#506784",
            "linecolor": "#506784",
            "showbackground": true,
            "ticks": "",
            "zerolinecolor": "#C8D4E3",
            "gridwidth": 2
           },
           "zaxis": {
            "backgroundcolor": "rgb(17,17,17)",
            "gridcolor": "#506784",
            "linecolor": "#506784",
            "showbackground": true,
            "ticks": "",
            "zerolinecolor": "#C8D4E3",
            "gridwidth": 2
           }
          },
          "shapedefaults": {
           "line": {
            "color": "#f2f5fa"
           }
          },
          "annotationdefaults": {
           "arrowcolor": "#f2f5fa",
           "arrowhead": 0,
           "arrowwidth": 1
          },
          "geo": {
           "bgcolor": "rgb(17,17,17)",
           "landcolor": "rgb(17,17,17)",
           "subunitcolor": "#506784",
           "showland": true,
           "showlakes": true,
           "lakecolor": "rgb(17,17,17)"
          },
          "title": {
           "x": 0.05
          },
          "updatemenudefaults": {
           "bgcolor": "#506784",
           "borderwidth": 0
          },
          "sliderdefaults": {
           "bgcolor": "#C8D4E3",
           "borderwidth": 1,
           "bordercolor": "rgb(17,17,17)",
           "tickwidth": 0
          },
          "mapbox": {
           "style": "dark"
          }
         }
        },
        "xaxis": {
         "anchor": "y",
         "domain": [
          0.0,
          1.0
         ],
         "title": {
          "text": "Track"
         },
         "categoryorder": "total descending"
        },
        "yaxis": {
         "anchor": "x",
         "domain": [
          0.0,
          1.0
         ],
         "title": {
          "text": "Power"
         }
        },
        "coloraxis": {
         "colorbar": {
          "title": {
           "text": "Power"
          }
         },
         "colorscale": [
          [
           0.0,
           "rgb(255,247,236)"
          ],
          [
           0.125,
           "rgb(254,232,200)"
          ],
          [
           0.25,
           "rgb(253,212,158)"
          ],
          [
           0.375,
           "rgb(253,187,132)"
          ],
          [
           0.5,
           "rgb(252,141,89)"
          ],
          [
           0.625,
           "rgb(239,101,72)"
          ],
          [
           0.75,
           "rgb(215,48,31)"
          ],
          [
           0.875,
           "rgb(179,0,0)"
          ],
          [
           1.0,
           "rgb(127,0,0)"
          ]
         ],
         "cmin": 0.0,
         "cmax": 72.25455694838377,
         "showscale": false
        },
        "legend": {
         "tracegroupgap": 0
        },
        "title": {
         "text": "Engagement Power Ranking (Top 20)"
        },
        "barmode": "relative",
        "height": 540,
        "width": 960
       },
       "config": {
        "plotlyServerURL": "https://plot.ly"
       }
      },
      "text/html": [
       "<div>                            <div id=\"bddcd16b-8d8d-4145-8d7c-8632c48596cd\" class=\"plotly-graph-div\" style=\"height:540px; width:960px;\"></div>            <script type=\"text/javascript\">                require([\"plotly\"], function(Plotly) {                    window.PLOTLYENV=window.PLOTLYENV || {};                                    if (document.getElementById(\"bddcd16b-8d8d-4145-8d7c-8632c48596cd\")) {                    Plotly.newPlot(                        \"bddcd16b-8d8d-4145-8d7c-8632c48596cd\",                        [{\"alignmentgroup\":\"True\",\"hovertemplate\":\"Track=%{x}\\u003cbr\\u003ePower=%{marker.color}\\u003cextra\\u003e\\u003c\\u002fextra\\u003e\",\"legendgroup\":\"\",\"marker\":{\"color\":[72.25455694838377,48.9700109729748,48.05428146642414,46.01510852117978,45.388553566900164,43.806449113083914,43.80507456334106,43.12728138337025,42.67168783212061,42.66236914354285,41.55111793806619,41.503941139026786,41.46059586279498,40.77751629792523,40.77567886055448,40.64893026306617,40.58359905258626,39.91414958487732,39.72814735540029,39.36954507807831],\"coloraxis\":\"coloraxis\",\"pattern\":{\"shape\":\"\"}},\"name\":\"\",\"offsetgroup\":\"\",\"orientation\":\"v\",\"showlegend\":false,\"textposition\":\"auto\",\"x\":[\"Himalaya\",\"Hopelessly Falling\",\"Second Chance\",\"Mantarave\",\"Terminal\",\"In The Echo\",\"Limerence\",\"EYEZ ON ME\",\"Wassup\",\"So High\",\"Decimate\",\"Never Let You Down\",\"Rhyme Dust (RetroVision Flip)\",\"Freefalling\",\"Soul\",\"PLAY - VIP\",\"Melodic Riddim Vol. 2 - Sample Pack Demo\",\"Wish You Were Dead\",\"Owe Me Love\",\"Intuition\"],\"xaxis\":\"x\",\"y\":[72.25455694838377,48.9700109729748,48.05428146642414,46.01510852117978,45.388553566900164,43.806449113083914,43.80507456334106,43.12728138337025,42.67168783212061,42.66236914354285,41.55111793806619,41.503941139026786,41.46059586279498,40.77751629792523,40.77567886055448,40.64893026306617,40.58359905258626,39.91414958487732,39.72814735540029,39.36954507807831],\"yaxis\":\"y\",\"type\":\"bar\"}],                        {\"template\":{\"data\":{\"histogram2dcontour\":[{\"type\":\"histogram2dcontour\",\"colorbar\":{\"outlinewidth\":0,\"ticks\":\"\"},\"colorscale\":[[0.0,\"#0d0887\"],[0.1111111111111111,\"#46039f\"],[0.2222222222222222,\"#7201a8\"],[0.3333333333333333,\"#9c179e\"],[0.4444444444444444,\"#bd3786\"],[0.5555555555555556,\"#d8576b\"],[0.6666666666666666,\"#ed7953\"],[0.7777777777777778,\"#fb9f3a\"],[0.8888888888888888,\"#fdca26\"],[1.0,\"#f0f921\"]]}],\"choropleth\":[{\"type\":\"choropleth\",\"colorbar\":{\"outlinewidth\":0,\"ticks\":\"\"}}],\"histogram2d\":[{\"type\":\"histogram2d\",\"colorbar\":{\"outlinewidth\":0,\"ticks\":\"\"},\"colorscale\":[[0.0,\"#0d0887\"],[0.1111111111111111,\"#46039f\"],[0.2222222222222222,\"#7201a8\"],[0.3333333333333333,\"#9c179e\"],[0.4444444444444444,\"#bd3786\"],[0.5555555555555556,\"#d8576b\"],[0.6666666666666666,\"#ed7953\"],[0.7777777777777778,\"#fb9f3a\"],[0.8888888888888888,\"#fdca26\"],[1.0,\"#f0f921\"]]}],\"heatmap\":[{\"type\":\"heatmap\",\"colorbar\":{\"outlinewidth\":0,\"ticks\":\"\"},\"colorscale\":[[0.0,\"#0d0887\"],[0.1111111111111111,\"#46039f\"],[0.2222222222222222,\"#7201a8\"],[0.3333333333333333,\"#9c179e\"],[0.4444444444444444,\"#bd3786\"],[0.5555555555555556,\"#d8576b\"],[0.6666666666666666,\"#ed7953\"],[0.7777777777777778,\"#fb9f3a\"],[0.8888888888888888,\"#fdca26\"],[1.0,\"#f0f921\"]]}],\"heatmapgl\":[{\"type\":\"heatmapgl\",\"colorbar\":{\"outlinewidth\":0,\"ticks\":\"\"},\"colorscale\":[[0.0,\"#0d0887\"],[0.1111111111111111,\"#46039f\"],[0.2222222222222222,\"#7201a8\"],[0.3333333333333333,\"#9c179e\"],[0.4444444444444444,\"#bd3786\"],[0.5555555555555556,\"#d8576b\"],[0.6666666666666666,\"#ed7953\"],[0.7777777777777778,\"#fb9f3a\"],[0.8888888888888888,\"#fdca26\"],[1.0,\"#f0f921\"]]}],\"contourcarpet\":[{\"type\":\"contourcarpet\",\"colorbar\":{\"outlinewidth\":0,\"ticks\":\"\"}}],\"contour\":[{\"type\":\"contour\",\"colorbar\":{\"outlinewidth\":0,\"ticks\":\"\"},\"colorscale\":[[0.0,\"#0d0887\"],[0.1111111111111111,\"#46039f\"],[0.2222222222222222,\"#7201a8\"],[0.3333333333333333,\"#9c179e\"],[0.4444444444444444,\"#bd3786\"],[0.5555555555555556,\"#d8576b\"],[0.6666666666666666,\"#ed7953\"],[0.7777777777777778,\"#fb9f3a\"],[0.8888888888888888,\"#fdca26\"],[1.0,\"#f0f921\"]]}],\"surface\":[{\"type\":\"surface\",\"colorbar\":{\"outlinewidth\":0,\"ticks\":\"\"},\"colorscale\":[[0.0,\"#0d0887\"],[0.1111111111111111,\"#46039f\"],[0.2222222222222222,\"#7201a8\"],[0.3333333333333333,\"#9c179e\"],[0.4444444444444444,\"#bd3786\"],[0.5555555555555556,\"#d8576b\"],[0.6666666666666666,\"#ed7953\"],[0.7777777777777778,\"#fb9f3a\"],[0.8888888888888888,\"#fdca26\"],[1.0,\"#f0f921\"]]}],\"mesh3d\":[{\"type\":\"mesh3d\",\"colorbar\":{\"outlinewidth\":0,\"ticks\":\"\"}}],\"scatter\":[{\"marker\":{\"line\":{\"color\":\"#283442\"}},\"type\":\"scatter\"}],\"parcoords\":[{\"type\":\"parcoords\",\"line\":{\"colorbar\":{\"outlinewidth\":0,\"ticks\":\"\"}}}],\"scatterpolargl\":[{\"type\":\"scatterpolargl\",\"marker\":{\"colorbar\":{\"outlinewidth\":0,\"ticks\":\"\"}}}],\"bar\":[{\"error_x\":{\"color\":\"#f2f5fa\"},\"error_y\":{\"color\":\"#f2f5fa\"},\"marker\":{\"line\":{\"color\":\"rgb(17,17,17)\",\"width\":0.5},\"pattern\":{\"fillmode\":\"overlay\",\"size\":10,\"solidity\":0.2}},\"type\":\"bar\"}],\"scattergeo\":[{\"type\":\"scattergeo\",\"marker\":{\"colorbar\":{\"outlinewidth\":0,\"ticks\":\"\"}}}],\"scatterpolar\":[{\"type\":\"scatterpolar\",\"marker\":{\"colorbar\":{\"outlinewidth\":0,\"ticks\":\"\"}}}],\"histogram\":[{\"marker\":{\"pattern\":{\"fillmode\":\"overlay\",\"size\":10,\"solidity\":0.2}},\"type\":\"histogram\"}],\"scattergl\":[{\"marker\":{\"line\":{\"color\":\"#283442\"}},\"type\":\"scattergl\"}],\"scatter3d\":[{\"type\":\"scatter3d\",\"line\":{\"colorbar\":{\"outlinewidth\":0,\"ticks\":\"\"}},\"marker\":{\"colorbar\":{\"outlinewidth\":0,\"ticks\":\"\"}}}],\"scattermapbox\":[{\"type\":\"scattermapbox\",\"marker\":{\"colorbar\":{\"outlinewidth\":0,\"ticks\":\"\"}}}],\"scatterternary\":[{\"type\":\"scatterternary\",\"marker\":{\"colorbar\":{\"outlinewidth\":0,\"ticks\":\"\"}}}],\"scattercarpet\":[{\"type\":\"scattercarpet\",\"marker\":{\"colorbar\":{\"outlinewidth\":0,\"ticks\":\"\"}}}],\"carpet\":[{\"aaxis\":{\"endlinecolor\":\"#A2B1C6\",\"gridcolor\":\"#506784\",\"linecolor\":\"#506784\",\"minorgridcolor\":\"#506784\",\"startlinecolor\":\"#A2B1C6\"},\"baxis\":{\"endlinecolor\":\"#A2B1C6\",\"gridcolor\":\"#506784\",\"linecolor\":\"#506784\",\"minorgridcolor\":\"#506784\",\"startlinecolor\":\"#A2B1C6\"},\"type\":\"carpet\"}],\"table\":[{\"cells\":{\"fill\":{\"color\":\"#506784\"},\"line\":{\"color\":\"rgb(17,17,17)\"}},\"header\":{\"fill\":{\"color\":\"#2a3f5f\"},\"line\":{\"color\":\"rgb(17,17,17)\"}},\"type\":\"table\"}],\"barpolar\":[{\"marker\":{\"line\":{\"color\":\"rgb(17,17,17)\",\"width\":0.5},\"pattern\":{\"fillmode\":\"overlay\",\"size\":10,\"solidity\":0.2}},\"type\":\"barpolar\"}],\"pie\":[{\"automargin\":true,\"type\":\"pie\"}]},\"layout\":{\"autotypenumbers\":\"strict\",\"colorway\":[\"#636efa\",\"#EF553B\",\"#00cc96\",\"#ab63fa\",\"#FFA15A\",\"#19d3f3\",\"#FF6692\",\"#B6E880\",\"#FF97FF\",\"#FECB52\"],\"font\":{\"color\":\"#f2f5fa\"},\"hovermode\":\"closest\",\"hoverlabel\":{\"align\":\"left\"},\"paper_bgcolor\":\"rgb(17,17,17)\",\"plot_bgcolor\":\"rgb(17,17,17)\",\"polar\":{\"bgcolor\":\"rgb(17,17,17)\",\"angularaxis\":{\"gridcolor\":\"#506784\",\"linecolor\":\"#506784\",\"ticks\":\"\"},\"radialaxis\":{\"gridcolor\":\"#506784\",\"linecolor\":\"#506784\",\"ticks\":\"\"}},\"ternary\":{\"bgcolor\":\"rgb(17,17,17)\",\"aaxis\":{\"gridcolor\":\"#506784\",\"linecolor\":\"#506784\",\"ticks\":\"\"},\"baxis\":{\"gridcolor\":\"#506784\",\"linecolor\":\"#506784\",\"ticks\":\"\"},\"caxis\":{\"gridcolor\":\"#506784\",\"linecolor\":\"#506784\",\"ticks\":\"\"}},\"coloraxis\":{\"colorbar\":{\"outlinewidth\":0,\"ticks\":\"\"}},\"colorscale\":{\"sequential\":[[0.0,\"#0d0887\"],[0.1111111111111111,\"#46039f\"],[0.2222222222222222,\"#7201a8\"],[0.3333333333333333,\"#9c179e\"],[0.4444444444444444,\"#bd3786\"],[0.5555555555555556,\"#d8576b\"],[0.6666666666666666,\"#ed7953\"],[0.7777777777777778,\"#fb9f3a\"],[0.8888888888888888,\"#fdca26\"],[1.0,\"#f0f921\"]],\"sequentialminus\":[[0.0,\"#0d0887\"],[0.1111111111111111,\"#46039f\"],[0.2222222222222222,\"#7201a8\"],[0.3333333333333333,\"#9c179e\"],[0.4444444444444444,\"#bd3786\"],[0.5555555555555556,\"#d8576b\"],[0.6666666666666666,\"#ed7953\"],[0.7777777777777778,\"#fb9f3a\"],[0.8888888888888888,\"#fdca26\"],[1.0,\"#f0f921\"]],\"diverging\":[[0,\"#8e0152\"],[0.1,\"#c51b7d\"],[0.2,\"#de77ae\"],[0.3,\"#f1b6da\"],[0.4,\"#fde0ef\"],[0.5,\"#f7f7f7\"],[0.6,\"#e6f5d0\"],[0.7,\"#b8e186\"],[0.8,\"#7fbc41\"],[0.9,\"#4d9221\"],[1,\"#276419\"]]},\"xaxis\":{\"gridcolor\":\"#283442\",\"linecolor\":\"#506784\",\"ticks\":\"\",\"title\":{\"standoff\":15},\"zerolinecolor\":\"#283442\",\"automargin\":true,\"zerolinewidth\":2},\"yaxis\":{\"gridcolor\":\"#283442\",\"linecolor\":\"#506784\",\"ticks\":\"\",\"title\":{\"standoff\":15},\"zerolinecolor\":\"#283442\",\"automargin\":true,\"zerolinewidth\":2},\"scene\":{\"xaxis\":{\"backgroundcolor\":\"rgb(17,17,17)\",\"gridcolor\":\"#506784\",\"linecolor\":\"#506784\",\"showbackground\":true,\"ticks\":\"\",\"zerolinecolor\":\"#C8D4E3\",\"gridwidth\":2},\"yaxis\":{\"backgroundcolor\":\"rgb(17,17,17)\",\"gridcolor\":\"#506784\",\"linecolor\":\"#506784\",\"showbackground\":true,\"ticks\":\"\",\"zerolinecolor\":\"#C8D4E3\",\"gridwidth\":2},\"zaxis\":{\"backgroundcolor\":\"rgb(17,17,17)\",\"gridcolor\":\"#506784\",\"linecolor\":\"#506784\",\"showbackground\":true,\"ticks\":\"\",\"zerolinecolor\":\"#C8D4E3\",\"gridwidth\":2}},\"shapedefaults\":{\"line\":{\"color\":\"#f2f5fa\"}},\"annotationdefaults\":{\"arrowcolor\":\"#f2f5fa\",\"arrowhead\":0,\"arrowwidth\":1},\"geo\":{\"bgcolor\":\"rgb(17,17,17)\",\"landcolor\":\"rgb(17,17,17)\",\"subunitcolor\":\"#506784\",\"showland\":true,\"showlakes\":true,\"lakecolor\":\"rgb(17,17,17)\"},\"title\":{\"x\":0.05},\"updatemenudefaults\":{\"bgcolor\":\"#506784\",\"borderwidth\":0},\"sliderdefaults\":{\"bgcolor\":\"#C8D4E3\",\"borderwidth\":1,\"bordercolor\":\"rgb(17,17,17)\",\"tickwidth\":0},\"mapbox\":{\"style\":\"dark\"}}},\"xaxis\":{\"anchor\":\"y\",\"domain\":[0.0,1.0],\"title\":{\"text\":\"Track\"},\"categoryorder\":\"total descending\"},\"yaxis\":{\"anchor\":\"x\",\"domain\":[0.0,1.0],\"title\":{\"text\":\"Power\"}},\"coloraxis\":{\"colorbar\":{\"title\":{\"text\":\"Power\"}},\"colorscale\":[[0.0,\"rgb(255,247,236)\"],[0.125,\"rgb(254,232,200)\"],[0.25,\"rgb(253,212,158)\"],[0.375,\"rgb(253,187,132)\"],[0.5,\"rgb(252,141,89)\"],[0.625,\"rgb(239,101,72)\"],[0.75,\"rgb(215,48,31)\"],[0.875,\"rgb(179,0,0)\"],[1.0,\"rgb(127,0,0)\"]],\"cmin\":0.0,\"cmax\":72.25455694838377,\"showscale\":false},\"legend\":{\"tracegroupgap\":0},\"title\":{\"text\":\"Engagement Power Ranking (Top 20)\"},\"barmode\":\"relative\",\"height\":540,\"width\":960},                        {\"responsive\": true}                    ).then(function(){\n",
       "                            \n",
       "var gd = document.getElementById('bddcd16b-8d8d-4145-8d7c-8632c48596cd');\n",
       "var x = new MutationObserver(function (mutations, observer) {{\n",
       "        var display = window.getComputedStyle(gd).display;\n",
       "        if (!display || display === 'none') {{\n",
       "            console.log([gd, 'removed!']);\n",
       "            Plotly.purge(gd);\n",
       "            observer.disconnect();\n",
       "        }}\n",
       "}});\n",
       "\n",
       "// Listen for the removal of the full notebook cells\n",
       "var notebookContainer = gd.closest('#notebook-container');\n",
       "if (notebookContainer) {{\n",
       "    x.observe(notebookContainer, {childList: true});\n",
       "}}\n",
       "\n",
       "// Listen for the clearing of the current output cell\n",
       "var outputEl = gd.closest('.output');\n",
       "if (outputEl) {{\n",
       "    x.observe(outputEl, {childList: true});\n",
       "}}\n",
       "\n",
       "                        })                };                });            </script>        </div>"
      ]
     },
     "metadata": {},
     "output_type": "display_data"
    }
   ],
   "execution_count": 311
  },
  {
   "metadata": {},
   "cell_type": "markdown",
   "source": [
    "### Playlists\n",
    "#### Rescale statistics"
   ],
   "id": "40cc7d38b1098446"
  },
  {
   "metadata": {
    "ExecuteTime": {
     "end_time": "2024-12-17T18:22:15.020175Z",
     "start_time": "2024-12-17T18:22:14.999098Z"
    }
   },
   "cell_type": "code",
   "source": [
    "data_pla = rescale_stats(data_pla, general_field)\n",
    "data_pla"
   ],
   "id": "185dd2882f7c83b0",
   "outputs": [
    {
     "data": {
      "text/plain": [
       "    songstats_id                songstats_title  \\\n",
       "0       qmr6e0bx                             16   \n",
       "1       cxsruom1  17 (Ekko & Sidetrack Bootleg)   \n",
       "2       847p1x5v             Never Let You Down   \n",
       "3       4owlyi76                           4 AM   \n",
       "4       a3ok10ce                             4D   \n",
       "..           ...                            ...   \n",
       "302     cqdneir6                Can You Feel It   \n",
       "303     nwqit015              Curse of the Moai   \n",
       "304     em4stqoh                       Himalaya   \n",
       "305     wx93mcy6                     Next To Me   \n",
       "306     0wpg1fj9             Hopelessly Falling   \n",
       "\n",
       "                                           artist_list  \\\n",
       "0                      [blasterjaxx, hardwell, maddix]   \n",
       "1                               [ekko & sidetrack, mk]   \n",
       "2    [cimone, deadline, duskee, emily makis, fricti...   \n",
       "3                                       [lexed, oshan]   \n",
       "4                            [bad computer, ryan coss]   \n",
       "..                                                 ...   \n",
       "302                                      [retrovision]   \n",
       "303                                      [exyl, nasko]   \n",
       "304                                  [matisse & sadko]   \n",
       "305                      [don diablo, gaby gerlis, mk]   \n",
       "306                   [enrem, jonah sky, rico 56, ubo]   \n",
       "\n",
       "                              genre                 label  \\\n",
       "0                     [hard techno]            [revealed]   \n",
       "1                     [drum & bass]         [[no labels]]   \n",
       "2                     [drum & bass]        [shogun audio]   \n",
       "3    [future house / future bounce]  [future house cloud]   \n",
       "4                   [electro house]          [monstercat]   \n",
       "..                              ...                   ...   \n",
       "302                    [bass house]               [stmpd]   \n",
       "303        [drumstep / moombahcore]         [[no labels]]   \n",
       "304             [progressive house]               [stmpd]   \n",
       "305  [future house / future bounce]             [hexagon]   \n",
       "306                 [melodic house]     [monstercat silk]   \n",
       "\n",
       "                           title  amazon_playlists_editorial_total  \\\n",
       "0                             16                          9.665428   \n",
       "1    17 ekko & sidetrack bootleg                          0.000000   \n",
       "2             never let you down                          0.000000   \n",
       "3                           4 am                          0.000000   \n",
       "4                             4d                          3.345725   \n",
       "..                           ...                               ...   \n",
       "302              can you feel it                          0.000000   \n",
       "303            curse of the moai                          0.000000   \n",
       "304                     himalaya                          0.000000   \n",
       "305                   next to me                          7.806691   \n",
       "306           hopelessly falling                          0.000000   \n",
       "\n",
       "     apple_music_playlists_editorial_total  deezer_playlists_editorial_total  \\\n",
       "0                                17.142857                         19.230769   \n",
       "1                                 0.000000                          0.000000   \n",
       "2                                 0.000000                          0.000000   \n",
       "3                                 0.000000                          0.000000   \n",
       "4                                 8.571429                          0.000000   \n",
       "..                                     ...                               ...   \n",
       "302                               0.000000                          0.000000   \n",
       "303                               0.000000                          0.000000   \n",
       "304                               0.000000                          0.000000   \n",
       "305                              11.428571                         26.923077   \n",
       "306                               0.000000                          0.000000   \n",
       "\n",
       "     spotify_playlists_editorial_total  tidal_playlists_editorial_total  \\\n",
       "0                             5.940594                              0.0   \n",
       "1                             0.000000                              0.0   \n",
       "2                             0.000000                              0.0   \n",
       "3                             0.000000                              0.0   \n",
       "4                             1.980198                              0.0   \n",
       "..                                 ...                              ...   \n",
       "302                           1.980198                              0.0   \n",
       "303                           0.000000                              0.0   \n",
       "304                           0.990099                              0.0   \n",
       "305                          29.702970                              0.0   \n",
       "306                           0.000000                              0.0   \n",
       "\n",
       "     youtube_playlists_editorial_total  \n",
       "0                             6.666667  \n",
       "1                             0.000000  \n",
       "2                             6.666667  \n",
       "3                             0.000000  \n",
       "4                             0.000000  \n",
       "..                                 ...  \n",
       "302                           6.666667  \n",
       "303                           0.000000  \n",
       "304                           6.666667  \n",
       "305                           0.000000  \n",
       "306                           0.000000  \n",
       "\n",
       "[307 rows x 12 columns]"
      ],
      "text/html": [
       "<div>\n",
       "<style scoped>\n",
       "    .dataframe tbody tr th:only-of-type {\n",
       "        vertical-align: middle;\n",
       "    }\n",
       "\n",
       "    .dataframe tbody tr th {\n",
       "        vertical-align: top;\n",
       "    }\n",
       "\n",
       "    .dataframe thead th {\n",
       "        text-align: right;\n",
       "    }\n",
       "</style>\n",
       "<table border=\"1\" class=\"dataframe\">\n",
       "  <thead>\n",
       "    <tr style=\"text-align: right;\">\n",
       "      <th></th>\n",
       "      <th>songstats_id</th>\n",
       "      <th>songstats_title</th>\n",
       "      <th>artist_list</th>\n",
       "      <th>genre</th>\n",
       "      <th>label</th>\n",
       "      <th>title</th>\n",
       "      <th>amazon_playlists_editorial_total</th>\n",
       "      <th>apple_music_playlists_editorial_total</th>\n",
       "      <th>deezer_playlists_editorial_total</th>\n",
       "      <th>spotify_playlists_editorial_total</th>\n",
       "      <th>tidal_playlists_editorial_total</th>\n",
       "      <th>youtube_playlists_editorial_total</th>\n",
       "    </tr>\n",
       "  </thead>\n",
       "  <tbody>\n",
       "    <tr>\n",
       "      <th>0</th>\n",
       "      <td>qmr6e0bx</td>\n",
       "      <td>16</td>\n",
       "      <td>[blasterjaxx, hardwell, maddix]</td>\n",
       "      <td>[hard techno]</td>\n",
       "      <td>[revealed]</td>\n",
       "      <td>16</td>\n",
       "      <td>9.665428</td>\n",
       "      <td>17.142857</td>\n",
       "      <td>19.230769</td>\n",
       "      <td>5.940594</td>\n",
       "      <td>0.0</td>\n",
       "      <td>6.666667</td>\n",
       "    </tr>\n",
       "    <tr>\n",
       "      <th>1</th>\n",
       "      <td>cxsruom1</td>\n",
       "      <td>17 (Ekko &amp; Sidetrack Bootleg)</td>\n",
       "      <td>[ekko &amp; sidetrack, mk]</td>\n",
       "      <td>[drum &amp; bass]</td>\n",
       "      <td>[[no labels]]</td>\n",
       "      <td>17 ekko &amp; sidetrack bootleg</td>\n",
       "      <td>0.000000</td>\n",
       "      <td>0.000000</td>\n",
       "      <td>0.000000</td>\n",
       "      <td>0.000000</td>\n",
       "      <td>0.0</td>\n",
       "      <td>0.000000</td>\n",
       "    </tr>\n",
       "    <tr>\n",
       "      <th>2</th>\n",
       "      <td>847p1x5v</td>\n",
       "      <td>Never Let You Down</td>\n",
       "      <td>[cimone, deadline, duskee, emily makis, fricti...</td>\n",
       "      <td>[drum &amp; bass]</td>\n",
       "      <td>[shogun audio]</td>\n",
       "      <td>never let you down</td>\n",
       "      <td>0.000000</td>\n",
       "      <td>0.000000</td>\n",
       "      <td>0.000000</td>\n",
       "      <td>0.000000</td>\n",
       "      <td>0.0</td>\n",
       "      <td>6.666667</td>\n",
       "    </tr>\n",
       "    <tr>\n",
       "      <th>3</th>\n",
       "      <td>4owlyi76</td>\n",
       "      <td>4 AM</td>\n",
       "      <td>[lexed, oshan]</td>\n",
       "      <td>[future house / future bounce]</td>\n",
       "      <td>[future house cloud]</td>\n",
       "      <td>4 am</td>\n",
       "      <td>0.000000</td>\n",
       "      <td>0.000000</td>\n",
       "      <td>0.000000</td>\n",
       "      <td>0.000000</td>\n",
       "      <td>0.0</td>\n",
       "      <td>0.000000</td>\n",
       "    </tr>\n",
       "    <tr>\n",
       "      <th>4</th>\n",
       "      <td>a3ok10ce</td>\n",
       "      <td>4D</td>\n",
       "      <td>[bad computer, ryan coss]</td>\n",
       "      <td>[electro house]</td>\n",
       "      <td>[monstercat]</td>\n",
       "      <td>4d</td>\n",
       "      <td>3.345725</td>\n",
       "      <td>8.571429</td>\n",
       "      <td>0.000000</td>\n",
       "      <td>1.980198</td>\n",
       "      <td>0.0</td>\n",
       "      <td>0.000000</td>\n",
       "    </tr>\n",
       "    <tr>\n",
       "      <th>...</th>\n",
       "      <td>...</td>\n",
       "      <td>...</td>\n",
       "      <td>...</td>\n",
       "      <td>...</td>\n",
       "      <td>...</td>\n",
       "      <td>...</td>\n",
       "      <td>...</td>\n",
       "      <td>...</td>\n",
       "      <td>...</td>\n",
       "      <td>...</td>\n",
       "      <td>...</td>\n",
       "      <td>...</td>\n",
       "    </tr>\n",
       "    <tr>\n",
       "      <th>302</th>\n",
       "      <td>cqdneir6</td>\n",
       "      <td>Can You Feel It</td>\n",
       "      <td>[retrovision]</td>\n",
       "      <td>[bass house]</td>\n",
       "      <td>[stmpd]</td>\n",
       "      <td>can you feel it</td>\n",
       "      <td>0.000000</td>\n",
       "      <td>0.000000</td>\n",
       "      <td>0.000000</td>\n",
       "      <td>1.980198</td>\n",
       "      <td>0.0</td>\n",
       "      <td>6.666667</td>\n",
       "    </tr>\n",
       "    <tr>\n",
       "      <th>303</th>\n",
       "      <td>nwqit015</td>\n",
       "      <td>Curse of the Moai</td>\n",
       "      <td>[exyl, nasko]</td>\n",
       "      <td>[drumstep / moombahcore]</td>\n",
       "      <td>[[no labels]]</td>\n",
       "      <td>curse of the moai</td>\n",
       "      <td>0.000000</td>\n",
       "      <td>0.000000</td>\n",
       "      <td>0.000000</td>\n",
       "      <td>0.000000</td>\n",
       "      <td>0.0</td>\n",
       "      <td>0.000000</td>\n",
       "    </tr>\n",
       "    <tr>\n",
       "      <th>304</th>\n",
       "      <td>em4stqoh</td>\n",
       "      <td>Himalaya</td>\n",
       "      <td>[matisse &amp; sadko]</td>\n",
       "      <td>[progressive house]</td>\n",
       "      <td>[stmpd]</td>\n",
       "      <td>himalaya</td>\n",
       "      <td>0.000000</td>\n",
       "      <td>0.000000</td>\n",
       "      <td>0.000000</td>\n",
       "      <td>0.990099</td>\n",
       "      <td>0.0</td>\n",
       "      <td>6.666667</td>\n",
       "    </tr>\n",
       "    <tr>\n",
       "      <th>305</th>\n",
       "      <td>wx93mcy6</td>\n",
       "      <td>Next To Me</td>\n",
       "      <td>[don diablo, gaby gerlis, mk]</td>\n",
       "      <td>[future house / future bounce]</td>\n",
       "      <td>[hexagon]</td>\n",
       "      <td>next to me</td>\n",
       "      <td>7.806691</td>\n",
       "      <td>11.428571</td>\n",
       "      <td>26.923077</td>\n",
       "      <td>29.702970</td>\n",
       "      <td>0.0</td>\n",
       "      <td>0.000000</td>\n",
       "    </tr>\n",
       "    <tr>\n",
       "      <th>306</th>\n",
       "      <td>0wpg1fj9</td>\n",
       "      <td>Hopelessly Falling</td>\n",
       "      <td>[enrem, jonah sky, rico 56, ubo]</td>\n",
       "      <td>[melodic house]</td>\n",
       "      <td>[monstercat silk]</td>\n",
       "      <td>hopelessly falling</td>\n",
       "      <td>0.000000</td>\n",
       "      <td>0.000000</td>\n",
       "      <td>0.000000</td>\n",
       "      <td>0.000000</td>\n",
       "      <td>0.0</td>\n",
       "      <td>0.000000</td>\n",
       "    </tr>\n",
       "  </tbody>\n",
       "</table>\n",
       "<p>307 rows × 12 columns</p>\n",
       "</div>"
      ]
     },
     "execution_count": 315,
     "metadata": {},
     "output_type": "execute_result"
    }
   ],
   "execution_count": 315
  },
  {
   "metadata": {},
   "cell_type": "markdown",
   "source": "#### Weighting by recorded by stats",
   "id": "22dea5cc0734cf01"
  },
  {
   "metadata": {
    "ExecuteTime": {
     "end_time": "2024-12-17T18:26:47.384278Z",
     "start_time": "2024-12-17T18:26:47.362693Z"
    }
   },
   "cell_type": "code",
   "source": [
    "pr_pla, w_pla = compute_power(data_pla, general_field)  # 'w_pla' is calculated for the final step of the Power Ranking\n",
    "pr_pla"
   ],
   "id": "af677dd8a837fcfa",
   "outputs": [
    {
     "data": {
      "text/plain": [
       "    songstats_id                songstats_title  \\\n",
       "0       qmr6e0bx                             16   \n",
       "1       cxsruom1  17 (Ekko & Sidetrack Bootleg)   \n",
       "2       847p1x5v             Never Let You Down   \n",
       "3       4owlyi76                           4 AM   \n",
       "4       a3ok10ce                             4D   \n",
       "..           ...                            ...   \n",
       "302     cqdneir6                Can You Feel It   \n",
       "303     nwqit015              Curse of the Moai   \n",
       "304     em4stqoh                       Himalaya   \n",
       "305     wx93mcy6                     Next To Me   \n",
       "306     0wpg1fj9             Hopelessly Falling   \n",
       "\n",
       "                                           artist_list  \\\n",
       "0                      [blasterjaxx, hardwell, maddix]   \n",
       "1                               [ekko & sidetrack, mk]   \n",
       "2    [cimone, deadline, duskee, emily makis, fricti...   \n",
       "3                                       [lexed, oshan]   \n",
       "4                            [bad computer, ryan coss]   \n",
       "..                                                 ...   \n",
       "302                                      [retrovision]   \n",
       "303                                      [exyl, nasko]   \n",
       "304                                  [matisse & sadko]   \n",
       "305                      [don diablo, gaby gerlis, mk]   \n",
       "306                   [enrem, jonah sky, rico 56, ubo]   \n",
       "\n",
       "                              genre                 label  \\\n",
       "0                     [hard techno]            [revealed]   \n",
       "1                     [drum & bass]         [[no labels]]   \n",
       "2                     [drum & bass]        [shogun audio]   \n",
       "3    [future house / future bounce]  [future house cloud]   \n",
       "4                   [electro house]          [monstercat]   \n",
       "..                              ...                   ...   \n",
       "302                    [bass house]               [stmpd]   \n",
       "303        [drumstep / moombahcore]         [[no labels]]   \n",
       "304             [progressive house]               [stmpd]   \n",
       "305  [future house / future bounce]             [hexagon]   \n",
       "306                 [melodic house]     [monstercat silk]   \n",
       "\n",
       "                           title  amazon_playlists_editorial_total  \\\n",
       "0                             16                          9.665428   \n",
       "1    17 ekko & sidetrack bootleg                          0.000000   \n",
       "2             never let you down                          0.000000   \n",
       "3                           4 am                          0.000000   \n",
       "4                             4d                          3.345725   \n",
       "..                           ...                               ...   \n",
       "302              can you feel it                          0.000000   \n",
       "303            curse of the moai                          0.000000   \n",
       "304                     himalaya                          0.000000   \n",
       "305                   next to me                          7.806691   \n",
       "306           hopelessly falling                          0.000000   \n",
       "\n",
       "     apple_music_playlists_editorial_total  deezer_playlists_editorial_total  \\\n",
       "0                                17.142857                         19.230769   \n",
       "1                                 0.000000                          0.000000   \n",
       "2                                 0.000000                          0.000000   \n",
       "3                                 0.000000                          0.000000   \n",
       "4                                 8.571429                          0.000000   \n",
       "..                                     ...                               ...   \n",
       "302                               0.000000                          0.000000   \n",
       "303                               0.000000                          0.000000   \n",
       "304                               0.000000                          0.000000   \n",
       "305                              11.428571                         26.923077   \n",
       "306                               0.000000                          0.000000   \n",
       "\n",
       "     spotify_playlists_editorial_total  tidal_playlists_editorial_total  \\\n",
       "0                             5.940594                              0.0   \n",
       "1                             0.000000                              0.0   \n",
       "2                             0.000000                              0.0   \n",
       "3                             0.000000                              0.0   \n",
       "4                             1.980198                              0.0   \n",
       "..                                 ...                              ...   \n",
       "302                           1.980198                              0.0   \n",
       "303                           0.000000                              0.0   \n",
       "304                           0.990099                              0.0   \n",
       "305                          29.702970                              0.0   \n",
       "306                           0.000000                              0.0   \n",
       "\n",
       "     youtube_playlists_editorial_total        PWR  \n",
       "0                             6.666667  11.402563  \n",
       "1                             0.000000   0.000000  \n",
       "2                             6.666667   0.669056  \n",
       "3                             0.000000   0.000000  \n",
       "4                             0.000000   3.300290  \n",
       "..                                 ...        ...  \n",
       "302                           6.666667   1.190721  \n",
       "303                           0.000000   0.000000  \n",
       "304                           6.666667   0.929889  \n",
       "305                           0.000000  16.417024  \n",
       "306                           0.000000   0.000000  \n",
       "\n",
       "[307 rows x 13 columns]"
      ],
      "text/html": [
       "<div>\n",
       "<style scoped>\n",
       "    .dataframe tbody tr th:only-of-type {\n",
       "        vertical-align: middle;\n",
       "    }\n",
       "\n",
       "    .dataframe tbody tr th {\n",
       "        vertical-align: top;\n",
       "    }\n",
       "\n",
       "    .dataframe thead th {\n",
       "        text-align: right;\n",
       "    }\n",
       "</style>\n",
       "<table border=\"1\" class=\"dataframe\">\n",
       "  <thead>\n",
       "    <tr style=\"text-align: right;\">\n",
       "      <th></th>\n",
       "      <th>songstats_id</th>\n",
       "      <th>songstats_title</th>\n",
       "      <th>artist_list</th>\n",
       "      <th>genre</th>\n",
       "      <th>label</th>\n",
       "      <th>title</th>\n",
       "      <th>amazon_playlists_editorial_total</th>\n",
       "      <th>apple_music_playlists_editorial_total</th>\n",
       "      <th>deezer_playlists_editorial_total</th>\n",
       "      <th>spotify_playlists_editorial_total</th>\n",
       "      <th>tidal_playlists_editorial_total</th>\n",
       "      <th>youtube_playlists_editorial_total</th>\n",
       "      <th>PWR</th>\n",
       "    </tr>\n",
       "  </thead>\n",
       "  <tbody>\n",
       "    <tr>\n",
       "      <th>0</th>\n",
       "      <td>qmr6e0bx</td>\n",
       "      <td>16</td>\n",
       "      <td>[blasterjaxx, hardwell, maddix]</td>\n",
       "      <td>[hard techno]</td>\n",
       "      <td>[revealed]</td>\n",
       "      <td>16</td>\n",
       "      <td>9.665428</td>\n",
       "      <td>17.142857</td>\n",
       "      <td>19.230769</td>\n",
       "      <td>5.940594</td>\n",
       "      <td>0.0</td>\n",
       "      <td>6.666667</td>\n",
       "      <td>11.402563</td>\n",
       "    </tr>\n",
       "    <tr>\n",
       "      <th>1</th>\n",
       "      <td>cxsruom1</td>\n",
       "      <td>17 (Ekko &amp; Sidetrack Bootleg)</td>\n",
       "      <td>[ekko &amp; sidetrack, mk]</td>\n",
       "      <td>[drum &amp; bass]</td>\n",
       "      <td>[[no labels]]</td>\n",
       "      <td>17 ekko &amp; sidetrack bootleg</td>\n",
       "      <td>0.000000</td>\n",
       "      <td>0.000000</td>\n",
       "      <td>0.000000</td>\n",
       "      <td>0.000000</td>\n",
       "      <td>0.0</td>\n",
       "      <td>0.000000</td>\n",
       "      <td>0.000000</td>\n",
       "    </tr>\n",
       "    <tr>\n",
       "      <th>2</th>\n",
       "      <td>847p1x5v</td>\n",
       "      <td>Never Let You Down</td>\n",
       "      <td>[cimone, deadline, duskee, emily makis, fricti...</td>\n",
       "      <td>[drum &amp; bass]</td>\n",
       "      <td>[shogun audio]</td>\n",
       "      <td>never let you down</td>\n",
       "      <td>0.000000</td>\n",
       "      <td>0.000000</td>\n",
       "      <td>0.000000</td>\n",
       "      <td>0.000000</td>\n",
       "      <td>0.0</td>\n",
       "      <td>6.666667</td>\n",
       "      <td>0.669056</td>\n",
       "    </tr>\n",
       "    <tr>\n",
       "      <th>3</th>\n",
       "      <td>4owlyi76</td>\n",
       "      <td>4 AM</td>\n",
       "      <td>[lexed, oshan]</td>\n",
       "      <td>[future house / future bounce]</td>\n",
       "      <td>[future house cloud]</td>\n",
       "      <td>4 am</td>\n",
       "      <td>0.000000</td>\n",
       "      <td>0.000000</td>\n",
       "      <td>0.000000</td>\n",
       "      <td>0.000000</td>\n",
       "      <td>0.0</td>\n",
       "      <td>0.000000</td>\n",
       "      <td>0.000000</td>\n",
       "    </tr>\n",
       "    <tr>\n",
       "      <th>4</th>\n",
       "      <td>a3ok10ce</td>\n",
       "      <td>4D</td>\n",
       "      <td>[bad computer, ryan coss]</td>\n",
       "      <td>[electro house]</td>\n",
       "      <td>[monstercat]</td>\n",
       "      <td>4d</td>\n",
       "      <td>3.345725</td>\n",
       "      <td>8.571429</td>\n",
       "      <td>0.000000</td>\n",
       "      <td>1.980198</td>\n",
       "      <td>0.0</td>\n",
       "      <td>0.000000</td>\n",
       "      <td>3.300290</td>\n",
       "    </tr>\n",
       "    <tr>\n",
       "      <th>...</th>\n",
       "      <td>...</td>\n",
       "      <td>...</td>\n",
       "      <td>...</td>\n",
       "      <td>...</td>\n",
       "      <td>...</td>\n",
       "      <td>...</td>\n",
       "      <td>...</td>\n",
       "      <td>...</td>\n",
       "      <td>...</td>\n",
       "      <td>...</td>\n",
       "      <td>...</td>\n",
       "      <td>...</td>\n",
       "      <td>...</td>\n",
       "    </tr>\n",
       "    <tr>\n",
       "      <th>302</th>\n",
       "      <td>cqdneir6</td>\n",
       "      <td>Can You Feel It</td>\n",
       "      <td>[retrovision]</td>\n",
       "      <td>[bass house]</td>\n",
       "      <td>[stmpd]</td>\n",
       "      <td>can you feel it</td>\n",
       "      <td>0.000000</td>\n",
       "      <td>0.000000</td>\n",
       "      <td>0.000000</td>\n",
       "      <td>1.980198</td>\n",
       "      <td>0.0</td>\n",
       "      <td>6.666667</td>\n",
       "      <td>1.190721</td>\n",
       "    </tr>\n",
       "    <tr>\n",
       "      <th>303</th>\n",
       "      <td>nwqit015</td>\n",
       "      <td>Curse of the Moai</td>\n",
       "      <td>[exyl, nasko]</td>\n",
       "      <td>[drumstep / moombahcore]</td>\n",
       "      <td>[[no labels]]</td>\n",
       "      <td>curse of the moai</td>\n",
       "      <td>0.000000</td>\n",
       "      <td>0.000000</td>\n",
       "      <td>0.000000</td>\n",
       "      <td>0.000000</td>\n",
       "      <td>0.0</td>\n",
       "      <td>0.000000</td>\n",
       "      <td>0.000000</td>\n",
       "    </tr>\n",
       "    <tr>\n",
       "      <th>304</th>\n",
       "      <td>em4stqoh</td>\n",
       "      <td>Himalaya</td>\n",
       "      <td>[matisse &amp; sadko]</td>\n",
       "      <td>[progressive house]</td>\n",
       "      <td>[stmpd]</td>\n",
       "      <td>himalaya</td>\n",
       "      <td>0.000000</td>\n",
       "      <td>0.000000</td>\n",
       "      <td>0.000000</td>\n",
       "      <td>0.990099</td>\n",
       "      <td>0.0</td>\n",
       "      <td>6.666667</td>\n",
       "      <td>0.929889</td>\n",
       "    </tr>\n",
       "    <tr>\n",
       "      <th>305</th>\n",
       "      <td>wx93mcy6</td>\n",
       "      <td>Next To Me</td>\n",
       "      <td>[don diablo, gaby gerlis, mk]</td>\n",
       "      <td>[future house / future bounce]</td>\n",
       "      <td>[hexagon]</td>\n",
       "      <td>next to me</td>\n",
       "      <td>7.806691</td>\n",
       "      <td>11.428571</td>\n",
       "      <td>26.923077</td>\n",
       "      <td>29.702970</td>\n",
       "      <td>0.0</td>\n",
       "      <td>0.000000</td>\n",
       "      <td>16.417024</td>\n",
       "    </tr>\n",
       "    <tr>\n",
       "      <th>306</th>\n",
       "      <td>0wpg1fj9</td>\n",
       "      <td>Hopelessly Falling</td>\n",
       "      <td>[enrem, jonah sky, rico 56, ubo]</td>\n",
       "      <td>[melodic house]</td>\n",
       "      <td>[monstercat silk]</td>\n",
       "      <td>hopelessly falling</td>\n",
       "      <td>0.000000</td>\n",
       "      <td>0.000000</td>\n",
       "      <td>0.000000</td>\n",
       "      <td>0.000000</td>\n",
       "      <td>0.0</td>\n",
       "      <td>0.000000</td>\n",
       "      <td>0.000000</td>\n",
       "    </tr>\n",
       "  </tbody>\n",
       "</table>\n",
       "<p>307 rows × 13 columns</p>\n",
       "</div>"
      ]
     },
     "execution_count": 320,
     "metadata": {},
     "output_type": "execute_result"
    }
   ],
   "execution_count": 320
  },
  {
   "metadata": {},
   "cell_type": "markdown",
   "source": "#### Graphical Representation",
   "id": "14d0272d3ec4c636"
  },
  {
   "metadata": {
    "ExecuteTime": {
     "end_time": "2024-12-17T18:31:12.159650Z",
     "start_time": "2024-12-17T18:31:12.114250Z"
    }
   },
   "cell_type": "code",
   "source": [
    "bar_pr_pla = plot_bar(dataframe=pr_pla.sort_values('PWR', ascending=False).head(20),\n",
    "                      x='songstats_title',\n",
    "                      y='PWR',\n",
    "                      title='Playlist Power Ranking (Top 20)',\n",
    "                      x_label='Track',\n",
    "                      y_label='Power',\n",
    "                      col_range=(pr_pla.PWR.min(), pr_pla.PWR.max()))\n",
    "bar_pr_pla.show()"
   ],
   "id": "f10d999279639c94",
   "outputs": [
    {
     "data": {
      "application/vnd.plotly.v1+json": {
       "data": [
        {
         "alignmentgroup": "True",
         "hovertemplate": "Track=%{x}<br>Power=%{marker.color}<extra></extra>",
         "legendgroup": "",
         "marker": {
          "color": [
           96.6547192353644,
           63.86121647437022,
           59.16047408969844,
           54.1752261661456,
           47.88084757836811,
           40.817598531964634,
           36.3401900767126,
           34.909919475963086,
           33.28395668447602,
           32.912374381779145,
           29.712069993011625,
           23.97333473098784,
           20.6046520361222,
           18.00066417245151,
           17.619859182901262,
           16.417024295672753,
           14.59557528323045,
           14.564376251712032,
           14.422093408064134,
           14.278460627068323
          ],
          "coloraxis": "coloraxis",
          "pattern": {
           "shape": ""
          }
         },
         "name": "",
         "offsetgroup": "",
         "orientation": "v",
         "showlegend": false,
         "textposition": "auto",
         "x": [
          "Neverender",
          "Shiver",
          "Told You So",
          "I Only Smoke When I Drink",
          "Carry You",
          "Go Back (feat. Julia Church)",
          "Push The Tempo",
          "Gravity",
          "Wherever You Are",
          "Wildfire",
          "Empty",
          "Breakaway",
          "Biochemical",
          "Heaven Knows",
          "Mas Que Nada",
          "Next To Me",
          "SexyBack",
          "Only God Knows",
          "This Moment",
          "Young Again"
         ],
         "xaxis": "x",
         "y": [
          96.6547192353644,
          63.86121647437022,
          59.16047408969844,
          54.1752261661456,
          47.88084757836811,
          40.817598531964634,
          36.3401900767126,
          34.909919475963086,
          33.28395668447602,
          32.912374381779145,
          29.712069993011625,
          23.97333473098784,
          20.6046520361222,
          18.00066417245151,
          17.619859182901262,
          16.417024295672753,
          14.59557528323045,
          14.564376251712032,
          14.422093408064134,
          14.278460627068323
         ],
         "yaxis": "y",
         "type": "bar"
        }
       ],
       "layout": {
        "template": {
         "data": {
          "histogram2dcontour": [
           {
            "type": "histogram2dcontour",
            "colorbar": {
             "outlinewidth": 0,
             "ticks": ""
            },
            "colorscale": [
             [
              0.0,
              "#0d0887"
             ],
             [
              0.1111111111111111,
              "#46039f"
             ],
             [
              0.2222222222222222,
              "#7201a8"
             ],
             [
              0.3333333333333333,
              "#9c179e"
             ],
             [
              0.4444444444444444,
              "#bd3786"
             ],
             [
              0.5555555555555556,
              "#d8576b"
             ],
             [
              0.6666666666666666,
              "#ed7953"
             ],
             [
              0.7777777777777778,
              "#fb9f3a"
             ],
             [
              0.8888888888888888,
              "#fdca26"
             ],
             [
              1.0,
              "#f0f921"
             ]
            ]
           }
          ],
          "choropleth": [
           {
            "type": "choropleth",
            "colorbar": {
             "outlinewidth": 0,
             "ticks": ""
            }
           }
          ],
          "histogram2d": [
           {
            "type": "histogram2d",
            "colorbar": {
             "outlinewidth": 0,
             "ticks": ""
            },
            "colorscale": [
             [
              0.0,
              "#0d0887"
             ],
             [
              0.1111111111111111,
              "#46039f"
             ],
             [
              0.2222222222222222,
              "#7201a8"
             ],
             [
              0.3333333333333333,
              "#9c179e"
             ],
             [
              0.4444444444444444,
              "#bd3786"
             ],
             [
              0.5555555555555556,
              "#d8576b"
             ],
             [
              0.6666666666666666,
              "#ed7953"
             ],
             [
              0.7777777777777778,
              "#fb9f3a"
             ],
             [
              0.8888888888888888,
              "#fdca26"
             ],
             [
              1.0,
              "#f0f921"
             ]
            ]
           }
          ],
          "heatmap": [
           {
            "type": "heatmap",
            "colorbar": {
             "outlinewidth": 0,
             "ticks": ""
            },
            "colorscale": [
             [
              0.0,
              "#0d0887"
             ],
             [
              0.1111111111111111,
              "#46039f"
             ],
             [
              0.2222222222222222,
              "#7201a8"
             ],
             [
              0.3333333333333333,
              "#9c179e"
             ],
             [
              0.4444444444444444,
              "#bd3786"
             ],
             [
              0.5555555555555556,
              "#d8576b"
             ],
             [
              0.6666666666666666,
              "#ed7953"
             ],
             [
              0.7777777777777778,
              "#fb9f3a"
             ],
             [
              0.8888888888888888,
              "#fdca26"
             ],
             [
              1.0,
              "#f0f921"
             ]
            ]
           }
          ],
          "heatmapgl": [
           {
            "type": "heatmapgl",
            "colorbar": {
             "outlinewidth": 0,
             "ticks": ""
            },
            "colorscale": [
             [
              0.0,
              "#0d0887"
             ],
             [
              0.1111111111111111,
              "#46039f"
             ],
             [
              0.2222222222222222,
              "#7201a8"
             ],
             [
              0.3333333333333333,
              "#9c179e"
             ],
             [
              0.4444444444444444,
              "#bd3786"
             ],
             [
              0.5555555555555556,
              "#d8576b"
             ],
             [
              0.6666666666666666,
              "#ed7953"
             ],
             [
              0.7777777777777778,
              "#fb9f3a"
             ],
             [
              0.8888888888888888,
              "#fdca26"
             ],
             [
              1.0,
              "#f0f921"
             ]
            ]
           }
          ],
          "contourcarpet": [
           {
            "type": "contourcarpet",
            "colorbar": {
             "outlinewidth": 0,
             "ticks": ""
            }
           }
          ],
          "contour": [
           {
            "type": "contour",
            "colorbar": {
             "outlinewidth": 0,
             "ticks": ""
            },
            "colorscale": [
             [
              0.0,
              "#0d0887"
             ],
             [
              0.1111111111111111,
              "#46039f"
             ],
             [
              0.2222222222222222,
              "#7201a8"
             ],
             [
              0.3333333333333333,
              "#9c179e"
             ],
             [
              0.4444444444444444,
              "#bd3786"
             ],
             [
              0.5555555555555556,
              "#d8576b"
             ],
             [
              0.6666666666666666,
              "#ed7953"
             ],
             [
              0.7777777777777778,
              "#fb9f3a"
             ],
             [
              0.8888888888888888,
              "#fdca26"
             ],
             [
              1.0,
              "#f0f921"
             ]
            ]
           }
          ],
          "surface": [
           {
            "type": "surface",
            "colorbar": {
             "outlinewidth": 0,
             "ticks": ""
            },
            "colorscale": [
             [
              0.0,
              "#0d0887"
             ],
             [
              0.1111111111111111,
              "#46039f"
             ],
             [
              0.2222222222222222,
              "#7201a8"
             ],
             [
              0.3333333333333333,
              "#9c179e"
             ],
             [
              0.4444444444444444,
              "#bd3786"
             ],
             [
              0.5555555555555556,
              "#d8576b"
             ],
             [
              0.6666666666666666,
              "#ed7953"
             ],
             [
              0.7777777777777778,
              "#fb9f3a"
             ],
             [
              0.8888888888888888,
              "#fdca26"
             ],
             [
              1.0,
              "#f0f921"
             ]
            ]
           }
          ],
          "mesh3d": [
           {
            "type": "mesh3d",
            "colorbar": {
             "outlinewidth": 0,
             "ticks": ""
            }
           }
          ],
          "scatter": [
           {
            "marker": {
             "line": {
              "color": "#283442"
             }
            },
            "type": "scatter"
           }
          ],
          "parcoords": [
           {
            "type": "parcoords",
            "line": {
             "colorbar": {
              "outlinewidth": 0,
              "ticks": ""
             }
            }
           }
          ],
          "scatterpolargl": [
           {
            "type": "scatterpolargl",
            "marker": {
             "colorbar": {
              "outlinewidth": 0,
              "ticks": ""
             }
            }
           }
          ],
          "bar": [
           {
            "error_x": {
             "color": "#f2f5fa"
            },
            "error_y": {
             "color": "#f2f5fa"
            },
            "marker": {
             "line": {
              "color": "rgb(17,17,17)",
              "width": 0.5
             },
             "pattern": {
              "fillmode": "overlay",
              "size": 10,
              "solidity": 0.2
             }
            },
            "type": "bar"
           }
          ],
          "scattergeo": [
           {
            "type": "scattergeo",
            "marker": {
             "colorbar": {
              "outlinewidth": 0,
              "ticks": ""
             }
            }
           }
          ],
          "scatterpolar": [
           {
            "type": "scatterpolar",
            "marker": {
             "colorbar": {
              "outlinewidth": 0,
              "ticks": ""
             }
            }
           }
          ],
          "histogram": [
           {
            "marker": {
             "pattern": {
              "fillmode": "overlay",
              "size": 10,
              "solidity": 0.2
             }
            },
            "type": "histogram"
           }
          ],
          "scattergl": [
           {
            "marker": {
             "line": {
              "color": "#283442"
             }
            },
            "type": "scattergl"
           }
          ],
          "scatter3d": [
           {
            "type": "scatter3d",
            "line": {
             "colorbar": {
              "outlinewidth": 0,
              "ticks": ""
             }
            },
            "marker": {
             "colorbar": {
              "outlinewidth": 0,
              "ticks": ""
             }
            }
           }
          ],
          "scattermapbox": [
           {
            "type": "scattermapbox",
            "marker": {
             "colorbar": {
              "outlinewidth": 0,
              "ticks": ""
             }
            }
           }
          ],
          "scatterternary": [
           {
            "type": "scatterternary",
            "marker": {
             "colorbar": {
              "outlinewidth": 0,
              "ticks": ""
             }
            }
           }
          ],
          "scattercarpet": [
           {
            "type": "scattercarpet",
            "marker": {
             "colorbar": {
              "outlinewidth": 0,
              "ticks": ""
             }
            }
           }
          ],
          "carpet": [
           {
            "aaxis": {
             "endlinecolor": "#A2B1C6",
             "gridcolor": "#506784",
             "linecolor": "#506784",
             "minorgridcolor": "#506784",
             "startlinecolor": "#A2B1C6"
            },
            "baxis": {
             "endlinecolor": "#A2B1C6",
             "gridcolor": "#506784",
             "linecolor": "#506784",
             "minorgridcolor": "#506784",
             "startlinecolor": "#A2B1C6"
            },
            "type": "carpet"
           }
          ],
          "table": [
           {
            "cells": {
             "fill": {
              "color": "#506784"
             },
             "line": {
              "color": "rgb(17,17,17)"
             }
            },
            "header": {
             "fill": {
              "color": "#2a3f5f"
             },
             "line": {
              "color": "rgb(17,17,17)"
             }
            },
            "type": "table"
           }
          ],
          "barpolar": [
           {
            "marker": {
             "line": {
              "color": "rgb(17,17,17)",
              "width": 0.5
             },
             "pattern": {
              "fillmode": "overlay",
              "size": 10,
              "solidity": 0.2
             }
            },
            "type": "barpolar"
           }
          ],
          "pie": [
           {
            "automargin": true,
            "type": "pie"
           }
          ]
         },
         "layout": {
          "autotypenumbers": "strict",
          "colorway": [
           "#636efa",
           "#EF553B",
           "#00cc96",
           "#ab63fa",
           "#FFA15A",
           "#19d3f3",
           "#FF6692",
           "#B6E880",
           "#FF97FF",
           "#FECB52"
          ],
          "font": {
           "color": "#f2f5fa"
          },
          "hovermode": "closest",
          "hoverlabel": {
           "align": "left"
          },
          "paper_bgcolor": "rgb(17,17,17)",
          "plot_bgcolor": "rgb(17,17,17)",
          "polar": {
           "bgcolor": "rgb(17,17,17)",
           "angularaxis": {
            "gridcolor": "#506784",
            "linecolor": "#506784",
            "ticks": ""
           },
           "radialaxis": {
            "gridcolor": "#506784",
            "linecolor": "#506784",
            "ticks": ""
           }
          },
          "ternary": {
           "bgcolor": "rgb(17,17,17)",
           "aaxis": {
            "gridcolor": "#506784",
            "linecolor": "#506784",
            "ticks": ""
           },
           "baxis": {
            "gridcolor": "#506784",
            "linecolor": "#506784",
            "ticks": ""
           },
           "caxis": {
            "gridcolor": "#506784",
            "linecolor": "#506784",
            "ticks": ""
           }
          },
          "coloraxis": {
           "colorbar": {
            "outlinewidth": 0,
            "ticks": ""
           }
          },
          "colorscale": {
           "sequential": [
            [
             0.0,
             "#0d0887"
            ],
            [
             0.1111111111111111,
             "#46039f"
            ],
            [
             0.2222222222222222,
             "#7201a8"
            ],
            [
             0.3333333333333333,
             "#9c179e"
            ],
            [
             0.4444444444444444,
             "#bd3786"
            ],
            [
             0.5555555555555556,
             "#d8576b"
            ],
            [
             0.6666666666666666,
             "#ed7953"
            ],
            [
             0.7777777777777778,
             "#fb9f3a"
            ],
            [
             0.8888888888888888,
             "#fdca26"
            ],
            [
             1.0,
             "#f0f921"
            ]
           ],
           "sequentialminus": [
            [
             0.0,
             "#0d0887"
            ],
            [
             0.1111111111111111,
             "#46039f"
            ],
            [
             0.2222222222222222,
             "#7201a8"
            ],
            [
             0.3333333333333333,
             "#9c179e"
            ],
            [
             0.4444444444444444,
             "#bd3786"
            ],
            [
             0.5555555555555556,
             "#d8576b"
            ],
            [
             0.6666666666666666,
             "#ed7953"
            ],
            [
             0.7777777777777778,
             "#fb9f3a"
            ],
            [
             0.8888888888888888,
             "#fdca26"
            ],
            [
             1.0,
             "#f0f921"
            ]
           ],
           "diverging": [
            [
             0,
             "#8e0152"
            ],
            [
             0.1,
             "#c51b7d"
            ],
            [
             0.2,
             "#de77ae"
            ],
            [
             0.3,
             "#f1b6da"
            ],
            [
             0.4,
             "#fde0ef"
            ],
            [
             0.5,
             "#f7f7f7"
            ],
            [
             0.6,
             "#e6f5d0"
            ],
            [
             0.7,
             "#b8e186"
            ],
            [
             0.8,
             "#7fbc41"
            ],
            [
             0.9,
             "#4d9221"
            ],
            [
             1,
             "#276419"
            ]
           ]
          },
          "xaxis": {
           "gridcolor": "#283442",
           "linecolor": "#506784",
           "ticks": "",
           "title": {
            "standoff": 15
           },
           "zerolinecolor": "#283442",
           "automargin": true,
           "zerolinewidth": 2
          },
          "yaxis": {
           "gridcolor": "#283442",
           "linecolor": "#506784",
           "ticks": "",
           "title": {
            "standoff": 15
           },
           "zerolinecolor": "#283442",
           "automargin": true,
           "zerolinewidth": 2
          },
          "scene": {
           "xaxis": {
            "backgroundcolor": "rgb(17,17,17)",
            "gridcolor": "#506784",
            "linecolor": "#506784",
            "showbackground": true,
            "ticks": "",
            "zerolinecolor": "#C8D4E3",
            "gridwidth": 2
           },
           "yaxis": {
            "backgroundcolor": "rgb(17,17,17)",
            "gridcolor": "#506784",
            "linecolor": "#506784",
            "showbackground": true,
            "ticks": "",
            "zerolinecolor": "#C8D4E3",
            "gridwidth": 2
           },
           "zaxis": {
            "backgroundcolor": "rgb(17,17,17)",
            "gridcolor": "#506784",
            "linecolor": "#506784",
            "showbackground": true,
            "ticks": "",
            "zerolinecolor": "#C8D4E3",
            "gridwidth": 2
           }
          },
          "shapedefaults": {
           "line": {
            "color": "#f2f5fa"
           }
          },
          "annotationdefaults": {
           "arrowcolor": "#f2f5fa",
           "arrowhead": 0,
           "arrowwidth": 1
          },
          "geo": {
           "bgcolor": "rgb(17,17,17)",
           "landcolor": "rgb(17,17,17)",
           "subunitcolor": "#506784",
           "showland": true,
           "showlakes": true,
           "lakecolor": "rgb(17,17,17)"
          },
          "title": {
           "x": 0.05
          },
          "updatemenudefaults": {
           "bgcolor": "#506784",
           "borderwidth": 0
          },
          "sliderdefaults": {
           "bgcolor": "#C8D4E3",
           "borderwidth": 1,
           "bordercolor": "rgb(17,17,17)",
           "tickwidth": 0
          },
          "mapbox": {
           "style": "dark"
          }
         }
        },
        "xaxis": {
         "anchor": "y",
         "domain": [
          0.0,
          1.0
         ],
         "title": {
          "text": "Track"
         },
         "categoryorder": "total descending"
        },
        "yaxis": {
         "anchor": "x",
         "domain": [
          0.0,
          1.0
         ],
         "title": {
          "text": "Power"
         }
        },
        "coloraxis": {
         "colorbar": {
          "title": {
           "text": "Power"
          }
         },
         "colorscale": [
          [
           0.0,
           "rgb(255,247,236)"
          ],
          [
           0.125,
           "rgb(254,232,200)"
          ],
          [
           0.25,
           "rgb(253,212,158)"
          ],
          [
           0.375,
           "rgb(253,187,132)"
          ],
          [
           0.5,
           "rgb(252,141,89)"
          ],
          [
           0.625,
           "rgb(239,101,72)"
          ],
          [
           0.75,
           "rgb(215,48,31)"
          ],
          [
           0.875,
           "rgb(179,0,0)"
          ],
          [
           1.0,
           "rgb(127,0,0)"
          ]
         ],
         "cmin": 0.0,
         "cmax": 96.6547192353644,
         "showscale": false
        },
        "legend": {
         "tracegroupgap": 0
        },
        "title": {
         "text": "Playlist Power Ranking (Top 20)"
        },
        "barmode": "relative",
        "height": 540,
        "width": 960
       },
       "config": {
        "plotlyServerURL": "https://plot.ly"
       }
      },
      "text/html": [
       "<div>                            <div id=\"c20cd564-7616-4a13-b883-64fc7fa066b5\" class=\"plotly-graph-div\" style=\"height:540px; width:960px;\"></div>            <script type=\"text/javascript\">                require([\"plotly\"], function(Plotly) {                    window.PLOTLYENV=window.PLOTLYENV || {};                                    if (document.getElementById(\"c20cd564-7616-4a13-b883-64fc7fa066b5\")) {                    Plotly.newPlot(                        \"c20cd564-7616-4a13-b883-64fc7fa066b5\",                        [{\"alignmentgroup\":\"True\",\"hovertemplate\":\"Track=%{x}\\u003cbr\\u003ePower=%{marker.color}\\u003cextra\\u003e\\u003c\\u002fextra\\u003e\",\"legendgroup\":\"\",\"marker\":{\"color\":[96.6547192353644,63.86121647437022,59.16047408969844,54.1752261661456,47.88084757836811,40.817598531964634,36.3401900767126,34.909919475963086,33.28395668447602,32.912374381779145,29.712069993011625,23.97333473098784,20.6046520361222,18.00066417245151,17.619859182901262,16.417024295672753,14.59557528323045,14.564376251712032,14.422093408064134,14.278460627068323],\"coloraxis\":\"coloraxis\",\"pattern\":{\"shape\":\"\"}},\"name\":\"\",\"offsetgroup\":\"\",\"orientation\":\"v\",\"showlegend\":false,\"textposition\":\"auto\",\"x\":[\"Neverender\",\"Shiver\",\"Told You So\",\"I Only Smoke When I Drink\",\"Carry You\",\"Go Back (feat. Julia Church)\",\"Push The Tempo\",\"Gravity\",\"Wherever You Are\",\"Wildfire\",\"Empty\",\"Breakaway\",\"Biochemical\",\"Heaven Knows\",\"Mas Que Nada\",\"Next To Me\",\"SexyBack\",\"Only God Knows\",\"This Moment\",\"Young Again\"],\"xaxis\":\"x\",\"y\":[96.6547192353644,63.86121647437022,59.16047408969844,54.1752261661456,47.88084757836811,40.817598531964634,36.3401900767126,34.909919475963086,33.28395668447602,32.912374381779145,29.712069993011625,23.97333473098784,20.6046520361222,18.00066417245151,17.619859182901262,16.417024295672753,14.59557528323045,14.564376251712032,14.422093408064134,14.278460627068323],\"yaxis\":\"y\",\"type\":\"bar\"}],                        {\"template\":{\"data\":{\"histogram2dcontour\":[{\"type\":\"histogram2dcontour\",\"colorbar\":{\"outlinewidth\":0,\"ticks\":\"\"},\"colorscale\":[[0.0,\"#0d0887\"],[0.1111111111111111,\"#46039f\"],[0.2222222222222222,\"#7201a8\"],[0.3333333333333333,\"#9c179e\"],[0.4444444444444444,\"#bd3786\"],[0.5555555555555556,\"#d8576b\"],[0.6666666666666666,\"#ed7953\"],[0.7777777777777778,\"#fb9f3a\"],[0.8888888888888888,\"#fdca26\"],[1.0,\"#f0f921\"]]}],\"choropleth\":[{\"type\":\"choropleth\",\"colorbar\":{\"outlinewidth\":0,\"ticks\":\"\"}}],\"histogram2d\":[{\"type\":\"histogram2d\",\"colorbar\":{\"outlinewidth\":0,\"ticks\":\"\"},\"colorscale\":[[0.0,\"#0d0887\"],[0.1111111111111111,\"#46039f\"],[0.2222222222222222,\"#7201a8\"],[0.3333333333333333,\"#9c179e\"],[0.4444444444444444,\"#bd3786\"],[0.5555555555555556,\"#d8576b\"],[0.6666666666666666,\"#ed7953\"],[0.7777777777777778,\"#fb9f3a\"],[0.8888888888888888,\"#fdca26\"],[1.0,\"#f0f921\"]]}],\"heatmap\":[{\"type\":\"heatmap\",\"colorbar\":{\"outlinewidth\":0,\"ticks\":\"\"},\"colorscale\":[[0.0,\"#0d0887\"],[0.1111111111111111,\"#46039f\"],[0.2222222222222222,\"#7201a8\"],[0.3333333333333333,\"#9c179e\"],[0.4444444444444444,\"#bd3786\"],[0.5555555555555556,\"#d8576b\"],[0.6666666666666666,\"#ed7953\"],[0.7777777777777778,\"#fb9f3a\"],[0.8888888888888888,\"#fdca26\"],[1.0,\"#f0f921\"]]}],\"heatmapgl\":[{\"type\":\"heatmapgl\",\"colorbar\":{\"outlinewidth\":0,\"ticks\":\"\"},\"colorscale\":[[0.0,\"#0d0887\"],[0.1111111111111111,\"#46039f\"],[0.2222222222222222,\"#7201a8\"],[0.3333333333333333,\"#9c179e\"],[0.4444444444444444,\"#bd3786\"],[0.5555555555555556,\"#d8576b\"],[0.6666666666666666,\"#ed7953\"],[0.7777777777777778,\"#fb9f3a\"],[0.8888888888888888,\"#fdca26\"],[1.0,\"#f0f921\"]]}],\"contourcarpet\":[{\"type\":\"contourcarpet\",\"colorbar\":{\"outlinewidth\":0,\"ticks\":\"\"}}],\"contour\":[{\"type\":\"contour\",\"colorbar\":{\"outlinewidth\":0,\"ticks\":\"\"},\"colorscale\":[[0.0,\"#0d0887\"],[0.1111111111111111,\"#46039f\"],[0.2222222222222222,\"#7201a8\"],[0.3333333333333333,\"#9c179e\"],[0.4444444444444444,\"#bd3786\"],[0.5555555555555556,\"#d8576b\"],[0.6666666666666666,\"#ed7953\"],[0.7777777777777778,\"#fb9f3a\"],[0.8888888888888888,\"#fdca26\"],[1.0,\"#f0f921\"]]}],\"surface\":[{\"type\":\"surface\",\"colorbar\":{\"outlinewidth\":0,\"ticks\":\"\"},\"colorscale\":[[0.0,\"#0d0887\"],[0.1111111111111111,\"#46039f\"],[0.2222222222222222,\"#7201a8\"],[0.3333333333333333,\"#9c179e\"],[0.4444444444444444,\"#bd3786\"],[0.5555555555555556,\"#d8576b\"],[0.6666666666666666,\"#ed7953\"],[0.7777777777777778,\"#fb9f3a\"],[0.8888888888888888,\"#fdca26\"],[1.0,\"#f0f921\"]]}],\"mesh3d\":[{\"type\":\"mesh3d\",\"colorbar\":{\"outlinewidth\":0,\"ticks\":\"\"}}],\"scatter\":[{\"marker\":{\"line\":{\"color\":\"#283442\"}},\"type\":\"scatter\"}],\"parcoords\":[{\"type\":\"parcoords\",\"line\":{\"colorbar\":{\"outlinewidth\":0,\"ticks\":\"\"}}}],\"scatterpolargl\":[{\"type\":\"scatterpolargl\",\"marker\":{\"colorbar\":{\"outlinewidth\":0,\"ticks\":\"\"}}}],\"bar\":[{\"error_x\":{\"color\":\"#f2f5fa\"},\"error_y\":{\"color\":\"#f2f5fa\"},\"marker\":{\"line\":{\"color\":\"rgb(17,17,17)\",\"width\":0.5},\"pattern\":{\"fillmode\":\"overlay\",\"size\":10,\"solidity\":0.2}},\"type\":\"bar\"}],\"scattergeo\":[{\"type\":\"scattergeo\",\"marker\":{\"colorbar\":{\"outlinewidth\":0,\"ticks\":\"\"}}}],\"scatterpolar\":[{\"type\":\"scatterpolar\",\"marker\":{\"colorbar\":{\"outlinewidth\":0,\"ticks\":\"\"}}}],\"histogram\":[{\"marker\":{\"pattern\":{\"fillmode\":\"overlay\",\"size\":10,\"solidity\":0.2}},\"type\":\"histogram\"}],\"scattergl\":[{\"marker\":{\"line\":{\"color\":\"#283442\"}},\"type\":\"scattergl\"}],\"scatter3d\":[{\"type\":\"scatter3d\",\"line\":{\"colorbar\":{\"outlinewidth\":0,\"ticks\":\"\"}},\"marker\":{\"colorbar\":{\"outlinewidth\":0,\"ticks\":\"\"}}}],\"scattermapbox\":[{\"type\":\"scattermapbox\",\"marker\":{\"colorbar\":{\"outlinewidth\":0,\"ticks\":\"\"}}}],\"scatterternary\":[{\"type\":\"scatterternary\",\"marker\":{\"colorbar\":{\"outlinewidth\":0,\"ticks\":\"\"}}}],\"scattercarpet\":[{\"type\":\"scattercarpet\",\"marker\":{\"colorbar\":{\"outlinewidth\":0,\"ticks\":\"\"}}}],\"carpet\":[{\"aaxis\":{\"endlinecolor\":\"#A2B1C6\",\"gridcolor\":\"#506784\",\"linecolor\":\"#506784\",\"minorgridcolor\":\"#506784\",\"startlinecolor\":\"#A2B1C6\"},\"baxis\":{\"endlinecolor\":\"#A2B1C6\",\"gridcolor\":\"#506784\",\"linecolor\":\"#506784\",\"minorgridcolor\":\"#506784\",\"startlinecolor\":\"#A2B1C6\"},\"type\":\"carpet\"}],\"table\":[{\"cells\":{\"fill\":{\"color\":\"#506784\"},\"line\":{\"color\":\"rgb(17,17,17)\"}},\"header\":{\"fill\":{\"color\":\"#2a3f5f\"},\"line\":{\"color\":\"rgb(17,17,17)\"}},\"type\":\"table\"}],\"barpolar\":[{\"marker\":{\"line\":{\"color\":\"rgb(17,17,17)\",\"width\":0.5},\"pattern\":{\"fillmode\":\"overlay\",\"size\":10,\"solidity\":0.2}},\"type\":\"barpolar\"}],\"pie\":[{\"automargin\":true,\"type\":\"pie\"}]},\"layout\":{\"autotypenumbers\":\"strict\",\"colorway\":[\"#636efa\",\"#EF553B\",\"#00cc96\",\"#ab63fa\",\"#FFA15A\",\"#19d3f3\",\"#FF6692\",\"#B6E880\",\"#FF97FF\",\"#FECB52\"],\"font\":{\"color\":\"#f2f5fa\"},\"hovermode\":\"closest\",\"hoverlabel\":{\"align\":\"left\"},\"paper_bgcolor\":\"rgb(17,17,17)\",\"plot_bgcolor\":\"rgb(17,17,17)\",\"polar\":{\"bgcolor\":\"rgb(17,17,17)\",\"angularaxis\":{\"gridcolor\":\"#506784\",\"linecolor\":\"#506784\",\"ticks\":\"\"},\"radialaxis\":{\"gridcolor\":\"#506784\",\"linecolor\":\"#506784\",\"ticks\":\"\"}},\"ternary\":{\"bgcolor\":\"rgb(17,17,17)\",\"aaxis\":{\"gridcolor\":\"#506784\",\"linecolor\":\"#506784\",\"ticks\":\"\"},\"baxis\":{\"gridcolor\":\"#506784\",\"linecolor\":\"#506784\",\"ticks\":\"\"},\"caxis\":{\"gridcolor\":\"#506784\",\"linecolor\":\"#506784\",\"ticks\":\"\"}},\"coloraxis\":{\"colorbar\":{\"outlinewidth\":0,\"ticks\":\"\"}},\"colorscale\":{\"sequential\":[[0.0,\"#0d0887\"],[0.1111111111111111,\"#46039f\"],[0.2222222222222222,\"#7201a8\"],[0.3333333333333333,\"#9c179e\"],[0.4444444444444444,\"#bd3786\"],[0.5555555555555556,\"#d8576b\"],[0.6666666666666666,\"#ed7953\"],[0.7777777777777778,\"#fb9f3a\"],[0.8888888888888888,\"#fdca26\"],[1.0,\"#f0f921\"]],\"sequentialminus\":[[0.0,\"#0d0887\"],[0.1111111111111111,\"#46039f\"],[0.2222222222222222,\"#7201a8\"],[0.3333333333333333,\"#9c179e\"],[0.4444444444444444,\"#bd3786\"],[0.5555555555555556,\"#d8576b\"],[0.6666666666666666,\"#ed7953\"],[0.7777777777777778,\"#fb9f3a\"],[0.8888888888888888,\"#fdca26\"],[1.0,\"#f0f921\"]],\"diverging\":[[0,\"#8e0152\"],[0.1,\"#c51b7d\"],[0.2,\"#de77ae\"],[0.3,\"#f1b6da\"],[0.4,\"#fde0ef\"],[0.5,\"#f7f7f7\"],[0.6,\"#e6f5d0\"],[0.7,\"#b8e186\"],[0.8,\"#7fbc41\"],[0.9,\"#4d9221\"],[1,\"#276419\"]]},\"xaxis\":{\"gridcolor\":\"#283442\",\"linecolor\":\"#506784\",\"ticks\":\"\",\"title\":{\"standoff\":15},\"zerolinecolor\":\"#283442\",\"automargin\":true,\"zerolinewidth\":2},\"yaxis\":{\"gridcolor\":\"#283442\",\"linecolor\":\"#506784\",\"ticks\":\"\",\"title\":{\"standoff\":15},\"zerolinecolor\":\"#283442\",\"automargin\":true,\"zerolinewidth\":2},\"scene\":{\"xaxis\":{\"backgroundcolor\":\"rgb(17,17,17)\",\"gridcolor\":\"#506784\",\"linecolor\":\"#506784\",\"showbackground\":true,\"ticks\":\"\",\"zerolinecolor\":\"#C8D4E3\",\"gridwidth\":2},\"yaxis\":{\"backgroundcolor\":\"rgb(17,17,17)\",\"gridcolor\":\"#506784\",\"linecolor\":\"#506784\",\"showbackground\":true,\"ticks\":\"\",\"zerolinecolor\":\"#C8D4E3\",\"gridwidth\":2},\"zaxis\":{\"backgroundcolor\":\"rgb(17,17,17)\",\"gridcolor\":\"#506784\",\"linecolor\":\"#506784\",\"showbackground\":true,\"ticks\":\"\",\"zerolinecolor\":\"#C8D4E3\",\"gridwidth\":2}},\"shapedefaults\":{\"line\":{\"color\":\"#f2f5fa\"}},\"annotationdefaults\":{\"arrowcolor\":\"#f2f5fa\",\"arrowhead\":0,\"arrowwidth\":1},\"geo\":{\"bgcolor\":\"rgb(17,17,17)\",\"landcolor\":\"rgb(17,17,17)\",\"subunitcolor\":\"#506784\",\"showland\":true,\"showlakes\":true,\"lakecolor\":\"rgb(17,17,17)\"},\"title\":{\"x\":0.05},\"updatemenudefaults\":{\"bgcolor\":\"#506784\",\"borderwidth\":0},\"sliderdefaults\":{\"bgcolor\":\"#C8D4E3\",\"borderwidth\":1,\"bordercolor\":\"rgb(17,17,17)\",\"tickwidth\":0},\"mapbox\":{\"style\":\"dark\"}}},\"xaxis\":{\"anchor\":\"y\",\"domain\":[0.0,1.0],\"title\":{\"text\":\"Track\"},\"categoryorder\":\"total descending\"},\"yaxis\":{\"anchor\":\"x\",\"domain\":[0.0,1.0],\"title\":{\"text\":\"Power\"}},\"coloraxis\":{\"colorbar\":{\"title\":{\"text\":\"Power\"}},\"colorscale\":[[0.0,\"rgb(255,247,236)\"],[0.125,\"rgb(254,232,200)\"],[0.25,\"rgb(253,212,158)\"],[0.375,\"rgb(253,187,132)\"],[0.5,\"rgb(252,141,89)\"],[0.625,\"rgb(239,101,72)\"],[0.75,\"rgb(215,48,31)\"],[0.875,\"rgb(179,0,0)\"],[1.0,\"rgb(127,0,0)\"]],\"cmin\":0.0,\"cmax\":96.6547192353644,\"showscale\":false},\"legend\":{\"tracegroupgap\":0},\"title\":{\"text\":\"Playlist Power Ranking (Top 20)\"},\"barmode\":\"relative\",\"height\":540,\"width\":960},                        {\"responsive\": true}                    ).then(function(){\n",
       "                            \n",
       "var gd = document.getElementById('c20cd564-7616-4a13-b883-64fc7fa066b5');\n",
       "var x = new MutationObserver(function (mutations, observer) {{\n",
       "        var display = window.getComputedStyle(gd).display;\n",
       "        if (!display || display === 'none') {{\n",
       "            console.log([gd, 'removed!']);\n",
       "            Plotly.purge(gd);\n",
       "            observer.disconnect();\n",
       "        }}\n",
       "}});\n",
       "\n",
       "// Listen for the removal of the full notebook cells\n",
       "var notebookContainer = gd.closest('#notebook-container');\n",
       "if (notebookContainer) {{\n",
       "    x.observe(notebookContainer, {childList: true});\n",
       "}}\n",
       "\n",
       "// Listen for the clearing of the current output cell\n",
       "var outputEl = gd.closest('.output');\n",
       "if (outputEl) {{\n",
       "    x.observe(outputEl, {childList: true});\n",
       "}}\n",
       "\n",
       "                        })                };                });            </script>        </div>"
      ]
     },
     "metadata": {},
     "output_type": "display_data"
    }
   ],
   "execution_count": 327
  },
  {
   "metadata": {},
   "cell_type": "markdown",
   "source": [
    "### Popularity\n",
    "#### Rescale statistics"
   ],
   "id": "4eaade0bb1869d80"
  },
  {
   "metadata": {
    "ExecuteTime": {
     "end_time": "2024-12-17T17:41:39.970970Z",
     "start_time": "2024-12-17T17:41:39.952056Z"
    }
   },
   "cell_type": "code",
   "source": [
    "data_pop = rescale_stats(data_pop, general_field)\n",
    "data_pop"
   ],
   "id": "56df312d029bc6a7",
   "outputs": [
    {
     "data": {
      "text/plain": [
       "    songstats_id                songstats_title  \\\n",
       "0       qmr6e0bx                             16   \n",
       "1       cxsruom1  17 (Ekko & Sidetrack Bootleg)   \n",
       "2       847p1x5v             Never Let You Down   \n",
       "3       4owlyi76                           4 AM   \n",
       "4       a3ok10ce                             4D   \n",
       "..           ...                            ...   \n",
       "302     cqdneir6                Can You Feel It   \n",
       "303     nwqit015              Curse of the Moai   \n",
       "304     em4stqoh                       Himalaya   \n",
       "305     wx93mcy6                     Next To Me   \n",
       "306     0wpg1fj9             Hopelessly Falling   \n",
       "\n",
       "                                           artist_list  \\\n",
       "0                      [blasterjaxx, hardwell, maddix]   \n",
       "1                               [ekko & sidetrack, mk]   \n",
       "2    [cimone, deadline, duskee, emily makis, fricti...   \n",
       "3                                       [lexed, oshan]   \n",
       "4                            [bad computer, ryan coss]   \n",
       "..                                                 ...   \n",
       "302                                      [retrovision]   \n",
       "303                                      [exyl, nasko]   \n",
       "304                                  [matisse & sadko]   \n",
       "305                      [don diablo, gaby gerlis, mk]   \n",
       "306                   [enrem, jonah sky, rico 56, ubo]   \n",
       "\n",
       "                              genre                 label  \\\n",
       "0                     [hard techno]            [revealed]   \n",
       "1                     [drum & bass]         [[no labels]]   \n",
       "2                     [drum & bass]        [shogun audio]   \n",
       "3    [future house / future bounce]  [future house cloud]   \n",
       "4                   [electro house]          [monstercat]   \n",
       "..                              ...                   ...   \n",
       "302                    [bass house]               [stmpd]   \n",
       "303        [drumstep / moombahcore]         [[no labels]]   \n",
       "304             [progressive house]               [stmpd]   \n",
       "305  [future house / future bounce]             [hexagon]   \n",
       "306                 [melodic house]     [monstercat silk]   \n",
       "\n",
       "                           title  deezer_popularity_peak  \\\n",
       "0                             16               80.808081   \n",
       "1    17 ekko & sidetrack bootleg                0.000000   \n",
       "2             never let you down               21.212121   \n",
       "3                           4 am               13.131313   \n",
       "4                             4d               34.343434   \n",
       "..                           ...                     ...   \n",
       "302              can you feel it               10.101010   \n",
       "303            curse of the moai                0.000000   \n",
       "304                     himalaya               10.101010   \n",
       "305                   next to me               13.131313   \n",
       "306           hopelessly falling               21.212121   \n",
       "\n",
       "     spotify_popularity_peak  tidal_popularity_peak  \n",
       "0                  78.481013                50.0000  \n",
       "1                   0.000000                 0.0000  \n",
       "2                  43.037975                 0.0000  \n",
       "3                  25.316456                 0.0000  \n",
       "4                  59.493671                10.9375  \n",
       "..                       ...                    ...  \n",
       "302                40.506329                 0.0000  \n",
       "303                44.303797                 0.0000  \n",
       "304                49.367089                 4.6875  \n",
       "305                68.354430                10.9375  \n",
       "306                26.582278                 0.0000  \n",
       "\n",
       "[307 rows x 9 columns]"
      ],
      "text/html": [
       "<div>\n",
       "<style scoped>\n",
       "    .dataframe tbody tr th:only-of-type {\n",
       "        vertical-align: middle;\n",
       "    }\n",
       "\n",
       "    .dataframe tbody tr th {\n",
       "        vertical-align: top;\n",
       "    }\n",
       "\n",
       "    .dataframe thead th {\n",
       "        text-align: right;\n",
       "    }\n",
       "</style>\n",
       "<table border=\"1\" class=\"dataframe\">\n",
       "  <thead>\n",
       "    <tr style=\"text-align: right;\">\n",
       "      <th></th>\n",
       "      <th>songstats_id</th>\n",
       "      <th>songstats_title</th>\n",
       "      <th>artist_list</th>\n",
       "      <th>genre</th>\n",
       "      <th>label</th>\n",
       "      <th>title</th>\n",
       "      <th>deezer_popularity_peak</th>\n",
       "      <th>spotify_popularity_peak</th>\n",
       "      <th>tidal_popularity_peak</th>\n",
       "    </tr>\n",
       "  </thead>\n",
       "  <tbody>\n",
       "    <tr>\n",
       "      <th>0</th>\n",
       "      <td>qmr6e0bx</td>\n",
       "      <td>16</td>\n",
       "      <td>[blasterjaxx, hardwell, maddix]</td>\n",
       "      <td>[hard techno]</td>\n",
       "      <td>[revealed]</td>\n",
       "      <td>16</td>\n",
       "      <td>80.808081</td>\n",
       "      <td>78.481013</td>\n",
       "      <td>50.0000</td>\n",
       "    </tr>\n",
       "    <tr>\n",
       "      <th>1</th>\n",
       "      <td>cxsruom1</td>\n",
       "      <td>17 (Ekko &amp; Sidetrack Bootleg)</td>\n",
       "      <td>[ekko &amp; sidetrack, mk]</td>\n",
       "      <td>[drum &amp; bass]</td>\n",
       "      <td>[[no labels]]</td>\n",
       "      <td>17 ekko &amp; sidetrack bootleg</td>\n",
       "      <td>0.000000</td>\n",
       "      <td>0.000000</td>\n",
       "      <td>0.0000</td>\n",
       "    </tr>\n",
       "    <tr>\n",
       "      <th>2</th>\n",
       "      <td>847p1x5v</td>\n",
       "      <td>Never Let You Down</td>\n",
       "      <td>[cimone, deadline, duskee, emily makis, fricti...</td>\n",
       "      <td>[drum &amp; bass]</td>\n",
       "      <td>[shogun audio]</td>\n",
       "      <td>never let you down</td>\n",
       "      <td>21.212121</td>\n",
       "      <td>43.037975</td>\n",
       "      <td>0.0000</td>\n",
       "    </tr>\n",
       "    <tr>\n",
       "      <th>3</th>\n",
       "      <td>4owlyi76</td>\n",
       "      <td>4 AM</td>\n",
       "      <td>[lexed, oshan]</td>\n",
       "      <td>[future house / future bounce]</td>\n",
       "      <td>[future house cloud]</td>\n",
       "      <td>4 am</td>\n",
       "      <td>13.131313</td>\n",
       "      <td>25.316456</td>\n",
       "      <td>0.0000</td>\n",
       "    </tr>\n",
       "    <tr>\n",
       "      <th>4</th>\n",
       "      <td>a3ok10ce</td>\n",
       "      <td>4D</td>\n",
       "      <td>[bad computer, ryan coss]</td>\n",
       "      <td>[electro house]</td>\n",
       "      <td>[monstercat]</td>\n",
       "      <td>4d</td>\n",
       "      <td>34.343434</td>\n",
       "      <td>59.493671</td>\n",
       "      <td>10.9375</td>\n",
       "    </tr>\n",
       "    <tr>\n",
       "      <th>...</th>\n",
       "      <td>...</td>\n",
       "      <td>...</td>\n",
       "      <td>...</td>\n",
       "      <td>...</td>\n",
       "      <td>...</td>\n",
       "      <td>...</td>\n",
       "      <td>...</td>\n",
       "      <td>...</td>\n",
       "      <td>...</td>\n",
       "    </tr>\n",
       "    <tr>\n",
       "      <th>302</th>\n",
       "      <td>cqdneir6</td>\n",
       "      <td>Can You Feel It</td>\n",
       "      <td>[retrovision]</td>\n",
       "      <td>[bass house]</td>\n",
       "      <td>[stmpd]</td>\n",
       "      <td>can you feel it</td>\n",
       "      <td>10.101010</td>\n",
       "      <td>40.506329</td>\n",
       "      <td>0.0000</td>\n",
       "    </tr>\n",
       "    <tr>\n",
       "      <th>303</th>\n",
       "      <td>nwqit015</td>\n",
       "      <td>Curse of the Moai</td>\n",
       "      <td>[exyl, nasko]</td>\n",
       "      <td>[drumstep / moombahcore]</td>\n",
       "      <td>[[no labels]]</td>\n",
       "      <td>curse of the moai</td>\n",
       "      <td>0.000000</td>\n",
       "      <td>44.303797</td>\n",
       "      <td>0.0000</td>\n",
       "    </tr>\n",
       "    <tr>\n",
       "      <th>304</th>\n",
       "      <td>em4stqoh</td>\n",
       "      <td>Himalaya</td>\n",
       "      <td>[matisse &amp; sadko]</td>\n",
       "      <td>[progressive house]</td>\n",
       "      <td>[stmpd]</td>\n",
       "      <td>himalaya</td>\n",
       "      <td>10.101010</td>\n",
       "      <td>49.367089</td>\n",
       "      <td>4.6875</td>\n",
       "    </tr>\n",
       "    <tr>\n",
       "      <th>305</th>\n",
       "      <td>wx93mcy6</td>\n",
       "      <td>Next To Me</td>\n",
       "      <td>[don diablo, gaby gerlis, mk]</td>\n",
       "      <td>[future house / future bounce]</td>\n",
       "      <td>[hexagon]</td>\n",
       "      <td>next to me</td>\n",
       "      <td>13.131313</td>\n",
       "      <td>68.354430</td>\n",
       "      <td>10.9375</td>\n",
       "    </tr>\n",
       "    <tr>\n",
       "      <th>306</th>\n",
       "      <td>0wpg1fj9</td>\n",
       "      <td>Hopelessly Falling</td>\n",
       "      <td>[enrem, jonah sky, rico 56, ubo]</td>\n",
       "      <td>[melodic house]</td>\n",
       "      <td>[monstercat silk]</td>\n",
       "      <td>hopelessly falling</td>\n",
       "      <td>21.212121</td>\n",
       "      <td>26.582278</td>\n",
       "      <td>0.0000</td>\n",
       "    </tr>\n",
       "  </tbody>\n",
       "</table>\n",
       "<p>307 rows × 9 columns</p>\n",
       "</div>"
      ]
     },
     "execution_count": 312,
     "metadata": {},
     "output_type": "execute_result"
    }
   ],
   "execution_count": 312
  },
  {
   "metadata": {},
   "cell_type": "markdown",
   "source": "#### Weighting by recorded by stats",
   "id": "d1b1066d60b4b20a"
  },
  {
   "metadata": {
    "ExecuteTime": {
     "end_time": "2024-12-17T17:41:40.107591Z",
     "start_time": "2024-12-17T17:41:40.084521Z"
    }
   },
   "cell_type": "code",
   "source": [
    "pr_pop, w_pop = compute_power(data_pop, general_field)  # 'w_pop' is calculated for the final step of the Power Ranking\n",
    "pr_pop"
   ],
   "id": "e985f869c74bb8ad",
   "outputs": [
    {
     "data": {
      "text/plain": [
       "    songstats_id                songstats_title  \\\n",
       "0       qmr6e0bx                             16   \n",
       "1       cxsruom1  17 (Ekko & Sidetrack Bootleg)   \n",
       "2       847p1x5v             Never Let You Down   \n",
       "3       4owlyi76                           4 AM   \n",
       "4       a3ok10ce                             4D   \n",
       "..           ...                            ...   \n",
       "302     cqdneir6                Can You Feel It   \n",
       "303     nwqit015              Curse of the Moai   \n",
       "304     em4stqoh                       Himalaya   \n",
       "305     wx93mcy6                     Next To Me   \n",
       "306     0wpg1fj9             Hopelessly Falling   \n",
       "\n",
       "                                           artist_list  \\\n",
       "0                      [blasterjaxx, hardwell, maddix]   \n",
       "1                               [ekko & sidetrack, mk]   \n",
       "2    [cimone, deadline, duskee, emily makis, fricti...   \n",
       "3                                       [lexed, oshan]   \n",
       "4                            [bad computer, ryan coss]   \n",
       "..                                                 ...   \n",
       "302                                      [retrovision]   \n",
       "303                                      [exyl, nasko]   \n",
       "304                                  [matisse & sadko]   \n",
       "305                      [don diablo, gaby gerlis, mk]   \n",
       "306                   [enrem, jonah sky, rico 56, ubo]   \n",
       "\n",
       "                              genre                 label  \\\n",
       "0                     [hard techno]            [revealed]   \n",
       "1                     [drum & bass]         [[no labels]]   \n",
       "2                     [drum & bass]        [shogun audio]   \n",
       "3    [future house / future bounce]  [future house cloud]   \n",
       "4                   [electro house]          [monstercat]   \n",
       "..                              ...                   ...   \n",
       "302                    [bass house]               [stmpd]   \n",
       "303        [drumstep / moombahcore]         [[no labels]]   \n",
       "304             [progressive house]               [stmpd]   \n",
       "305  [future house / future bounce]             [hexagon]   \n",
       "306                 [melodic house]     [monstercat silk]   \n",
       "\n",
       "                           title  deezer_popularity_peak  \\\n",
       "0                             16               80.808081   \n",
       "1    17 ekko & sidetrack bootleg                0.000000   \n",
       "2             never let you down               21.212121   \n",
       "3                           4 am               13.131313   \n",
       "4                             4d               34.343434   \n",
       "..                           ...                     ...   \n",
       "302              can you feel it               10.101010   \n",
       "303            curse of the moai                0.000000   \n",
       "304                     himalaya               10.101010   \n",
       "305                   next to me               13.131313   \n",
       "306           hopelessly falling               21.212121   \n",
       "\n",
       "     spotify_popularity_peak  tidal_popularity_peak        PWR  \n",
       "0                  78.481013                50.0000  72.421201  \n",
       "1                   0.000000                 0.0000   0.000000  \n",
       "2                  43.037975                 0.0000  24.439029  \n",
       "3                  25.316456                 0.0000  14.619412  \n",
       "4                  59.493671                10.9375  38.314074  \n",
       "..                       ...                    ...        ...  \n",
       "302                40.506329                 0.0000  19.326611  \n",
       "303                44.303797                 0.0000  17.022287  \n",
       "304                49.367089                 4.6875  23.871108  \n",
       "305                68.354430                10.9375  33.815439  \n",
       "306                26.582278                 0.0000  18.116465  \n",
       "\n",
       "[307 rows x 10 columns]"
      ],
      "text/html": [
       "<div>\n",
       "<style scoped>\n",
       "    .dataframe tbody tr th:only-of-type {\n",
       "        vertical-align: middle;\n",
       "    }\n",
       "\n",
       "    .dataframe tbody tr th {\n",
       "        vertical-align: top;\n",
       "    }\n",
       "\n",
       "    .dataframe thead th {\n",
       "        text-align: right;\n",
       "    }\n",
       "</style>\n",
       "<table border=\"1\" class=\"dataframe\">\n",
       "  <thead>\n",
       "    <tr style=\"text-align: right;\">\n",
       "      <th></th>\n",
       "      <th>songstats_id</th>\n",
       "      <th>songstats_title</th>\n",
       "      <th>artist_list</th>\n",
       "      <th>genre</th>\n",
       "      <th>label</th>\n",
       "      <th>title</th>\n",
       "      <th>deezer_popularity_peak</th>\n",
       "      <th>spotify_popularity_peak</th>\n",
       "      <th>tidal_popularity_peak</th>\n",
       "      <th>PWR</th>\n",
       "    </tr>\n",
       "  </thead>\n",
       "  <tbody>\n",
       "    <tr>\n",
       "      <th>0</th>\n",
       "      <td>qmr6e0bx</td>\n",
       "      <td>16</td>\n",
       "      <td>[blasterjaxx, hardwell, maddix]</td>\n",
       "      <td>[hard techno]</td>\n",
       "      <td>[revealed]</td>\n",
       "      <td>16</td>\n",
       "      <td>80.808081</td>\n",
       "      <td>78.481013</td>\n",
       "      <td>50.0000</td>\n",
       "      <td>72.421201</td>\n",
       "    </tr>\n",
       "    <tr>\n",
       "      <th>1</th>\n",
       "      <td>cxsruom1</td>\n",
       "      <td>17 (Ekko &amp; Sidetrack Bootleg)</td>\n",
       "      <td>[ekko &amp; sidetrack, mk]</td>\n",
       "      <td>[drum &amp; bass]</td>\n",
       "      <td>[[no labels]]</td>\n",
       "      <td>17 ekko &amp; sidetrack bootleg</td>\n",
       "      <td>0.000000</td>\n",
       "      <td>0.000000</td>\n",
       "      <td>0.0000</td>\n",
       "      <td>0.000000</td>\n",
       "    </tr>\n",
       "    <tr>\n",
       "      <th>2</th>\n",
       "      <td>847p1x5v</td>\n",
       "      <td>Never Let You Down</td>\n",
       "      <td>[cimone, deadline, duskee, emily makis, fricti...</td>\n",
       "      <td>[drum &amp; bass]</td>\n",
       "      <td>[shogun audio]</td>\n",
       "      <td>never let you down</td>\n",
       "      <td>21.212121</td>\n",
       "      <td>43.037975</td>\n",
       "      <td>0.0000</td>\n",
       "      <td>24.439029</td>\n",
       "    </tr>\n",
       "    <tr>\n",
       "      <th>3</th>\n",
       "      <td>4owlyi76</td>\n",
       "      <td>4 AM</td>\n",
       "      <td>[lexed, oshan]</td>\n",
       "      <td>[future house / future bounce]</td>\n",
       "      <td>[future house cloud]</td>\n",
       "      <td>4 am</td>\n",
       "      <td>13.131313</td>\n",
       "      <td>25.316456</td>\n",
       "      <td>0.0000</td>\n",
       "      <td>14.619412</td>\n",
       "    </tr>\n",
       "    <tr>\n",
       "      <th>4</th>\n",
       "      <td>a3ok10ce</td>\n",
       "      <td>4D</td>\n",
       "      <td>[bad computer, ryan coss]</td>\n",
       "      <td>[electro house]</td>\n",
       "      <td>[monstercat]</td>\n",
       "      <td>4d</td>\n",
       "      <td>34.343434</td>\n",
       "      <td>59.493671</td>\n",
       "      <td>10.9375</td>\n",
       "      <td>38.314074</td>\n",
       "    </tr>\n",
       "    <tr>\n",
       "      <th>...</th>\n",
       "      <td>...</td>\n",
       "      <td>...</td>\n",
       "      <td>...</td>\n",
       "      <td>...</td>\n",
       "      <td>...</td>\n",
       "      <td>...</td>\n",
       "      <td>...</td>\n",
       "      <td>...</td>\n",
       "      <td>...</td>\n",
       "      <td>...</td>\n",
       "    </tr>\n",
       "    <tr>\n",
       "      <th>302</th>\n",
       "      <td>cqdneir6</td>\n",
       "      <td>Can You Feel It</td>\n",
       "      <td>[retrovision]</td>\n",
       "      <td>[bass house]</td>\n",
       "      <td>[stmpd]</td>\n",
       "      <td>can you feel it</td>\n",
       "      <td>10.101010</td>\n",
       "      <td>40.506329</td>\n",
       "      <td>0.0000</td>\n",
       "      <td>19.326611</td>\n",
       "    </tr>\n",
       "    <tr>\n",
       "      <th>303</th>\n",
       "      <td>nwqit015</td>\n",
       "      <td>Curse of the Moai</td>\n",
       "      <td>[exyl, nasko]</td>\n",
       "      <td>[drumstep / moombahcore]</td>\n",
       "      <td>[[no labels]]</td>\n",
       "      <td>curse of the moai</td>\n",
       "      <td>0.000000</td>\n",
       "      <td>44.303797</td>\n",
       "      <td>0.0000</td>\n",
       "      <td>17.022287</td>\n",
       "    </tr>\n",
       "    <tr>\n",
       "      <th>304</th>\n",
       "      <td>em4stqoh</td>\n",
       "      <td>Himalaya</td>\n",
       "      <td>[matisse &amp; sadko]</td>\n",
       "      <td>[progressive house]</td>\n",
       "      <td>[stmpd]</td>\n",
       "      <td>himalaya</td>\n",
       "      <td>10.101010</td>\n",
       "      <td>49.367089</td>\n",
       "      <td>4.6875</td>\n",
       "      <td>23.871108</td>\n",
       "    </tr>\n",
       "    <tr>\n",
       "      <th>305</th>\n",
       "      <td>wx93mcy6</td>\n",
       "      <td>Next To Me</td>\n",
       "      <td>[don diablo, gaby gerlis, mk]</td>\n",
       "      <td>[future house / future bounce]</td>\n",
       "      <td>[hexagon]</td>\n",
       "      <td>next to me</td>\n",
       "      <td>13.131313</td>\n",
       "      <td>68.354430</td>\n",
       "      <td>10.9375</td>\n",
       "      <td>33.815439</td>\n",
       "    </tr>\n",
       "    <tr>\n",
       "      <th>306</th>\n",
       "      <td>0wpg1fj9</td>\n",
       "      <td>Hopelessly Falling</td>\n",
       "      <td>[enrem, jonah sky, rico 56, ubo]</td>\n",
       "      <td>[melodic house]</td>\n",
       "      <td>[monstercat silk]</td>\n",
       "      <td>hopelessly falling</td>\n",
       "      <td>21.212121</td>\n",
       "      <td>26.582278</td>\n",
       "      <td>0.0000</td>\n",
       "      <td>18.116465</td>\n",
       "    </tr>\n",
       "  </tbody>\n",
       "</table>\n",
       "<p>307 rows × 10 columns</p>\n",
       "</div>"
      ]
     },
     "execution_count": 313,
     "metadata": {},
     "output_type": "execute_result"
    }
   ],
   "execution_count": 313
  },
  {
   "metadata": {},
   "cell_type": "markdown",
   "source": "#### Graphical Representation",
   "id": "a3b82fad33ee4c6d"
  },
  {
   "metadata": {
    "ExecuteTime": {
     "end_time": "2024-12-17T17:41:40.245416Z",
     "start_time": "2024-12-17T17:41:40.197608Z"
    }
   },
   "cell_type": "code",
   "source": [
    "bar_pr_pop = plot_bar(dataframe=pr_pop.sort_values('PWR', ascending=False).head(20),\n",
    "                      x='songstats_title',\n",
    "                      y='PWR',\n",
    "                      title='Popularity Power Ranking (Top 20)',\n",
    "                      x_label='Track',\n",
    "                      y_label='Power',\n",
    "                      col_range=(pr_pop.PWR.min(), pr_pop.PWR.max()))\n",
    "bar_pr_pop.show()"
   ],
   "id": "d6e9d52edc47f0f4",
   "outputs": [
    {
     "data": {
      "application/vnd.plotly.v1+json": {
       "data": [
        {
         "alignmentgroup": "True",
         "hovertemplate": "Track=%{x}<br>Power=%{marker.color}<extra></extra>",
         "legendgroup": "",
         "marker": {
          "color": [
           98.05459577185715,
           92.05280489239094,
           87.59994610986146,
           87.2361132407475,
           86.93523283666079,
           86.57507514101503,
           84.78450271460409,
           83.9365145882987,
           80.63839530947381,
           79.39253941646805,
           76.98994360888265,
           76.22132992525349,
           75.77173060289965,
           75.43829467485043,
           75.19865475625134,
           73.4095617034643,
           73.18638097946072,
           72.88478414915362,
           72.42120055914741,
           71.2985792802838
          ],
          "coloraxis": "coloraxis",
          "pattern": {
           "shape": ""
          }
         },
         "name": "",
         "offsetgroup": "",
         "orientation": "v",
         "showlegend": false,
         "textposition": "auto",
         "x": [
          "Neverender",
          "I Only Smoke When I Drink",
          "Told You So",
          "Go Back (feat. Julia Church)",
          "Carry You",
          "Shiver",
          "Wherever You Are",
          "Gravity",
          "Dear Alan",
          "Mas Que Nada",
          "Biochemical",
          "Only God Knows",
          "Napalm",
          "Breakaway",
          "Energy",
          "Deeper Underground",
          "Push The Tempo",
          "Wildfire",
          "16",
          "Empty"
         ],
         "xaxis": "x",
         "y": [
          98.05459577185715,
          92.05280489239094,
          87.59994610986146,
          87.2361132407475,
          86.93523283666079,
          86.57507514101503,
          84.78450271460409,
          83.9365145882987,
          80.63839530947381,
          79.39253941646805,
          76.98994360888265,
          76.22132992525349,
          75.77173060289965,
          75.43829467485043,
          75.19865475625134,
          73.4095617034643,
          73.18638097946072,
          72.88478414915362,
          72.42120055914741,
          71.2985792802838
         ],
         "yaxis": "y",
         "type": "bar"
        }
       ],
       "layout": {
        "template": {
         "data": {
          "histogram2dcontour": [
           {
            "type": "histogram2dcontour",
            "colorbar": {
             "outlinewidth": 0,
             "ticks": ""
            },
            "colorscale": [
             [
              0.0,
              "#0d0887"
             ],
             [
              0.1111111111111111,
              "#46039f"
             ],
             [
              0.2222222222222222,
              "#7201a8"
             ],
             [
              0.3333333333333333,
              "#9c179e"
             ],
             [
              0.4444444444444444,
              "#bd3786"
             ],
             [
              0.5555555555555556,
              "#d8576b"
             ],
             [
              0.6666666666666666,
              "#ed7953"
             ],
             [
              0.7777777777777778,
              "#fb9f3a"
             ],
             [
              0.8888888888888888,
              "#fdca26"
             ],
             [
              1.0,
              "#f0f921"
             ]
            ]
           }
          ],
          "choropleth": [
           {
            "type": "choropleth",
            "colorbar": {
             "outlinewidth": 0,
             "ticks": ""
            }
           }
          ],
          "histogram2d": [
           {
            "type": "histogram2d",
            "colorbar": {
             "outlinewidth": 0,
             "ticks": ""
            },
            "colorscale": [
             [
              0.0,
              "#0d0887"
             ],
             [
              0.1111111111111111,
              "#46039f"
             ],
             [
              0.2222222222222222,
              "#7201a8"
             ],
             [
              0.3333333333333333,
              "#9c179e"
             ],
             [
              0.4444444444444444,
              "#bd3786"
             ],
             [
              0.5555555555555556,
              "#d8576b"
             ],
             [
              0.6666666666666666,
              "#ed7953"
             ],
             [
              0.7777777777777778,
              "#fb9f3a"
             ],
             [
              0.8888888888888888,
              "#fdca26"
             ],
             [
              1.0,
              "#f0f921"
             ]
            ]
           }
          ],
          "heatmap": [
           {
            "type": "heatmap",
            "colorbar": {
             "outlinewidth": 0,
             "ticks": ""
            },
            "colorscale": [
             [
              0.0,
              "#0d0887"
             ],
             [
              0.1111111111111111,
              "#46039f"
             ],
             [
              0.2222222222222222,
              "#7201a8"
             ],
             [
              0.3333333333333333,
              "#9c179e"
             ],
             [
              0.4444444444444444,
              "#bd3786"
             ],
             [
              0.5555555555555556,
              "#d8576b"
             ],
             [
              0.6666666666666666,
              "#ed7953"
             ],
             [
              0.7777777777777778,
              "#fb9f3a"
             ],
             [
              0.8888888888888888,
              "#fdca26"
             ],
             [
              1.0,
              "#f0f921"
             ]
            ]
           }
          ],
          "heatmapgl": [
           {
            "type": "heatmapgl",
            "colorbar": {
             "outlinewidth": 0,
             "ticks": ""
            },
            "colorscale": [
             [
              0.0,
              "#0d0887"
             ],
             [
              0.1111111111111111,
              "#46039f"
             ],
             [
              0.2222222222222222,
              "#7201a8"
             ],
             [
              0.3333333333333333,
              "#9c179e"
             ],
             [
              0.4444444444444444,
              "#bd3786"
             ],
             [
              0.5555555555555556,
              "#d8576b"
             ],
             [
              0.6666666666666666,
              "#ed7953"
             ],
             [
              0.7777777777777778,
              "#fb9f3a"
             ],
             [
              0.8888888888888888,
              "#fdca26"
             ],
             [
              1.0,
              "#f0f921"
             ]
            ]
           }
          ],
          "contourcarpet": [
           {
            "type": "contourcarpet",
            "colorbar": {
             "outlinewidth": 0,
             "ticks": ""
            }
           }
          ],
          "contour": [
           {
            "type": "contour",
            "colorbar": {
             "outlinewidth": 0,
             "ticks": ""
            },
            "colorscale": [
             [
              0.0,
              "#0d0887"
             ],
             [
              0.1111111111111111,
              "#46039f"
             ],
             [
              0.2222222222222222,
              "#7201a8"
             ],
             [
              0.3333333333333333,
              "#9c179e"
             ],
             [
              0.4444444444444444,
              "#bd3786"
             ],
             [
              0.5555555555555556,
              "#d8576b"
             ],
             [
              0.6666666666666666,
              "#ed7953"
             ],
             [
              0.7777777777777778,
              "#fb9f3a"
             ],
             [
              0.8888888888888888,
              "#fdca26"
             ],
             [
              1.0,
              "#f0f921"
             ]
            ]
           }
          ],
          "surface": [
           {
            "type": "surface",
            "colorbar": {
             "outlinewidth": 0,
             "ticks": ""
            },
            "colorscale": [
             [
              0.0,
              "#0d0887"
             ],
             [
              0.1111111111111111,
              "#46039f"
             ],
             [
              0.2222222222222222,
              "#7201a8"
             ],
             [
              0.3333333333333333,
              "#9c179e"
             ],
             [
              0.4444444444444444,
              "#bd3786"
             ],
             [
              0.5555555555555556,
              "#d8576b"
             ],
             [
              0.6666666666666666,
              "#ed7953"
             ],
             [
              0.7777777777777778,
              "#fb9f3a"
             ],
             [
              0.8888888888888888,
              "#fdca26"
             ],
             [
              1.0,
              "#f0f921"
             ]
            ]
           }
          ],
          "mesh3d": [
           {
            "type": "mesh3d",
            "colorbar": {
             "outlinewidth": 0,
             "ticks": ""
            }
           }
          ],
          "scatter": [
           {
            "marker": {
             "line": {
              "color": "#283442"
             }
            },
            "type": "scatter"
           }
          ],
          "parcoords": [
           {
            "type": "parcoords",
            "line": {
             "colorbar": {
              "outlinewidth": 0,
              "ticks": ""
             }
            }
           }
          ],
          "scatterpolargl": [
           {
            "type": "scatterpolargl",
            "marker": {
             "colorbar": {
              "outlinewidth": 0,
              "ticks": ""
             }
            }
           }
          ],
          "bar": [
           {
            "error_x": {
             "color": "#f2f5fa"
            },
            "error_y": {
             "color": "#f2f5fa"
            },
            "marker": {
             "line": {
              "color": "rgb(17,17,17)",
              "width": 0.5
             },
             "pattern": {
              "fillmode": "overlay",
              "size": 10,
              "solidity": 0.2
             }
            },
            "type": "bar"
           }
          ],
          "scattergeo": [
           {
            "type": "scattergeo",
            "marker": {
             "colorbar": {
              "outlinewidth": 0,
              "ticks": ""
             }
            }
           }
          ],
          "scatterpolar": [
           {
            "type": "scatterpolar",
            "marker": {
             "colorbar": {
              "outlinewidth": 0,
              "ticks": ""
             }
            }
           }
          ],
          "histogram": [
           {
            "marker": {
             "pattern": {
              "fillmode": "overlay",
              "size": 10,
              "solidity": 0.2
             }
            },
            "type": "histogram"
           }
          ],
          "scattergl": [
           {
            "marker": {
             "line": {
              "color": "#283442"
             }
            },
            "type": "scattergl"
           }
          ],
          "scatter3d": [
           {
            "type": "scatter3d",
            "line": {
             "colorbar": {
              "outlinewidth": 0,
              "ticks": ""
             }
            },
            "marker": {
             "colorbar": {
              "outlinewidth": 0,
              "ticks": ""
             }
            }
           }
          ],
          "scattermapbox": [
           {
            "type": "scattermapbox",
            "marker": {
             "colorbar": {
              "outlinewidth": 0,
              "ticks": ""
             }
            }
           }
          ],
          "scatterternary": [
           {
            "type": "scatterternary",
            "marker": {
             "colorbar": {
              "outlinewidth": 0,
              "ticks": ""
             }
            }
           }
          ],
          "scattercarpet": [
           {
            "type": "scattercarpet",
            "marker": {
             "colorbar": {
              "outlinewidth": 0,
              "ticks": ""
             }
            }
           }
          ],
          "carpet": [
           {
            "aaxis": {
             "endlinecolor": "#A2B1C6",
             "gridcolor": "#506784",
             "linecolor": "#506784",
             "minorgridcolor": "#506784",
             "startlinecolor": "#A2B1C6"
            },
            "baxis": {
             "endlinecolor": "#A2B1C6",
             "gridcolor": "#506784",
             "linecolor": "#506784",
             "minorgridcolor": "#506784",
             "startlinecolor": "#A2B1C6"
            },
            "type": "carpet"
           }
          ],
          "table": [
           {
            "cells": {
             "fill": {
              "color": "#506784"
             },
             "line": {
              "color": "rgb(17,17,17)"
             }
            },
            "header": {
             "fill": {
              "color": "#2a3f5f"
             },
             "line": {
              "color": "rgb(17,17,17)"
             }
            },
            "type": "table"
           }
          ],
          "barpolar": [
           {
            "marker": {
             "line": {
              "color": "rgb(17,17,17)",
              "width": 0.5
             },
             "pattern": {
              "fillmode": "overlay",
              "size": 10,
              "solidity": 0.2
             }
            },
            "type": "barpolar"
           }
          ],
          "pie": [
           {
            "automargin": true,
            "type": "pie"
           }
          ]
         },
         "layout": {
          "autotypenumbers": "strict",
          "colorway": [
           "#636efa",
           "#EF553B",
           "#00cc96",
           "#ab63fa",
           "#FFA15A",
           "#19d3f3",
           "#FF6692",
           "#B6E880",
           "#FF97FF",
           "#FECB52"
          ],
          "font": {
           "color": "#f2f5fa"
          },
          "hovermode": "closest",
          "hoverlabel": {
           "align": "left"
          },
          "paper_bgcolor": "rgb(17,17,17)",
          "plot_bgcolor": "rgb(17,17,17)",
          "polar": {
           "bgcolor": "rgb(17,17,17)",
           "angularaxis": {
            "gridcolor": "#506784",
            "linecolor": "#506784",
            "ticks": ""
           },
           "radialaxis": {
            "gridcolor": "#506784",
            "linecolor": "#506784",
            "ticks": ""
           }
          },
          "ternary": {
           "bgcolor": "rgb(17,17,17)",
           "aaxis": {
            "gridcolor": "#506784",
            "linecolor": "#506784",
            "ticks": ""
           },
           "baxis": {
            "gridcolor": "#506784",
            "linecolor": "#506784",
            "ticks": ""
           },
           "caxis": {
            "gridcolor": "#506784",
            "linecolor": "#506784",
            "ticks": ""
           }
          },
          "coloraxis": {
           "colorbar": {
            "outlinewidth": 0,
            "ticks": ""
           }
          },
          "colorscale": {
           "sequential": [
            [
             0.0,
             "#0d0887"
            ],
            [
             0.1111111111111111,
             "#46039f"
            ],
            [
             0.2222222222222222,
             "#7201a8"
            ],
            [
             0.3333333333333333,
             "#9c179e"
            ],
            [
             0.4444444444444444,
             "#bd3786"
            ],
            [
             0.5555555555555556,
             "#d8576b"
            ],
            [
             0.6666666666666666,
             "#ed7953"
            ],
            [
             0.7777777777777778,
             "#fb9f3a"
            ],
            [
             0.8888888888888888,
             "#fdca26"
            ],
            [
             1.0,
             "#f0f921"
            ]
           ],
           "sequentialminus": [
            [
             0.0,
             "#0d0887"
            ],
            [
             0.1111111111111111,
             "#46039f"
            ],
            [
             0.2222222222222222,
             "#7201a8"
            ],
            [
             0.3333333333333333,
             "#9c179e"
            ],
            [
             0.4444444444444444,
             "#bd3786"
            ],
            [
             0.5555555555555556,
             "#d8576b"
            ],
            [
             0.6666666666666666,
             "#ed7953"
            ],
            [
             0.7777777777777778,
             "#fb9f3a"
            ],
            [
             0.8888888888888888,
             "#fdca26"
            ],
            [
             1.0,
             "#f0f921"
            ]
           ],
           "diverging": [
            [
             0,
             "#8e0152"
            ],
            [
             0.1,
             "#c51b7d"
            ],
            [
             0.2,
             "#de77ae"
            ],
            [
             0.3,
             "#f1b6da"
            ],
            [
             0.4,
             "#fde0ef"
            ],
            [
             0.5,
             "#f7f7f7"
            ],
            [
             0.6,
             "#e6f5d0"
            ],
            [
             0.7,
             "#b8e186"
            ],
            [
             0.8,
             "#7fbc41"
            ],
            [
             0.9,
             "#4d9221"
            ],
            [
             1,
             "#276419"
            ]
           ]
          },
          "xaxis": {
           "gridcolor": "#283442",
           "linecolor": "#506784",
           "ticks": "",
           "title": {
            "standoff": 15
           },
           "zerolinecolor": "#283442",
           "automargin": true,
           "zerolinewidth": 2
          },
          "yaxis": {
           "gridcolor": "#283442",
           "linecolor": "#506784",
           "ticks": "",
           "title": {
            "standoff": 15
           },
           "zerolinecolor": "#283442",
           "automargin": true,
           "zerolinewidth": 2
          },
          "scene": {
           "xaxis": {
            "backgroundcolor": "rgb(17,17,17)",
            "gridcolor": "#506784",
            "linecolor": "#506784",
            "showbackground": true,
            "ticks": "",
            "zerolinecolor": "#C8D4E3",
            "gridwidth": 2
           },
           "yaxis": {
            "backgroundcolor": "rgb(17,17,17)",
            "gridcolor": "#506784",
            "linecolor": "#506784",
            "showbackground": true,
            "ticks": "",
            "zerolinecolor": "#C8D4E3",
            "gridwidth": 2
           },
           "zaxis": {
            "backgroundcolor": "rgb(17,17,17)",
            "gridcolor": "#506784",
            "linecolor": "#506784",
            "showbackground": true,
            "ticks": "",
            "zerolinecolor": "#C8D4E3",
            "gridwidth": 2
           }
          },
          "shapedefaults": {
           "line": {
            "color": "#f2f5fa"
           }
          },
          "annotationdefaults": {
           "arrowcolor": "#f2f5fa",
           "arrowhead": 0,
           "arrowwidth": 1
          },
          "geo": {
           "bgcolor": "rgb(17,17,17)",
           "landcolor": "rgb(17,17,17)",
           "subunitcolor": "#506784",
           "showland": true,
           "showlakes": true,
           "lakecolor": "rgb(17,17,17)"
          },
          "title": {
           "x": 0.05
          },
          "updatemenudefaults": {
           "bgcolor": "#506784",
           "borderwidth": 0
          },
          "sliderdefaults": {
           "bgcolor": "#C8D4E3",
           "borderwidth": 1,
           "bordercolor": "rgb(17,17,17)",
           "tickwidth": 0
          },
          "mapbox": {
           "style": "dark"
          }
         }
        },
        "xaxis": {
         "anchor": "y",
         "domain": [
          0.0,
          1.0
         ],
         "title": {
          "text": "Track"
         },
         "categoryorder": "total descending"
        },
        "yaxis": {
         "anchor": "x",
         "domain": [
          0.0,
          1.0
         ],
         "title": {
          "text": "Power"
         }
        },
        "coloraxis": {
         "colorbar": {
          "title": {
           "text": "Power"
          }
         },
         "colorscale": [
          [
           0.0,
           "rgb(255,247,236)"
          ],
          [
           0.125,
           "rgb(254,232,200)"
          ],
          [
           0.25,
           "rgb(253,212,158)"
          ],
          [
           0.375,
           "rgb(253,187,132)"
          ],
          [
           0.5,
           "rgb(252,141,89)"
          ],
          [
           0.625,
           "rgb(239,101,72)"
          ],
          [
           0.75,
           "rgb(215,48,31)"
          ],
          [
           0.875,
           "rgb(179,0,0)"
          ],
          [
           1.0,
           "rgb(127,0,0)"
          ]
         ],
         "cmin": 0.0,
         "cmax": 98.05459577185715,
         "showscale": false
        },
        "legend": {
         "tracegroupgap": 0
        },
        "title": {
         "text": "Popularity Power Ranking (Top 20)"
        },
        "barmode": "relative",
        "height": 540,
        "width": 960
       },
       "config": {
        "plotlyServerURL": "https://plot.ly"
       }
      },
      "text/html": [
       "<div>                            <div id=\"8fc9cafe-ae06-4f79-aac1-1fec3b2c7042\" class=\"plotly-graph-div\" style=\"height:540px; width:960px;\"></div>            <script type=\"text/javascript\">                require([\"plotly\"], function(Plotly) {                    window.PLOTLYENV=window.PLOTLYENV || {};                                    if (document.getElementById(\"8fc9cafe-ae06-4f79-aac1-1fec3b2c7042\")) {                    Plotly.newPlot(                        \"8fc9cafe-ae06-4f79-aac1-1fec3b2c7042\",                        [{\"alignmentgroup\":\"True\",\"hovertemplate\":\"Track=%{x}\\u003cbr\\u003ePower=%{marker.color}\\u003cextra\\u003e\\u003c\\u002fextra\\u003e\",\"legendgroup\":\"\",\"marker\":{\"color\":[98.05459577185715,92.05280489239094,87.59994610986146,87.2361132407475,86.93523283666079,86.57507514101503,84.78450271460409,83.9365145882987,80.63839530947381,79.39253941646805,76.98994360888265,76.22132992525349,75.77173060289965,75.43829467485043,75.19865475625134,73.4095617034643,73.18638097946072,72.88478414915362,72.42120055914741,71.2985792802838],\"coloraxis\":\"coloraxis\",\"pattern\":{\"shape\":\"\"}},\"name\":\"\",\"offsetgroup\":\"\",\"orientation\":\"v\",\"showlegend\":false,\"textposition\":\"auto\",\"x\":[\"Neverender\",\"I Only Smoke When I Drink\",\"Told You So\",\"Go Back (feat. Julia Church)\",\"Carry You\",\"Shiver\",\"Wherever You Are\",\"Gravity\",\"Dear Alan\",\"Mas Que Nada\",\"Biochemical\",\"Only God Knows\",\"Napalm\",\"Breakaway\",\"Energy\",\"Deeper Underground\",\"Push The Tempo\",\"Wildfire\",\"16\",\"Empty\"],\"xaxis\":\"x\",\"y\":[98.05459577185715,92.05280489239094,87.59994610986146,87.2361132407475,86.93523283666079,86.57507514101503,84.78450271460409,83.9365145882987,80.63839530947381,79.39253941646805,76.98994360888265,76.22132992525349,75.77173060289965,75.43829467485043,75.19865475625134,73.4095617034643,73.18638097946072,72.88478414915362,72.42120055914741,71.2985792802838],\"yaxis\":\"y\",\"type\":\"bar\"}],                        {\"template\":{\"data\":{\"histogram2dcontour\":[{\"type\":\"histogram2dcontour\",\"colorbar\":{\"outlinewidth\":0,\"ticks\":\"\"},\"colorscale\":[[0.0,\"#0d0887\"],[0.1111111111111111,\"#46039f\"],[0.2222222222222222,\"#7201a8\"],[0.3333333333333333,\"#9c179e\"],[0.4444444444444444,\"#bd3786\"],[0.5555555555555556,\"#d8576b\"],[0.6666666666666666,\"#ed7953\"],[0.7777777777777778,\"#fb9f3a\"],[0.8888888888888888,\"#fdca26\"],[1.0,\"#f0f921\"]]}],\"choropleth\":[{\"type\":\"choropleth\",\"colorbar\":{\"outlinewidth\":0,\"ticks\":\"\"}}],\"histogram2d\":[{\"type\":\"histogram2d\",\"colorbar\":{\"outlinewidth\":0,\"ticks\":\"\"},\"colorscale\":[[0.0,\"#0d0887\"],[0.1111111111111111,\"#46039f\"],[0.2222222222222222,\"#7201a8\"],[0.3333333333333333,\"#9c179e\"],[0.4444444444444444,\"#bd3786\"],[0.5555555555555556,\"#d8576b\"],[0.6666666666666666,\"#ed7953\"],[0.7777777777777778,\"#fb9f3a\"],[0.8888888888888888,\"#fdca26\"],[1.0,\"#f0f921\"]]}],\"heatmap\":[{\"type\":\"heatmap\",\"colorbar\":{\"outlinewidth\":0,\"ticks\":\"\"},\"colorscale\":[[0.0,\"#0d0887\"],[0.1111111111111111,\"#46039f\"],[0.2222222222222222,\"#7201a8\"],[0.3333333333333333,\"#9c179e\"],[0.4444444444444444,\"#bd3786\"],[0.5555555555555556,\"#d8576b\"],[0.6666666666666666,\"#ed7953\"],[0.7777777777777778,\"#fb9f3a\"],[0.8888888888888888,\"#fdca26\"],[1.0,\"#f0f921\"]]}],\"heatmapgl\":[{\"type\":\"heatmapgl\",\"colorbar\":{\"outlinewidth\":0,\"ticks\":\"\"},\"colorscale\":[[0.0,\"#0d0887\"],[0.1111111111111111,\"#46039f\"],[0.2222222222222222,\"#7201a8\"],[0.3333333333333333,\"#9c179e\"],[0.4444444444444444,\"#bd3786\"],[0.5555555555555556,\"#d8576b\"],[0.6666666666666666,\"#ed7953\"],[0.7777777777777778,\"#fb9f3a\"],[0.8888888888888888,\"#fdca26\"],[1.0,\"#f0f921\"]]}],\"contourcarpet\":[{\"type\":\"contourcarpet\",\"colorbar\":{\"outlinewidth\":0,\"ticks\":\"\"}}],\"contour\":[{\"type\":\"contour\",\"colorbar\":{\"outlinewidth\":0,\"ticks\":\"\"},\"colorscale\":[[0.0,\"#0d0887\"],[0.1111111111111111,\"#46039f\"],[0.2222222222222222,\"#7201a8\"],[0.3333333333333333,\"#9c179e\"],[0.4444444444444444,\"#bd3786\"],[0.5555555555555556,\"#d8576b\"],[0.6666666666666666,\"#ed7953\"],[0.7777777777777778,\"#fb9f3a\"],[0.8888888888888888,\"#fdca26\"],[1.0,\"#f0f921\"]]}],\"surface\":[{\"type\":\"surface\",\"colorbar\":{\"outlinewidth\":0,\"ticks\":\"\"},\"colorscale\":[[0.0,\"#0d0887\"],[0.1111111111111111,\"#46039f\"],[0.2222222222222222,\"#7201a8\"],[0.3333333333333333,\"#9c179e\"],[0.4444444444444444,\"#bd3786\"],[0.5555555555555556,\"#d8576b\"],[0.6666666666666666,\"#ed7953\"],[0.7777777777777778,\"#fb9f3a\"],[0.8888888888888888,\"#fdca26\"],[1.0,\"#f0f921\"]]}],\"mesh3d\":[{\"type\":\"mesh3d\",\"colorbar\":{\"outlinewidth\":0,\"ticks\":\"\"}}],\"scatter\":[{\"marker\":{\"line\":{\"color\":\"#283442\"}},\"type\":\"scatter\"}],\"parcoords\":[{\"type\":\"parcoords\",\"line\":{\"colorbar\":{\"outlinewidth\":0,\"ticks\":\"\"}}}],\"scatterpolargl\":[{\"type\":\"scatterpolargl\",\"marker\":{\"colorbar\":{\"outlinewidth\":0,\"ticks\":\"\"}}}],\"bar\":[{\"error_x\":{\"color\":\"#f2f5fa\"},\"error_y\":{\"color\":\"#f2f5fa\"},\"marker\":{\"line\":{\"color\":\"rgb(17,17,17)\",\"width\":0.5},\"pattern\":{\"fillmode\":\"overlay\",\"size\":10,\"solidity\":0.2}},\"type\":\"bar\"}],\"scattergeo\":[{\"type\":\"scattergeo\",\"marker\":{\"colorbar\":{\"outlinewidth\":0,\"ticks\":\"\"}}}],\"scatterpolar\":[{\"type\":\"scatterpolar\",\"marker\":{\"colorbar\":{\"outlinewidth\":0,\"ticks\":\"\"}}}],\"histogram\":[{\"marker\":{\"pattern\":{\"fillmode\":\"overlay\",\"size\":10,\"solidity\":0.2}},\"type\":\"histogram\"}],\"scattergl\":[{\"marker\":{\"line\":{\"color\":\"#283442\"}},\"type\":\"scattergl\"}],\"scatter3d\":[{\"type\":\"scatter3d\",\"line\":{\"colorbar\":{\"outlinewidth\":0,\"ticks\":\"\"}},\"marker\":{\"colorbar\":{\"outlinewidth\":0,\"ticks\":\"\"}}}],\"scattermapbox\":[{\"type\":\"scattermapbox\",\"marker\":{\"colorbar\":{\"outlinewidth\":0,\"ticks\":\"\"}}}],\"scatterternary\":[{\"type\":\"scatterternary\",\"marker\":{\"colorbar\":{\"outlinewidth\":0,\"ticks\":\"\"}}}],\"scattercarpet\":[{\"type\":\"scattercarpet\",\"marker\":{\"colorbar\":{\"outlinewidth\":0,\"ticks\":\"\"}}}],\"carpet\":[{\"aaxis\":{\"endlinecolor\":\"#A2B1C6\",\"gridcolor\":\"#506784\",\"linecolor\":\"#506784\",\"minorgridcolor\":\"#506784\",\"startlinecolor\":\"#A2B1C6\"},\"baxis\":{\"endlinecolor\":\"#A2B1C6\",\"gridcolor\":\"#506784\",\"linecolor\":\"#506784\",\"minorgridcolor\":\"#506784\",\"startlinecolor\":\"#A2B1C6\"},\"type\":\"carpet\"}],\"table\":[{\"cells\":{\"fill\":{\"color\":\"#506784\"},\"line\":{\"color\":\"rgb(17,17,17)\"}},\"header\":{\"fill\":{\"color\":\"#2a3f5f\"},\"line\":{\"color\":\"rgb(17,17,17)\"}},\"type\":\"table\"}],\"barpolar\":[{\"marker\":{\"line\":{\"color\":\"rgb(17,17,17)\",\"width\":0.5},\"pattern\":{\"fillmode\":\"overlay\",\"size\":10,\"solidity\":0.2}},\"type\":\"barpolar\"}],\"pie\":[{\"automargin\":true,\"type\":\"pie\"}]},\"layout\":{\"autotypenumbers\":\"strict\",\"colorway\":[\"#636efa\",\"#EF553B\",\"#00cc96\",\"#ab63fa\",\"#FFA15A\",\"#19d3f3\",\"#FF6692\",\"#B6E880\",\"#FF97FF\",\"#FECB52\"],\"font\":{\"color\":\"#f2f5fa\"},\"hovermode\":\"closest\",\"hoverlabel\":{\"align\":\"left\"},\"paper_bgcolor\":\"rgb(17,17,17)\",\"plot_bgcolor\":\"rgb(17,17,17)\",\"polar\":{\"bgcolor\":\"rgb(17,17,17)\",\"angularaxis\":{\"gridcolor\":\"#506784\",\"linecolor\":\"#506784\",\"ticks\":\"\"},\"radialaxis\":{\"gridcolor\":\"#506784\",\"linecolor\":\"#506784\",\"ticks\":\"\"}},\"ternary\":{\"bgcolor\":\"rgb(17,17,17)\",\"aaxis\":{\"gridcolor\":\"#506784\",\"linecolor\":\"#506784\",\"ticks\":\"\"},\"baxis\":{\"gridcolor\":\"#506784\",\"linecolor\":\"#506784\",\"ticks\":\"\"},\"caxis\":{\"gridcolor\":\"#506784\",\"linecolor\":\"#506784\",\"ticks\":\"\"}},\"coloraxis\":{\"colorbar\":{\"outlinewidth\":0,\"ticks\":\"\"}},\"colorscale\":{\"sequential\":[[0.0,\"#0d0887\"],[0.1111111111111111,\"#46039f\"],[0.2222222222222222,\"#7201a8\"],[0.3333333333333333,\"#9c179e\"],[0.4444444444444444,\"#bd3786\"],[0.5555555555555556,\"#d8576b\"],[0.6666666666666666,\"#ed7953\"],[0.7777777777777778,\"#fb9f3a\"],[0.8888888888888888,\"#fdca26\"],[1.0,\"#f0f921\"]],\"sequentialminus\":[[0.0,\"#0d0887\"],[0.1111111111111111,\"#46039f\"],[0.2222222222222222,\"#7201a8\"],[0.3333333333333333,\"#9c179e\"],[0.4444444444444444,\"#bd3786\"],[0.5555555555555556,\"#d8576b\"],[0.6666666666666666,\"#ed7953\"],[0.7777777777777778,\"#fb9f3a\"],[0.8888888888888888,\"#fdca26\"],[1.0,\"#f0f921\"]],\"diverging\":[[0,\"#8e0152\"],[0.1,\"#c51b7d\"],[0.2,\"#de77ae\"],[0.3,\"#f1b6da\"],[0.4,\"#fde0ef\"],[0.5,\"#f7f7f7\"],[0.6,\"#e6f5d0\"],[0.7,\"#b8e186\"],[0.8,\"#7fbc41\"],[0.9,\"#4d9221\"],[1,\"#276419\"]]},\"xaxis\":{\"gridcolor\":\"#283442\",\"linecolor\":\"#506784\",\"ticks\":\"\",\"title\":{\"standoff\":15},\"zerolinecolor\":\"#283442\",\"automargin\":true,\"zerolinewidth\":2},\"yaxis\":{\"gridcolor\":\"#283442\",\"linecolor\":\"#506784\",\"ticks\":\"\",\"title\":{\"standoff\":15},\"zerolinecolor\":\"#283442\",\"automargin\":true,\"zerolinewidth\":2},\"scene\":{\"xaxis\":{\"backgroundcolor\":\"rgb(17,17,17)\",\"gridcolor\":\"#506784\",\"linecolor\":\"#506784\",\"showbackground\":true,\"ticks\":\"\",\"zerolinecolor\":\"#C8D4E3\",\"gridwidth\":2},\"yaxis\":{\"backgroundcolor\":\"rgb(17,17,17)\",\"gridcolor\":\"#506784\",\"linecolor\":\"#506784\",\"showbackground\":true,\"ticks\":\"\",\"zerolinecolor\":\"#C8D4E3\",\"gridwidth\":2},\"zaxis\":{\"backgroundcolor\":\"rgb(17,17,17)\",\"gridcolor\":\"#506784\",\"linecolor\":\"#506784\",\"showbackground\":true,\"ticks\":\"\",\"zerolinecolor\":\"#C8D4E3\",\"gridwidth\":2}},\"shapedefaults\":{\"line\":{\"color\":\"#f2f5fa\"}},\"annotationdefaults\":{\"arrowcolor\":\"#f2f5fa\",\"arrowhead\":0,\"arrowwidth\":1},\"geo\":{\"bgcolor\":\"rgb(17,17,17)\",\"landcolor\":\"rgb(17,17,17)\",\"subunitcolor\":\"#506784\",\"showland\":true,\"showlakes\":true,\"lakecolor\":\"rgb(17,17,17)\"},\"title\":{\"x\":0.05},\"updatemenudefaults\":{\"bgcolor\":\"#506784\",\"borderwidth\":0},\"sliderdefaults\":{\"bgcolor\":\"#C8D4E3\",\"borderwidth\":1,\"bordercolor\":\"rgb(17,17,17)\",\"tickwidth\":0},\"mapbox\":{\"style\":\"dark\"}}},\"xaxis\":{\"anchor\":\"y\",\"domain\":[0.0,1.0],\"title\":{\"text\":\"Track\"},\"categoryorder\":\"total descending\"},\"yaxis\":{\"anchor\":\"x\",\"domain\":[0.0,1.0],\"title\":{\"text\":\"Power\"}},\"coloraxis\":{\"colorbar\":{\"title\":{\"text\":\"Power\"}},\"colorscale\":[[0.0,\"rgb(255,247,236)\"],[0.125,\"rgb(254,232,200)\"],[0.25,\"rgb(253,212,158)\"],[0.375,\"rgb(253,187,132)\"],[0.5,\"rgb(252,141,89)\"],[0.625,\"rgb(239,101,72)\"],[0.75,\"rgb(215,48,31)\"],[0.875,\"rgb(179,0,0)\"],[1.0,\"rgb(127,0,0)\"]],\"cmin\":0.0,\"cmax\":98.05459577185715,\"showscale\":false},\"legend\":{\"tracegroupgap\":0},\"title\":{\"text\":\"Popularity Power Ranking (Top 20)\"},\"barmode\":\"relative\",\"height\":540,\"width\":960},                        {\"responsive\": true}                    ).then(function(){\n",
       "                            \n",
       "var gd = document.getElementById('8fc9cafe-ae06-4f79-aac1-1fec3b2c7042');\n",
       "var x = new MutationObserver(function (mutations, observer) {{\n",
       "        var display = window.getComputedStyle(gd).display;\n",
       "        if (!display || display === 'none') {{\n",
       "            console.log([gd, 'removed!']);\n",
       "            Plotly.purge(gd);\n",
       "            observer.disconnect();\n",
       "        }}\n",
       "}});\n",
       "\n",
       "// Listen for the removal of the full notebook cells\n",
       "var notebookContainer = gd.closest('#notebook-container');\n",
       "if (notebookContainer) {{\n",
       "    x.observe(notebookContainer, {childList: true});\n",
       "}}\n",
       "\n",
       "// Listen for the clearing of the current output cell\n",
       "var outputEl = gd.closest('.output');\n",
       "if (outputEl) {{\n",
       "    x.observe(outputEl, {childList: true});\n",
       "}}\n",
       "\n",
       "                        })                };                });            </script>        </div>"
      ]
     },
     "metadata": {},
     "output_type": "display_data"
    }
   ],
   "execution_count": 314
  },
  {
   "metadata": {},
   "cell_type": "markdown",
   "source": [
    "### Professional Support\n",
    "#### Rescale statistics"
   ],
   "id": "d3053484ec65d146"
  },
  {
   "metadata": {
    "ExecuteTime": {
     "end_time": "2024-12-17T18:22:53.033706Z",
     "start_time": "2024-12-17T18:22:53.016167Z"
    }
   },
   "cell_type": "code",
   "source": [
    "data_pro = rescale_stats(data_pro, general_field)\n",
    "data_pro"
   ],
   "id": "de1b68ee35a80593",
   "outputs": [
    {
     "data": {
      "text/plain": [
       "    songstats_id                songstats_title  \\\n",
       "0       qmr6e0bx                             16   \n",
       "1       cxsruom1  17 (Ekko & Sidetrack Bootleg)   \n",
       "2       847p1x5v             Never Let You Down   \n",
       "3       4owlyi76                           4 AM   \n",
       "4       a3ok10ce                             4D   \n",
       "..           ...                            ...   \n",
       "302     cqdneir6                Can You Feel It   \n",
       "303     nwqit015              Curse of the Moai   \n",
       "304     em4stqoh                       Himalaya   \n",
       "305     wx93mcy6                     Next To Me   \n",
       "306     0wpg1fj9             Hopelessly Falling   \n",
       "\n",
       "                                           artist_list  \\\n",
       "0                      [blasterjaxx, hardwell, maddix]   \n",
       "1                               [ekko & sidetrack, mk]   \n",
       "2    [cimone, deadline, duskee, emily makis, fricti...   \n",
       "3                                       [lexed, oshan]   \n",
       "4                            [bad computer, ryan coss]   \n",
       "..                                                 ...   \n",
       "302                                      [retrovision]   \n",
       "303                                      [exyl, nasko]   \n",
       "304                                  [matisse & sadko]   \n",
       "305                      [don diablo, gaby gerlis, mk]   \n",
       "306                   [enrem, jonah sky, rico 56, ubo]   \n",
       "\n",
       "                              genre                 label  \\\n",
       "0                     [hard techno]            [revealed]   \n",
       "1                     [drum & bass]         [[no labels]]   \n",
       "2                     [drum & bass]        [shogun audio]   \n",
       "3    [future house / future bounce]  [future house cloud]   \n",
       "4                   [electro house]          [monstercat]   \n",
       "..                              ...                   ...   \n",
       "302                    [bass house]               [stmpd]   \n",
       "303        [drumstep / moombahcore]         [[no labels]]   \n",
       "304             [progressive house]               [stmpd]   \n",
       "305  [future house / future bounce]             [hexagon]   \n",
       "306                 [melodic house]     [monstercat silk]   \n",
       "\n",
       "                           title  1001tracklists_unique_support  \\\n",
       "0                             16                      17.777778   \n",
       "1    17 ekko & sidetrack bootleg                      13.333333   \n",
       "2             never let you down                       0.000000   \n",
       "3                           4 am                       0.000000   \n",
       "4                             4d                       3.555556   \n",
       "..                           ...                            ...   \n",
       "302              can you feel it                       2.222222   \n",
       "303            curse of the moai                       0.000000   \n",
       "304                     himalaya                       3.111111   \n",
       "305                   next to me                      11.555556   \n",
       "306           hopelessly falling                       0.000000   \n",
       "\n",
       "     beatport_dj_charts_total  \n",
       "0                   50.000000  \n",
       "1                    0.000000  \n",
       "2                    0.000000  \n",
       "3                    0.000000  \n",
       "4                    0.000000  \n",
       "..                        ...  \n",
       "302                  1.428571  \n",
       "303                  0.000000  \n",
       "304                  2.857143  \n",
       "305                  1.428571  \n",
       "306                  0.000000  \n",
       "\n",
       "[307 rows x 8 columns]"
      ],
      "text/html": [
       "<div>\n",
       "<style scoped>\n",
       "    .dataframe tbody tr th:only-of-type {\n",
       "        vertical-align: middle;\n",
       "    }\n",
       "\n",
       "    .dataframe tbody tr th {\n",
       "        vertical-align: top;\n",
       "    }\n",
       "\n",
       "    .dataframe thead th {\n",
       "        text-align: right;\n",
       "    }\n",
       "</style>\n",
       "<table border=\"1\" class=\"dataframe\">\n",
       "  <thead>\n",
       "    <tr style=\"text-align: right;\">\n",
       "      <th></th>\n",
       "      <th>songstats_id</th>\n",
       "      <th>songstats_title</th>\n",
       "      <th>artist_list</th>\n",
       "      <th>genre</th>\n",
       "      <th>label</th>\n",
       "      <th>title</th>\n",
       "      <th>1001tracklists_unique_support</th>\n",
       "      <th>beatport_dj_charts_total</th>\n",
       "    </tr>\n",
       "  </thead>\n",
       "  <tbody>\n",
       "    <tr>\n",
       "      <th>0</th>\n",
       "      <td>qmr6e0bx</td>\n",
       "      <td>16</td>\n",
       "      <td>[blasterjaxx, hardwell, maddix]</td>\n",
       "      <td>[hard techno]</td>\n",
       "      <td>[revealed]</td>\n",
       "      <td>16</td>\n",
       "      <td>17.777778</td>\n",
       "      <td>50.000000</td>\n",
       "    </tr>\n",
       "    <tr>\n",
       "      <th>1</th>\n",
       "      <td>cxsruom1</td>\n",
       "      <td>17 (Ekko &amp; Sidetrack Bootleg)</td>\n",
       "      <td>[ekko &amp; sidetrack, mk]</td>\n",
       "      <td>[drum &amp; bass]</td>\n",
       "      <td>[[no labels]]</td>\n",
       "      <td>17 ekko &amp; sidetrack bootleg</td>\n",
       "      <td>13.333333</td>\n",
       "      <td>0.000000</td>\n",
       "    </tr>\n",
       "    <tr>\n",
       "      <th>2</th>\n",
       "      <td>847p1x5v</td>\n",
       "      <td>Never Let You Down</td>\n",
       "      <td>[cimone, deadline, duskee, emily makis, fricti...</td>\n",
       "      <td>[drum &amp; bass]</td>\n",
       "      <td>[shogun audio]</td>\n",
       "      <td>never let you down</td>\n",
       "      <td>0.000000</td>\n",
       "      <td>0.000000</td>\n",
       "    </tr>\n",
       "    <tr>\n",
       "      <th>3</th>\n",
       "      <td>4owlyi76</td>\n",
       "      <td>4 AM</td>\n",
       "      <td>[lexed, oshan]</td>\n",
       "      <td>[future house / future bounce]</td>\n",
       "      <td>[future house cloud]</td>\n",
       "      <td>4 am</td>\n",
       "      <td>0.000000</td>\n",
       "      <td>0.000000</td>\n",
       "    </tr>\n",
       "    <tr>\n",
       "      <th>4</th>\n",
       "      <td>a3ok10ce</td>\n",
       "      <td>4D</td>\n",
       "      <td>[bad computer, ryan coss]</td>\n",
       "      <td>[electro house]</td>\n",
       "      <td>[monstercat]</td>\n",
       "      <td>4d</td>\n",
       "      <td>3.555556</td>\n",
       "      <td>0.000000</td>\n",
       "    </tr>\n",
       "    <tr>\n",
       "      <th>...</th>\n",
       "      <td>...</td>\n",
       "      <td>...</td>\n",
       "      <td>...</td>\n",
       "      <td>...</td>\n",
       "      <td>...</td>\n",
       "      <td>...</td>\n",
       "      <td>...</td>\n",
       "      <td>...</td>\n",
       "    </tr>\n",
       "    <tr>\n",
       "      <th>302</th>\n",
       "      <td>cqdneir6</td>\n",
       "      <td>Can You Feel It</td>\n",
       "      <td>[retrovision]</td>\n",
       "      <td>[bass house]</td>\n",
       "      <td>[stmpd]</td>\n",
       "      <td>can you feel it</td>\n",
       "      <td>2.222222</td>\n",
       "      <td>1.428571</td>\n",
       "    </tr>\n",
       "    <tr>\n",
       "      <th>303</th>\n",
       "      <td>nwqit015</td>\n",
       "      <td>Curse of the Moai</td>\n",
       "      <td>[exyl, nasko]</td>\n",
       "      <td>[drumstep / moombahcore]</td>\n",
       "      <td>[[no labels]]</td>\n",
       "      <td>curse of the moai</td>\n",
       "      <td>0.000000</td>\n",
       "      <td>0.000000</td>\n",
       "    </tr>\n",
       "    <tr>\n",
       "      <th>304</th>\n",
       "      <td>em4stqoh</td>\n",
       "      <td>Himalaya</td>\n",
       "      <td>[matisse &amp; sadko]</td>\n",
       "      <td>[progressive house]</td>\n",
       "      <td>[stmpd]</td>\n",
       "      <td>himalaya</td>\n",
       "      <td>3.111111</td>\n",
       "      <td>2.857143</td>\n",
       "    </tr>\n",
       "    <tr>\n",
       "      <th>305</th>\n",
       "      <td>wx93mcy6</td>\n",
       "      <td>Next To Me</td>\n",
       "      <td>[don diablo, gaby gerlis, mk]</td>\n",
       "      <td>[future house / future bounce]</td>\n",
       "      <td>[hexagon]</td>\n",
       "      <td>next to me</td>\n",
       "      <td>11.555556</td>\n",
       "      <td>1.428571</td>\n",
       "    </tr>\n",
       "    <tr>\n",
       "      <th>306</th>\n",
       "      <td>0wpg1fj9</td>\n",
       "      <td>Hopelessly Falling</td>\n",
       "      <td>[enrem, jonah sky, rico 56, ubo]</td>\n",
       "      <td>[melodic house]</td>\n",
       "      <td>[monstercat silk]</td>\n",
       "      <td>hopelessly falling</td>\n",
       "      <td>0.000000</td>\n",
       "      <td>0.000000</td>\n",
       "    </tr>\n",
       "  </tbody>\n",
       "</table>\n",
       "<p>307 rows × 8 columns</p>\n",
       "</div>"
      ]
     },
     "execution_count": 316,
     "metadata": {},
     "output_type": "execute_result"
    }
   ],
   "execution_count": 316
  },
  {
   "metadata": {},
   "cell_type": "markdown",
   "source": "#### Weighting by recorded by stats",
   "id": "9819e8539c2eec7a"
  },
  {
   "metadata": {
    "ExecuteTime": {
     "end_time": "2024-12-17T18:27:57.917376Z",
     "start_time": "2024-12-17T18:27:57.898482Z"
    }
   },
   "cell_type": "code",
   "source": [
    "pr_pro, w_pro = compute_power(data_pro, general_field)  # 'w_pro' is calculated for the final step of the Power Ranking\n",
    "pr_pro"
   ],
   "id": "c7f9cfc0bce7b743",
   "outputs": [
    {
     "data": {
      "text/plain": [
       "    songstats_id                songstats_title  \\\n",
       "0       qmr6e0bx                             16   \n",
       "1       cxsruom1  17 (Ekko & Sidetrack Bootleg)   \n",
       "2       847p1x5v             Never Let You Down   \n",
       "3       4owlyi76                           4 AM   \n",
       "4       a3ok10ce                             4D   \n",
       "..           ...                            ...   \n",
       "302     cqdneir6                Can You Feel It   \n",
       "303     nwqit015              Curse of the Moai   \n",
       "304     em4stqoh                       Himalaya   \n",
       "305     wx93mcy6                     Next To Me   \n",
       "306     0wpg1fj9             Hopelessly Falling   \n",
       "\n",
       "                                           artist_list  \\\n",
       "0                      [blasterjaxx, hardwell, maddix]   \n",
       "1                               [ekko & sidetrack, mk]   \n",
       "2    [cimone, deadline, duskee, emily makis, fricti...   \n",
       "3                                       [lexed, oshan]   \n",
       "4                            [bad computer, ryan coss]   \n",
       "..                                                 ...   \n",
       "302                                      [retrovision]   \n",
       "303                                      [exyl, nasko]   \n",
       "304                                  [matisse & sadko]   \n",
       "305                      [don diablo, gaby gerlis, mk]   \n",
       "306                   [enrem, jonah sky, rico 56, ubo]   \n",
       "\n",
       "                              genre                 label  \\\n",
       "0                     [hard techno]            [revealed]   \n",
       "1                     [drum & bass]         [[no labels]]   \n",
       "2                     [drum & bass]        [shogun audio]   \n",
       "3    [future house / future bounce]  [future house cloud]   \n",
       "4                   [electro house]          [monstercat]   \n",
       "..                              ...                   ...   \n",
       "302                    [bass house]               [stmpd]   \n",
       "303        [drumstep / moombahcore]         [[no labels]]   \n",
       "304             [progressive house]               [stmpd]   \n",
       "305  [future house / future bounce]             [hexagon]   \n",
       "306                 [melodic house]     [monstercat silk]   \n",
       "\n",
       "                           title  1001tracklists_unique_support  \\\n",
       "0                             16                      17.777778   \n",
       "1    17 ekko & sidetrack bootleg                      13.333333   \n",
       "2             never let you down                       0.000000   \n",
       "3                           4 am                       0.000000   \n",
       "4                             4d                       3.555556   \n",
       "..                           ...                            ...   \n",
       "302              can you feel it                       2.222222   \n",
       "303            curse of the moai                       0.000000   \n",
       "304                     himalaya                       3.111111   \n",
       "305                   next to me                      11.555556   \n",
       "306           hopelessly falling                       0.000000   \n",
       "\n",
       "     beatport_dj_charts_total        PWR  \n",
       "0                   50.000000  31.780893  \n",
       "1                    0.000000   7.538941  \n",
       "2                    0.000000   0.000000  \n",
       "3                    0.000000   0.000000  \n",
       "4                    0.000000   2.010384  \n",
       "..                        ...        ...  \n",
       "302                  1.428571   1.877318  \n",
       "303                  0.000000   0.000000  \n",
       "304                  2.857143   3.000742  \n",
       "305                  1.428571   7.154576  \n",
       "306                  0.000000   0.000000  \n",
       "\n",
       "[307 rows x 9 columns]"
      ],
      "text/html": [
       "<div>\n",
       "<style scoped>\n",
       "    .dataframe tbody tr th:only-of-type {\n",
       "        vertical-align: middle;\n",
       "    }\n",
       "\n",
       "    .dataframe tbody tr th {\n",
       "        vertical-align: top;\n",
       "    }\n",
       "\n",
       "    .dataframe thead th {\n",
       "        text-align: right;\n",
       "    }\n",
       "</style>\n",
       "<table border=\"1\" class=\"dataframe\">\n",
       "  <thead>\n",
       "    <tr style=\"text-align: right;\">\n",
       "      <th></th>\n",
       "      <th>songstats_id</th>\n",
       "      <th>songstats_title</th>\n",
       "      <th>artist_list</th>\n",
       "      <th>genre</th>\n",
       "      <th>label</th>\n",
       "      <th>title</th>\n",
       "      <th>1001tracklists_unique_support</th>\n",
       "      <th>beatport_dj_charts_total</th>\n",
       "      <th>PWR</th>\n",
       "    </tr>\n",
       "  </thead>\n",
       "  <tbody>\n",
       "    <tr>\n",
       "      <th>0</th>\n",
       "      <td>qmr6e0bx</td>\n",
       "      <td>16</td>\n",
       "      <td>[blasterjaxx, hardwell, maddix]</td>\n",
       "      <td>[hard techno]</td>\n",
       "      <td>[revealed]</td>\n",
       "      <td>16</td>\n",
       "      <td>17.777778</td>\n",
       "      <td>50.000000</td>\n",
       "      <td>31.780893</td>\n",
       "    </tr>\n",
       "    <tr>\n",
       "      <th>1</th>\n",
       "      <td>cxsruom1</td>\n",
       "      <td>17 (Ekko &amp; Sidetrack Bootleg)</td>\n",
       "      <td>[ekko &amp; sidetrack, mk]</td>\n",
       "      <td>[drum &amp; bass]</td>\n",
       "      <td>[[no labels]]</td>\n",
       "      <td>17 ekko &amp; sidetrack bootleg</td>\n",
       "      <td>13.333333</td>\n",
       "      <td>0.000000</td>\n",
       "      <td>7.538941</td>\n",
       "    </tr>\n",
       "    <tr>\n",
       "      <th>2</th>\n",
       "      <td>847p1x5v</td>\n",
       "      <td>Never Let You Down</td>\n",
       "      <td>[cimone, deadline, duskee, emily makis, fricti...</td>\n",
       "      <td>[drum &amp; bass]</td>\n",
       "      <td>[shogun audio]</td>\n",
       "      <td>never let you down</td>\n",
       "      <td>0.000000</td>\n",
       "      <td>0.000000</td>\n",
       "      <td>0.000000</td>\n",
       "    </tr>\n",
       "    <tr>\n",
       "      <th>3</th>\n",
       "      <td>4owlyi76</td>\n",
       "      <td>4 AM</td>\n",
       "      <td>[lexed, oshan]</td>\n",
       "      <td>[future house / future bounce]</td>\n",
       "      <td>[future house cloud]</td>\n",
       "      <td>4 am</td>\n",
       "      <td>0.000000</td>\n",
       "      <td>0.000000</td>\n",
       "      <td>0.000000</td>\n",
       "    </tr>\n",
       "    <tr>\n",
       "      <th>4</th>\n",
       "      <td>a3ok10ce</td>\n",
       "      <td>4D</td>\n",
       "      <td>[bad computer, ryan coss]</td>\n",
       "      <td>[electro house]</td>\n",
       "      <td>[monstercat]</td>\n",
       "      <td>4d</td>\n",
       "      <td>3.555556</td>\n",
       "      <td>0.000000</td>\n",
       "      <td>2.010384</td>\n",
       "    </tr>\n",
       "    <tr>\n",
       "      <th>...</th>\n",
       "      <td>...</td>\n",
       "      <td>...</td>\n",
       "      <td>...</td>\n",
       "      <td>...</td>\n",
       "      <td>...</td>\n",
       "      <td>...</td>\n",
       "      <td>...</td>\n",
       "      <td>...</td>\n",
       "      <td>...</td>\n",
       "    </tr>\n",
       "    <tr>\n",
       "      <th>302</th>\n",
       "      <td>cqdneir6</td>\n",
       "      <td>Can You Feel It</td>\n",
       "      <td>[retrovision]</td>\n",
       "      <td>[bass house]</td>\n",
       "      <td>[stmpd]</td>\n",
       "      <td>can you feel it</td>\n",
       "      <td>2.222222</td>\n",
       "      <td>1.428571</td>\n",
       "      <td>1.877318</td>\n",
       "    </tr>\n",
       "    <tr>\n",
       "      <th>303</th>\n",
       "      <td>nwqit015</td>\n",
       "      <td>Curse of the Moai</td>\n",
       "      <td>[exyl, nasko]</td>\n",
       "      <td>[drumstep / moombahcore]</td>\n",
       "      <td>[[no labels]]</td>\n",
       "      <td>curse of the moai</td>\n",
       "      <td>0.000000</td>\n",
       "      <td>0.000000</td>\n",
       "      <td>0.000000</td>\n",
       "    </tr>\n",
       "    <tr>\n",
       "      <th>304</th>\n",
       "      <td>em4stqoh</td>\n",
       "      <td>Himalaya</td>\n",
       "      <td>[matisse &amp; sadko]</td>\n",
       "      <td>[progressive house]</td>\n",
       "      <td>[stmpd]</td>\n",
       "      <td>himalaya</td>\n",
       "      <td>3.111111</td>\n",
       "      <td>2.857143</td>\n",
       "      <td>3.000742</td>\n",
       "    </tr>\n",
       "    <tr>\n",
       "      <th>305</th>\n",
       "      <td>wx93mcy6</td>\n",
       "      <td>Next To Me</td>\n",
       "      <td>[don diablo, gaby gerlis, mk]</td>\n",
       "      <td>[future house / future bounce]</td>\n",
       "      <td>[hexagon]</td>\n",
       "      <td>next to me</td>\n",
       "      <td>11.555556</td>\n",
       "      <td>1.428571</td>\n",
       "      <td>7.154576</td>\n",
       "    </tr>\n",
       "    <tr>\n",
       "      <th>306</th>\n",
       "      <td>0wpg1fj9</td>\n",
       "      <td>Hopelessly Falling</td>\n",
       "      <td>[enrem, jonah sky, rico 56, ubo]</td>\n",
       "      <td>[melodic house]</td>\n",
       "      <td>[monstercat silk]</td>\n",
       "      <td>hopelessly falling</td>\n",
       "      <td>0.000000</td>\n",
       "      <td>0.000000</td>\n",
       "      <td>0.000000</td>\n",
       "    </tr>\n",
       "  </tbody>\n",
       "</table>\n",
       "<p>307 rows × 9 columns</p>\n",
       "</div>"
      ]
     },
     "execution_count": 323,
     "metadata": {},
     "output_type": "execute_result"
    }
   ],
   "execution_count": 323
  },
  {
   "metadata": {},
   "cell_type": "markdown",
   "source": "#### Graphical Representation",
   "id": "148122783d03be04"
  },
  {
   "metadata": {
    "ExecuteTime": {
     "end_time": "2024-12-17T18:31:58.009256Z",
     "start_time": "2024-12-17T18:31:57.963896Z"
    }
   },
   "cell_type": "code",
   "source": [
    "bar_pr_pro = plot_bar(dataframe=pr_pro.sort_values('PWR', ascending=False).head(20),\n",
    "                      x='songstats_title',\n",
    "                      y='PWR',\n",
    "                      title='Pro. Support Power Ranking (Top 20)',\n",
    "                      x_label='Track',\n",
    "                      y_label='Power',\n",
    "                      col_range=(pr_pro.PWR.min(), pr_pro.PWR.max()))\n",
    "bar_pr_pro.show()"
   ],
   "id": "cbba5c0230392dab",
   "outputs": [
    {
     "data": {
      "application/vnd.plotly.v1+json": {
       "data": [
        {
         "alignmentgroup": "True",
         "hovertemplate": "Track=%{x}<br>Power=%{marker.color}<extra></extra>",
         "legendgroup": "",
         "marker": {
          "color": [
           99.99999999999999,
           56.15635662364634,
           45.01112594570538,
           37.28022548583296,
           36.28942293428275,
           33.21495327102804,
           33.14122533748702,
           32.19537160658656,
           32.15086782376502,
           31.780893042575283,
           29.933689363595903,
           27.524106215695003,
           25.82391336596944,
           24.70093457943925,
           23.074914701082925,
           23.03041091826138,
           22.098946743806554,
           21.980715027444,
           21.611185284082477,
           21.53745735054146
          ],
          "coloraxis": "coloraxis",
          "pattern": {
           "shape": ""
          }
         },
         "name": "",
         "offsetgroup": "",
         "orientation": "v",
         "showlegend": false,
         "textposition": "auto",
         "x": [
          "Shiver",
          "Open Sesame (Abracadabra) [feat. Leila K]",
          "Go Back (feat. Julia Church)",
          "Carry You",
          "Eternity - Massano Remix",
          "Control Your Body - Hardwell Edit",
          "Breakaway",
          "Biochemical",
          "Mas Que Nada",
          "16",
          "SexyBack",
          "Move",
          "Energy In Motion",
          "Beast Mode (Knock You Out)",
          "Deeper Underground",
          "This Moment",
          "MR. SANDMAN",
          "Armed & Dangerous",
          "Energy",
          "Closer"
         ],
         "xaxis": "x",
         "y": [
          99.99999999999999,
          56.15635662364634,
          45.01112594570538,
          37.28022548583296,
          36.28942293428275,
          33.21495327102804,
          33.14122533748702,
          32.19537160658656,
          32.15086782376502,
          31.780893042575283,
          29.933689363595903,
          27.524106215695003,
          25.82391336596944,
          24.70093457943925,
          23.074914701082925,
          23.03041091826138,
          22.098946743806554,
          21.980715027444,
          21.611185284082477,
          21.53745735054146
         ],
         "yaxis": "y",
         "type": "bar"
        }
       ],
       "layout": {
        "template": {
         "data": {
          "histogram2dcontour": [
           {
            "type": "histogram2dcontour",
            "colorbar": {
             "outlinewidth": 0,
             "ticks": ""
            },
            "colorscale": [
             [
              0.0,
              "#0d0887"
             ],
             [
              0.1111111111111111,
              "#46039f"
             ],
             [
              0.2222222222222222,
              "#7201a8"
             ],
             [
              0.3333333333333333,
              "#9c179e"
             ],
             [
              0.4444444444444444,
              "#bd3786"
             ],
             [
              0.5555555555555556,
              "#d8576b"
             ],
             [
              0.6666666666666666,
              "#ed7953"
             ],
             [
              0.7777777777777778,
              "#fb9f3a"
             ],
             [
              0.8888888888888888,
              "#fdca26"
             ],
             [
              1.0,
              "#f0f921"
             ]
            ]
           }
          ],
          "choropleth": [
           {
            "type": "choropleth",
            "colorbar": {
             "outlinewidth": 0,
             "ticks": ""
            }
           }
          ],
          "histogram2d": [
           {
            "type": "histogram2d",
            "colorbar": {
             "outlinewidth": 0,
             "ticks": ""
            },
            "colorscale": [
             [
              0.0,
              "#0d0887"
             ],
             [
              0.1111111111111111,
              "#46039f"
             ],
             [
              0.2222222222222222,
              "#7201a8"
             ],
             [
              0.3333333333333333,
              "#9c179e"
             ],
             [
              0.4444444444444444,
              "#bd3786"
             ],
             [
              0.5555555555555556,
              "#d8576b"
             ],
             [
              0.6666666666666666,
              "#ed7953"
             ],
             [
              0.7777777777777778,
              "#fb9f3a"
             ],
             [
              0.8888888888888888,
              "#fdca26"
             ],
             [
              1.0,
              "#f0f921"
             ]
            ]
           }
          ],
          "heatmap": [
           {
            "type": "heatmap",
            "colorbar": {
             "outlinewidth": 0,
             "ticks": ""
            },
            "colorscale": [
             [
              0.0,
              "#0d0887"
             ],
             [
              0.1111111111111111,
              "#46039f"
             ],
             [
              0.2222222222222222,
              "#7201a8"
             ],
             [
              0.3333333333333333,
              "#9c179e"
             ],
             [
              0.4444444444444444,
              "#bd3786"
             ],
             [
              0.5555555555555556,
              "#d8576b"
             ],
             [
              0.6666666666666666,
              "#ed7953"
             ],
             [
              0.7777777777777778,
              "#fb9f3a"
             ],
             [
              0.8888888888888888,
              "#fdca26"
             ],
             [
              1.0,
              "#f0f921"
             ]
            ]
           }
          ],
          "heatmapgl": [
           {
            "type": "heatmapgl",
            "colorbar": {
             "outlinewidth": 0,
             "ticks": ""
            },
            "colorscale": [
             [
              0.0,
              "#0d0887"
             ],
             [
              0.1111111111111111,
              "#46039f"
             ],
             [
              0.2222222222222222,
              "#7201a8"
             ],
             [
              0.3333333333333333,
              "#9c179e"
             ],
             [
              0.4444444444444444,
              "#bd3786"
             ],
             [
              0.5555555555555556,
              "#d8576b"
             ],
             [
              0.6666666666666666,
              "#ed7953"
             ],
             [
              0.7777777777777778,
              "#fb9f3a"
             ],
             [
              0.8888888888888888,
              "#fdca26"
             ],
             [
              1.0,
              "#f0f921"
             ]
            ]
           }
          ],
          "contourcarpet": [
           {
            "type": "contourcarpet",
            "colorbar": {
             "outlinewidth": 0,
             "ticks": ""
            }
           }
          ],
          "contour": [
           {
            "type": "contour",
            "colorbar": {
             "outlinewidth": 0,
             "ticks": ""
            },
            "colorscale": [
             [
              0.0,
              "#0d0887"
             ],
             [
              0.1111111111111111,
              "#46039f"
             ],
             [
              0.2222222222222222,
              "#7201a8"
             ],
             [
              0.3333333333333333,
              "#9c179e"
             ],
             [
              0.4444444444444444,
              "#bd3786"
             ],
             [
              0.5555555555555556,
              "#d8576b"
             ],
             [
              0.6666666666666666,
              "#ed7953"
             ],
             [
              0.7777777777777778,
              "#fb9f3a"
             ],
             [
              0.8888888888888888,
              "#fdca26"
             ],
             [
              1.0,
              "#f0f921"
             ]
            ]
           }
          ],
          "surface": [
           {
            "type": "surface",
            "colorbar": {
             "outlinewidth": 0,
             "ticks": ""
            },
            "colorscale": [
             [
              0.0,
              "#0d0887"
             ],
             [
              0.1111111111111111,
              "#46039f"
             ],
             [
              0.2222222222222222,
              "#7201a8"
             ],
             [
              0.3333333333333333,
              "#9c179e"
             ],
             [
              0.4444444444444444,
              "#bd3786"
             ],
             [
              0.5555555555555556,
              "#d8576b"
             ],
             [
              0.6666666666666666,
              "#ed7953"
             ],
             [
              0.7777777777777778,
              "#fb9f3a"
             ],
             [
              0.8888888888888888,
              "#fdca26"
             ],
             [
              1.0,
              "#f0f921"
             ]
            ]
           }
          ],
          "mesh3d": [
           {
            "type": "mesh3d",
            "colorbar": {
             "outlinewidth": 0,
             "ticks": ""
            }
           }
          ],
          "scatter": [
           {
            "marker": {
             "line": {
              "color": "#283442"
             }
            },
            "type": "scatter"
           }
          ],
          "parcoords": [
           {
            "type": "parcoords",
            "line": {
             "colorbar": {
              "outlinewidth": 0,
              "ticks": ""
             }
            }
           }
          ],
          "scatterpolargl": [
           {
            "type": "scatterpolargl",
            "marker": {
             "colorbar": {
              "outlinewidth": 0,
              "ticks": ""
             }
            }
           }
          ],
          "bar": [
           {
            "error_x": {
             "color": "#f2f5fa"
            },
            "error_y": {
             "color": "#f2f5fa"
            },
            "marker": {
             "line": {
              "color": "rgb(17,17,17)",
              "width": 0.5
             },
             "pattern": {
              "fillmode": "overlay",
              "size": 10,
              "solidity": 0.2
             }
            },
            "type": "bar"
           }
          ],
          "scattergeo": [
           {
            "type": "scattergeo",
            "marker": {
             "colorbar": {
              "outlinewidth": 0,
              "ticks": ""
             }
            }
           }
          ],
          "scatterpolar": [
           {
            "type": "scatterpolar",
            "marker": {
             "colorbar": {
              "outlinewidth": 0,
              "ticks": ""
             }
            }
           }
          ],
          "histogram": [
           {
            "marker": {
             "pattern": {
              "fillmode": "overlay",
              "size": 10,
              "solidity": 0.2
             }
            },
            "type": "histogram"
           }
          ],
          "scattergl": [
           {
            "marker": {
             "line": {
              "color": "#283442"
             }
            },
            "type": "scattergl"
           }
          ],
          "scatter3d": [
           {
            "type": "scatter3d",
            "line": {
             "colorbar": {
              "outlinewidth": 0,
              "ticks": ""
             }
            },
            "marker": {
             "colorbar": {
              "outlinewidth": 0,
              "ticks": ""
             }
            }
           }
          ],
          "scattermapbox": [
           {
            "type": "scattermapbox",
            "marker": {
             "colorbar": {
              "outlinewidth": 0,
              "ticks": ""
             }
            }
           }
          ],
          "scatterternary": [
           {
            "type": "scatterternary",
            "marker": {
             "colorbar": {
              "outlinewidth": 0,
              "ticks": ""
             }
            }
           }
          ],
          "scattercarpet": [
           {
            "type": "scattercarpet",
            "marker": {
             "colorbar": {
              "outlinewidth": 0,
              "ticks": ""
             }
            }
           }
          ],
          "carpet": [
           {
            "aaxis": {
             "endlinecolor": "#A2B1C6",
             "gridcolor": "#506784",
             "linecolor": "#506784",
             "minorgridcolor": "#506784",
             "startlinecolor": "#A2B1C6"
            },
            "baxis": {
             "endlinecolor": "#A2B1C6",
             "gridcolor": "#506784",
             "linecolor": "#506784",
             "minorgridcolor": "#506784",
             "startlinecolor": "#A2B1C6"
            },
            "type": "carpet"
           }
          ],
          "table": [
           {
            "cells": {
             "fill": {
              "color": "#506784"
             },
             "line": {
              "color": "rgb(17,17,17)"
             }
            },
            "header": {
             "fill": {
              "color": "#2a3f5f"
             },
             "line": {
              "color": "rgb(17,17,17)"
             }
            },
            "type": "table"
           }
          ],
          "barpolar": [
           {
            "marker": {
             "line": {
              "color": "rgb(17,17,17)",
              "width": 0.5
             },
             "pattern": {
              "fillmode": "overlay",
              "size": 10,
              "solidity": 0.2
             }
            },
            "type": "barpolar"
           }
          ],
          "pie": [
           {
            "automargin": true,
            "type": "pie"
           }
          ]
         },
         "layout": {
          "autotypenumbers": "strict",
          "colorway": [
           "#636efa",
           "#EF553B",
           "#00cc96",
           "#ab63fa",
           "#FFA15A",
           "#19d3f3",
           "#FF6692",
           "#B6E880",
           "#FF97FF",
           "#FECB52"
          ],
          "font": {
           "color": "#f2f5fa"
          },
          "hovermode": "closest",
          "hoverlabel": {
           "align": "left"
          },
          "paper_bgcolor": "rgb(17,17,17)",
          "plot_bgcolor": "rgb(17,17,17)",
          "polar": {
           "bgcolor": "rgb(17,17,17)",
           "angularaxis": {
            "gridcolor": "#506784",
            "linecolor": "#506784",
            "ticks": ""
           },
           "radialaxis": {
            "gridcolor": "#506784",
            "linecolor": "#506784",
            "ticks": ""
           }
          },
          "ternary": {
           "bgcolor": "rgb(17,17,17)",
           "aaxis": {
            "gridcolor": "#506784",
            "linecolor": "#506784",
            "ticks": ""
           },
           "baxis": {
            "gridcolor": "#506784",
            "linecolor": "#506784",
            "ticks": ""
           },
           "caxis": {
            "gridcolor": "#506784",
            "linecolor": "#506784",
            "ticks": ""
           }
          },
          "coloraxis": {
           "colorbar": {
            "outlinewidth": 0,
            "ticks": ""
           }
          },
          "colorscale": {
           "sequential": [
            [
             0.0,
             "#0d0887"
            ],
            [
             0.1111111111111111,
             "#46039f"
            ],
            [
             0.2222222222222222,
             "#7201a8"
            ],
            [
             0.3333333333333333,
             "#9c179e"
            ],
            [
             0.4444444444444444,
             "#bd3786"
            ],
            [
             0.5555555555555556,
             "#d8576b"
            ],
            [
             0.6666666666666666,
             "#ed7953"
            ],
            [
             0.7777777777777778,
             "#fb9f3a"
            ],
            [
             0.8888888888888888,
             "#fdca26"
            ],
            [
             1.0,
             "#f0f921"
            ]
           ],
           "sequentialminus": [
            [
             0.0,
             "#0d0887"
            ],
            [
             0.1111111111111111,
             "#46039f"
            ],
            [
             0.2222222222222222,
             "#7201a8"
            ],
            [
             0.3333333333333333,
             "#9c179e"
            ],
            [
             0.4444444444444444,
             "#bd3786"
            ],
            [
             0.5555555555555556,
             "#d8576b"
            ],
            [
             0.6666666666666666,
             "#ed7953"
            ],
            [
             0.7777777777777778,
             "#fb9f3a"
            ],
            [
             0.8888888888888888,
             "#fdca26"
            ],
            [
             1.0,
             "#f0f921"
            ]
           ],
           "diverging": [
            [
             0,
             "#8e0152"
            ],
            [
             0.1,
             "#c51b7d"
            ],
            [
             0.2,
             "#de77ae"
            ],
            [
             0.3,
             "#f1b6da"
            ],
            [
             0.4,
             "#fde0ef"
            ],
            [
             0.5,
             "#f7f7f7"
            ],
            [
             0.6,
             "#e6f5d0"
            ],
            [
             0.7,
             "#b8e186"
            ],
            [
             0.8,
             "#7fbc41"
            ],
            [
             0.9,
             "#4d9221"
            ],
            [
             1,
             "#276419"
            ]
           ]
          },
          "xaxis": {
           "gridcolor": "#283442",
           "linecolor": "#506784",
           "ticks": "",
           "title": {
            "standoff": 15
           },
           "zerolinecolor": "#283442",
           "automargin": true,
           "zerolinewidth": 2
          },
          "yaxis": {
           "gridcolor": "#283442",
           "linecolor": "#506784",
           "ticks": "",
           "title": {
            "standoff": 15
           },
           "zerolinecolor": "#283442",
           "automargin": true,
           "zerolinewidth": 2
          },
          "scene": {
           "xaxis": {
            "backgroundcolor": "rgb(17,17,17)",
            "gridcolor": "#506784",
            "linecolor": "#506784",
            "showbackground": true,
            "ticks": "",
            "zerolinecolor": "#C8D4E3",
            "gridwidth": 2
           },
           "yaxis": {
            "backgroundcolor": "rgb(17,17,17)",
            "gridcolor": "#506784",
            "linecolor": "#506784",
            "showbackground": true,
            "ticks": "",
            "zerolinecolor": "#C8D4E3",
            "gridwidth": 2
           },
           "zaxis": {
            "backgroundcolor": "rgb(17,17,17)",
            "gridcolor": "#506784",
            "linecolor": "#506784",
            "showbackground": true,
            "ticks": "",
            "zerolinecolor": "#C8D4E3",
            "gridwidth": 2
           }
          },
          "shapedefaults": {
           "line": {
            "color": "#f2f5fa"
           }
          },
          "annotationdefaults": {
           "arrowcolor": "#f2f5fa",
           "arrowhead": 0,
           "arrowwidth": 1
          },
          "geo": {
           "bgcolor": "rgb(17,17,17)",
           "landcolor": "rgb(17,17,17)",
           "subunitcolor": "#506784",
           "showland": true,
           "showlakes": true,
           "lakecolor": "rgb(17,17,17)"
          },
          "title": {
           "x": 0.05
          },
          "updatemenudefaults": {
           "bgcolor": "#506784",
           "borderwidth": 0
          },
          "sliderdefaults": {
           "bgcolor": "#C8D4E3",
           "borderwidth": 1,
           "bordercolor": "rgb(17,17,17)",
           "tickwidth": 0
          },
          "mapbox": {
           "style": "dark"
          }
         }
        },
        "xaxis": {
         "anchor": "y",
         "domain": [
          0.0,
          1.0
         ],
         "title": {
          "text": "Track"
         },
         "categoryorder": "total descending"
        },
        "yaxis": {
         "anchor": "x",
         "domain": [
          0.0,
          1.0
         ],
         "title": {
          "text": "Power"
         }
        },
        "coloraxis": {
         "colorbar": {
          "title": {
           "text": "Power"
          }
         },
         "colorscale": [
          [
           0.0,
           "rgb(255,247,236)"
          ],
          [
           0.125,
           "rgb(254,232,200)"
          ],
          [
           0.25,
           "rgb(253,212,158)"
          ],
          [
           0.375,
           "rgb(253,187,132)"
          ],
          [
           0.5,
           "rgb(252,141,89)"
          ],
          [
           0.625,
           "rgb(239,101,72)"
          ],
          [
           0.75,
           "rgb(215,48,31)"
          ],
          [
           0.875,
           "rgb(179,0,0)"
          ],
          [
           1.0,
           "rgb(127,0,0)"
          ]
         ],
         "cmin": 0.0,
         "cmax": 99.99999999999999,
         "showscale": false
        },
        "legend": {
         "tracegroupgap": 0
        },
        "title": {
         "text": "Pro. Support Power Ranking (Top 20)"
        },
        "barmode": "relative",
        "height": 540,
        "width": 960
       },
       "config": {
        "plotlyServerURL": "https://plot.ly"
       }
      },
      "text/html": [
       "<div>                            <div id=\"ef00be2d-fee3-4b1a-a62c-89e858862128\" class=\"plotly-graph-div\" style=\"height:540px; width:960px;\"></div>            <script type=\"text/javascript\">                require([\"plotly\"], function(Plotly) {                    window.PLOTLYENV=window.PLOTLYENV || {};                                    if (document.getElementById(\"ef00be2d-fee3-4b1a-a62c-89e858862128\")) {                    Plotly.newPlot(                        \"ef00be2d-fee3-4b1a-a62c-89e858862128\",                        [{\"alignmentgroup\":\"True\",\"hovertemplate\":\"Track=%{x}\\u003cbr\\u003ePower=%{marker.color}\\u003cextra\\u003e\\u003c\\u002fextra\\u003e\",\"legendgroup\":\"\",\"marker\":{\"color\":[99.99999999999999,56.15635662364634,45.01112594570538,37.28022548583296,36.28942293428275,33.21495327102804,33.14122533748702,32.19537160658656,32.15086782376502,31.780893042575283,29.933689363595903,27.524106215695003,25.82391336596944,24.70093457943925,23.074914701082925,23.03041091826138,22.098946743806554,21.980715027444,21.611185284082477,21.53745735054146],\"coloraxis\":\"coloraxis\",\"pattern\":{\"shape\":\"\"}},\"name\":\"\",\"offsetgroup\":\"\",\"orientation\":\"v\",\"showlegend\":false,\"textposition\":\"auto\",\"x\":[\"Shiver\",\"Open Sesame (Abracadabra) [feat. Leila K]\",\"Go Back (feat. Julia Church)\",\"Carry You\",\"Eternity - Massano Remix\",\"Control Your Body - Hardwell Edit\",\"Breakaway\",\"Biochemical\",\"Mas Que Nada\",\"16\",\"SexyBack\",\"Move\",\"Energy In Motion\",\"Beast Mode (Knock You Out)\",\"Deeper Underground\",\"This Moment\",\"MR. SANDMAN\",\"Armed & Dangerous\",\"Energy\",\"Closer\"],\"xaxis\":\"x\",\"y\":[99.99999999999999,56.15635662364634,45.01112594570538,37.28022548583296,36.28942293428275,33.21495327102804,33.14122533748702,32.19537160658656,32.15086782376502,31.780893042575283,29.933689363595903,27.524106215695003,25.82391336596944,24.70093457943925,23.074914701082925,23.03041091826138,22.098946743806554,21.980715027444,21.611185284082477,21.53745735054146],\"yaxis\":\"y\",\"type\":\"bar\"}],                        {\"template\":{\"data\":{\"histogram2dcontour\":[{\"type\":\"histogram2dcontour\",\"colorbar\":{\"outlinewidth\":0,\"ticks\":\"\"},\"colorscale\":[[0.0,\"#0d0887\"],[0.1111111111111111,\"#46039f\"],[0.2222222222222222,\"#7201a8\"],[0.3333333333333333,\"#9c179e\"],[0.4444444444444444,\"#bd3786\"],[0.5555555555555556,\"#d8576b\"],[0.6666666666666666,\"#ed7953\"],[0.7777777777777778,\"#fb9f3a\"],[0.8888888888888888,\"#fdca26\"],[1.0,\"#f0f921\"]]}],\"choropleth\":[{\"type\":\"choropleth\",\"colorbar\":{\"outlinewidth\":0,\"ticks\":\"\"}}],\"histogram2d\":[{\"type\":\"histogram2d\",\"colorbar\":{\"outlinewidth\":0,\"ticks\":\"\"},\"colorscale\":[[0.0,\"#0d0887\"],[0.1111111111111111,\"#46039f\"],[0.2222222222222222,\"#7201a8\"],[0.3333333333333333,\"#9c179e\"],[0.4444444444444444,\"#bd3786\"],[0.5555555555555556,\"#d8576b\"],[0.6666666666666666,\"#ed7953\"],[0.7777777777777778,\"#fb9f3a\"],[0.8888888888888888,\"#fdca26\"],[1.0,\"#f0f921\"]]}],\"heatmap\":[{\"type\":\"heatmap\",\"colorbar\":{\"outlinewidth\":0,\"ticks\":\"\"},\"colorscale\":[[0.0,\"#0d0887\"],[0.1111111111111111,\"#46039f\"],[0.2222222222222222,\"#7201a8\"],[0.3333333333333333,\"#9c179e\"],[0.4444444444444444,\"#bd3786\"],[0.5555555555555556,\"#d8576b\"],[0.6666666666666666,\"#ed7953\"],[0.7777777777777778,\"#fb9f3a\"],[0.8888888888888888,\"#fdca26\"],[1.0,\"#f0f921\"]]}],\"heatmapgl\":[{\"type\":\"heatmapgl\",\"colorbar\":{\"outlinewidth\":0,\"ticks\":\"\"},\"colorscale\":[[0.0,\"#0d0887\"],[0.1111111111111111,\"#46039f\"],[0.2222222222222222,\"#7201a8\"],[0.3333333333333333,\"#9c179e\"],[0.4444444444444444,\"#bd3786\"],[0.5555555555555556,\"#d8576b\"],[0.6666666666666666,\"#ed7953\"],[0.7777777777777778,\"#fb9f3a\"],[0.8888888888888888,\"#fdca26\"],[1.0,\"#f0f921\"]]}],\"contourcarpet\":[{\"type\":\"contourcarpet\",\"colorbar\":{\"outlinewidth\":0,\"ticks\":\"\"}}],\"contour\":[{\"type\":\"contour\",\"colorbar\":{\"outlinewidth\":0,\"ticks\":\"\"},\"colorscale\":[[0.0,\"#0d0887\"],[0.1111111111111111,\"#46039f\"],[0.2222222222222222,\"#7201a8\"],[0.3333333333333333,\"#9c179e\"],[0.4444444444444444,\"#bd3786\"],[0.5555555555555556,\"#d8576b\"],[0.6666666666666666,\"#ed7953\"],[0.7777777777777778,\"#fb9f3a\"],[0.8888888888888888,\"#fdca26\"],[1.0,\"#f0f921\"]]}],\"surface\":[{\"type\":\"surface\",\"colorbar\":{\"outlinewidth\":0,\"ticks\":\"\"},\"colorscale\":[[0.0,\"#0d0887\"],[0.1111111111111111,\"#46039f\"],[0.2222222222222222,\"#7201a8\"],[0.3333333333333333,\"#9c179e\"],[0.4444444444444444,\"#bd3786\"],[0.5555555555555556,\"#d8576b\"],[0.6666666666666666,\"#ed7953\"],[0.7777777777777778,\"#fb9f3a\"],[0.8888888888888888,\"#fdca26\"],[1.0,\"#f0f921\"]]}],\"mesh3d\":[{\"type\":\"mesh3d\",\"colorbar\":{\"outlinewidth\":0,\"ticks\":\"\"}}],\"scatter\":[{\"marker\":{\"line\":{\"color\":\"#283442\"}},\"type\":\"scatter\"}],\"parcoords\":[{\"type\":\"parcoords\",\"line\":{\"colorbar\":{\"outlinewidth\":0,\"ticks\":\"\"}}}],\"scatterpolargl\":[{\"type\":\"scatterpolargl\",\"marker\":{\"colorbar\":{\"outlinewidth\":0,\"ticks\":\"\"}}}],\"bar\":[{\"error_x\":{\"color\":\"#f2f5fa\"},\"error_y\":{\"color\":\"#f2f5fa\"},\"marker\":{\"line\":{\"color\":\"rgb(17,17,17)\",\"width\":0.5},\"pattern\":{\"fillmode\":\"overlay\",\"size\":10,\"solidity\":0.2}},\"type\":\"bar\"}],\"scattergeo\":[{\"type\":\"scattergeo\",\"marker\":{\"colorbar\":{\"outlinewidth\":0,\"ticks\":\"\"}}}],\"scatterpolar\":[{\"type\":\"scatterpolar\",\"marker\":{\"colorbar\":{\"outlinewidth\":0,\"ticks\":\"\"}}}],\"histogram\":[{\"marker\":{\"pattern\":{\"fillmode\":\"overlay\",\"size\":10,\"solidity\":0.2}},\"type\":\"histogram\"}],\"scattergl\":[{\"marker\":{\"line\":{\"color\":\"#283442\"}},\"type\":\"scattergl\"}],\"scatter3d\":[{\"type\":\"scatter3d\",\"line\":{\"colorbar\":{\"outlinewidth\":0,\"ticks\":\"\"}},\"marker\":{\"colorbar\":{\"outlinewidth\":0,\"ticks\":\"\"}}}],\"scattermapbox\":[{\"type\":\"scattermapbox\",\"marker\":{\"colorbar\":{\"outlinewidth\":0,\"ticks\":\"\"}}}],\"scatterternary\":[{\"type\":\"scatterternary\",\"marker\":{\"colorbar\":{\"outlinewidth\":0,\"ticks\":\"\"}}}],\"scattercarpet\":[{\"type\":\"scattercarpet\",\"marker\":{\"colorbar\":{\"outlinewidth\":0,\"ticks\":\"\"}}}],\"carpet\":[{\"aaxis\":{\"endlinecolor\":\"#A2B1C6\",\"gridcolor\":\"#506784\",\"linecolor\":\"#506784\",\"minorgridcolor\":\"#506784\",\"startlinecolor\":\"#A2B1C6\"},\"baxis\":{\"endlinecolor\":\"#A2B1C6\",\"gridcolor\":\"#506784\",\"linecolor\":\"#506784\",\"minorgridcolor\":\"#506784\",\"startlinecolor\":\"#A2B1C6\"},\"type\":\"carpet\"}],\"table\":[{\"cells\":{\"fill\":{\"color\":\"#506784\"},\"line\":{\"color\":\"rgb(17,17,17)\"}},\"header\":{\"fill\":{\"color\":\"#2a3f5f\"},\"line\":{\"color\":\"rgb(17,17,17)\"}},\"type\":\"table\"}],\"barpolar\":[{\"marker\":{\"line\":{\"color\":\"rgb(17,17,17)\",\"width\":0.5},\"pattern\":{\"fillmode\":\"overlay\",\"size\":10,\"solidity\":0.2}},\"type\":\"barpolar\"}],\"pie\":[{\"automargin\":true,\"type\":\"pie\"}]},\"layout\":{\"autotypenumbers\":\"strict\",\"colorway\":[\"#636efa\",\"#EF553B\",\"#00cc96\",\"#ab63fa\",\"#FFA15A\",\"#19d3f3\",\"#FF6692\",\"#B6E880\",\"#FF97FF\",\"#FECB52\"],\"font\":{\"color\":\"#f2f5fa\"},\"hovermode\":\"closest\",\"hoverlabel\":{\"align\":\"left\"},\"paper_bgcolor\":\"rgb(17,17,17)\",\"plot_bgcolor\":\"rgb(17,17,17)\",\"polar\":{\"bgcolor\":\"rgb(17,17,17)\",\"angularaxis\":{\"gridcolor\":\"#506784\",\"linecolor\":\"#506784\",\"ticks\":\"\"},\"radialaxis\":{\"gridcolor\":\"#506784\",\"linecolor\":\"#506784\",\"ticks\":\"\"}},\"ternary\":{\"bgcolor\":\"rgb(17,17,17)\",\"aaxis\":{\"gridcolor\":\"#506784\",\"linecolor\":\"#506784\",\"ticks\":\"\"},\"baxis\":{\"gridcolor\":\"#506784\",\"linecolor\":\"#506784\",\"ticks\":\"\"},\"caxis\":{\"gridcolor\":\"#506784\",\"linecolor\":\"#506784\",\"ticks\":\"\"}},\"coloraxis\":{\"colorbar\":{\"outlinewidth\":0,\"ticks\":\"\"}},\"colorscale\":{\"sequential\":[[0.0,\"#0d0887\"],[0.1111111111111111,\"#46039f\"],[0.2222222222222222,\"#7201a8\"],[0.3333333333333333,\"#9c179e\"],[0.4444444444444444,\"#bd3786\"],[0.5555555555555556,\"#d8576b\"],[0.6666666666666666,\"#ed7953\"],[0.7777777777777778,\"#fb9f3a\"],[0.8888888888888888,\"#fdca26\"],[1.0,\"#f0f921\"]],\"sequentialminus\":[[0.0,\"#0d0887\"],[0.1111111111111111,\"#46039f\"],[0.2222222222222222,\"#7201a8\"],[0.3333333333333333,\"#9c179e\"],[0.4444444444444444,\"#bd3786\"],[0.5555555555555556,\"#d8576b\"],[0.6666666666666666,\"#ed7953\"],[0.7777777777777778,\"#fb9f3a\"],[0.8888888888888888,\"#fdca26\"],[1.0,\"#f0f921\"]],\"diverging\":[[0,\"#8e0152\"],[0.1,\"#c51b7d\"],[0.2,\"#de77ae\"],[0.3,\"#f1b6da\"],[0.4,\"#fde0ef\"],[0.5,\"#f7f7f7\"],[0.6,\"#e6f5d0\"],[0.7,\"#b8e186\"],[0.8,\"#7fbc41\"],[0.9,\"#4d9221\"],[1,\"#276419\"]]},\"xaxis\":{\"gridcolor\":\"#283442\",\"linecolor\":\"#506784\",\"ticks\":\"\",\"title\":{\"standoff\":15},\"zerolinecolor\":\"#283442\",\"automargin\":true,\"zerolinewidth\":2},\"yaxis\":{\"gridcolor\":\"#283442\",\"linecolor\":\"#506784\",\"ticks\":\"\",\"title\":{\"standoff\":15},\"zerolinecolor\":\"#283442\",\"automargin\":true,\"zerolinewidth\":2},\"scene\":{\"xaxis\":{\"backgroundcolor\":\"rgb(17,17,17)\",\"gridcolor\":\"#506784\",\"linecolor\":\"#506784\",\"showbackground\":true,\"ticks\":\"\",\"zerolinecolor\":\"#C8D4E3\",\"gridwidth\":2},\"yaxis\":{\"backgroundcolor\":\"rgb(17,17,17)\",\"gridcolor\":\"#506784\",\"linecolor\":\"#506784\",\"showbackground\":true,\"ticks\":\"\",\"zerolinecolor\":\"#C8D4E3\",\"gridwidth\":2},\"zaxis\":{\"backgroundcolor\":\"rgb(17,17,17)\",\"gridcolor\":\"#506784\",\"linecolor\":\"#506784\",\"showbackground\":true,\"ticks\":\"\",\"zerolinecolor\":\"#C8D4E3\",\"gridwidth\":2}},\"shapedefaults\":{\"line\":{\"color\":\"#f2f5fa\"}},\"annotationdefaults\":{\"arrowcolor\":\"#f2f5fa\",\"arrowhead\":0,\"arrowwidth\":1},\"geo\":{\"bgcolor\":\"rgb(17,17,17)\",\"landcolor\":\"rgb(17,17,17)\",\"subunitcolor\":\"#506784\",\"showland\":true,\"showlakes\":true,\"lakecolor\":\"rgb(17,17,17)\"},\"title\":{\"x\":0.05},\"updatemenudefaults\":{\"bgcolor\":\"#506784\",\"borderwidth\":0},\"sliderdefaults\":{\"bgcolor\":\"#C8D4E3\",\"borderwidth\":1,\"bordercolor\":\"rgb(17,17,17)\",\"tickwidth\":0},\"mapbox\":{\"style\":\"dark\"}}},\"xaxis\":{\"anchor\":\"y\",\"domain\":[0.0,1.0],\"title\":{\"text\":\"Track\"},\"categoryorder\":\"total descending\"},\"yaxis\":{\"anchor\":\"x\",\"domain\":[0.0,1.0],\"title\":{\"text\":\"Power\"}},\"coloraxis\":{\"colorbar\":{\"title\":{\"text\":\"Power\"}},\"colorscale\":[[0.0,\"rgb(255,247,236)\"],[0.125,\"rgb(254,232,200)\"],[0.25,\"rgb(253,212,158)\"],[0.375,\"rgb(253,187,132)\"],[0.5,\"rgb(252,141,89)\"],[0.625,\"rgb(239,101,72)\"],[0.75,\"rgb(215,48,31)\"],[0.875,\"rgb(179,0,0)\"],[1.0,\"rgb(127,0,0)\"]],\"cmin\":0.0,\"cmax\":99.99999999999999,\"showscale\":false},\"legend\":{\"tracegroupgap\":0},\"title\":{\"text\":\"Pro. Support Power Ranking (Top 20)\"},\"barmode\":\"relative\",\"height\":540,\"width\":960},                        {\"responsive\": true}                    ).then(function(){\n",
       "                            \n",
       "var gd = document.getElementById('ef00be2d-fee3-4b1a-a62c-89e858862128');\n",
       "var x = new MutationObserver(function (mutations, observer) {{\n",
       "        var display = window.getComputedStyle(gd).display;\n",
       "        if (!display || display === 'none') {{\n",
       "            console.log([gd, 'removed!']);\n",
       "            Plotly.purge(gd);\n",
       "            observer.disconnect();\n",
       "        }}\n",
       "}});\n",
       "\n",
       "// Listen for the removal of the full notebook cells\n",
       "var notebookContainer = gd.closest('#notebook-container');\n",
       "if (notebookContainer) {{\n",
       "    x.observe(notebookContainer, {childList: true});\n",
       "}}\n",
       "\n",
       "// Listen for the clearing of the current output cell\n",
       "var outputEl = gd.closest('.output');\n",
       "if (outputEl) {{\n",
       "    x.observe(outputEl, {childList: true});\n",
       "}}\n",
       "\n",
       "                        })                };                });            </script>        </div>"
      ]
     },
     "metadata": {},
     "output_type": "display_data"
    }
   ],
   "execution_count": 328
  },
  {
   "metadata": {},
   "cell_type": "markdown",
   "source": [
    "### Reach\n",
    "#### Rescale statistics"
   ],
   "id": "75ea05902a2a5dd1"
  },
  {
   "metadata": {
    "ExecuteTime": {
     "end_time": "2024-12-17T18:24:27.904778Z",
     "start_time": "2024-12-17T18:24:27.887771Z"
    }
   },
   "cell_type": "code",
   "source": [
    "data_rea = rescale_stats(data_rea, general_field)\n",
    "data_rea"
   ],
   "id": "c8f07ca07897a10d",
   "outputs": [
    {
     "data": {
      "text/plain": [
       "    songstats_id                songstats_title  \\\n",
       "0       qmr6e0bx                             16   \n",
       "1       cxsruom1  17 (Ekko & Sidetrack Bootleg)   \n",
       "2       847p1x5v             Never Let You Down   \n",
       "3       4owlyi76                           4 AM   \n",
       "4       a3ok10ce                             4D   \n",
       "..           ...                            ...   \n",
       "302     cqdneir6                Can You Feel It   \n",
       "303     nwqit015              Curse of the Moai   \n",
       "304     em4stqoh                       Himalaya   \n",
       "305     wx93mcy6                     Next To Me   \n",
       "306     0wpg1fj9             Hopelessly Falling   \n",
       "\n",
       "                                           artist_list  \\\n",
       "0                      [blasterjaxx, hardwell, maddix]   \n",
       "1                               [ekko & sidetrack, mk]   \n",
       "2    [cimone, deadline, duskee, emily makis, fricti...   \n",
       "3                                       [lexed, oshan]   \n",
       "4                            [bad computer, ryan coss]   \n",
       "..                                                 ...   \n",
       "302                                      [retrovision]   \n",
       "303                                      [exyl, nasko]   \n",
       "304                                  [matisse & sadko]   \n",
       "305                      [don diablo, gaby gerlis, mk]   \n",
       "306                   [enrem, jonah sky, rico 56, ubo]   \n",
       "\n",
       "                              genre                 label  \\\n",
       "0                     [hard techno]            [revealed]   \n",
       "1                     [drum & bass]         [[no labels]]   \n",
       "2                     [drum & bass]        [shogun audio]   \n",
       "3    [future house / future bounce]  [future house cloud]   \n",
       "4                   [electro house]          [monstercat]   \n",
       "..                              ...                   ...   \n",
       "302                    [bass house]               [stmpd]   \n",
       "303        [drumstep / moombahcore]         [[no labels]]   \n",
       "304             [progressive house]               [stmpd]   \n",
       "305  [future house / future bounce]             [hexagon]   \n",
       "306                 [melodic house]     [monstercat silk]   \n",
       "\n",
       "                           title  deezer_playlist_reach_total  \\\n",
       "0                             16                     5.997800   \n",
       "1    17 ekko & sidetrack bootleg                     0.000000   \n",
       "2             never let you down                     0.002665   \n",
       "3                           4 am                     0.006059   \n",
       "4                             4d                     0.003569   \n",
       "..                           ...                          ...   \n",
       "302              can you feel it                     0.003569   \n",
       "303            curse of the moai                     0.000000   \n",
       "304                     himalaya                     0.014284   \n",
       "305                   next to me                    65.406125   \n",
       "306           hopelessly falling                     0.000000   \n",
       "\n",
       "     spotify_playlist_reach_total  \n",
       "0                       10.117432  \n",
       "1                        0.000000  \n",
       "2                        0.702096  \n",
       "3                        0.560306  \n",
       "4                        0.773180  \n",
       "..                            ...  \n",
       "302                      2.158997  \n",
       "303                      0.028646  \n",
       "304                      1.280433  \n",
       "305                     25.078644  \n",
       "306                      0.108823  \n",
       "\n",
       "[307 rows x 8 columns]"
      ],
      "text/html": [
       "<div>\n",
       "<style scoped>\n",
       "    .dataframe tbody tr th:only-of-type {\n",
       "        vertical-align: middle;\n",
       "    }\n",
       "\n",
       "    .dataframe tbody tr th {\n",
       "        vertical-align: top;\n",
       "    }\n",
       "\n",
       "    .dataframe thead th {\n",
       "        text-align: right;\n",
       "    }\n",
       "</style>\n",
       "<table border=\"1\" class=\"dataframe\">\n",
       "  <thead>\n",
       "    <tr style=\"text-align: right;\">\n",
       "      <th></th>\n",
       "      <th>songstats_id</th>\n",
       "      <th>songstats_title</th>\n",
       "      <th>artist_list</th>\n",
       "      <th>genre</th>\n",
       "      <th>label</th>\n",
       "      <th>title</th>\n",
       "      <th>deezer_playlist_reach_total</th>\n",
       "      <th>spotify_playlist_reach_total</th>\n",
       "    </tr>\n",
       "  </thead>\n",
       "  <tbody>\n",
       "    <tr>\n",
       "      <th>0</th>\n",
       "      <td>qmr6e0bx</td>\n",
       "      <td>16</td>\n",
       "      <td>[blasterjaxx, hardwell, maddix]</td>\n",
       "      <td>[hard techno]</td>\n",
       "      <td>[revealed]</td>\n",
       "      <td>16</td>\n",
       "      <td>5.997800</td>\n",
       "      <td>10.117432</td>\n",
       "    </tr>\n",
       "    <tr>\n",
       "      <th>1</th>\n",
       "      <td>cxsruom1</td>\n",
       "      <td>17 (Ekko &amp; Sidetrack Bootleg)</td>\n",
       "      <td>[ekko &amp; sidetrack, mk]</td>\n",
       "      <td>[drum &amp; bass]</td>\n",
       "      <td>[[no labels]]</td>\n",
       "      <td>17 ekko &amp; sidetrack bootleg</td>\n",
       "      <td>0.000000</td>\n",
       "      <td>0.000000</td>\n",
       "    </tr>\n",
       "    <tr>\n",
       "      <th>2</th>\n",
       "      <td>847p1x5v</td>\n",
       "      <td>Never Let You Down</td>\n",
       "      <td>[cimone, deadline, duskee, emily makis, fricti...</td>\n",
       "      <td>[drum &amp; bass]</td>\n",
       "      <td>[shogun audio]</td>\n",
       "      <td>never let you down</td>\n",
       "      <td>0.002665</td>\n",
       "      <td>0.702096</td>\n",
       "    </tr>\n",
       "    <tr>\n",
       "      <th>3</th>\n",
       "      <td>4owlyi76</td>\n",
       "      <td>4 AM</td>\n",
       "      <td>[lexed, oshan]</td>\n",
       "      <td>[future house / future bounce]</td>\n",
       "      <td>[future house cloud]</td>\n",
       "      <td>4 am</td>\n",
       "      <td>0.006059</td>\n",
       "      <td>0.560306</td>\n",
       "    </tr>\n",
       "    <tr>\n",
       "      <th>4</th>\n",
       "      <td>a3ok10ce</td>\n",
       "      <td>4D</td>\n",
       "      <td>[bad computer, ryan coss]</td>\n",
       "      <td>[electro house]</td>\n",
       "      <td>[monstercat]</td>\n",
       "      <td>4d</td>\n",
       "      <td>0.003569</td>\n",
       "      <td>0.773180</td>\n",
       "    </tr>\n",
       "    <tr>\n",
       "      <th>...</th>\n",
       "      <td>...</td>\n",
       "      <td>...</td>\n",
       "      <td>...</td>\n",
       "      <td>...</td>\n",
       "      <td>...</td>\n",
       "      <td>...</td>\n",
       "      <td>...</td>\n",
       "      <td>...</td>\n",
       "    </tr>\n",
       "    <tr>\n",
       "      <th>302</th>\n",
       "      <td>cqdneir6</td>\n",
       "      <td>Can You Feel It</td>\n",
       "      <td>[retrovision]</td>\n",
       "      <td>[bass house]</td>\n",
       "      <td>[stmpd]</td>\n",
       "      <td>can you feel it</td>\n",
       "      <td>0.003569</td>\n",
       "      <td>2.158997</td>\n",
       "    </tr>\n",
       "    <tr>\n",
       "      <th>303</th>\n",
       "      <td>nwqit015</td>\n",
       "      <td>Curse of the Moai</td>\n",
       "      <td>[exyl, nasko]</td>\n",
       "      <td>[drumstep / moombahcore]</td>\n",
       "      <td>[[no labels]]</td>\n",
       "      <td>curse of the moai</td>\n",
       "      <td>0.000000</td>\n",
       "      <td>0.028646</td>\n",
       "    </tr>\n",
       "    <tr>\n",
       "      <th>304</th>\n",
       "      <td>em4stqoh</td>\n",
       "      <td>Himalaya</td>\n",
       "      <td>[matisse &amp; sadko]</td>\n",
       "      <td>[progressive house]</td>\n",
       "      <td>[stmpd]</td>\n",
       "      <td>himalaya</td>\n",
       "      <td>0.014284</td>\n",
       "      <td>1.280433</td>\n",
       "    </tr>\n",
       "    <tr>\n",
       "      <th>305</th>\n",
       "      <td>wx93mcy6</td>\n",
       "      <td>Next To Me</td>\n",
       "      <td>[don diablo, gaby gerlis, mk]</td>\n",
       "      <td>[future house / future bounce]</td>\n",
       "      <td>[hexagon]</td>\n",
       "      <td>next to me</td>\n",
       "      <td>65.406125</td>\n",
       "      <td>25.078644</td>\n",
       "    </tr>\n",
       "    <tr>\n",
       "      <th>306</th>\n",
       "      <td>0wpg1fj9</td>\n",
       "      <td>Hopelessly Falling</td>\n",
       "      <td>[enrem, jonah sky, rico 56, ubo]</td>\n",
       "      <td>[melodic house]</td>\n",
       "      <td>[monstercat silk]</td>\n",
       "      <td>hopelessly falling</td>\n",
       "      <td>0.000000</td>\n",
       "      <td>0.108823</td>\n",
       "    </tr>\n",
       "  </tbody>\n",
       "</table>\n",
       "<p>307 rows × 8 columns</p>\n",
       "</div>"
      ]
     },
     "execution_count": 317,
     "metadata": {},
     "output_type": "execute_result"
    }
   ],
   "execution_count": 317
  },
  {
   "metadata": {},
   "cell_type": "markdown",
   "source": "#### Weighting by recorded by stats",
   "id": "761bd00bb5269ecb"
  },
  {
   "metadata": {
    "ExecuteTime": {
     "end_time": "2024-12-17T18:28:16.540885Z",
     "start_time": "2024-12-17T18:28:16.519950Z"
    }
   },
   "cell_type": "code",
   "source": [
    "pr_rea, w_rea = compute_power(data_rea, general_field)  # 'w_rea' is calculated for the final step of the Power Ranking\n",
    "pr_rea"
   ],
   "id": "23bda554cf4c3ccc",
   "outputs": [
    {
     "data": {
      "text/plain": [
       "    songstats_id                songstats_title  \\\n",
       "0       qmr6e0bx                             16   \n",
       "1       cxsruom1  17 (Ekko & Sidetrack Bootleg)   \n",
       "2       847p1x5v             Never Let You Down   \n",
       "3       4owlyi76                           4 AM   \n",
       "4       a3ok10ce                             4D   \n",
       "..           ...                            ...   \n",
       "302     cqdneir6                Can You Feel It   \n",
       "303     nwqit015              Curse of the Moai   \n",
       "304     em4stqoh                       Himalaya   \n",
       "305     wx93mcy6                     Next To Me   \n",
       "306     0wpg1fj9             Hopelessly Falling   \n",
       "\n",
       "                                           artist_list  \\\n",
       "0                      [blasterjaxx, hardwell, maddix]   \n",
       "1                               [ekko & sidetrack, mk]   \n",
       "2    [cimone, deadline, duskee, emily makis, fricti...   \n",
       "3                                       [lexed, oshan]   \n",
       "4                            [bad computer, ryan coss]   \n",
       "..                                                 ...   \n",
       "302                                      [retrovision]   \n",
       "303                                      [exyl, nasko]   \n",
       "304                                  [matisse & sadko]   \n",
       "305                      [don diablo, gaby gerlis, mk]   \n",
       "306                   [enrem, jonah sky, rico 56, ubo]   \n",
       "\n",
       "                              genre                 label  \\\n",
       "0                     [hard techno]            [revealed]   \n",
       "1                     [drum & bass]         [[no labels]]   \n",
       "2                     [drum & bass]        [shogun audio]   \n",
       "3    [future house / future bounce]  [future house cloud]   \n",
       "4                   [electro house]          [monstercat]   \n",
       "..                              ...                   ...   \n",
       "302                    [bass house]               [stmpd]   \n",
       "303        [drumstep / moombahcore]         [[no labels]]   \n",
       "304             [progressive house]               [stmpd]   \n",
       "305  [future house / future bounce]             [hexagon]   \n",
       "306                 [melodic house]     [monstercat silk]   \n",
       "\n",
       "                           title  deezer_playlist_reach_total  \\\n",
       "0                             16                     5.997800   \n",
       "1    17 ekko & sidetrack bootleg                     0.000000   \n",
       "2             never let you down                     0.002665   \n",
       "3                           4 am                     0.006059   \n",
       "4                             4d                     0.003569   \n",
       "..                           ...                          ...   \n",
       "302              can you feel it                     0.003569   \n",
       "303            curse of the moai                     0.000000   \n",
       "304                     himalaya                     0.014284   \n",
       "305                   next to me                    65.406125   \n",
       "306           hopelessly falling                     0.000000   \n",
       "\n",
       "     spotify_playlist_reach_total        PWR  \n",
       "0                       10.117432   8.464595  \n",
       "1                        0.000000   0.000000  \n",
       "2                        0.702096   0.421478  \n",
       "3                        0.560306   0.337937  \n",
       "4                        0.773180   0.464404  \n",
       "..                            ...        ...  \n",
       "302                      2.158997   1.294219  \n",
       "303                      0.028646   0.017153  \n",
       "304                      1.280433   0.772442  \n",
       "305                     25.078644  41.258420  \n",
       "306                      0.108823   0.065162  \n",
       "\n",
       "[307 rows x 9 columns]"
      ],
      "text/html": [
       "<div>\n",
       "<style scoped>\n",
       "    .dataframe tbody tr th:only-of-type {\n",
       "        vertical-align: middle;\n",
       "    }\n",
       "\n",
       "    .dataframe tbody tr th {\n",
       "        vertical-align: top;\n",
       "    }\n",
       "\n",
       "    .dataframe thead th {\n",
       "        text-align: right;\n",
       "    }\n",
       "</style>\n",
       "<table border=\"1\" class=\"dataframe\">\n",
       "  <thead>\n",
       "    <tr style=\"text-align: right;\">\n",
       "      <th></th>\n",
       "      <th>songstats_id</th>\n",
       "      <th>songstats_title</th>\n",
       "      <th>artist_list</th>\n",
       "      <th>genre</th>\n",
       "      <th>label</th>\n",
       "      <th>title</th>\n",
       "      <th>deezer_playlist_reach_total</th>\n",
       "      <th>spotify_playlist_reach_total</th>\n",
       "      <th>PWR</th>\n",
       "    </tr>\n",
       "  </thead>\n",
       "  <tbody>\n",
       "    <tr>\n",
       "      <th>0</th>\n",
       "      <td>qmr6e0bx</td>\n",
       "      <td>16</td>\n",
       "      <td>[blasterjaxx, hardwell, maddix]</td>\n",
       "      <td>[hard techno]</td>\n",
       "      <td>[revealed]</td>\n",
       "      <td>16</td>\n",
       "      <td>5.997800</td>\n",
       "      <td>10.117432</td>\n",
       "      <td>8.464595</td>\n",
       "    </tr>\n",
       "    <tr>\n",
       "      <th>1</th>\n",
       "      <td>cxsruom1</td>\n",
       "      <td>17 (Ekko &amp; Sidetrack Bootleg)</td>\n",
       "      <td>[ekko &amp; sidetrack, mk]</td>\n",
       "      <td>[drum &amp; bass]</td>\n",
       "      <td>[[no labels]]</td>\n",
       "      <td>17 ekko &amp; sidetrack bootleg</td>\n",
       "      <td>0.000000</td>\n",
       "      <td>0.000000</td>\n",
       "      <td>0.000000</td>\n",
       "    </tr>\n",
       "    <tr>\n",
       "      <th>2</th>\n",
       "      <td>847p1x5v</td>\n",
       "      <td>Never Let You Down</td>\n",
       "      <td>[cimone, deadline, duskee, emily makis, fricti...</td>\n",
       "      <td>[drum &amp; bass]</td>\n",
       "      <td>[shogun audio]</td>\n",
       "      <td>never let you down</td>\n",
       "      <td>0.002665</td>\n",
       "      <td>0.702096</td>\n",
       "      <td>0.421478</td>\n",
       "    </tr>\n",
       "    <tr>\n",
       "      <th>3</th>\n",
       "      <td>4owlyi76</td>\n",
       "      <td>4 AM</td>\n",
       "      <td>[lexed, oshan]</td>\n",
       "      <td>[future house / future bounce]</td>\n",
       "      <td>[future house cloud]</td>\n",
       "      <td>4 am</td>\n",
       "      <td>0.006059</td>\n",
       "      <td>0.560306</td>\n",
       "      <td>0.337937</td>\n",
       "    </tr>\n",
       "    <tr>\n",
       "      <th>4</th>\n",
       "      <td>a3ok10ce</td>\n",
       "      <td>4D</td>\n",
       "      <td>[bad computer, ryan coss]</td>\n",
       "      <td>[electro house]</td>\n",
       "      <td>[monstercat]</td>\n",
       "      <td>4d</td>\n",
       "      <td>0.003569</td>\n",
       "      <td>0.773180</td>\n",
       "      <td>0.464404</td>\n",
       "    </tr>\n",
       "    <tr>\n",
       "      <th>...</th>\n",
       "      <td>...</td>\n",
       "      <td>...</td>\n",
       "      <td>...</td>\n",
       "      <td>...</td>\n",
       "      <td>...</td>\n",
       "      <td>...</td>\n",
       "      <td>...</td>\n",
       "      <td>...</td>\n",
       "      <td>...</td>\n",
       "    </tr>\n",
       "    <tr>\n",
       "      <th>302</th>\n",
       "      <td>cqdneir6</td>\n",
       "      <td>Can You Feel It</td>\n",
       "      <td>[retrovision]</td>\n",
       "      <td>[bass house]</td>\n",
       "      <td>[stmpd]</td>\n",
       "      <td>can you feel it</td>\n",
       "      <td>0.003569</td>\n",
       "      <td>2.158997</td>\n",
       "      <td>1.294219</td>\n",
       "    </tr>\n",
       "    <tr>\n",
       "      <th>303</th>\n",
       "      <td>nwqit015</td>\n",
       "      <td>Curse of the Moai</td>\n",
       "      <td>[exyl, nasko]</td>\n",
       "      <td>[drumstep / moombahcore]</td>\n",
       "      <td>[[no labels]]</td>\n",
       "      <td>curse of the moai</td>\n",
       "      <td>0.000000</td>\n",
       "      <td>0.028646</td>\n",
       "      <td>0.017153</td>\n",
       "    </tr>\n",
       "    <tr>\n",
       "      <th>304</th>\n",
       "      <td>em4stqoh</td>\n",
       "      <td>Himalaya</td>\n",
       "      <td>[matisse &amp; sadko]</td>\n",
       "      <td>[progressive house]</td>\n",
       "      <td>[stmpd]</td>\n",
       "      <td>himalaya</td>\n",
       "      <td>0.014284</td>\n",
       "      <td>1.280433</td>\n",
       "      <td>0.772442</td>\n",
       "    </tr>\n",
       "    <tr>\n",
       "      <th>305</th>\n",
       "      <td>wx93mcy6</td>\n",
       "      <td>Next To Me</td>\n",
       "      <td>[don diablo, gaby gerlis, mk]</td>\n",
       "      <td>[future house / future bounce]</td>\n",
       "      <td>[hexagon]</td>\n",
       "      <td>next to me</td>\n",
       "      <td>65.406125</td>\n",
       "      <td>25.078644</td>\n",
       "      <td>41.258420</td>\n",
       "    </tr>\n",
       "    <tr>\n",
       "      <th>306</th>\n",
       "      <td>0wpg1fj9</td>\n",
       "      <td>Hopelessly Falling</td>\n",
       "      <td>[enrem, jonah sky, rico 56, ubo]</td>\n",
       "      <td>[melodic house]</td>\n",
       "      <td>[monstercat silk]</td>\n",
       "      <td>hopelessly falling</td>\n",
       "      <td>0.000000</td>\n",
       "      <td>0.108823</td>\n",
       "      <td>0.065162</td>\n",
       "    </tr>\n",
       "  </tbody>\n",
       "</table>\n",
       "<p>307 rows × 9 columns</p>\n",
       "</div>"
      ]
     },
     "execution_count": 324,
     "metadata": {},
     "output_type": "execute_result"
    }
   ],
   "execution_count": 324
  },
  {
   "metadata": {},
   "cell_type": "markdown",
   "source": "#### Graphical Representation",
   "id": "330b80b7dfdfd24c"
  },
  {
   "metadata": {
    "ExecuteTime": {
     "end_time": "2024-12-17T18:33:33.070434Z",
     "start_time": "2024-12-17T18:33:33.024685Z"
    }
   },
   "cell_type": "code",
   "source": [
    "bar_pr_rea = plot_bar(dataframe=pr_rea.sort_values('PWR', ascending=False).head(20),\n",
    "                      x='songstats_title',\n",
    "                      y='PWR',\n",
    "                      title='Reach Power Ranking (Top 20)',\n",
    "                      x_label='Track',\n",
    "                      y_label='Power',\n",
    "                      col_range=(pr_rea.PWR.min(), pr_rea.PWR.max()))\n",
    "bar_pr_rea.show()"
   ],
   "id": "8cc950840e633e68",
   "outputs": [
    {
     "data": {
      "application/vnd.plotly.v1+json": {
       "data": [
        {
         "alignmentgroup": "True",
         "hovertemplate": "Track=%{x}<br>Power=%{marker.color}<extra></extra>",
         "legendgroup": "",
         "marker": {
          "color": [
           87.8021493898383,
           77.94236036076354,
           71.62235093814066,
           70.24643967903882,
           65.12697866413465,
           59.54009701568985,
           55.23999870321337,
           41.25841950053443,
           37.190475584835696,
           36.433655769815246,
           35.6636220813942,
           35.65797090974669,
           33.196329205618184,
           33.05677784836775,
           32.844557364555605,
           29.539327841296387,
           27.693989520757626,
           27.55717963946429,
           27.03693878438968,
           26.033055435125647
          ],
          "coloraxis": "coloraxis",
          "pattern": {
           "shape": ""
          }
         },
         "name": "",
         "offsetgroup": "",
         "orientation": "v",
         "showlegend": false,
         "textposition": "auto",
         "x": [
          "Go Back (feat. Julia Church)",
          "Neverender",
          "Told You So",
          "I Only Smoke When I Drink",
          "Carry You",
          "Shiver",
          "Empty",
          "Next To Me",
          "Wherever You Are",
          "Wildfire",
          "Breakaway",
          "Push The Tempo",
          "Worlds Apart",
          "Biochemical",
          "Only God Knows",
          "Nervous System",
          "Mas Que Nada",
          "This Moment",
          "Beast Mode (Knock You Out)",
          "Napalm"
         ],
         "xaxis": "x",
         "y": [
          87.8021493898383,
          77.94236036076354,
          71.62235093814066,
          70.24643967903882,
          65.12697866413465,
          59.54009701568985,
          55.23999870321337,
          41.25841950053443,
          37.190475584835696,
          36.433655769815246,
          35.6636220813942,
          35.65797090974669,
          33.196329205618184,
          33.05677784836775,
          32.844557364555605,
          29.539327841296387,
          27.693989520757626,
          27.55717963946429,
          27.03693878438968,
          26.033055435125647
         ],
         "yaxis": "y",
         "type": "bar"
        }
       ],
       "layout": {
        "template": {
         "data": {
          "histogram2dcontour": [
           {
            "type": "histogram2dcontour",
            "colorbar": {
             "outlinewidth": 0,
             "ticks": ""
            },
            "colorscale": [
             [
              0.0,
              "#0d0887"
             ],
             [
              0.1111111111111111,
              "#46039f"
             ],
             [
              0.2222222222222222,
              "#7201a8"
             ],
             [
              0.3333333333333333,
              "#9c179e"
             ],
             [
              0.4444444444444444,
              "#bd3786"
             ],
             [
              0.5555555555555556,
              "#d8576b"
             ],
             [
              0.6666666666666666,
              "#ed7953"
             ],
             [
              0.7777777777777778,
              "#fb9f3a"
             ],
             [
              0.8888888888888888,
              "#fdca26"
             ],
             [
              1.0,
              "#f0f921"
             ]
            ]
           }
          ],
          "choropleth": [
           {
            "type": "choropleth",
            "colorbar": {
             "outlinewidth": 0,
             "ticks": ""
            }
           }
          ],
          "histogram2d": [
           {
            "type": "histogram2d",
            "colorbar": {
             "outlinewidth": 0,
             "ticks": ""
            },
            "colorscale": [
             [
              0.0,
              "#0d0887"
             ],
             [
              0.1111111111111111,
              "#46039f"
             ],
             [
              0.2222222222222222,
              "#7201a8"
             ],
             [
              0.3333333333333333,
              "#9c179e"
             ],
             [
              0.4444444444444444,
              "#bd3786"
             ],
             [
              0.5555555555555556,
              "#d8576b"
             ],
             [
              0.6666666666666666,
              "#ed7953"
             ],
             [
              0.7777777777777778,
              "#fb9f3a"
             ],
             [
              0.8888888888888888,
              "#fdca26"
             ],
             [
              1.0,
              "#f0f921"
             ]
            ]
           }
          ],
          "heatmap": [
           {
            "type": "heatmap",
            "colorbar": {
             "outlinewidth": 0,
             "ticks": ""
            },
            "colorscale": [
             [
              0.0,
              "#0d0887"
             ],
             [
              0.1111111111111111,
              "#46039f"
             ],
             [
              0.2222222222222222,
              "#7201a8"
             ],
             [
              0.3333333333333333,
              "#9c179e"
             ],
             [
              0.4444444444444444,
              "#bd3786"
             ],
             [
              0.5555555555555556,
              "#d8576b"
             ],
             [
              0.6666666666666666,
              "#ed7953"
             ],
             [
              0.7777777777777778,
              "#fb9f3a"
             ],
             [
              0.8888888888888888,
              "#fdca26"
             ],
             [
              1.0,
              "#f0f921"
             ]
            ]
           }
          ],
          "heatmapgl": [
           {
            "type": "heatmapgl",
            "colorbar": {
             "outlinewidth": 0,
             "ticks": ""
            },
            "colorscale": [
             [
              0.0,
              "#0d0887"
             ],
             [
              0.1111111111111111,
              "#46039f"
             ],
             [
              0.2222222222222222,
              "#7201a8"
             ],
             [
              0.3333333333333333,
              "#9c179e"
             ],
             [
              0.4444444444444444,
              "#bd3786"
             ],
             [
              0.5555555555555556,
              "#d8576b"
             ],
             [
              0.6666666666666666,
              "#ed7953"
             ],
             [
              0.7777777777777778,
              "#fb9f3a"
             ],
             [
              0.8888888888888888,
              "#fdca26"
             ],
             [
              1.0,
              "#f0f921"
             ]
            ]
           }
          ],
          "contourcarpet": [
           {
            "type": "contourcarpet",
            "colorbar": {
             "outlinewidth": 0,
             "ticks": ""
            }
           }
          ],
          "contour": [
           {
            "type": "contour",
            "colorbar": {
             "outlinewidth": 0,
             "ticks": ""
            },
            "colorscale": [
             [
              0.0,
              "#0d0887"
             ],
             [
              0.1111111111111111,
              "#46039f"
             ],
             [
              0.2222222222222222,
              "#7201a8"
             ],
             [
              0.3333333333333333,
              "#9c179e"
             ],
             [
              0.4444444444444444,
              "#bd3786"
             ],
             [
              0.5555555555555556,
              "#d8576b"
             ],
             [
              0.6666666666666666,
              "#ed7953"
             ],
             [
              0.7777777777777778,
              "#fb9f3a"
             ],
             [
              0.8888888888888888,
              "#fdca26"
             ],
             [
              1.0,
              "#f0f921"
             ]
            ]
           }
          ],
          "surface": [
           {
            "type": "surface",
            "colorbar": {
             "outlinewidth": 0,
             "ticks": ""
            },
            "colorscale": [
             [
              0.0,
              "#0d0887"
             ],
             [
              0.1111111111111111,
              "#46039f"
             ],
             [
              0.2222222222222222,
              "#7201a8"
             ],
             [
              0.3333333333333333,
              "#9c179e"
             ],
             [
              0.4444444444444444,
              "#bd3786"
             ],
             [
              0.5555555555555556,
              "#d8576b"
             ],
             [
              0.6666666666666666,
              "#ed7953"
             ],
             [
              0.7777777777777778,
              "#fb9f3a"
             ],
             [
              0.8888888888888888,
              "#fdca26"
             ],
             [
              1.0,
              "#f0f921"
             ]
            ]
           }
          ],
          "mesh3d": [
           {
            "type": "mesh3d",
            "colorbar": {
             "outlinewidth": 0,
             "ticks": ""
            }
           }
          ],
          "scatter": [
           {
            "marker": {
             "line": {
              "color": "#283442"
             }
            },
            "type": "scatter"
           }
          ],
          "parcoords": [
           {
            "type": "parcoords",
            "line": {
             "colorbar": {
              "outlinewidth": 0,
              "ticks": ""
             }
            }
           }
          ],
          "scatterpolargl": [
           {
            "type": "scatterpolargl",
            "marker": {
             "colorbar": {
              "outlinewidth": 0,
              "ticks": ""
             }
            }
           }
          ],
          "bar": [
           {
            "error_x": {
             "color": "#f2f5fa"
            },
            "error_y": {
             "color": "#f2f5fa"
            },
            "marker": {
             "line": {
              "color": "rgb(17,17,17)",
              "width": 0.5
             },
             "pattern": {
              "fillmode": "overlay",
              "size": 10,
              "solidity": 0.2
             }
            },
            "type": "bar"
           }
          ],
          "scattergeo": [
           {
            "type": "scattergeo",
            "marker": {
             "colorbar": {
              "outlinewidth": 0,
              "ticks": ""
             }
            }
           }
          ],
          "scatterpolar": [
           {
            "type": "scatterpolar",
            "marker": {
             "colorbar": {
              "outlinewidth": 0,
              "ticks": ""
             }
            }
           }
          ],
          "histogram": [
           {
            "marker": {
             "pattern": {
              "fillmode": "overlay",
              "size": 10,
              "solidity": 0.2
             }
            },
            "type": "histogram"
           }
          ],
          "scattergl": [
           {
            "marker": {
             "line": {
              "color": "#283442"
             }
            },
            "type": "scattergl"
           }
          ],
          "scatter3d": [
           {
            "type": "scatter3d",
            "line": {
             "colorbar": {
              "outlinewidth": 0,
              "ticks": ""
             }
            },
            "marker": {
             "colorbar": {
              "outlinewidth": 0,
              "ticks": ""
             }
            }
           }
          ],
          "scattermapbox": [
           {
            "type": "scattermapbox",
            "marker": {
             "colorbar": {
              "outlinewidth": 0,
              "ticks": ""
             }
            }
           }
          ],
          "scatterternary": [
           {
            "type": "scatterternary",
            "marker": {
             "colorbar": {
              "outlinewidth": 0,
              "ticks": ""
             }
            }
           }
          ],
          "scattercarpet": [
           {
            "type": "scattercarpet",
            "marker": {
             "colorbar": {
              "outlinewidth": 0,
              "ticks": ""
             }
            }
           }
          ],
          "carpet": [
           {
            "aaxis": {
             "endlinecolor": "#A2B1C6",
             "gridcolor": "#506784",
             "linecolor": "#506784",
             "minorgridcolor": "#506784",
             "startlinecolor": "#A2B1C6"
            },
            "baxis": {
             "endlinecolor": "#A2B1C6",
             "gridcolor": "#506784",
             "linecolor": "#506784",
             "minorgridcolor": "#506784",
             "startlinecolor": "#A2B1C6"
            },
            "type": "carpet"
           }
          ],
          "table": [
           {
            "cells": {
             "fill": {
              "color": "#506784"
             },
             "line": {
              "color": "rgb(17,17,17)"
             }
            },
            "header": {
             "fill": {
              "color": "#2a3f5f"
             },
             "line": {
              "color": "rgb(17,17,17)"
             }
            },
            "type": "table"
           }
          ],
          "barpolar": [
           {
            "marker": {
             "line": {
              "color": "rgb(17,17,17)",
              "width": 0.5
             },
             "pattern": {
              "fillmode": "overlay",
              "size": 10,
              "solidity": 0.2
             }
            },
            "type": "barpolar"
           }
          ],
          "pie": [
           {
            "automargin": true,
            "type": "pie"
           }
          ]
         },
         "layout": {
          "autotypenumbers": "strict",
          "colorway": [
           "#636efa",
           "#EF553B",
           "#00cc96",
           "#ab63fa",
           "#FFA15A",
           "#19d3f3",
           "#FF6692",
           "#B6E880",
           "#FF97FF",
           "#FECB52"
          ],
          "font": {
           "color": "#f2f5fa"
          },
          "hovermode": "closest",
          "hoverlabel": {
           "align": "left"
          },
          "paper_bgcolor": "rgb(17,17,17)",
          "plot_bgcolor": "rgb(17,17,17)",
          "polar": {
           "bgcolor": "rgb(17,17,17)",
           "angularaxis": {
            "gridcolor": "#506784",
            "linecolor": "#506784",
            "ticks": ""
           },
           "radialaxis": {
            "gridcolor": "#506784",
            "linecolor": "#506784",
            "ticks": ""
           }
          },
          "ternary": {
           "bgcolor": "rgb(17,17,17)",
           "aaxis": {
            "gridcolor": "#506784",
            "linecolor": "#506784",
            "ticks": ""
           },
           "baxis": {
            "gridcolor": "#506784",
            "linecolor": "#506784",
            "ticks": ""
           },
           "caxis": {
            "gridcolor": "#506784",
            "linecolor": "#506784",
            "ticks": ""
           }
          },
          "coloraxis": {
           "colorbar": {
            "outlinewidth": 0,
            "ticks": ""
           }
          },
          "colorscale": {
           "sequential": [
            [
             0.0,
             "#0d0887"
            ],
            [
             0.1111111111111111,
             "#46039f"
            ],
            [
             0.2222222222222222,
             "#7201a8"
            ],
            [
             0.3333333333333333,
             "#9c179e"
            ],
            [
             0.4444444444444444,
             "#bd3786"
            ],
            [
             0.5555555555555556,
             "#d8576b"
            ],
            [
             0.6666666666666666,
             "#ed7953"
            ],
            [
             0.7777777777777778,
             "#fb9f3a"
            ],
            [
             0.8888888888888888,
             "#fdca26"
            ],
            [
             1.0,
             "#f0f921"
            ]
           ],
           "sequentialminus": [
            [
             0.0,
             "#0d0887"
            ],
            [
             0.1111111111111111,
             "#46039f"
            ],
            [
             0.2222222222222222,
             "#7201a8"
            ],
            [
             0.3333333333333333,
             "#9c179e"
            ],
            [
             0.4444444444444444,
             "#bd3786"
            ],
            [
             0.5555555555555556,
             "#d8576b"
            ],
            [
             0.6666666666666666,
             "#ed7953"
            ],
            [
             0.7777777777777778,
             "#fb9f3a"
            ],
            [
             0.8888888888888888,
             "#fdca26"
            ],
            [
             1.0,
             "#f0f921"
            ]
           ],
           "diverging": [
            [
             0,
             "#8e0152"
            ],
            [
             0.1,
             "#c51b7d"
            ],
            [
             0.2,
             "#de77ae"
            ],
            [
             0.3,
             "#f1b6da"
            ],
            [
             0.4,
             "#fde0ef"
            ],
            [
             0.5,
             "#f7f7f7"
            ],
            [
             0.6,
             "#e6f5d0"
            ],
            [
             0.7,
             "#b8e186"
            ],
            [
             0.8,
             "#7fbc41"
            ],
            [
             0.9,
             "#4d9221"
            ],
            [
             1,
             "#276419"
            ]
           ]
          },
          "xaxis": {
           "gridcolor": "#283442",
           "linecolor": "#506784",
           "ticks": "",
           "title": {
            "standoff": 15
           },
           "zerolinecolor": "#283442",
           "automargin": true,
           "zerolinewidth": 2
          },
          "yaxis": {
           "gridcolor": "#283442",
           "linecolor": "#506784",
           "ticks": "",
           "title": {
            "standoff": 15
           },
           "zerolinecolor": "#283442",
           "automargin": true,
           "zerolinewidth": 2
          },
          "scene": {
           "xaxis": {
            "backgroundcolor": "rgb(17,17,17)",
            "gridcolor": "#506784",
            "linecolor": "#506784",
            "showbackground": true,
            "ticks": "",
            "zerolinecolor": "#C8D4E3",
            "gridwidth": 2
           },
           "yaxis": {
            "backgroundcolor": "rgb(17,17,17)",
            "gridcolor": "#506784",
            "linecolor": "#506784",
            "showbackground": true,
            "ticks": "",
            "zerolinecolor": "#C8D4E3",
            "gridwidth": 2
           },
           "zaxis": {
            "backgroundcolor": "rgb(17,17,17)",
            "gridcolor": "#506784",
            "linecolor": "#506784",
            "showbackground": true,
            "ticks": "",
            "zerolinecolor": "#C8D4E3",
            "gridwidth": 2
           }
          },
          "shapedefaults": {
           "line": {
            "color": "#f2f5fa"
           }
          },
          "annotationdefaults": {
           "arrowcolor": "#f2f5fa",
           "arrowhead": 0,
           "arrowwidth": 1
          },
          "geo": {
           "bgcolor": "rgb(17,17,17)",
           "landcolor": "rgb(17,17,17)",
           "subunitcolor": "#506784",
           "showland": true,
           "showlakes": true,
           "lakecolor": "rgb(17,17,17)"
          },
          "title": {
           "x": 0.05
          },
          "updatemenudefaults": {
           "bgcolor": "#506784",
           "borderwidth": 0
          },
          "sliderdefaults": {
           "bgcolor": "#C8D4E3",
           "borderwidth": 1,
           "bordercolor": "rgb(17,17,17)",
           "tickwidth": 0
          },
          "mapbox": {
           "style": "dark"
          }
         }
        },
        "xaxis": {
         "anchor": "y",
         "domain": [
          0.0,
          1.0
         ],
         "title": {
          "text": "Track"
         },
         "categoryorder": "total descending"
        },
        "yaxis": {
         "anchor": "x",
         "domain": [
          0.0,
          1.0
         ],
         "title": {
          "text": "Power"
         }
        },
        "coloraxis": {
         "colorbar": {
          "title": {
           "text": "Power"
          }
         },
         "colorscale": [
          [
           0.0,
           "rgb(255,247,236)"
          ],
          [
           0.125,
           "rgb(254,232,200)"
          ],
          [
           0.25,
           "rgb(253,212,158)"
          ],
          [
           0.375,
           "rgb(253,187,132)"
          ],
          [
           0.5,
           "rgb(252,141,89)"
          ],
          [
           0.625,
           "rgb(239,101,72)"
          ],
          [
           0.75,
           "rgb(215,48,31)"
          ],
          [
           0.875,
           "rgb(179,0,0)"
          ],
          [
           1.0,
           "rgb(127,0,0)"
          ]
         ],
         "cmin": 0.0,
         "cmax": 87.8021493898383,
         "showscale": false
        },
        "legend": {
         "tracegroupgap": 0
        },
        "title": {
         "text": "Reach Power Ranking (Top 20)"
        },
        "barmode": "relative",
        "height": 540,
        "width": 960
       },
       "config": {
        "plotlyServerURL": "https://plot.ly"
       }
      },
      "text/html": [
       "<div>                            <div id=\"07c0d2ac-0d7b-4cea-b1a8-798f13df6f87\" class=\"plotly-graph-div\" style=\"height:540px; width:960px;\"></div>            <script type=\"text/javascript\">                require([\"plotly\"], function(Plotly) {                    window.PLOTLYENV=window.PLOTLYENV || {};                                    if (document.getElementById(\"07c0d2ac-0d7b-4cea-b1a8-798f13df6f87\")) {                    Plotly.newPlot(                        \"07c0d2ac-0d7b-4cea-b1a8-798f13df6f87\",                        [{\"alignmentgroup\":\"True\",\"hovertemplate\":\"Track=%{x}\\u003cbr\\u003ePower=%{marker.color}\\u003cextra\\u003e\\u003c\\u002fextra\\u003e\",\"legendgroup\":\"\",\"marker\":{\"color\":[87.8021493898383,77.94236036076354,71.62235093814066,70.24643967903882,65.12697866413465,59.54009701568985,55.23999870321337,41.25841950053443,37.190475584835696,36.433655769815246,35.6636220813942,35.65797090974669,33.196329205618184,33.05677784836775,32.844557364555605,29.539327841296387,27.693989520757626,27.55717963946429,27.03693878438968,26.033055435125647],\"coloraxis\":\"coloraxis\",\"pattern\":{\"shape\":\"\"}},\"name\":\"\",\"offsetgroup\":\"\",\"orientation\":\"v\",\"showlegend\":false,\"textposition\":\"auto\",\"x\":[\"Go Back (feat. Julia Church)\",\"Neverender\",\"Told You So\",\"I Only Smoke When I Drink\",\"Carry You\",\"Shiver\",\"Empty\",\"Next To Me\",\"Wherever You Are\",\"Wildfire\",\"Breakaway\",\"Push The Tempo\",\"Worlds Apart\",\"Biochemical\",\"Only God Knows\",\"Nervous System\",\"Mas Que Nada\",\"This Moment\",\"Beast Mode (Knock You Out)\",\"Napalm\"],\"xaxis\":\"x\",\"y\":[87.8021493898383,77.94236036076354,71.62235093814066,70.24643967903882,65.12697866413465,59.54009701568985,55.23999870321337,41.25841950053443,37.190475584835696,36.433655769815246,35.6636220813942,35.65797090974669,33.196329205618184,33.05677784836775,32.844557364555605,29.539327841296387,27.693989520757626,27.55717963946429,27.03693878438968,26.033055435125647],\"yaxis\":\"y\",\"type\":\"bar\"}],                        {\"template\":{\"data\":{\"histogram2dcontour\":[{\"type\":\"histogram2dcontour\",\"colorbar\":{\"outlinewidth\":0,\"ticks\":\"\"},\"colorscale\":[[0.0,\"#0d0887\"],[0.1111111111111111,\"#46039f\"],[0.2222222222222222,\"#7201a8\"],[0.3333333333333333,\"#9c179e\"],[0.4444444444444444,\"#bd3786\"],[0.5555555555555556,\"#d8576b\"],[0.6666666666666666,\"#ed7953\"],[0.7777777777777778,\"#fb9f3a\"],[0.8888888888888888,\"#fdca26\"],[1.0,\"#f0f921\"]]}],\"choropleth\":[{\"type\":\"choropleth\",\"colorbar\":{\"outlinewidth\":0,\"ticks\":\"\"}}],\"histogram2d\":[{\"type\":\"histogram2d\",\"colorbar\":{\"outlinewidth\":0,\"ticks\":\"\"},\"colorscale\":[[0.0,\"#0d0887\"],[0.1111111111111111,\"#46039f\"],[0.2222222222222222,\"#7201a8\"],[0.3333333333333333,\"#9c179e\"],[0.4444444444444444,\"#bd3786\"],[0.5555555555555556,\"#d8576b\"],[0.6666666666666666,\"#ed7953\"],[0.7777777777777778,\"#fb9f3a\"],[0.8888888888888888,\"#fdca26\"],[1.0,\"#f0f921\"]]}],\"heatmap\":[{\"type\":\"heatmap\",\"colorbar\":{\"outlinewidth\":0,\"ticks\":\"\"},\"colorscale\":[[0.0,\"#0d0887\"],[0.1111111111111111,\"#46039f\"],[0.2222222222222222,\"#7201a8\"],[0.3333333333333333,\"#9c179e\"],[0.4444444444444444,\"#bd3786\"],[0.5555555555555556,\"#d8576b\"],[0.6666666666666666,\"#ed7953\"],[0.7777777777777778,\"#fb9f3a\"],[0.8888888888888888,\"#fdca26\"],[1.0,\"#f0f921\"]]}],\"heatmapgl\":[{\"type\":\"heatmapgl\",\"colorbar\":{\"outlinewidth\":0,\"ticks\":\"\"},\"colorscale\":[[0.0,\"#0d0887\"],[0.1111111111111111,\"#46039f\"],[0.2222222222222222,\"#7201a8\"],[0.3333333333333333,\"#9c179e\"],[0.4444444444444444,\"#bd3786\"],[0.5555555555555556,\"#d8576b\"],[0.6666666666666666,\"#ed7953\"],[0.7777777777777778,\"#fb9f3a\"],[0.8888888888888888,\"#fdca26\"],[1.0,\"#f0f921\"]]}],\"contourcarpet\":[{\"type\":\"contourcarpet\",\"colorbar\":{\"outlinewidth\":0,\"ticks\":\"\"}}],\"contour\":[{\"type\":\"contour\",\"colorbar\":{\"outlinewidth\":0,\"ticks\":\"\"},\"colorscale\":[[0.0,\"#0d0887\"],[0.1111111111111111,\"#46039f\"],[0.2222222222222222,\"#7201a8\"],[0.3333333333333333,\"#9c179e\"],[0.4444444444444444,\"#bd3786\"],[0.5555555555555556,\"#d8576b\"],[0.6666666666666666,\"#ed7953\"],[0.7777777777777778,\"#fb9f3a\"],[0.8888888888888888,\"#fdca26\"],[1.0,\"#f0f921\"]]}],\"surface\":[{\"type\":\"surface\",\"colorbar\":{\"outlinewidth\":0,\"ticks\":\"\"},\"colorscale\":[[0.0,\"#0d0887\"],[0.1111111111111111,\"#46039f\"],[0.2222222222222222,\"#7201a8\"],[0.3333333333333333,\"#9c179e\"],[0.4444444444444444,\"#bd3786\"],[0.5555555555555556,\"#d8576b\"],[0.6666666666666666,\"#ed7953\"],[0.7777777777777778,\"#fb9f3a\"],[0.8888888888888888,\"#fdca26\"],[1.0,\"#f0f921\"]]}],\"mesh3d\":[{\"type\":\"mesh3d\",\"colorbar\":{\"outlinewidth\":0,\"ticks\":\"\"}}],\"scatter\":[{\"marker\":{\"line\":{\"color\":\"#283442\"}},\"type\":\"scatter\"}],\"parcoords\":[{\"type\":\"parcoords\",\"line\":{\"colorbar\":{\"outlinewidth\":0,\"ticks\":\"\"}}}],\"scatterpolargl\":[{\"type\":\"scatterpolargl\",\"marker\":{\"colorbar\":{\"outlinewidth\":0,\"ticks\":\"\"}}}],\"bar\":[{\"error_x\":{\"color\":\"#f2f5fa\"},\"error_y\":{\"color\":\"#f2f5fa\"},\"marker\":{\"line\":{\"color\":\"rgb(17,17,17)\",\"width\":0.5},\"pattern\":{\"fillmode\":\"overlay\",\"size\":10,\"solidity\":0.2}},\"type\":\"bar\"}],\"scattergeo\":[{\"type\":\"scattergeo\",\"marker\":{\"colorbar\":{\"outlinewidth\":0,\"ticks\":\"\"}}}],\"scatterpolar\":[{\"type\":\"scatterpolar\",\"marker\":{\"colorbar\":{\"outlinewidth\":0,\"ticks\":\"\"}}}],\"histogram\":[{\"marker\":{\"pattern\":{\"fillmode\":\"overlay\",\"size\":10,\"solidity\":0.2}},\"type\":\"histogram\"}],\"scattergl\":[{\"marker\":{\"line\":{\"color\":\"#283442\"}},\"type\":\"scattergl\"}],\"scatter3d\":[{\"type\":\"scatter3d\",\"line\":{\"colorbar\":{\"outlinewidth\":0,\"ticks\":\"\"}},\"marker\":{\"colorbar\":{\"outlinewidth\":0,\"ticks\":\"\"}}}],\"scattermapbox\":[{\"type\":\"scattermapbox\",\"marker\":{\"colorbar\":{\"outlinewidth\":0,\"ticks\":\"\"}}}],\"scatterternary\":[{\"type\":\"scatterternary\",\"marker\":{\"colorbar\":{\"outlinewidth\":0,\"ticks\":\"\"}}}],\"scattercarpet\":[{\"type\":\"scattercarpet\",\"marker\":{\"colorbar\":{\"outlinewidth\":0,\"ticks\":\"\"}}}],\"carpet\":[{\"aaxis\":{\"endlinecolor\":\"#A2B1C6\",\"gridcolor\":\"#506784\",\"linecolor\":\"#506784\",\"minorgridcolor\":\"#506784\",\"startlinecolor\":\"#A2B1C6\"},\"baxis\":{\"endlinecolor\":\"#A2B1C6\",\"gridcolor\":\"#506784\",\"linecolor\":\"#506784\",\"minorgridcolor\":\"#506784\",\"startlinecolor\":\"#A2B1C6\"},\"type\":\"carpet\"}],\"table\":[{\"cells\":{\"fill\":{\"color\":\"#506784\"},\"line\":{\"color\":\"rgb(17,17,17)\"}},\"header\":{\"fill\":{\"color\":\"#2a3f5f\"},\"line\":{\"color\":\"rgb(17,17,17)\"}},\"type\":\"table\"}],\"barpolar\":[{\"marker\":{\"line\":{\"color\":\"rgb(17,17,17)\",\"width\":0.5},\"pattern\":{\"fillmode\":\"overlay\",\"size\":10,\"solidity\":0.2}},\"type\":\"barpolar\"}],\"pie\":[{\"automargin\":true,\"type\":\"pie\"}]},\"layout\":{\"autotypenumbers\":\"strict\",\"colorway\":[\"#636efa\",\"#EF553B\",\"#00cc96\",\"#ab63fa\",\"#FFA15A\",\"#19d3f3\",\"#FF6692\",\"#B6E880\",\"#FF97FF\",\"#FECB52\"],\"font\":{\"color\":\"#f2f5fa\"},\"hovermode\":\"closest\",\"hoverlabel\":{\"align\":\"left\"},\"paper_bgcolor\":\"rgb(17,17,17)\",\"plot_bgcolor\":\"rgb(17,17,17)\",\"polar\":{\"bgcolor\":\"rgb(17,17,17)\",\"angularaxis\":{\"gridcolor\":\"#506784\",\"linecolor\":\"#506784\",\"ticks\":\"\"},\"radialaxis\":{\"gridcolor\":\"#506784\",\"linecolor\":\"#506784\",\"ticks\":\"\"}},\"ternary\":{\"bgcolor\":\"rgb(17,17,17)\",\"aaxis\":{\"gridcolor\":\"#506784\",\"linecolor\":\"#506784\",\"ticks\":\"\"},\"baxis\":{\"gridcolor\":\"#506784\",\"linecolor\":\"#506784\",\"ticks\":\"\"},\"caxis\":{\"gridcolor\":\"#506784\",\"linecolor\":\"#506784\",\"ticks\":\"\"}},\"coloraxis\":{\"colorbar\":{\"outlinewidth\":0,\"ticks\":\"\"}},\"colorscale\":{\"sequential\":[[0.0,\"#0d0887\"],[0.1111111111111111,\"#46039f\"],[0.2222222222222222,\"#7201a8\"],[0.3333333333333333,\"#9c179e\"],[0.4444444444444444,\"#bd3786\"],[0.5555555555555556,\"#d8576b\"],[0.6666666666666666,\"#ed7953\"],[0.7777777777777778,\"#fb9f3a\"],[0.8888888888888888,\"#fdca26\"],[1.0,\"#f0f921\"]],\"sequentialminus\":[[0.0,\"#0d0887\"],[0.1111111111111111,\"#46039f\"],[0.2222222222222222,\"#7201a8\"],[0.3333333333333333,\"#9c179e\"],[0.4444444444444444,\"#bd3786\"],[0.5555555555555556,\"#d8576b\"],[0.6666666666666666,\"#ed7953\"],[0.7777777777777778,\"#fb9f3a\"],[0.8888888888888888,\"#fdca26\"],[1.0,\"#f0f921\"]],\"diverging\":[[0,\"#8e0152\"],[0.1,\"#c51b7d\"],[0.2,\"#de77ae\"],[0.3,\"#f1b6da\"],[0.4,\"#fde0ef\"],[0.5,\"#f7f7f7\"],[0.6,\"#e6f5d0\"],[0.7,\"#b8e186\"],[0.8,\"#7fbc41\"],[0.9,\"#4d9221\"],[1,\"#276419\"]]},\"xaxis\":{\"gridcolor\":\"#283442\",\"linecolor\":\"#506784\",\"ticks\":\"\",\"title\":{\"standoff\":15},\"zerolinecolor\":\"#283442\",\"automargin\":true,\"zerolinewidth\":2},\"yaxis\":{\"gridcolor\":\"#283442\",\"linecolor\":\"#506784\",\"ticks\":\"\",\"title\":{\"standoff\":15},\"zerolinecolor\":\"#283442\",\"automargin\":true,\"zerolinewidth\":2},\"scene\":{\"xaxis\":{\"backgroundcolor\":\"rgb(17,17,17)\",\"gridcolor\":\"#506784\",\"linecolor\":\"#506784\",\"showbackground\":true,\"ticks\":\"\",\"zerolinecolor\":\"#C8D4E3\",\"gridwidth\":2},\"yaxis\":{\"backgroundcolor\":\"rgb(17,17,17)\",\"gridcolor\":\"#506784\",\"linecolor\":\"#506784\",\"showbackground\":true,\"ticks\":\"\",\"zerolinecolor\":\"#C8D4E3\",\"gridwidth\":2},\"zaxis\":{\"backgroundcolor\":\"rgb(17,17,17)\",\"gridcolor\":\"#506784\",\"linecolor\":\"#506784\",\"showbackground\":true,\"ticks\":\"\",\"zerolinecolor\":\"#C8D4E3\",\"gridwidth\":2}},\"shapedefaults\":{\"line\":{\"color\":\"#f2f5fa\"}},\"annotationdefaults\":{\"arrowcolor\":\"#f2f5fa\",\"arrowhead\":0,\"arrowwidth\":1},\"geo\":{\"bgcolor\":\"rgb(17,17,17)\",\"landcolor\":\"rgb(17,17,17)\",\"subunitcolor\":\"#506784\",\"showland\":true,\"showlakes\":true,\"lakecolor\":\"rgb(17,17,17)\"},\"title\":{\"x\":0.05},\"updatemenudefaults\":{\"bgcolor\":\"#506784\",\"borderwidth\":0},\"sliderdefaults\":{\"bgcolor\":\"#C8D4E3\",\"borderwidth\":1,\"bordercolor\":\"rgb(17,17,17)\",\"tickwidth\":0},\"mapbox\":{\"style\":\"dark\"}}},\"xaxis\":{\"anchor\":\"y\",\"domain\":[0.0,1.0],\"title\":{\"text\":\"Track\"},\"categoryorder\":\"total descending\"},\"yaxis\":{\"anchor\":\"x\",\"domain\":[0.0,1.0],\"title\":{\"text\":\"Power\"}},\"coloraxis\":{\"colorbar\":{\"title\":{\"text\":\"Power\"}},\"colorscale\":[[0.0,\"rgb(255,247,236)\"],[0.125,\"rgb(254,232,200)\"],[0.25,\"rgb(253,212,158)\"],[0.375,\"rgb(253,187,132)\"],[0.5,\"rgb(252,141,89)\"],[0.625,\"rgb(239,101,72)\"],[0.75,\"rgb(215,48,31)\"],[0.875,\"rgb(179,0,0)\"],[1.0,\"rgb(127,0,0)\"]],\"cmin\":0.0,\"cmax\":87.8021493898383,\"showscale\":false},\"legend\":{\"tracegroupgap\":0},\"title\":{\"text\":\"Reach Power Ranking (Top 20)\"},\"barmode\":\"relative\",\"height\":540,\"width\":960},                        {\"responsive\": true}                    ).then(function(){\n",
       "                            \n",
       "var gd = document.getElementById('07c0d2ac-0d7b-4cea-b1a8-798f13df6f87');\n",
       "var x = new MutationObserver(function (mutations, observer) {{\n",
       "        var display = window.getComputedStyle(gd).display;\n",
       "        if (!display || display === 'none') {{\n",
       "            console.log([gd, 'removed!']);\n",
       "            Plotly.purge(gd);\n",
       "            observer.disconnect();\n",
       "        }}\n",
       "}});\n",
       "\n",
       "// Listen for the removal of the full notebook cells\n",
       "var notebookContainer = gd.closest('#notebook-container');\n",
       "if (notebookContainer) {{\n",
       "    x.observe(notebookContainer, {childList: true});\n",
       "}}\n",
       "\n",
       "// Listen for the clearing of the current output cell\n",
       "var outputEl = gd.closest('.output');\n",
       "if (outputEl) {{\n",
       "    x.observe(outputEl, {childList: true});\n",
       "}}\n",
       "\n",
       "                        })                };                });            </script>        </div>"
      ]
     },
     "metadata": {},
     "output_type": "display_data"
    }
   ],
   "execution_count": 329
  },
  {
   "metadata": {},
   "cell_type": "markdown",
   "source": [
    "### Shorts\n",
    "#### Rescale statistics"
   ],
   "id": "fb42c829b7e4aa2"
  },
  {
   "metadata": {
    "ExecuteTime": {
     "end_time": "2024-12-17T18:24:51.919626Z",
     "start_time": "2024-12-17T18:24:51.901643Z"
    }
   },
   "cell_type": "code",
   "source": [
    "data_sho = rescale_stats(data_sho, general_field)\n",
    "data_sho"
   ],
   "id": "9de0a295f9c6be27",
   "outputs": [
    {
     "data": {
      "text/plain": [
       "    songstats_id                songstats_title  \\\n",
       "0       qmr6e0bx                             16   \n",
       "1       cxsruom1  17 (Ekko & Sidetrack Bootleg)   \n",
       "2       847p1x5v             Never Let You Down   \n",
       "3       4owlyi76                           4 AM   \n",
       "4       a3ok10ce                             4D   \n",
       "..           ...                            ...   \n",
       "302     cqdneir6                Can You Feel It   \n",
       "303     nwqit015              Curse of the Moai   \n",
       "304     em4stqoh                       Himalaya   \n",
       "305     wx93mcy6                     Next To Me   \n",
       "306     0wpg1fj9             Hopelessly Falling   \n",
       "\n",
       "                                           artist_list  \\\n",
       "0                      [blasterjaxx, hardwell, maddix]   \n",
       "1                               [ekko & sidetrack, mk]   \n",
       "2    [cimone, deadline, duskee, emily makis, fricti...   \n",
       "3                                       [lexed, oshan]   \n",
       "4                            [bad computer, ryan coss]   \n",
       "..                                                 ...   \n",
       "302                                      [retrovision]   \n",
       "303                                      [exyl, nasko]   \n",
       "304                                  [matisse & sadko]   \n",
       "305                      [don diablo, gaby gerlis, mk]   \n",
       "306                   [enrem, jonah sky, rico 56, ubo]   \n",
       "\n",
       "                              genre                 label  \\\n",
       "0                     [hard techno]            [revealed]   \n",
       "1                     [drum & bass]         [[no labels]]   \n",
       "2                     [drum & bass]        [shogun audio]   \n",
       "3    [future house / future bounce]  [future house cloud]   \n",
       "4                   [electro house]          [monstercat]   \n",
       "..                              ...                   ...   \n",
       "302                    [bass house]               [stmpd]   \n",
       "303        [drumstep / moombahcore]         [[no labels]]   \n",
       "304             [progressive house]               [stmpd]   \n",
       "305  [future house / future bounce]             [hexagon]   \n",
       "306                 [melodic house]     [monstercat silk]   \n",
       "\n",
       "                           title  tiktok_views_total  \\\n",
       "0                             16            0.195087   \n",
       "1    17 ekko & sidetrack bootleg            0.000000   \n",
       "2             never let you down            0.003769   \n",
       "3                           4 am            0.000000   \n",
       "4                             4d            0.002297   \n",
       "..                           ...                 ...   \n",
       "302              can you feel it            0.000000   \n",
       "303            curse of the moai            0.000000   \n",
       "304                     himalaya            0.005572   \n",
       "305                   next to me            0.001739   \n",
       "306           hopelessly falling            0.000000   \n",
       "\n",
       "     youtube_short_views_total  \n",
       "0                     0.008558  \n",
       "1                     0.000000  \n",
       "2                     0.013441  \n",
       "3                     0.000000  \n",
       "4                     0.034079  \n",
       "..                         ...  \n",
       "302                   0.000000  \n",
       "303                   0.000000  \n",
       "304                   0.000130  \n",
       "305                   0.000000  \n",
       "306                   0.000000  \n",
       "\n",
       "[307 rows x 8 columns]"
      ],
      "text/html": [
       "<div>\n",
       "<style scoped>\n",
       "    .dataframe tbody tr th:only-of-type {\n",
       "        vertical-align: middle;\n",
       "    }\n",
       "\n",
       "    .dataframe tbody tr th {\n",
       "        vertical-align: top;\n",
       "    }\n",
       "\n",
       "    .dataframe thead th {\n",
       "        text-align: right;\n",
       "    }\n",
       "</style>\n",
       "<table border=\"1\" class=\"dataframe\">\n",
       "  <thead>\n",
       "    <tr style=\"text-align: right;\">\n",
       "      <th></th>\n",
       "      <th>songstats_id</th>\n",
       "      <th>songstats_title</th>\n",
       "      <th>artist_list</th>\n",
       "      <th>genre</th>\n",
       "      <th>label</th>\n",
       "      <th>title</th>\n",
       "      <th>tiktok_views_total</th>\n",
       "      <th>youtube_short_views_total</th>\n",
       "    </tr>\n",
       "  </thead>\n",
       "  <tbody>\n",
       "    <tr>\n",
       "      <th>0</th>\n",
       "      <td>qmr6e0bx</td>\n",
       "      <td>16</td>\n",
       "      <td>[blasterjaxx, hardwell, maddix]</td>\n",
       "      <td>[hard techno]</td>\n",
       "      <td>[revealed]</td>\n",
       "      <td>16</td>\n",
       "      <td>0.195087</td>\n",
       "      <td>0.008558</td>\n",
       "    </tr>\n",
       "    <tr>\n",
       "      <th>1</th>\n",
       "      <td>cxsruom1</td>\n",
       "      <td>17 (Ekko &amp; Sidetrack Bootleg)</td>\n",
       "      <td>[ekko &amp; sidetrack, mk]</td>\n",
       "      <td>[drum &amp; bass]</td>\n",
       "      <td>[[no labels]]</td>\n",
       "      <td>17 ekko &amp; sidetrack bootleg</td>\n",
       "      <td>0.000000</td>\n",
       "      <td>0.000000</td>\n",
       "    </tr>\n",
       "    <tr>\n",
       "      <th>2</th>\n",
       "      <td>847p1x5v</td>\n",
       "      <td>Never Let You Down</td>\n",
       "      <td>[cimone, deadline, duskee, emily makis, fricti...</td>\n",
       "      <td>[drum &amp; bass]</td>\n",
       "      <td>[shogun audio]</td>\n",
       "      <td>never let you down</td>\n",
       "      <td>0.003769</td>\n",
       "      <td>0.013441</td>\n",
       "    </tr>\n",
       "    <tr>\n",
       "      <th>3</th>\n",
       "      <td>4owlyi76</td>\n",
       "      <td>4 AM</td>\n",
       "      <td>[lexed, oshan]</td>\n",
       "      <td>[future house / future bounce]</td>\n",
       "      <td>[future house cloud]</td>\n",
       "      <td>4 am</td>\n",
       "      <td>0.000000</td>\n",
       "      <td>0.000000</td>\n",
       "    </tr>\n",
       "    <tr>\n",
       "      <th>4</th>\n",
       "      <td>a3ok10ce</td>\n",
       "      <td>4D</td>\n",
       "      <td>[bad computer, ryan coss]</td>\n",
       "      <td>[electro house]</td>\n",
       "      <td>[monstercat]</td>\n",
       "      <td>4d</td>\n",
       "      <td>0.002297</td>\n",
       "      <td>0.034079</td>\n",
       "    </tr>\n",
       "    <tr>\n",
       "      <th>...</th>\n",
       "      <td>...</td>\n",
       "      <td>...</td>\n",
       "      <td>...</td>\n",
       "      <td>...</td>\n",
       "      <td>...</td>\n",
       "      <td>...</td>\n",
       "      <td>...</td>\n",
       "      <td>...</td>\n",
       "    </tr>\n",
       "    <tr>\n",
       "      <th>302</th>\n",
       "      <td>cqdneir6</td>\n",
       "      <td>Can You Feel It</td>\n",
       "      <td>[retrovision]</td>\n",
       "      <td>[bass house]</td>\n",
       "      <td>[stmpd]</td>\n",
       "      <td>can you feel it</td>\n",
       "      <td>0.000000</td>\n",
       "      <td>0.000000</td>\n",
       "    </tr>\n",
       "    <tr>\n",
       "      <th>303</th>\n",
       "      <td>nwqit015</td>\n",
       "      <td>Curse of the Moai</td>\n",
       "      <td>[exyl, nasko]</td>\n",
       "      <td>[drumstep / moombahcore]</td>\n",
       "      <td>[[no labels]]</td>\n",
       "      <td>curse of the moai</td>\n",
       "      <td>0.000000</td>\n",
       "      <td>0.000000</td>\n",
       "    </tr>\n",
       "    <tr>\n",
       "      <th>304</th>\n",
       "      <td>em4stqoh</td>\n",
       "      <td>Himalaya</td>\n",
       "      <td>[matisse &amp; sadko]</td>\n",
       "      <td>[progressive house]</td>\n",
       "      <td>[stmpd]</td>\n",
       "      <td>himalaya</td>\n",
       "      <td>0.005572</td>\n",
       "      <td>0.000130</td>\n",
       "    </tr>\n",
       "    <tr>\n",
       "      <th>305</th>\n",
       "      <td>wx93mcy6</td>\n",
       "      <td>Next To Me</td>\n",
       "      <td>[don diablo, gaby gerlis, mk]</td>\n",
       "      <td>[future house / future bounce]</td>\n",
       "      <td>[hexagon]</td>\n",
       "      <td>next to me</td>\n",
       "      <td>0.001739</td>\n",
       "      <td>0.000000</td>\n",
       "    </tr>\n",
       "    <tr>\n",
       "      <th>306</th>\n",
       "      <td>0wpg1fj9</td>\n",
       "      <td>Hopelessly Falling</td>\n",
       "      <td>[enrem, jonah sky, rico 56, ubo]</td>\n",
       "      <td>[melodic house]</td>\n",
       "      <td>[monstercat silk]</td>\n",
       "      <td>hopelessly falling</td>\n",
       "      <td>0.000000</td>\n",
       "      <td>0.000000</td>\n",
       "    </tr>\n",
       "  </tbody>\n",
       "</table>\n",
       "<p>307 rows × 8 columns</p>\n",
       "</div>"
      ]
     },
     "execution_count": 318,
     "metadata": {},
     "output_type": "execute_result"
    }
   ],
   "execution_count": 318
  },
  {
   "metadata": {},
   "cell_type": "markdown",
   "source": "#### Weighting by recorded by stats",
   "id": "a579d5092006ca04"
  },
  {
   "metadata": {
    "ExecuteTime": {
     "end_time": "2024-12-17T18:34:45.863854Z",
     "start_time": "2024-12-17T18:34:45.845626Z"
    }
   },
   "cell_type": "code",
   "source": [
    "pr_sho, w_sho = compute_power(data_sho, general_field)  # 'w_sho' is calculated for the final step of the Power Ranking\n",
    "pr_sho"
   ],
   "id": "9727e5644f79f180",
   "outputs": [
    {
     "data": {
      "text/plain": [
       "    songstats_id                songstats_title  \\\n",
       "0       qmr6e0bx                             16   \n",
       "1       cxsruom1  17 (Ekko & Sidetrack Bootleg)   \n",
       "2       847p1x5v             Never Let You Down   \n",
       "3       4owlyi76                           4 AM   \n",
       "4       a3ok10ce                             4D   \n",
       "..           ...                            ...   \n",
       "302     cqdneir6                Can You Feel It   \n",
       "303     nwqit015              Curse of the Moai   \n",
       "304     em4stqoh                       Himalaya   \n",
       "305     wx93mcy6                     Next To Me   \n",
       "306     0wpg1fj9             Hopelessly Falling   \n",
       "\n",
       "                                           artist_list  \\\n",
       "0                      [blasterjaxx, hardwell, maddix]   \n",
       "1                               [ekko & sidetrack, mk]   \n",
       "2    [cimone, deadline, duskee, emily makis, fricti...   \n",
       "3                                       [lexed, oshan]   \n",
       "4                            [bad computer, ryan coss]   \n",
       "..                                                 ...   \n",
       "302                                      [retrovision]   \n",
       "303                                      [exyl, nasko]   \n",
       "304                                  [matisse & sadko]   \n",
       "305                      [don diablo, gaby gerlis, mk]   \n",
       "306                   [enrem, jonah sky, rico 56, ubo]   \n",
       "\n",
       "                              genre                 label  \\\n",
       "0                     [hard techno]            [revealed]   \n",
       "1                     [drum & bass]         [[no labels]]   \n",
       "2                     [drum & bass]        [shogun audio]   \n",
       "3    [future house / future bounce]  [future house cloud]   \n",
       "4                   [electro house]          [monstercat]   \n",
       "..                              ...                   ...   \n",
       "302                    [bass house]               [stmpd]   \n",
       "303        [drumstep / moombahcore]         [[no labels]]   \n",
       "304             [progressive house]               [stmpd]   \n",
       "305  [future house / future bounce]             [hexagon]   \n",
       "306                 [melodic house]     [monstercat silk]   \n",
       "\n",
       "                           title  tiktok_views_total  \\\n",
       "0                             16            0.195087   \n",
       "1    17 ekko & sidetrack bootleg            0.000000   \n",
       "2             never let you down            0.003769   \n",
       "3                           4 am            0.000000   \n",
       "4                             4d            0.002297   \n",
       "..                           ...                 ...   \n",
       "302              can you feel it            0.000000   \n",
       "303            curse of the moai            0.000000   \n",
       "304                     himalaya            0.005572   \n",
       "305                   next to me            0.001739   \n",
       "306           hopelessly falling            0.000000   \n",
       "\n",
       "     youtube_short_views_total       PWR  \n",
       "0                     0.008558  0.105009  \n",
       "1                     0.000000  0.000000  \n",
       "2                     0.013441  0.008440  \n",
       "3                     0.000000  0.000000  \n",
       "4                     0.034079  0.017645  \n",
       "..                         ...       ...  \n",
       "302                   0.000000  0.000000  \n",
       "303                   0.000000  0.000000  \n",
       "304                   0.000130  0.002944  \n",
       "305                   0.000000  0.000899  \n",
       "306                   0.000000  0.000000  \n",
       "\n",
       "[307 rows x 9 columns]"
      ],
      "text/html": [
       "<div>\n",
       "<style scoped>\n",
       "    .dataframe tbody tr th:only-of-type {\n",
       "        vertical-align: middle;\n",
       "    }\n",
       "\n",
       "    .dataframe tbody tr th {\n",
       "        vertical-align: top;\n",
       "    }\n",
       "\n",
       "    .dataframe thead th {\n",
       "        text-align: right;\n",
       "    }\n",
       "</style>\n",
       "<table border=\"1\" class=\"dataframe\">\n",
       "  <thead>\n",
       "    <tr style=\"text-align: right;\">\n",
       "      <th></th>\n",
       "      <th>songstats_id</th>\n",
       "      <th>songstats_title</th>\n",
       "      <th>artist_list</th>\n",
       "      <th>genre</th>\n",
       "      <th>label</th>\n",
       "      <th>title</th>\n",
       "      <th>tiktok_views_total</th>\n",
       "      <th>youtube_short_views_total</th>\n",
       "      <th>PWR</th>\n",
       "    </tr>\n",
       "  </thead>\n",
       "  <tbody>\n",
       "    <tr>\n",
       "      <th>0</th>\n",
       "      <td>qmr6e0bx</td>\n",
       "      <td>16</td>\n",
       "      <td>[blasterjaxx, hardwell, maddix]</td>\n",
       "      <td>[hard techno]</td>\n",
       "      <td>[revealed]</td>\n",
       "      <td>16</td>\n",
       "      <td>0.195087</td>\n",
       "      <td>0.008558</td>\n",
       "      <td>0.105009</td>\n",
       "    </tr>\n",
       "    <tr>\n",
       "      <th>1</th>\n",
       "      <td>cxsruom1</td>\n",
       "      <td>17 (Ekko &amp; Sidetrack Bootleg)</td>\n",
       "      <td>[ekko &amp; sidetrack, mk]</td>\n",
       "      <td>[drum &amp; bass]</td>\n",
       "      <td>[[no labels]]</td>\n",
       "      <td>17 ekko &amp; sidetrack bootleg</td>\n",
       "      <td>0.000000</td>\n",
       "      <td>0.000000</td>\n",
       "      <td>0.000000</td>\n",
       "    </tr>\n",
       "    <tr>\n",
       "      <th>2</th>\n",
       "      <td>847p1x5v</td>\n",
       "      <td>Never Let You Down</td>\n",
       "      <td>[cimone, deadline, duskee, emily makis, fricti...</td>\n",
       "      <td>[drum &amp; bass]</td>\n",
       "      <td>[shogun audio]</td>\n",
       "      <td>never let you down</td>\n",
       "      <td>0.003769</td>\n",
       "      <td>0.013441</td>\n",
       "      <td>0.008440</td>\n",
       "    </tr>\n",
       "    <tr>\n",
       "      <th>3</th>\n",
       "      <td>4owlyi76</td>\n",
       "      <td>4 AM</td>\n",
       "      <td>[lexed, oshan]</td>\n",
       "      <td>[future house / future bounce]</td>\n",
       "      <td>[future house cloud]</td>\n",
       "      <td>4 am</td>\n",
       "      <td>0.000000</td>\n",
       "      <td>0.000000</td>\n",
       "      <td>0.000000</td>\n",
       "    </tr>\n",
       "    <tr>\n",
       "      <th>4</th>\n",
       "      <td>a3ok10ce</td>\n",
       "      <td>4D</td>\n",
       "      <td>[bad computer, ryan coss]</td>\n",
       "      <td>[electro house]</td>\n",
       "      <td>[monstercat]</td>\n",
       "      <td>4d</td>\n",
       "      <td>0.002297</td>\n",
       "      <td>0.034079</td>\n",
       "      <td>0.017645</td>\n",
       "    </tr>\n",
       "    <tr>\n",
       "      <th>...</th>\n",
       "      <td>...</td>\n",
       "      <td>...</td>\n",
       "      <td>...</td>\n",
       "      <td>...</td>\n",
       "      <td>...</td>\n",
       "      <td>...</td>\n",
       "      <td>...</td>\n",
       "      <td>...</td>\n",
       "      <td>...</td>\n",
       "    </tr>\n",
       "    <tr>\n",
       "      <th>302</th>\n",
       "      <td>cqdneir6</td>\n",
       "      <td>Can You Feel It</td>\n",
       "      <td>[retrovision]</td>\n",
       "      <td>[bass house]</td>\n",
       "      <td>[stmpd]</td>\n",
       "      <td>can you feel it</td>\n",
       "      <td>0.000000</td>\n",
       "      <td>0.000000</td>\n",
       "      <td>0.000000</td>\n",
       "    </tr>\n",
       "    <tr>\n",
       "      <th>303</th>\n",
       "      <td>nwqit015</td>\n",
       "      <td>Curse of the Moai</td>\n",
       "      <td>[exyl, nasko]</td>\n",
       "      <td>[drumstep / moombahcore]</td>\n",
       "      <td>[[no labels]]</td>\n",
       "      <td>curse of the moai</td>\n",
       "      <td>0.000000</td>\n",
       "      <td>0.000000</td>\n",
       "      <td>0.000000</td>\n",
       "    </tr>\n",
       "    <tr>\n",
       "      <th>304</th>\n",
       "      <td>em4stqoh</td>\n",
       "      <td>Himalaya</td>\n",
       "      <td>[matisse &amp; sadko]</td>\n",
       "      <td>[progressive house]</td>\n",
       "      <td>[stmpd]</td>\n",
       "      <td>himalaya</td>\n",
       "      <td>0.005572</td>\n",
       "      <td>0.000130</td>\n",
       "      <td>0.002944</td>\n",
       "    </tr>\n",
       "    <tr>\n",
       "      <th>305</th>\n",
       "      <td>wx93mcy6</td>\n",
       "      <td>Next To Me</td>\n",
       "      <td>[don diablo, gaby gerlis, mk]</td>\n",
       "      <td>[future house / future bounce]</td>\n",
       "      <td>[hexagon]</td>\n",
       "      <td>next to me</td>\n",
       "      <td>0.001739</td>\n",
       "      <td>0.000000</td>\n",
       "      <td>0.000899</td>\n",
       "    </tr>\n",
       "    <tr>\n",
       "      <th>306</th>\n",
       "      <td>0wpg1fj9</td>\n",
       "      <td>Hopelessly Falling</td>\n",
       "      <td>[enrem, jonah sky, rico 56, ubo]</td>\n",
       "      <td>[melodic house]</td>\n",
       "      <td>[monstercat silk]</td>\n",
       "      <td>hopelessly falling</td>\n",
       "      <td>0.000000</td>\n",
       "      <td>0.000000</td>\n",
       "      <td>0.000000</td>\n",
       "    </tr>\n",
       "  </tbody>\n",
       "</table>\n",
       "<p>307 rows × 9 columns</p>\n",
       "</div>"
      ]
     },
     "execution_count": 332,
     "metadata": {},
     "output_type": "execute_result"
    }
   ],
   "execution_count": 332
  },
  {
   "metadata": {},
   "cell_type": "markdown",
   "source": "#### Graphical Representation",
   "id": "ba6b7661dca00df7"
  },
  {
   "metadata": {
    "ExecuteTime": {
     "end_time": "2024-12-17T18:34:10.145632Z",
     "start_time": "2024-12-17T18:34:10.094299Z"
    }
   },
   "cell_type": "code",
   "source": [
    "bar_pr_sho = plot_bar(dataframe=pr_sho.sort_values('PWR', ascending=False).head(20),\n",
    "                      x='songstats_title',\n",
    "                      y='PWR',\n",
    "                      title='Shorts Power Ranking (Top 20)',\n",
    "                      x_label='Track',\n",
    "                      y_label='Power',\n",
    "                      col_range=(pr_sho.PWR.min(), pr_sho.PWR.max()))\n",
    "bar_pr_sho.show()"
   ],
   "id": "ccd4aec02381fbbc",
   "outputs": [
    {
     "data": {
      "application/vnd.plotly.v1+json": {
       "data": [
        {
         "alignmentgroup": "True",
         "hovertemplate": "Track=%{x}<br>Power=%{marker.color}<extra></extra>",
         "legendgroup": "",
         "marker": {
          "color": [
           60.266685772084735,
           55.336459895265776,
           40.96090526763857,
           35.165073355142475,
           12.236555962102846,
           8.677115786191706,
           6.655488485730359,
           5.7512785483038655,
           3.245168217761376,
           3.21664580695855,
           2.872144960888554,
           2.784945382781308,
           2.5539790212144533,
           1.524860268187668,
           1.5081468936227778,
           1.3088908915083959,
           1.0191818427699466,
           1.0061820511208124,
           0.7936026894944262,
           0.5972915561348904
          ],
          "coloraxis": "coloraxis",
          "pattern": {
           "shape": ""
          }
         },
         "name": "",
         "offsetgroup": "",
         "orientation": "v",
         "showlegend": false,
         "textposition": "auto",
         "x": [
          "Eye Of The Untold Her",
          "Told You So",
          "Mas Que Nada",
          "I Only Smoke When I Drink",
          "Shiver",
          "Go Back (feat. Julia Church)",
          "Evil Twin",
          "Neverender",
          "Wildfire",
          "Carry You",
          "Push The Tempo",
          "Wherever You Are",
          "COLD CASE",
          "Lo Lo",
          "FamilyMart",
          "Gravity",
          "Dominos - Friction Remix",
          "Young Again",
          "Love The Time",
          "Need You"
         ],
         "xaxis": "x",
         "y": [
          60.266685772084735,
          55.336459895265776,
          40.96090526763857,
          35.165073355142475,
          12.236555962102846,
          8.677115786191706,
          6.655488485730359,
          5.7512785483038655,
          3.245168217761376,
          3.21664580695855,
          2.872144960888554,
          2.784945382781308,
          2.5539790212144533,
          1.524860268187668,
          1.5081468936227778,
          1.3088908915083959,
          1.0191818427699466,
          1.0061820511208124,
          0.7936026894944262,
          0.5972915561348904
         ],
         "yaxis": "y",
         "type": "bar"
        }
       ],
       "layout": {
        "template": {
         "data": {
          "histogram2dcontour": [
           {
            "type": "histogram2dcontour",
            "colorbar": {
             "outlinewidth": 0,
             "ticks": ""
            },
            "colorscale": [
             [
              0.0,
              "#0d0887"
             ],
             [
              0.1111111111111111,
              "#46039f"
             ],
             [
              0.2222222222222222,
              "#7201a8"
             ],
             [
              0.3333333333333333,
              "#9c179e"
             ],
             [
              0.4444444444444444,
              "#bd3786"
             ],
             [
              0.5555555555555556,
              "#d8576b"
             ],
             [
              0.6666666666666666,
              "#ed7953"
             ],
             [
              0.7777777777777778,
              "#fb9f3a"
             ],
             [
              0.8888888888888888,
              "#fdca26"
             ],
             [
              1.0,
              "#f0f921"
             ]
            ]
           }
          ],
          "choropleth": [
           {
            "type": "choropleth",
            "colorbar": {
             "outlinewidth": 0,
             "ticks": ""
            }
           }
          ],
          "histogram2d": [
           {
            "type": "histogram2d",
            "colorbar": {
             "outlinewidth": 0,
             "ticks": ""
            },
            "colorscale": [
             [
              0.0,
              "#0d0887"
             ],
             [
              0.1111111111111111,
              "#46039f"
             ],
             [
              0.2222222222222222,
              "#7201a8"
             ],
             [
              0.3333333333333333,
              "#9c179e"
             ],
             [
              0.4444444444444444,
              "#bd3786"
             ],
             [
              0.5555555555555556,
              "#d8576b"
             ],
             [
              0.6666666666666666,
              "#ed7953"
             ],
             [
              0.7777777777777778,
              "#fb9f3a"
             ],
             [
              0.8888888888888888,
              "#fdca26"
             ],
             [
              1.0,
              "#f0f921"
             ]
            ]
           }
          ],
          "heatmap": [
           {
            "type": "heatmap",
            "colorbar": {
             "outlinewidth": 0,
             "ticks": ""
            },
            "colorscale": [
             [
              0.0,
              "#0d0887"
             ],
             [
              0.1111111111111111,
              "#46039f"
             ],
             [
              0.2222222222222222,
              "#7201a8"
             ],
             [
              0.3333333333333333,
              "#9c179e"
             ],
             [
              0.4444444444444444,
              "#bd3786"
             ],
             [
              0.5555555555555556,
              "#d8576b"
             ],
             [
              0.6666666666666666,
              "#ed7953"
             ],
             [
              0.7777777777777778,
              "#fb9f3a"
             ],
             [
              0.8888888888888888,
              "#fdca26"
             ],
             [
              1.0,
              "#f0f921"
             ]
            ]
           }
          ],
          "heatmapgl": [
           {
            "type": "heatmapgl",
            "colorbar": {
             "outlinewidth": 0,
             "ticks": ""
            },
            "colorscale": [
             [
              0.0,
              "#0d0887"
             ],
             [
              0.1111111111111111,
              "#46039f"
             ],
             [
              0.2222222222222222,
              "#7201a8"
             ],
             [
              0.3333333333333333,
              "#9c179e"
             ],
             [
              0.4444444444444444,
              "#bd3786"
             ],
             [
              0.5555555555555556,
              "#d8576b"
             ],
             [
              0.6666666666666666,
              "#ed7953"
             ],
             [
              0.7777777777777778,
              "#fb9f3a"
             ],
             [
              0.8888888888888888,
              "#fdca26"
             ],
             [
              1.0,
              "#f0f921"
             ]
            ]
           }
          ],
          "contourcarpet": [
           {
            "type": "contourcarpet",
            "colorbar": {
             "outlinewidth": 0,
             "ticks": ""
            }
           }
          ],
          "contour": [
           {
            "type": "contour",
            "colorbar": {
             "outlinewidth": 0,
             "ticks": ""
            },
            "colorscale": [
             [
              0.0,
              "#0d0887"
             ],
             [
              0.1111111111111111,
              "#46039f"
             ],
             [
              0.2222222222222222,
              "#7201a8"
             ],
             [
              0.3333333333333333,
              "#9c179e"
             ],
             [
              0.4444444444444444,
              "#bd3786"
             ],
             [
              0.5555555555555556,
              "#d8576b"
             ],
             [
              0.6666666666666666,
              "#ed7953"
             ],
             [
              0.7777777777777778,
              "#fb9f3a"
             ],
             [
              0.8888888888888888,
              "#fdca26"
             ],
             [
              1.0,
              "#f0f921"
             ]
            ]
           }
          ],
          "surface": [
           {
            "type": "surface",
            "colorbar": {
             "outlinewidth": 0,
             "ticks": ""
            },
            "colorscale": [
             [
              0.0,
              "#0d0887"
             ],
             [
              0.1111111111111111,
              "#46039f"
             ],
             [
              0.2222222222222222,
              "#7201a8"
             ],
             [
              0.3333333333333333,
              "#9c179e"
             ],
             [
              0.4444444444444444,
              "#bd3786"
             ],
             [
              0.5555555555555556,
              "#d8576b"
             ],
             [
              0.6666666666666666,
              "#ed7953"
             ],
             [
              0.7777777777777778,
              "#fb9f3a"
             ],
             [
              0.8888888888888888,
              "#fdca26"
             ],
             [
              1.0,
              "#f0f921"
             ]
            ]
           }
          ],
          "mesh3d": [
           {
            "type": "mesh3d",
            "colorbar": {
             "outlinewidth": 0,
             "ticks": ""
            }
           }
          ],
          "scatter": [
           {
            "marker": {
             "line": {
              "color": "#283442"
             }
            },
            "type": "scatter"
           }
          ],
          "parcoords": [
           {
            "type": "parcoords",
            "line": {
             "colorbar": {
              "outlinewidth": 0,
              "ticks": ""
             }
            }
           }
          ],
          "scatterpolargl": [
           {
            "type": "scatterpolargl",
            "marker": {
             "colorbar": {
              "outlinewidth": 0,
              "ticks": ""
             }
            }
           }
          ],
          "bar": [
           {
            "error_x": {
             "color": "#f2f5fa"
            },
            "error_y": {
             "color": "#f2f5fa"
            },
            "marker": {
             "line": {
              "color": "rgb(17,17,17)",
              "width": 0.5
             },
             "pattern": {
              "fillmode": "overlay",
              "size": 10,
              "solidity": 0.2
             }
            },
            "type": "bar"
           }
          ],
          "scattergeo": [
           {
            "type": "scattergeo",
            "marker": {
             "colorbar": {
              "outlinewidth": 0,
              "ticks": ""
             }
            }
           }
          ],
          "scatterpolar": [
           {
            "type": "scatterpolar",
            "marker": {
             "colorbar": {
              "outlinewidth": 0,
              "ticks": ""
             }
            }
           }
          ],
          "histogram": [
           {
            "marker": {
             "pattern": {
              "fillmode": "overlay",
              "size": 10,
              "solidity": 0.2
             }
            },
            "type": "histogram"
           }
          ],
          "scattergl": [
           {
            "marker": {
             "line": {
              "color": "#283442"
             }
            },
            "type": "scattergl"
           }
          ],
          "scatter3d": [
           {
            "type": "scatter3d",
            "line": {
             "colorbar": {
              "outlinewidth": 0,
              "ticks": ""
             }
            },
            "marker": {
             "colorbar": {
              "outlinewidth": 0,
              "ticks": ""
             }
            }
           }
          ],
          "scattermapbox": [
           {
            "type": "scattermapbox",
            "marker": {
             "colorbar": {
              "outlinewidth": 0,
              "ticks": ""
             }
            }
           }
          ],
          "scatterternary": [
           {
            "type": "scatterternary",
            "marker": {
             "colorbar": {
              "outlinewidth": 0,
              "ticks": ""
             }
            }
           }
          ],
          "scattercarpet": [
           {
            "type": "scattercarpet",
            "marker": {
             "colorbar": {
              "outlinewidth": 0,
              "ticks": ""
             }
            }
           }
          ],
          "carpet": [
           {
            "aaxis": {
             "endlinecolor": "#A2B1C6",
             "gridcolor": "#506784",
             "linecolor": "#506784",
             "minorgridcolor": "#506784",
             "startlinecolor": "#A2B1C6"
            },
            "baxis": {
             "endlinecolor": "#A2B1C6",
             "gridcolor": "#506784",
             "linecolor": "#506784",
             "minorgridcolor": "#506784",
             "startlinecolor": "#A2B1C6"
            },
            "type": "carpet"
           }
          ],
          "table": [
           {
            "cells": {
             "fill": {
              "color": "#506784"
             },
             "line": {
              "color": "rgb(17,17,17)"
             }
            },
            "header": {
             "fill": {
              "color": "#2a3f5f"
             },
             "line": {
              "color": "rgb(17,17,17)"
             }
            },
            "type": "table"
           }
          ],
          "barpolar": [
           {
            "marker": {
             "line": {
              "color": "rgb(17,17,17)",
              "width": 0.5
             },
             "pattern": {
              "fillmode": "overlay",
              "size": 10,
              "solidity": 0.2
             }
            },
            "type": "barpolar"
           }
          ],
          "pie": [
           {
            "automargin": true,
            "type": "pie"
           }
          ]
         },
         "layout": {
          "autotypenumbers": "strict",
          "colorway": [
           "#636efa",
           "#EF553B",
           "#00cc96",
           "#ab63fa",
           "#FFA15A",
           "#19d3f3",
           "#FF6692",
           "#B6E880",
           "#FF97FF",
           "#FECB52"
          ],
          "font": {
           "color": "#f2f5fa"
          },
          "hovermode": "closest",
          "hoverlabel": {
           "align": "left"
          },
          "paper_bgcolor": "rgb(17,17,17)",
          "plot_bgcolor": "rgb(17,17,17)",
          "polar": {
           "bgcolor": "rgb(17,17,17)",
           "angularaxis": {
            "gridcolor": "#506784",
            "linecolor": "#506784",
            "ticks": ""
           },
           "radialaxis": {
            "gridcolor": "#506784",
            "linecolor": "#506784",
            "ticks": ""
           }
          },
          "ternary": {
           "bgcolor": "rgb(17,17,17)",
           "aaxis": {
            "gridcolor": "#506784",
            "linecolor": "#506784",
            "ticks": ""
           },
           "baxis": {
            "gridcolor": "#506784",
            "linecolor": "#506784",
            "ticks": ""
           },
           "caxis": {
            "gridcolor": "#506784",
            "linecolor": "#506784",
            "ticks": ""
           }
          },
          "coloraxis": {
           "colorbar": {
            "outlinewidth": 0,
            "ticks": ""
           }
          },
          "colorscale": {
           "sequential": [
            [
             0.0,
             "#0d0887"
            ],
            [
             0.1111111111111111,
             "#46039f"
            ],
            [
             0.2222222222222222,
             "#7201a8"
            ],
            [
             0.3333333333333333,
             "#9c179e"
            ],
            [
             0.4444444444444444,
             "#bd3786"
            ],
            [
             0.5555555555555556,
             "#d8576b"
            ],
            [
             0.6666666666666666,
             "#ed7953"
            ],
            [
             0.7777777777777778,
             "#fb9f3a"
            ],
            [
             0.8888888888888888,
             "#fdca26"
            ],
            [
             1.0,
             "#f0f921"
            ]
           ],
           "sequentialminus": [
            [
             0.0,
             "#0d0887"
            ],
            [
             0.1111111111111111,
             "#46039f"
            ],
            [
             0.2222222222222222,
             "#7201a8"
            ],
            [
             0.3333333333333333,
             "#9c179e"
            ],
            [
             0.4444444444444444,
             "#bd3786"
            ],
            [
             0.5555555555555556,
             "#d8576b"
            ],
            [
             0.6666666666666666,
             "#ed7953"
            ],
            [
             0.7777777777777778,
             "#fb9f3a"
            ],
            [
             0.8888888888888888,
             "#fdca26"
            ],
            [
             1.0,
             "#f0f921"
            ]
           ],
           "diverging": [
            [
             0,
             "#8e0152"
            ],
            [
             0.1,
             "#c51b7d"
            ],
            [
             0.2,
             "#de77ae"
            ],
            [
             0.3,
             "#f1b6da"
            ],
            [
             0.4,
             "#fde0ef"
            ],
            [
             0.5,
             "#f7f7f7"
            ],
            [
             0.6,
             "#e6f5d0"
            ],
            [
             0.7,
             "#b8e186"
            ],
            [
             0.8,
             "#7fbc41"
            ],
            [
             0.9,
             "#4d9221"
            ],
            [
             1,
             "#276419"
            ]
           ]
          },
          "xaxis": {
           "gridcolor": "#283442",
           "linecolor": "#506784",
           "ticks": "",
           "title": {
            "standoff": 15
           },
           "zerolinecolor": "#283442",
           "automargin": true,
           "zerolinewidth": 2
          },
          "yaxis": {
           "gridcolor": "#283442",
           "linecolor": "#506784",
           "ticks": "",
           "title": {
            "standoff": 15
           },
           "zerolinecolor": "#283442",
           "automargin": true,
           "zerolinewidth": 2
          },
          "scene": {
           "xaxis": {
            "backgroundcolor": "rgb(17,17,17)",
            "gridcolor": "#506784",
            "linecolor": "#506784",
            "showbackground": true,
            "ticks": "",
            "zerolinecolor": "#C8D4E3",
            "gridwidth": 2
           },
           "yaxis": {
            "backgroundcolor": "rgb(17,17,17)",
            "gridcolor": "#506784",
            "linecolor": "#506784",
            "showbackground": true,
            "ticks": "",
            "zerolinecolor": "#C8D4E3",
            "gridwidth": 2
           },
           "zaxis": {
            "backgroundcolor": "rgb(17,17,17)",
            "gridcolor": "#506784",
            "linecolor": "#506784",
            "showbackground": true,
            "ticks": "",
            "zerolinecolor": "#C8D4E3",
            "gridwidth": 2
           }
          },
          "shapedefaults": {
           "line": {
            "color": "#f2f5fa"
           }
          },
          "annotationdefaults": {
           "arrowcolor": "#f2f5fa",
           "arrowhead": 0,
           "arrowwidth": 1
          },
          "geo": {
           "bgcolor": "rgb(17,17,17)",
           "landcolor": "rgb(17,17,17)",
           "subunitcolor": "#506784",
           "showland": true,
           "showlakes": true,
           "lakecolor": "rgb(17,17,17)"
          },
          "title": {
           "x": 0.05
          },
          "updatemenudefaults": {
           "bgcolor": "#506784",
           "borderwidth": 0
          },
          "sliderdefaults": {
           "bgcolor": "#C8D4E3",
           "borderwidth": 1,
           "bordercolor": "rgb(17,17,17)",
           "tickwidth": 0
          },
          "mapbox": {
           "style": "dark"
          }
         }
        },
        "xaxis": {
         "anchor": "y",
         "domain": [
          0.0,
          1.0
         ],
         "title": {
          "text": "Track"
         },
         "categoryorder": "total descending"
        },
        "yaxis": {
         "anchor": "x",
         "domain": [
          0.0,
          1.0
         ],
         "title": {
          "text": "Power"
         }
        },
        "coloraxis": {
         "colorbar": {
          "title": {
           "text": "Power"
          }
         },
         "colorscale": [
          [
           0.0,
           "rgb(255,247,236)"
          ],
          [
           0.125,
           "rgb(254,232,200)"
          ],
          [
           0.25,
           "rgb(253,212,158)"
          ],
          [
           0.375,
           "rgb(253,187,132)"
          ],
          [
           0.5,
           "rgb(252,141,89)"
          ],
          [
           0.625,
           "rgb(239,101,72)"
          ],
          [
           0.75,
           "rgb(215,48,31)"
          ],
          [
           0.875,
           "rgb(179,0,0)"
          ],
          [
           1.0,
           "rgb(127,0,0)"
          ]
         ],
         "cmin": 0.0,
         "cmax": 60.266685772084735,
         "showscale": false
        },
        "legend": {
         "tracegroupgap": 0
        },
        "title": {
         "text": "Shorts Power Ranking (Top 20)"
        },
        "barmode": "relative",
        "height": 540,
        "width": 960
       },
       "config": {
        "plotlyServerURL": "https://plot.ly"
       }
      },
      "text/html": [
       "<div>                            <div id=\"d3f0ffd1-d747-4127-b595-8e6ea102bb95\" class=\"plotly-graph-div\" style=\"height:540px; width:960px;\"></div>            <script type=\"text/javascript\">                require([\"plotly\"], function(Plotly) {                    window.PLOTLYENV=window.PLOTLYENV || {};                                    if (document.getElementById(\"d3f0ffd1-d747-4127-b595-8e6ea102bb95\")) {                    Plotly.newPlot(                        \"d3f0ffd1-d747-4127-b595-8e6ea102bb95\",                        [{\"alignmentgroup\":\"True\",\"hovertemplate\":\"Track=%{x}\\u003cbr\\u003ePower=%{marker.color}\\u003cextra\\u003e\\u003c\\u002fextra\\u003e\",\"legendgroup\":\"\",\"marker\":{\"color\":[60.266685772084735,55.336459895265776,40.96090526763857,35.165073355142475,12.236555962102846,8.677115786191706,6.655488485730359,5.7512785483038655,3.245168217761376,3.21664580695855,2.872144960888554,2.784945382781308,2.5539790212144533,1.524860268187668,1.5081468936227778,1.3088908915083959,1.0191818427699466,1.0061820511208124,0.7936026894944262,0.5972915561348904],\"coloraxis\":\"coloraxis\",\"pattern\":{\"shape\":\"\"}},\"name\":\"\",\"offsetgroup\":\"\",\"orientation\":\"v\",\"showlegend\":false,\"textposition\":\"auto\",\"x\":[\"Eye Of The Untold Her\",\"Told You So\",\"Mas Que Nada\",\"I Only Smoke When I Drink\",\"Shiver\",\"Go Back (feat. Julia Church)\",\"Evil Twin\",\"Neverender\",\"Wildfire\",\"Carry You\",\"Push The Tempo\",\"Wherever You Are\",\"COLD CASE\",\"Lo Lo\",\"FamilyMart\",\"Gravity\",\"Dominos - Friction Remix\",\"Young Again\",\"Love The Time\",\"Need You\"],\"xaxis\":\"x\",\"y\":[60.266685772084735,55.336459895265776,40.96090526763857,35.165073355142475,12.236555962102846,8.677115786191706,6.655488485730359,5.7512785483038655,3.245168217761376,3.21664580695855,2.872144960888554,2.784945382781308,2.5539790212144533,1.524860268187668,1.5081468936227778,1.3088908915083959,1.0191818427699466,1.0061820511208124,0.7936026894944262,0.5972915561348904],\"yaxis\":\"y\",\"type\":\"bar\"}],                        {\"template\":{\"data\":{\"histogram2dcontour\":[{\"type\":\"histogram2dcontour\",\"colorbar\":{\"outlinewidth\":0,\"ticks\":\"\"},\"colorscale\":[[0.0,\"#0d0887\"],[0.1111111111111111,\"#46039f\"],[0.2222222222222222,\"#7201a8\"],[0.3333333333333333,\"#9c179e\"],[0.4444444444444444,\"#bd3786\"],[0.5555555555555556,\"#d8576b\"],[0.6666666666666666,\"#ed7953\"],[0.7777777777777778,\"#fb9f3a\"],[0.8888888888888888,\"#fdca26\"],[1.0,\"#f0f921\"]]}],\"choropleth\":[{\"type\":\"choropleth\",\"colorbar\":{\"outlinewidth\":0,\"ticks\":\"\"}}],\"histogram2d\":[{\"type\":\"histogram2d\",\"colorbar\":{\"outlinewidth\":0,\"ticks\":\"\"},\"colorscale\":[[0.0,\"#0d0887\"],[0.1111111111111111,\"#46039f\"],[0.2222222222222222,\"#7201a8\"],[0.3333333333333333,\"#9c179e\"],[0.4444444444444444,\"#bd3786\"],[0.5555555555555556,\"#d8576b\"],[0.6666666666666666,\"#ed7953\"],[0.7777777777777778,\"#fb9f3a\"],[0.8888888888888888,\"#fdca26\"],[1.0,\"#f0f921\"]]}],\"heatmap\":[{\"type\":\"heatmap\",\"colorbar\":{\"outlinewidth\":0,\"ticks\":\"\"},\"colorscale\":[[0.0,\"#0d0887\"],[0.1111111111111111,\"#46039f\"],[0.2222222222222222,\"#7201a8\"],[0.3333333333333333,\"#9c179e\"],[0.4444444444444444,\"#bd3786\"],[0.5555555555555556,\"#d8576b\"],[0.6666666666666666,\"#ed7953\"],[0.7777777777777778,\"#fb9f3a\"],[0.8888888888888888,\"#fdca26\"],[1.0,\"#f0f921\"]]}],\"heatmapgl\":[{\"type\":\"heatmapgl\",\"colorbar\":{\"outlinewidth\":0,\"ticks\":\"\"},\"colorscale\":[[0.0,\"#0d0887\"],[0.1111111111111111,\"#46039f\"],[0.2222222222222222,\"#7201a8\"],[0.3333333333333333,\"#9c179e\"],[0.4444444444444444,\"#bd3786\"],[0.5555555555555556,\"#d8576b\"],[0.6666666666666666,\"#ed7953\"],[0.7777777777777778,\"#fb9f3a\"],[0.8888888888888888,\"#fdca26\"],[1.0,\"#f0f921\"]]}],\"contourcarpet\":[{\"type\":\"contourcarpet\",\"colorbar\":{\"outlinewidth\":0,\"ticks\":\"\"}}],\"contour\":[{\"type\":\"contour\",\"colorbar\":{\"outlinewidth\":0,\"ticks\":\"\"},\"colorscale\":[[0.0,\"#0d0887\"],[0.1111111111111111,\"#46039f\"],[0.2222222222222222,\"#7201a8\"],[0.3333333333333333,\"#9c179e\"],[0.4444444444444444,\"#bd3786\"],[0.5555555555555556,\"#d8576b\"],[0.6666666666666666,\"#ed7953\"],[0.7777777777777778,\"#fb9f3a\"],[0.8888888888888888,\"#fdca26\"],[1.0,\"#f0f921\"]]}],\"surface\":[{\"type\":\"surface\",\"colorbar\":{\"outlinewidth\":0,\"ticks\":\"\"},\"colorscale\":[[0.0,\"#0d0887\"],[0.1111111111111111,\"#46039f\"],[0.2222222222222222,\"#7201a8\"],[0.3333333333333333,\"#9c179e\"],[0.4444444444444444,\"#bd3786\"],[0.5555555555555556,\"#d8576b\"],[0.6666666666666666,\"#ed7953\"],[0.7777777777777778,\"#fb9f3a\"],[0.8888888888888888,\"#fdca26\"],[1.0,\"#f0f921\"]]}],\"mesh3d\":[{\"type\":\"mesh3d\",\"colorbar\":{\"outlinewidth\":0,\"ticks\":\"\"}}],\"scatter\":[{\"marker\":{\"line\":{\"color\":\"#283442\"}},\"type\":\"scatter\"}],\"parcoords\":[{\"type\":\"parcoords\",\"line\":{\"colorbar\":{\"outlinewidth\":0,\"ticks\":\"\"}}}],\"scatterpolargl\":[{\"type\":\"scatterpolargl\",\"marker\":{\"colorbar\":{\"outlinewidth\":0,\"ticks\":\"\"}}}],\"bar\":[{\"error_x\":{\"color\":\"#f2f5fa\"},\"error_y\":{\"color\":\"#f2f5fa\"},\"marker\":{\"line\":{\"color\":\"rgb(17,17,17)\",\"width\":0.5},\"pattern\":{\"fillmode\":\"overlay\",\"size\":10,\"solidity\":0.2}},\"type\":\"bar\"}],\"scattergeo\":[{\"type\":\"scattergeo\",\"marker\":{\"colorbar\":{\"outlinewidth\":0,\"ticks\":\"\"}}}],\"scatterpolar\":[{\"type\":\"scatterpolar\",\"marker\":{\"colorbar\":{\"outlinewidth\":0,\"ticks\":\"\"}}}],\"histogram\":[{\"marker\":{\"pattern\":{\"fillmode\":\"overlay\",\"size\":10,\"solidity\":0.2}},\"type\":\"histogram\"}],\"scattergl\":[{\"marker\":{\"line\":{\"color\":\"#283442\"}},\"type\":\"scattergl\"}],\"scatter3d\":[{\"type\":\"scatter3d\",\"line\":{\"colorbar\":{\"outlinewidth\":0,\"ticks\":\"\"}},\"marker\":{\"colorbar\":{\"outlinewidth\":0,\"ticks\":\"\"}}}],\"scattermapbox\":[{\"type\":\"scattermapbox\",\"marker\":{\"colorbar\":{\"outlinewidth\":0,\"ticks\":\"\"}}}],\"scatterternary\":[{\"type\":\"scatterternary\",\"marker\":{\"colorbar\":{\"outlinewidth\":0,\"ticks\":\"\"}}}],\"scattercarpet\":[{\"type\":\"scattercarpet\",\"marker\":{\"colorbar\":{\"outlinewidth\":0,\"ticks\":\"\"}}}],\"carpet\":[{\"aaxis\":{\"endlinecolor\":\"#A2B1C6\",\"gridcolor\":\"#506784\",\"linecolor\":\"#506784\",\"minorgridcolor\":\"#506784\",\"startlinecolor\":\"#A2B1C6\"},\"baxis\":{\"endlinecolor\":\"#A2B1C6\",\"gridcolor\":\"#506784\",\"linecolor\":\"#506784\",\"minorgridcolor\":\"#506784\",\"startlinecolor\":\"#A2B1C6\"},\"type\":\"carpet\"}],\"table\":[{\"cells\":{\"fill\":{\"color\":\"#506784\"},\"line\":{\"color\":\"rgb(17,17,17)\"}},\"header\":{\"fill\":{\"color\":\"#2a3f5f\"},\"line\":{\"color\":\"rgb(17,17,17)\"}},\"type\":\"table\"}],\"barpolar\":[{\"marker\":{\"line\":{\"color\":\"rgb(17,17,17)\",\"width\":0.5},\"pattern\":{\"fillmode\":\"overlay\",\"size\":10,\"solidity\":0.2}},\"type\":\"barpolar\"}],\"pie\":[{\"automargin\":true,\"type\":\"pie\"}]},\"layout\":{\"autotypenumbers\":\"strict\",\"colorway\":[\"#636efa\",\"#EF553B\",\"#00cc96\",\"#ab63fa\",\"#FFA15A\",\"#19d3f3\",\"#FF6692\",\"#B6E880\",\"#FF97FF\",\"#FECB52\"],\"font\":{\"color\":\"#f2f5fa\"},\"hovermode\":\"closest\",\"hoverlabel\":{\"align\":\"left\"},\"paper_bgcolor\":\"rgb(17,17,17)\",\"plot_bgcolor\":\"rgb(17,17,17)\",\"polar\":{\"bgcolor\":\"rgb(17,17,17)\",\"angularaxis\":{\"gridcolor\":\"#506784\",\"linecolor\":\"#506784\",\"ticks\":\"\"},\"radialaxis\":{\"gridcolor\":\"#506784\",\"linecolor\":\"#506784\",\"ticks\":\"\"}},\"ternary\":{\"bgcolor\":\"rgb(17,17,17)\",\"aaxis\":{\"gridcolor\":\"#506784\",\"linecolor\":\"#506784\",\"ticks\":\"\"},\"baxis\":{\"gridcolor\":\"#506784\",\"linecolor\":\"#506784\",\"ticks\":\"\"},\"caxis\":{\"gridcolor\":\"#506784\",\"linecolor\":\"#506784\",\"ticks\":\"\"}},\"coloraxis\":{\"colorbar\":{\"outlinewidth\":0,\"ticks\":\"\"}},\"colorscale\":{\"sequential\":[[0.0,\"#0d0887\"],[0.1111111111111111,\"#46039f\"],[0.2222222222222222,\"#7201a8\"],[0.3333333333333333,\"#9c179e\"],[0.4444444444444444,\"#bd3786\"],[0.5555555555555556,\"#d8576b\"],[0.6666666666666666,\"#ed7953\"],[0.7777777777777778,\"#fb9f3a\"],[0.8888888888888888,\"#fdca26\"],[1.0,\"#f0f921\"]],\"sequentialminus\":[[0.0,\"#0d0887\"],[0.1111111111111111,\"#46039f\"],[0.2222222222222222,\"#7201a8\"],[0.3333333333333333,\"#9c179e\"],[0.4444444444444444,\"#bd3786\"],[0.5555555555555556,\"#d8576b\"],[0.6666666666666666,\"#ed7953\"],[0.7777777777777778,\"#fb9f3a\"],[0.8888888888888888,\"#fdca26\"],[1.0,\"#f0f921\"]],\"diverging\":[[0,\"#8e0152\"],[0.1,\"#c51b7d\"],[0.2,\"#de77ae\"],[0.3,\"#f1b6da\"],[0.4,\"#fde0ef\"],[0.5,\"#f7f7f7\"],[0.6,\"#e6f5d0\"],[0.7,\"#b8e186\"],[0.8,\"#7fbc41\"],[0.9,\"#4d9221\"],[1,\"#276419\"]]},\"xaxis\":{\"gridcolor\":\"#283442\",\"linecolor\":\"#506784\",\"ticks\":\"\",\"title\":{\"standoff\":15},\"zerolinecolor\":\"#283442\",\"automargin\":true,\"zerolinewidth\":2},\"yaxis\":{\"gridcolor\":\"#283442\",\"linecolor\":\"#506784\",\"ticks\":\"\",\"title\":{\"standoff\":15},\"zerolinecolor\":\"#283442\",\"automargin\":true,\"zerolinewidth\":2},\"scene\":{\"xaxis\":{\"backgroundcolor\":\"rgb(17,17,17)\",\"gridcolor\":\"#506784\",\"linecolor\":\"#506784\",\"showbackground\":true,\"ticks\":\"\",\"zerolinecolor\":\"#C8D4E3\",\"gridwidth\":2},\"yaxis\":{\"backgroundcolor\":\"rgb(17,17,17)\",\"gridcolor\":\"#506784\",\"linecolor\":\"#506784\",\"showbackground\":true,\"ticks\":\"\",\"zerolinecolor\":\"#C8D4E3\",\"gridwidth\":2},\"zaxis\":{\"backgroundcolor\":\"rgb(17,17,17)\",\"gridcolor\":\"#506784\",\"linecolor\":\"#506784\",\"showbackground\":true,\"ticks\":\"\",\"zerolinecolor\":\"#C8D4E3\",\"gridwidth\":2}},\"shapedefaults\":{\"line\":{\"color\":\"#f2f5fa\"}},\"annotationdefaults\":{\"arrowcolor\":\"#f2f5fa\",\"arrowhead\":0,\"arrowwidth\":1},\"geo\":{\"bgcolor\":\"rgb(17,17,17)\",\"landcolor\":\"rgb(17,17,17)\",\"subunitcolor\":\"#506784\",\"showland\":true,\"showlakes\":true,\"lakecolor\":\"rgb(17,17,17)\"},\"title\":{\"x\":0.05},\"updatemenudefaults\":{\"bgcolor\":\"#506784\",\"borderwidth\":0},\"sliderdefaults\":{\"bgcolor\":\"#C8D4E3\",\"borderwidth\":1,\"bordercolor\":\"rgb(17,17,17)\",\"tickwidth\":0},\"mapbox\":{\"style\":\"dark\"}}},\"xaxis\":{\"anchor\":\"y\",\"domain\":[0.0,1.0],\"title\":{\"text\":\"Track\"},\"categoryorder\":\"total descending\"},\"yaxis\":{\"anchor\":\"x\",\"domain\":[0.0,1.0],\"title\":{\"text\":\"Power\"}},\"coloraxis\":{\"colorbar\":{\"title\":{\"text\":\"Power\"}},\"colorscale\":[[0.0,\"rgb(255,247,236)\"],[0.125,\"rgb(254,232,200)\"],[0.25,\"rgb(253,212,158)\"],[0.375,\"rgb(253,187,132)\"],[0.5,\"rgb(252,141,89)\"],[0.625,\"rgb(239,101,72)\"],[0.75,\"rgb(215,48,31)\"],[0.875,\"rgb(179,0,0)\"],[1.0,\"rgb(127,0,0)\"]],\"cmin\":0.0,\"cmax\":60.266685772084735,\"showscale\":false},\"legend\":{\"tracegroupgap\":0},\"title\":{\"text\":\"Shorts Power Ranking (Top 20)\"},\"barmode\":\"relative\",\"height\":540,\"width\":960},                        {\"responsive\": true}                    ).then(function(){\n",
       "                            \n",
       "var gd = document.getElementById('d3f0ffd1-d747-4127-b595-8e6ea102bb95');\n",
       "var x = new MutationObserver(function (mutations, observer) {{\n",
       "        var display = window.getComputedStyle(gd).display;\n",
       "        if (!display || display === 'none') {{\n",
       "            console.log([gd, 'removed!']);\n",
       "            Plotly.purge(gd);\n",
       "            observer.disconnect();\n",
       "        }}\n",
       "}});\n",
       "\n",
       "// Listen for the removal of the full notebook cells\n",
       "var notebookContainer = gd.closest('#notebook-container');\n",
       "if (notebookContainer) {{\n",
       "    x.observe(notebookContainer, {childList: true});\n",
       "}}\n",
       "\n",
       "// Listen for the clearing of the current output cell\n",
       "var outputEl = gd.closest('.output');\n",
       "if (outputEl) {{\n",
       "    x.observe(outputEl, {childList: true});\n",
       "}}\n",
       "\n",
       "                        })                };                });            </script>        </div>"
      ]
     },
     "metadata": {},
     "output_type": "display_data"
    }
   ],
   "execution_count": 330
  },
  {
   "metadata": {},
   "cell_type": "markdown",
   "source": [
    "### Streams\n",
    "#### Rescale statistics"
   ],
   "id": "6619ba475383b0e5"
  },
  {
   "metadata": {
    "ExecuteTime": {
     "end_time": "2024-12-17T18:25:34.824267Z",
     "start_time": "2024-12-17T18:25:34.806003Z"
    }
   },
   "cell_type": "code",
   "source": [
    "data_str = rescale_stats(data_str, general_field)\n",
    "data_str"
   ],
   "id": "fbc0f73c523e3ee4",
   "outputs": [
    {
     "data": {
      "text/plain": [
       "    songstats_id                songstats_title  \\\n",
       "0       qmr6e0bx                             16   \n",
       "1       cxsruom1  17 (Ekko & Sidetrack Bootleg)   \n",
       "2       847p1x5v             Never Let You Down   \n",
       "3       4owlyi76                           4 AM   \n",
       "4       a3ok10ce                             4D   \n",
       "..           ...                            ...   \n",
       "302     cqdneir6                Can You Feel It   \n",
       "303     nwqit015              Curse of the Moai   \n",
       "304     em4stqoh                       Himalaya   \n",
       "305     wx93mcy6                     Next To Me   \n",
       "306     0wpg1fj9             Hopelessly Falling   \n",
       "\n",
       "                                           artist_list  \\\n",
       "0                      [blasterjaxx, hardwell, maddix]   \n",
       "1                               [ekko & sidetrack, mk]   \n",
       "2    [cimone, deadline, duskee, emily makis, fricti...   \n",
       "3                                       [lexed, oshan]   \n",
       "4                            [bad computer, ryan coss]   \n",
       "..                                                 ...   \n",
       "302                                      [retrovision]   \n",
       "303                                      [exyl, nasko]   \n",
       "304                                  [matisse & sadko]   \n",
       "305                      [don diablo, gaby gerlis, mk]   \n",
       "306                   [enrem, jonah sky, rico 56, ubo]   \n",
       "\n",
       "                              genre                 label  \\\n",
       "0                     [hard techno]            [revealed]   \n",
       "1                     [drum & bass]         [[no labels]]   \n",
       "2                     [drum & bass]        [shogun audio]   \n",
       "3    [future house / future bounce]  [future house cloud]   \n",
       "4                   [electro house]          [monstercat]   \n",
       "..                              ...                   ...   \n",
       "302                    [bass house]               [stmpd]   \n",
       "303        [drumstep / moombahcore]         [[no labels]]   \n",
       "304             [progressive house]               [stmpd]   \n",
       "305  [future house / future bounce]             [hexagon]   \n",
       "306                 [melodic house]     [monstercat silk]   \n",
       "\n",
       "                           title  soundcloud_streams_total  \\\n",
       "0                             16                  3.780760   \n",
       "1    17 ekko & sidetrack bootleg                  7.530528   \n",
       "2             never let you down                  0.107147   \n",
       "3                           4 am                  0.060915   \n",
       "4                             4d                  1.659776   \n",
       "..                           ...                       ...   \n",
       "302              can you feel it                  0.000000   \n",
       "303            curse of the moai                  0.000000   \n",
       "304                     himalaya                  0.123286   \n",
       "305                   next to me                  0.000000   \n",
       "306           hopelessly falling                  0.105649   \n",
       "\n",
       "     spotify_streams_total  youtube_video_views_total  \n",
       "0                 6.027314                   7.397974  \n",
       "1                 0.000000                   3.533914  \n",
       "2                 0.071527                   0.670884  \n",
       "3                 0.009337                   0.092337  \n",
       "4                 0.916122                   2.203943  \n",
       "..                     ...                        ...  \n",
       "302               0.036469                   0.195925  \n",
       "303               0.128313                   0.000000  \n",
       "304               0.098383                   0.775175  \n",
       "305               0.654118                   0.170699  \n",
       "306               0.009638                   0.035536  \n",
       "\n",
       "[307 rows x 9 columns]"
      ],
      "text/html": [
       "<div>\n",
       "<style scoped>\n",
       "    .dataframe tbody tr th:only-of-type {\n",
       "        vertical-align: middle;\n",
       "    }\n",
       "\n",
       "    .dataframe tbody tr th {\n",
       "        vertical-align: top;\n",
       "    }\n",
       "\n",
       "    .dataframe thead th {\n",
       "        text-align: right;\n",
       "    }\n",
       "</style>\n",
       "<table border=\"1\" class=\"dataframe\">\n",
       "  <thead>\n",
       "    <tr style=\"text-align: right;\">\n",
       "      <th></th>\n",
       "      <th>songstats_id</th>\n",
       "      <th>songstats_title</th>\n",
       "      <th>artist_list</th>\n",
       "      <th>genre</th>\n",
       "      <th>label</th>\n",
       "      <th>title</th>\n",
       "      <th>soundcloud_streams_total</th>\n",
       "      <th>spotify_streams_total</th>\n",
       "      <th>youtube_video_views_total</th>\n",
       "    </tr>\n",
       "  </thead>\n",
       "  <tbody>\n",
       "    <tr>\n",
       "      <th>0</th>\n",
       "      <td>qmr6e0bx</td>\n",
       "      <td>16</td>\n",
       "      <td>[blasterjaxx, hardwell, maddix]</td>\n",
       "      <td>[hard techno]</td>\n",
       "      <td>[revealed]</td>\n",
       "      <td>16</td>\n",
       "      <td>3.780760</td>\n",
       "      <td>6.027314</td>\n",
       "      <td>7.397974</td>\n",
       "    </tr>\n",
       "    <tr>\n",
       "      <th>1</th>\n",
       "      <td>cxsruom1</td>\n",
       "      <td>17 (Ekko &amp; Sidetrack Bootleg)</td>\n",
       "      <td>[ekko &amp; sidetrack, mk]</td>\n",
       "      <td>[drum &amp; bass]</td>\n",
       "      <td>[[no labels]]</td>\n",
       "      <td>17 ekko &amp; sidetrack bootleg</td>\n",
       "      <td>7.530528</td>\n",
       "      <td>0.000000</td>\n",
       "      <td>3.533914</td>\n",
       "    </tr>\n",
       "    <tr>\n",
       "      <th>2</th>\n",
       "      <td>847p1x5v</td>\n",
       "      <td>Never Let You Down</td>\n",
       "      <td>[cimone, deadline, duskee, emily makis, fricti...</td>\n",
       "      <td>[drum &amp; bass]</td>\n",
       "      <td>[shogun audio]</td>\n",
       "      <td>never let you down</td>\n",
       "      <td>0.107147</td>\n",
       "      <td>0.071527</td>\n",
       "      <td>0.670884</td>\n",
       "    </tr>\n",
       "    <tr>\n",
       "      <th>3</th>\n",
       "      <td>4owlyi76</td>\n",
       "      <td>4 AM</td>\n",
       "      <td>[lexed, oshan]</td>\n",
       "      <td>[future house / future bounce]</td>\n",
       "      <td>[future house cloud]</td>\n",
       "      <td>4 am</td>\n",
       "      <td>0.060915</td>\n",
       "      <td>0.009337</td>\n",
       "      <td>0.092337</td>\n",
       "    </tr>\n",
       "    <tr>\n",
       "      <th>4</th>\n",
       "      <td>a3ok10ce</td>\n",
       "      <td>4D</td>\n",
       "      <td>[bad computer, ryan coss]</td>\n",
       "      <td>[electro house]</td>\n",
       "      <td>[monstercat]</td>\n",
       "      <td>4d</td>\n",
       "      <td>1.659776</td>\n",
       "      <td>0.916122</td>\n",
       "      <td>2.203943</td>\n",
       "    </tr>\n",
       "    <tr>\n",
       "      <th>...</th>\n",
       "      <td>...</td>\n",
       "      <td>...</td>\n",
       "      <td>...</td>\n",
       "      <td>...</td>\n",
       "      <td>...</td>\n",
       "      <td>...</td>\n",
       "      <td>...</td>\n",
       "      <td>...</td>\n",
       "      <td>...</td>\n",
       "    </tr>\n",
       "    <tr>\n",
       "      <th>302</th>\n",
       "      <td>cqdneir6</td>\n",
       "      <td>Can You Feel It</td>\n",
       "      <td>[retrovision]</td>\n",
       "      <td>[bass house]</td>\n",
       "      <td>[stmpd]</td>\n",
       "      <td>can you feel it</td>\n",
       "      <td>0.000000</td>\n",
       "      <td>0.036469</td>\n",
       "      <td>0.195925</td>\n",
       "    </tr>\n",
       "    <tr>\n",
       "      <th>303</th>\n",
       "      <td>nwqit015</td>\n",
       "      <td>Curse of the Moai</td>\n",
       "      <td>[exyl, nasko]</td>\n",
       "      <td>[drumstep / moombahcore]</td>\n",
       "      <td>[[no labels]]</td>\n",
       "      <td>curse of the moai</td>\n",
       "      <td>0.000000</td>\n",
       "      <td>0.128313</td>\n",
       "      <td>0.000000</td>\n",
       "    </tr>\n",
       "    <tr>\n",
       "      <th>304</th>\n",
       "      <td>em4stqoh</td>\n",
       "      <td>Himalaya</td>\n",
       "      <td>[matisse &amp; sadko]</td>\n",
       "      <td>[progressive house]</td>\n",
       "      <td>[stmpd]</td>\n",
       "      <td>himalaya</td>\n",
       "      <td>0.123286</td>\n",
       "      <td>0.098383</td>\n",
       "      <td>0.775175</td>\n",
       "    </tr>\n",
       "    <tr>\n",
       "      <th>305</th>\n",
       "      <td>wx93mcy6</td>\n",
       "      <td>Next To Me</td>\n",
       "      <td>[don diablo, gaby gerlis, mk]</td>\n",
       "      <td>[future house / future bounce]</td>\n",
       "      <td>[hexagon]</td>\n",
       "      <td>next to me</td>\n",
       "      <td>0.000000</td>\n",
       "      <td>0.654118</td>\n",
       "      <td>0.170699</td>\n",
       "    </tr>\n",
       "    <tr>\n",
       "      <th>306</th>\n",
       "      <td>0wpg1fj9</td>\n",
       "      <td>Hopelessly Falling</td>\n",
       "      <td>[enrem, jonah sky, rico 56, ubo]</td>\n",
       "      <td>[melodic house]</td>\n",
       "      <td>[monstercat silk]</td>\n",
       "      <td>hopelessly falling</td>\n",
       "      <td>0.105649</td>\n",
       "      <td>0.009638</td>\n",
       "      <td>0.035536</td>\n",
       "    </tr>\n",
       "  </tbody>\n",
       "</table>\n",
       "<p>307 rows × 9 columns</p>\n",
       "</div>"
      ]
     },
     "execution_count": 319,
     "metadata": {},
     "output_type": "execute_result"
    }
   ],
   "execution_count": 319
  },
  {
   "metadata": {},
   "cell_type": "markdown",
   "source": "#### Weighting by recorded by stats",
   "id": "d36a6a27a2c67c58"
  },
  {
   "metadata": {
    "ExecuteTime": {
     "end_time": "2024-12-17T18:35:40.259668Z",
     "start_time": "2024-12-17T18:35:40.241067Z"
    }
   },
   "cell_type": "code",
   "source": [
    "pr_str, w_str = compute_power(data_str, general_field)  # 'w_str' is calculated for the final step of the Power Ranking\n",
    "pr_str"
   ],
   "id": "f7ca8033758003c6",
   "outputs": [
    {
     "data": {
      "text/plain": [
       "    songstats_id                songstats_title  \\\n",
       "0       qmr6e0bx                             16   \n",
       "1       cxsruom1  17 (Ekko & Sidetrack Bootleg)   \n",
       "2       847p1x5v             Never Let You Down   \n",
       "3       4owlyi76                           4 AM   \n",
       "4       a3ok10ce                             4D   \n",
       "..           ...                            ...   \n",
       "302     cqdneir6                Can You Feel It   \n",
       "303     nwqit015              Curse of the Moai   \n",
       "304     em4stqoh                       Himalaya   \n",
       "305     wx93mcy6                     Next To Me   \n",
       "306     0wpg1fj9             Hopelessly Falling   \n",
       "\n",
       "                                           artist_list  \\\n",
       "0                      [blasterjaxx, hardwell, maddix]   \n",
       "1                               [ekko & sidetrack, mk]   \n",
       "2    [cimone, deadline, duskee, emily makis, fricti...   \n",
       "3                                       [lexed, oshan]   \n",
       "4                            [bad computer, ryan coss]   \n",
       "..                                                 ...   \n",
       "302                                      [retrovision]   \n",
       "303                                      [exyl, nasko]   \n",
       "304                                  [matisse & sadko]   \n",
       "305                      [don diablo, gaby gerlis, mk]   \n",
       "306                   [enrem, jonah sky, rico 56, ubo]   \n",
       "\n",
       "                              genre                 label  \\\n",
       "0                     [hard techno]            [revealed]   \n",
       "1                     [drum & bass]         [[no labels]]   \n",
       "2                     [drum & bass]        [shogun audio]   \n",
       "3    [future house / future bounce]  [future house cloud]   \n",
       "4                   [electro house]          [monstercat]   \n",
       "..                              ...                   ...   \n",
       "302                    [bass house]               [stmpd]   \n",
       "303        [drumstep / moombahcore]         [[no labels]]   \n",
       "304             [progressive house]               [stmpd]   \n",
       "305  [future house / future bounce]             [hexagon]   \n",
       "306                 [melodic house]     [monstercat silk]   \n",
       "\n",
       "                           title  soundcloud_streams_total  \\\n",
       "0                             16                  3.780760   \n",
       "1    17 ekko & sidetrack bootleg                  7.530528   \n",
       "2             never let you down                  0.107147   \n",
       "3                           4 am                  0.060915   \n",
       "4                             4d                  1.659776   \n",
       "..                           ...                       ...   \n",
       "302              can you feel it                  0.000000   \n",
       "303            curse of the moai                  0.000000   \n",
       "304                     himalaya                  0.123286   \n",
       "305                   next to me                  0.000000   \n",
       "306           hopelessly falling                  0.105649   \n",
       "\n",
       "     spotify_streams_total  youtube_video_views_total       PWR  \n",
       "0                 6.027314                   7.397974  5.790382  \n",
       "1                 0.000000                   3.533914  3.608242  \n",
       "2                 0.071527                   0.670884  0.290303  \n",
       "3                 0.009337                   0.092337  0.054405  \n",
       "4                 0.916122                   2.203943  1.597467  \n",
       "..                     ...                        ...       ...  \n",
       "302               0.036469                   0.195925  0.080123  \n",
       "303               0.128313                   0.000000  0.043257  \n",
       "304               0.098383                   0.775175  0.340573  \n",
       "305               0.654118                   0.170699  0.279610  \n",
       "306               0.009638                   0.035536  0.049009  \n",
       "\n",
       "[307 rows x 10 columns]"
      ],
      "text/html": [
       "<div>\n",
       "<style scoped>\n",
       "    .dataframe tbody tr th:only-of-type {\n",
       "        vertical-align: middle;\n",
       "    }\n",
       "\n",
       "    .dataframe tbody tr th {\n",
       "        vertical-align: top;\n",
       "    }\n",
       "\n",
       "    .dataframe thead th {\n",
       "        text-align: right;\n",
       "    }\n",
       "</style>\n",
       "<table border=\"1\" class=\"dataframe\">\n",
       "  <thead>\n",
       "    <tr style=\"text-align: right;\">\n",
       "      <th></th>\n",
       "      <th>songstats_id</th>\n",
       "      <th>songstats_title</th>\n",
       "      <th>artist_list</th>\n",
       "      <th>genre</th>\n",
       "      <th>label</th>\n",
       "      <th>title</th>\n",
       "      <th>soundcloud_streams_total</th>\n",
       "      <th>spotify_streams_total</th>\n",
       "      <th>youtube_video_views_total</th>\n",
       "      <th>PWR</th>\n",
       "    </tr>\n",
       "  </thead>\n",
       "  <tbody>\n",
       "    <tr>\n",
       "      <th>0</th>\n",
       "      <td>qmr6e0bx</td>\n",
       "      <td>16</td>\n",
       "      <td>[blasterjaxx, hardwell, maddix]</td>\n",
       "      <td>[hard techno]</td>\n",
       "      <td>[revealed]</td>\n",
       "      <td>16</td>\n",
       "      <td>3.780760</td>\n",
       "      <td>6.027314</td>\n",
       "      <td>7.397974</td>\n",
       "      <td>5.790382</td>\n",
       "    </tr>\n",
       "    <tr>\n",
       "      <th>1</th>\n",
       "      <td>cxsruom1</td>\n",
       "      <td>17 (Ekko &amp; Sidetrack Bootleg)</td>\n",
       "      <td>[ekko &amp; sidetrack, mk]</td>\n",
       "      <td>[drum &amp; bass]</td>\n",
       "      <td>[[no labels]]</td>\n",
       "      <td>17 ekko &amp; sidetrack bootleg</td>\n",
       "      <td>7.530528</td>\n",
       "      <td>0.000000</td>\n",
       "      <td>3.533914</td>\n",
       "      <td>3.608242</td>\n",
       "    </tr>\n",
       "    <tr>\n",
       "      <th>2</th>\n",
       "      <td>847p1x5v</td>\n",
       "      <td>Never Let You Down</td>\n",
       "      <td>[cimone, deadline, duskee, emily makis, fricti...</td>\n",
       "      <td>[drum &amp; bass]</td>\n",
       "      <td>[shogun audio]</td>\n",
       "      <td>never let you down</td>\n",
       "      <td>0.107147</td>\n",
       "      <td>0.071527</td>\n",
       "      <td>0.670884</td>\n",
       "      <td>0.290303</td>\n",
       "    </tr>\n",
       "    <tr>\n",
       "      <th>3</th>\n",
       "      <td>4owlyi76</td>\n",
       "      <td>4 AM</td>\n",
       "      <td>[lexed, oshan]</td>\n",
       "      <td>[future house / future bounce]</td>\n",
       "      <td>[future house cloud]</td>\n",
       "      <td>4 am</td>\n",
       "      <td>0.060915</td>\n",
       "      <td>0.009337</td>\n",
       "      <td>0.092337</td>\n",
       "      <td>0.054405</td>\n",
       "    </tr>\n",
       "    <tr>\n",
       "      <th>4</th>\n",
       "      <td>a3ok10ce</td>\n",
       "      <td>4D</td>\n",
       "      <td>[bad computer, ryan coss]</td>\n",
       "      <td>[electro house]</td>\n",
       "      <td>[monstercat]</td>\n",
       "      <td>4d</td>\n",
       "      <td>1.659776</td>\n",
       "      <td>0.916122</td>\n",
       "      <td>2.203943</td>\n",
       "      <td>1.597467</td>\n",
       "    </tr>\n",
       "    <tr>\n",
       "      <th>...</th>\n",
       "      <td>...</td>\n",
       "      <td>...</td>\n",
       "      <td>...</td>\n",
       "      <td>...</td>\n",
       "      <td>...</td>\n",
       "      <td>...</td>\n",
       "      <td>...</td>\n",
       "      <td>...</td>\n",
       "      <td>...</td>\n",
       "      <td>...</td>\n",
       "    </tr>\n",
       "    <tr>\n",
       "      <th>302</th>\n",
       "      <td>cqdneir6</td>\n",
       "      <td>Can You Feel It</td>\n",
       "      <td>[retrovision]</td>\n",
       "      <td>[bass house]</td>\n",
       "      <td>[stmpd]</td>\n",
       "      <td>can you feel it</td>\n",
       "      <td>0.000000</td>\n",
       "      <td>0.036469</td>\n",
       "      <td>0.195925</td>\n",
       "      <td>0.080123</td>\n",
       "    </tr>\n",
       "    <tr>\n",
       "      <th>303</th>\n",
       "      <td>nwqit015</td>\n",
       "      <td>Curse of the Moai</td>\n",
       "      <td>[exyl, nasko]</td>\n",
       "      <td>[drumstep / moombahcore]</td>\n",
       "      <td>[[no labels]]</td>\n",
       "      <td>curse of the moai</td>\n",
       "      <td>0.000000</td>\n",
       "      <td>0.128313</td>\n",
       "      <td>0.000000</td>\n",
       "      <td>0.043257</td>\n",
       "    </tr>\n",
       "    <tr>\n",
       "      <th>304</th>\n",
       "      <td>em4stqoh</td>\n",
       "      <td>Himalaya</td>\n",
       "      <td>[matisse &amp; sadko]</td>\n",
       "      <td>[progressive house]</td>\n",
       "      <td>[stmpd]</td>\n",
       "      <td>himalaya</td>\n",
       "      <td>0.123286</td>\n",
       "      <td>0.098383</td>\n",
       "      <td>0.775175</td>\n",
       "      <td>0.340573</td>\n",
       "    </tr>\n",
       "    <tr>\n",
       "      <th>305</th>\n",
       "      <td>wx93mcy6</td>\n",
       "      <td>Next To Me</td>\n",
       "      <td>[don diablo, gaby gerlis, mk]</td>\n",
       "      <td>[future house / future bounce]</td>\n",
       "      <td>[hexagon]</td>\n",
       "      <td>next to me</td>\n",
       "      <td>0.000000</td>\n",
       "      <td>0.654118</td>\n",
       "      <td>0.170699</td>\n",
       "      <td>0.279610</td>\n",
       "    </tr>\n",
       "    <tr>\n",
       "      <th>306</th>\n",
       "      <td>0wpg1fj9</td>\n",
       "      <td>Hopelessly Falling</td>\n",
       "      <td>[enrem, jonah sky, rico 56, ubo]</td>\n",
       "      <td>[melodic house]</td>\n",
       "      <td>[monstercat silk]</td>\n",
       "      <td>hopelessly falling</td>\n",
       "      <td>0.105649</td>\n",
       "      <td>0.009638</td>\n",
       "      <td>0.035536</td>\n",
       "      <td>0.049009</td>\n",
       "    </tr>\n",
       "  </tbody>\n",
       "</table>\n",
       "<p>307 rows × 10 columns</p>\n",
       "</div>"
      ]
     },
     "execution_count": 334,
     "metadata": {},
     "output_type": "execute_result"
    }
   ],
   "execution_count": 334
  },
  {
   "metadata": {},
   "cell_type": "markdown",
   "source": "#### Graphical Representation",
   "id": "59ec6a2821072582"
  },
  {
   "metadata": {
    "ExecuteTime": {
     "end_time": "2024-12-17T18:35:56.200563Z",
     "start_time": "2024-12-17T18:35:56.155801Z"
    }
   },
   "cell_type": "code",
   "source": [
    "bar_pr_str = plot_bar(dataframe=pr_str.sort_values('PWR', ascending=False).head(20),\n",
    "                      x='songstats_title',\n",
    "                      y='PWR',\n",
    "                      title='Streams Power Ranking (Top 20)',\n",
    "                      x_label='Track',\n",
    "                      y_label='Power',\n",
    "                      col_range=(pr_str.PWR.min(), pr_str.PWR.max()))\n",
    "bar_pr_str.show()"
   ],
   "id": "8e734637069d29a5",
   "outputs": [
    {
     "data": {
      "application/vnd.plotly.v1+json": {
       "data": [
        {
         "alignmentgroup": "True",
         "hovertemplate": "Track=%{x}<br>Power=%{marker.color}<extra></extra>",
         "legendgroup": "",
         "marker": {
          "color": [
           96.0410095418458,
           75.05612525738903,
           50.474021091304806,
           47.6528161682191,
           41.74402202206626,
           40.195529611797944,
           38.6793530984566,
           31.429701809894443,
           25.3240291772864,
           24.61197686634365,
           23.345685841191933,
           23.251760169180415,
           22.687470416079634,
           19.62445066480311,
           16.166779226749217,
           15.152022726975387,
           14.364098782362113,
           13.546228345681168,
           12.027218240707217,
           10.918599627319821
          ],
          "coloraxis": "coloraxis",
          "pattern": {
           "shape": ""
          }
         },
         "name": "",
         "offsetgroup": "",
         "orientation": "v",
         "showlegend": false,
         "textposition": "auto",
         "x": [
          "Shiver",
          "I Only Smoke When I Drink",
          "Go Back (feat. Julia Church)",
          "Neverender",
          "Wherever You Are",
          "Carry You",
          "Open Sesame (Abracadabra) [feat. Leila K]",
          "Eye Of The Untold Her",
          "Wildfire",
          "Told You So",
          "Empty",
          "Gravity",
          "Mas Que Nada",
          "Delete Our Love",
          "Breakaway",
          "Evil Twin",
          "Lost My Mind",
          "This Moment",
          "Biochemical",
          "Keep Pushin' (Beast)"
         ],
         "xaxis": "x",
         "y": [
          96.0410095418458,
          75.05612525738903,
          50.474021091304806,
          47.6528161682191,
          41.74402202206626,
          40.195529611797944,
          38.6793530984566,
          31.429701809894443,
          25.3240291772864,
          24.61197686634365,
          23.345685841191933,
          23.251760169180415,
          22.687470416079634,
          19.62445066480311,
          16.166779226749217,
          15.152022726975387,
          14.364098782362113,
          13.546228345681168,
          12.027218240707217,
          10.918599627319821
         ],
         "yaxis": "y",
         "type": "bar"
        }
       ],
       "layout": {
        "template": {
         "data": {
          "histogram2dcontour": [
           {
            "type": "histogram2dcontour",
            "colorbar": {
             "outlinewidth": 0,
             "ticks": ""
            },
            "colorscale": [
             [
              0.0,
              "#0d0887"
             ],
             [
              0.1111111111111111,
              "#46039f"
             ],
             [
              0.2222222222222222,
              "#7201a8"
             ],
             [
              0.3333333333333333,
              "#9c179e"
             ],
             [
              0.4444444444444444,
              "#bd3786"
             ],
             [
              0.5555555555555556,
              "#d8576b"
             ],
             [
              0.6666666666666666,
              "#ed7953"
             ],
             [
              0.7777777777777778,
              "#fb9f3a"
             ],
             [
              0.8888888888888888,
              "#fdca26"
             ],
             [
              1.0,
              "#f0f921"
             ]
            ]
           }
          ],
          "choropleth": [
           {
            "type": "choropleth",
            "colorbar": {
             "outlinewidth": 0,
             "ticks": ""
            }
           }
          ],
          "histogram2d": [
           {
            "type": "histogram2d",
            "colorbar": {
             "outlinewidth": 0,
             "ticks": ""
            },
            "colorscale": [
             [
              0.0,
              "#0d0887"
             ],
             [
              0.1111111111111111,
              "#46039f"
             ],
             [
              0.2222222222222222,
              "#7201a8"
             ],
             [
              0.3333333333333333,
              "#9c179e"
             ],
             [
              0.4444444444444444,
              "#bd3786"
             ],
             [
              0.5555555555555556,
              "#d8576b"
             ],
             [
              0.6666666666666666,
              "#ed7953"
             ],
             [
              0.7777777777777778,
              "#fb9f3a"
             ],
             [
              0.8888888888888888,
              "#fdca26"
             ],
             [
              1.0,
              "#f0f921"
             ]
            ]
           }
          ],
          "heatmap": [
           {
            "type": "heatmap",
            "colorbar": {
             "outlinewidth": 0,
             "ticks": ""
            },
            "colorscale": [
             [
              0.0,
              "#0d0887"
             ],
             [
              0.1111111111111111,
              "#46039f"
             ],
             [
              0.2222222222222222,
              "#7201a8"
             ],
             [
              0.3333333333333333,
              "#9c179e"
             ],
             [
              0.4444444444444444,
              "#bd3786"
             ],
             [
              0.5555555555555556,
              "#d8576b"
             ],
             [
              0.6666666666666666,
              "#ed7953"
             ],
             [
              0.7777777777777778,
              "#fb9f3a"
             ],
             [
              0.8888888888888888,
              "#fdca26"
             ],
             [
              1.0,
              "#f0f921"
             ]
            ]
           }
          ],
          "heatmapgl": [
           {
            "type": "heatmapgl",
            "colorbar": {
             "outlinewidth": 0,
             "ticks": ""
            },
            "colorscale": [
             [
              0.0,
              "#0d0887"
             ],
             [
              0.1111111111111111,
              "#46039f"
             ],
             [
              0.2222222222222222,
              "#7201a8"
             ],
             [
              0.3333333333333333,
              "#9c179e"
             ],
             [
              0.4444444444444444,
              "#bd3786"
             ],
             [
              0.5555555555555556,
              "#d8576b"
             ],
             [
              0.6666666666666666,
              "#ed7953"
             ],
             [
              0.7777777777777778,
              "#fb9f3a"
             ],
             [
              0.8888888888888888,
              "#fdca26"
             ],
             [
              1.0,
              "#f0f921"
             ]
            ]
           }
          ],
          "contourcarpet": [
           {
            "type": "contourcarpet",
            "colorbar": {
             "outlinewidth": 0,
             "ticks": ""
            }
           }
          ],
          "contour": [
           {
            "type": "contour",
            "colorbar": {
             "outlinewidth": 0,
             "ticks": ""
            },
            "colorscale": [
             [
              0.0,
              "#0d0887"
             ],
             [
              0.1111111111111111,
              "#46039f"
             ],
             [
              0.2222222222222222,
              "#7201a8"
             ],
             [
              0.3333333333333333,
              "#9c179e"
             ],
             [
              0.4444444444444444,
              "#bd3786"
             ],
             [
              0.5555555555555556,
              "#d8576b"
             ],
             [
              0.6666666666666666,
              "#ed7953"
             ],
             [
              0.7777777777777778,
              "#fb9f3a"
             ],
             [
              0.8888888888888888,
              "#fdca26"
             ],
             [
              1.0,
              "#f0f921"
             ]
            ]
           }
          ],
          "surface": [
           {
            "type": "surface",
            "colorbar": {
             "outlinewidth": 0,
             "ticks": ""
            },
            "colorscale": [
             [
              0.0,
              "#0d0887"
             ],
             [
              0.1111111111111111,
              "#46039f"
             ],
             [
              0.2222222222222222,
              "#7201a8"
             ],
             [
              0.3333333333333333,
              "#9c179e"
             ],
             [
              0.4444444444444444,
              "#bd3786"
             ],
             [
              0.5555555555555556,
              "#d8576b"
             ],
             [
              0.6666666666666666,
              "#ed7953"
             ],
             [
              0.7777777777777778,
              "#fb9f3a"
             ],
             [
              0.8888888888888888,
              "#fdca26"
             ],
             [
              1.0,
              "#f0f921"
             ]
            ]
           }
          ],
          "mesh3d": [
           {
            "type": "mesh3d",
            "colorbar": {
             "outlinewidth": 0,
             "ticks": ""
            }
           }
          ],
          "scatter": [
           {
            "marker": {
             "line": {
              "color": "#283442"
             }
            },
            "type": "scatter"
           }
          ],
          "parcoords": [
           {
            "type": "parcoords",
            "line": {
             "colorbar": {
              "outlinewidth": 0,
              "ticks": ""
             }
            }
           }
          ],
          "scatterpolargl": [
           {
            "type": "scatterpolargl",
            "marker": {
             "colorbar": {
              "outlinewidth": 0,
              "ticks": ""
             }
            }
           }
          ],
          "bar": [
           {
            "error_x": {
             "color": "#f2f5fa"
            },
            "error_y": {
             "color": "#f2f5fa"
            },
            "marker": {
             "line": {
              "color": "rgb(17,17,17)",
              "width": 0.5
             },
             "pattern": {
              "fillmode": "overlay",
              "size": 10,
              "solidity": 0.2
             }
            },
            "type": "bar"
           }
          ],
          "scattergeo": [
           {
            "type": "scattergeo",
            "marker": {
             "colorbar": {
              "outlinewidth": 0,
              "ticks": ""
             }
            }
           }
          ],
          "scatterpolar": [
           {
            "type": "scatterpolar",
            "marker": {
             "colorbar": {
              "outlinewidth": 0,
              "ticks": ""
             }
            }
           }
          ],
          "histogram": [
           {
            "marker": {
             "pattern": {
              "fillmode": "overlay",
              "size": 10,
              "solidity": 0.2
             }
            },
            "type": "histogram"
           }
          ],
          "scattergl": [
           {
            "marker": {
             "line": {
              "color": "#283442"
             }
            },
            "type": "scattergl"
           }
          ],
          "scatter3d": [
           {
            "type": "scatter3d",
            "line": {
             "colorbar": {
              "outlinewidth": 0,
              "ticks": ""
             }
            },
            "marker": {
             "colorbar": {
              "outlinewidth": 0,
              "ticks": ""
             }
            }
           }
          ],
          "scattermapbox": [
           {
            "type": "scattermapbox",
            "marker": {
             "colorbar": {
              "outlinewidth": 0,
              "ticks": ""
             }
            }
           }
          ],
          "scatterternary": [
           {
            "type": "scatterternary",
            "marker": {
             "colorbar": {
              "outlinewidth": 0,
              "ticks": ""
             }
            }
           }
          ],
          "scattercarpet": [
           {
            "type": "scattercarpet",
            "marker": {
             "colorbar": {
              "outlinewidth": 0,
              "ticks": ""
             }
            }
           }
          ],
          "carpet": [
           {
            "aaxis": {
             "endlinecolor": "#A2B1C6",
             "gridcolor": "#506784",
             "linecolor": "#506784",
             "minorgridcolor": "#506784",
             "startlinecolor": "#A2B1C6"
            },
            "baxis": {
             "endlinecolor": "#A2B1C6",
             "gridcolor": "#506784",
             "linecolor": "#506784",
             "minorgridcolor": "#506784",
             "startlinecolor": "#A2B1C6"
            },
            "type": "carpet"
           }
          ],
          "table": [
           {
            "cells": {
             "fill": {
              "color": "#506784"
             },
             "line": {
              "color": "rgb(17,17,17)"
             }
            },
            "header": {
             "fill": {
              "color": "#2a3f5f"
             },
             "line": {
              "color": "rgb(17,17,17)"
             }
            },
            "type": "table"
           }
          ],
          "barpolar": [
           {
            "marker": {
             "line": {
              "color": "rgb(17,17,17)",
              "width": 0.5
             },
             "pattern": {
              "fillmode": "overlay",
              "size": 10,
              "solidity": 0.2
             }
            },
            "type": "barpolar"
           }
          ],
          "pie": [
           {
            "automargin": true,
            "type": "pie"
           }
          ]
         },
         "layout": {
          "autotypenumbers": "strict",
          "colorway": [
           "#636efa",
           "#EF553B",
           "#00cc96",
           "#ab63fa",
           "#FFA15A",
           "#19d3f3",
           "#FF6692",
           "#B6E880",
           "#FF97FF",
           "#FECB52"
          ],
          "font": {
           "color": "#f2f5fa"
          },
          "hovermode": "closest",
          "hoverlabel": {
           "align": "left"
          },
          "paper_bgcolor": "rgb(17,17,17)",
          "plot_bgcolor": "rgb(17,17,17)",
          "polar": {
           "bgcolor": "rgb(17,17,17)",
           "angularaxis": {
            "gridcolor": "#506784",
            "linecolor": "#506784",
            "ticks": ""
           },
           "radialaxis": {
            "gridcolor": "#506784",
            "linecolor": "#506784",
            "ticks": ""
           }
          },
          "ternary": {
           "bgcolor": "rgb(17,17,17)",
           "aaxis": {
            "gridcolor": "#506784",
            "linecolor": "#506784",
            "ticks": ""
           },
           "baxis": {
            "gridcolor": "#506784",
            "linecolor": "#506784",
            "ticks": ""
           },
           "caxis": {
            "gridcolor": "#506784",
            "linecolor": "#506784",
            "ticks": ""
           }
          },
          "coloraxis": {
           "colorbar": {
            "outlinewidth": 0,
            "ticks": ""
           }
          },
          "colorscale": {
           "sequential": [
            [
             0.0,
             "#0d0887"
            ],
            [
             0.1111111111111111,
             "#46039f"
            ],
            [
             0.2222222222222222,
             "#7201a8"
            ],
            [
             0.3333333333333333,
             "#9c179e"
            ],
            [
             0.4444444444444444,
             "#bd3786"
            ],
            [
             0.5555555555555556,
             "#d8576b"
            ],
            [
             0.6666666666666666,
             "#ed7953"
            ],
            [
             0.7777777777777778,
             "#fb9f3a"
            ],
            [
             0.8888888888888888,
             "#fdca26"
            ],
            [
             1.0,
             "#f0f921"
            ]
           ],
           "sequentialminus": [
            [
             0.0,
             "#0d0887"
            ],
            [
             0.1111111111111111,
             "#46039f"
            ],
            [
             0.2222222222222222,
             "#7201a8"
            ],
            [
             0.3333333333333333,
             "#9c179e"
            ],
            [
             0.4444444444444444,
             "#bd3786"
            ],
            [
             0.5555555555555556,
             "#d8576b"
            ],
            [
             0.6666666666666666,
             "#ed7953"
            ],
            [
             0.7777777777777778,
             "#fb9f3a"
            ],
            [
             0.8888888888888888,
             "#fdca26"
            ],
            [
             1.0,
             "#f0f921"
            ]
           ],
           "diverging": [
            [
             0,
             "#8e0152"
            ],
            [
             0.1,
             "#c51b7d"
            ],
            [
             0.2,
             "#de77ae"
            ],
            [
             0.3,
             "#f1b6da"
            ],
            [
             0.4,
             "#fde0ef"
            ],
            [
             0.5,
             "#f7f7f7"
            ],
            [
             0.6,
             "#e6f5d0"
            ],
            [
             0.7,
             "#b8e186"
            ],
            [
             0.8,
             "#7fbc41"
            ],
            [
             0.9,
             "#4d9221"
            ],
            [
             1,
             "#276419"
            ]
           ]
          },
          "xaxis": {
           "gridcolor": "#283442",
           "linecolor": "#506784",
           "ticks": "",
           "title": {
            "standoff": 15
           },
           "zerolinecolor": "#283442",
           "automargin": true,
           "zerolinewidth": 2
          },
          "yaxis": {
           "gridcolor": "#283442",
           "linecolor": "#506784",
           "ticks": "",
           "title": {
            "standoff": 15
           },
           "zerolinecolor": "#283442",
           "automargin": true,
           "zerolinewidth": 2
          },
          "scene": {
           "xaxis": {
            "backgroundcolor": "rgb(17,17,17)",
            "gridcolor": "#506784",
            "linecolor": "#506784",
            "showbackground": true,
            "ticks": "",
            "zerolinecolor": "#C8D4E3",
            "gridwidth": 2
           },
           "yaxis": {
            "backgroundcolor": "rgb(17,17,17)",
            "gridcolor": "#506784",
            "linecolor": "#506784",
            "showbackground": true,
            "ticks": "",
            "zerolinecolor": "#C8D4E3",
            "gridwidth": 2
           },
           "zaxis": {
            "backgroundcolor": "rgb(17,17,17)",
            "gridcolor": "#506784",
            "linecolor": "#506784",
            "showbackground": true,
            "ticks": "",
            "zerolinecolor": "#C8D4E3",
            "gridwidth": 2
           }
          },
          "shapedefaults": {
           "line": {
            "color": "#f2f5fa"
           }
          },
          "annotationdefaults": {
           "arrowcolor": "#f2f5fa",
           "arrowhead": 0,
           "arrowwidth": 1
          },
          "geo": {
           "bgcolor": "rgb(17,17,17)",
           "landcolor": "rgb(17,17,17)",
           "subunitcolor": "#506784",
           "showland": true,
           "showlakes": true,
           "lakecolor": "rgb(17,17,17)"
          },
          "title": {
           "x": 0.05
          },
          "updatemenudefaults": {
           "bgcolor": "#506784",
           "borderwidth": 0
          },
          "sliderdefaults": {
           "bgcolor": "#C8D4E3",
           "borderwidth": 1,
           "bordercolor": "rgb(17,17,17)",
           "tickwidth": 0
          },
          "mapbox": {
           "style": "dark"
          }
         }
        },
        "xaxis": {
         "anchor": "y",
         "domain": [
          0.0,
          1.0
         ],
         "title": {
          "text": "Track"
         },
         "categoryorder": "total descending"
        },
        "yaxis": {
         "anchor": "x",
         "domain": [
          0.0,
          1.0
         ],
         "title": {
          "text": "Power"
         }
        },
        "coloraxis": {
         "colorbar": {
          "title": {
           "text": "Power"
          }
         },
         "colorscale": [
          [
           0.0,
           "rgb(255,247,236)"
          ],
          [
           0.125,
           "rgb(254,232,200)"
          ],
          [
           0.25,
           "rgb(253,212,158)"
          ],
          [
           0.375,
           "rgb(253,187,132)"
          ],
          [
           0.5,
           "rgb(252,141,89)"
          ],
          [
           0.625,
           "rgb(239,101,72)"
          ],
          [
           0.75,
           "rgb(215,48,31)"
          ],
          [
           0.875,
           "rgb(179,0,0)"
          ],
          [
           1.0,
           "rgb(127,0,0)"
          ]
         ],
         "cmin": 0.027519778820827262,
         "cmax": 96.0410095418458,
         "showscale": false
        },
        "legend": {
         "tracegroupgap": 0
        },
        "title": {
         "text": "Streams Power Ranking (Top 20)"
        },
        "barmode": "relative",
        "height": 540,
        "width": 960
       },
       "config": {
        "plotlyServerURL": "https://plot.ly"
       }
      },
      "text/html": [
       "<div>                            <div id=\"b7832b2c-8655-4061-a122-214fd8f04ba5\" class=\"plotly-graph-div\" style=\"height:540px; width:960px;\"></div>            <script type=\"text/javascript\">                require([\"plotly\"], function(Plotly) {                    window.PLOTLYENV=window.PLOTLYENV || {};                                    if (document.getElementById(\"b7832b2c-8655-4061-a122-214fd8f04ba5\")) {                    Plotly.newPlot(                        \"b7832b2c-8655-4061-a122-214fd8f04ba5\",                        [{\"alignmentgroup\":\"True\",\"hovertemplate\":\"Track=%{x}\\u003cbr\\u003ePower=%{marker.color}\\u003cextra\\u003e\\u003c\\u002fextra\\u003e\",\"legendgroup\":\"\",\"marker\":{\"color\":[96.0410095418458,75.05612525738903,50.474021091304806,47.6528161682191,41.74402202206626,40.195529611797944,38.6793530984566,31.429701809894443,25.3240291772864,24.61197686634365,23.345685841191933,23.251760169180415,22.687470416079634,19.62445066480311,16.166779226749217,15.152022726975387,14.364098782362113,13.546228345681168,12.027218240707217,10.918599627319821],\"coloraxis\":\"coloraxis\",\"pattern\":{\"shape\":\"\"}},\"name\":\"\",\"offsetgroup\":\"\",\"orientation\":\"v\",\"showlegend\":false,\"textposition\":\"auto\",\"x\":[\"Shiver\",\"I Only Smoke When I Drink\",\"Go Back (feat. Julia Church)\",\"Neverender\",\"Wherever You Are\",\"Carry You\",\"Open Sesame (Abracadabra) [feat. Leila K]\",\"Eye Of The Untold Her\",\"Wildfire\",\"Told You So\",\"Empty\",\"Gravity\",\"Mas Que Nada\",\"Delete Our Love\",\"Breakaway\",\"Evil Twin\",\"Lost My Mind\",\"This Moment\",\"Biochemical\",\"Keep Pushin' (Beast)\"],\"xaxis\":\"x\",\"y\":[96.0410095418458,75.05612525738903,50.474021091304806,47.6528161682191,41.74402202206626,40.195529611797944,38.6793530984566,31.429701809894443,25.3240291772864,24.61197686634365,23.345685841191933,23.251760169180415,22.687470416079634,19.62445066480311,16.166779226749217,15.152022726975387,14.364098782362113,13.546228345681168,12.027218240707217,10.918599627319821],\"yaxis\":\"y\",\"type\":\"bar\"}],                        {\"template\":{\"data\":{\"histogram2dcontour\":[{\"type\":\"histogram2dcontour\",\"colorbar\":{\"outlinewidth\":0,\"ticks\":\"\"},\"colorscale\":[[0.0,\"#0d0887\"],[0.1111111111111111,\"#46039f\"],[0.2222222222222222,\"#7201a8\"],[0.3333333333333333,\"#9c179e\"],[0.4444444444444444,\"#bd3786\"],[0.5555555555555556,\"#d8576b\"],[0.6666666666666666,\"#ed7953\"],[0.7777777777777778,\"#fb9f3a\"],[0.8888888888888888,\"#fdca26\"],[1.0,\"#f0f921\"]]}],\"choropleth\":[{\"type\":\"choropleth\",\"colorbar\":{\"outlinewidth\":0,\"ticks\":\"\"}}],\"histogram2d\":[{\"type\":\"histogram2d\",\"colorbar\":{\"outlinewidth\":0,\"ticks\":\"\"},\"colorscale\":[[0.0,\"#0d0887\"],[0.1111111111111111,\"#46039f\"],[0.2222222222222222,\"#7201a8\"],[0.3333333333333333,\"#9c179e\"],[0.4444444444444444,\"#bd3786\"],[0.5555555555555556,\"#d8576b\"],[0.6666666666666666,\"#ed7953\"],[0.7777777777777778,\"#fb9f3a\"],[0.8888888888888888,\"#fdca26\"],[1.0,\"#f0f921\"]]}],\"heatmap\":[{\"type\":\"heatmap\",\"colorbar\":{\"outlinewidth\":0,\"ticks\":\"\"},\"colorscale\":[[0.0,\"#0d0887\"],[0.1111111111111111,\"#46039f\"],[0.2222222222222222,\"#7201a8\"],[0.3333333333333333,\"#9c179e\"],[0.4444444444444444,\"#bd3786\"],[0.5555555555555556,\"#d8576b\"],[0.6666666666666666,\"#ed7953\"],[0.7777777777777778,\"#fb9f3a\"],[0.8888888888888888,\"#fdca26\"],[1.0,\"#f0f921\"]]}],\"heatmapgl\":[{\"type\":\"heatmapgl\",\"colorbar\":{\"outlinewidth\":0,\"ticks\":\"\"},\"colorscale\":[[0.0,\"#0d0887\"],[0.1111111111111111,\"#46039f\"],[0.2222222222222222,\"#7201a8\"],[0.3333333333333333,\"#9c179e\"],[0.4444444444444444,\"#bd3786\"],[0.5555555555555556,\"#d8576b\"],[0.6666666666666666,\"#ed7953\"],[0.7777777777777778,\"#fb9f3a\"],[0.8888888888888888,\"#fdca26\"],[1.0,\"#f0f921\"]]}],\"contourcarpet\":[{\"type\":\"contourcarpet\",\"colorbar\":{\"outlinewidth\":0,\"ticks\":\"\"}}],\"contour\":[{\"type\":\"contour\",\"colorbar\":{\"outlinewidth\":0,\"ticks\":\"\"},\"colorscale\":[[0.0,\"#0d0887\"],[0.1111111111111111,\"#46039f\"],[0.2222222222222222,\"#7201a8\"],[0.3333333333333333,\"#9c179e\"],[0.4444444444444444,\"#bd3786\"],[0.5555555555555556,\"#d8576b\"],[0.6666666666666666,\"#ed7953\"],[0.7777777777777778,\"#fb9f3a\"],[0.8888888888888888,\"#fdca26\"],[1.0,\"#f0f921\"]]}],\"surface\":[{\"type\":\"surface\",\"colorbar\":{\"outlinewidth\":0,\"ticks\":\"\"},\"colorscale\":[[0.0,\"#0d0887\"],[0.1111111111111111,\"#46039f\"],[0.2222222222222222,\"#7201a8\"],[0.3333333333333333,\"#9c179e\"],[0.4444444444444444,\"#bd3786\"],[0.5555555555555556,\"#d8576b\"],[0.6666666666666666,\"#ed7953\"],[0.7777777777777778,\"#fb9f3a\"],[0.8888888888888888,\"#fdca26\"],[1.0,\"#f0f921\"]]}],\"mesh3d\":[{\"type\":\"mesh3d\",\"colorbar\":{\"outlinewidth\":0,\"ticks\":\"\"}}],\"scatter\":[{\"marker\":{\"line\":{\"color\":\"#283442\"}},\"type\":\"scatter\"}],\"parcoords\":[{\"type\":\"parcoords\",\"line\":{\"colorbar\":{\"outlinewidth\":0,\"ticks\":\"\"}}}],\"scatterpolargl\":[{\"type\":\"scatterpolargl\",\"marker\":{\"colorbar\":{\"outlinewidth\":0,\"ticks\":\"\"}}}],\"bar\":[{\"error_x\":{\"color\":\"#f2f5fa\"},\"error_y\":{\"color\":\"#f2f5fa\"},\"marker\":{\"line\":{\"color\":\"rgb(17,17,17)\",\"width\":0.5},\"pattern\":{\"fillmode\":\"overlay\",\"size\":10,\"solidity\":0.2}},\"type\":\"bar\"}],\"scattergeo\":[{\"type\":\"scattergeo\",\"marker\":{\"colorbar\":{\"outlinewidth\":0,\"ticks\":\"\"}}}],\"scatterpolar\":[{\"type\":\"scatterpolar\",\"marker\":{\"colorbar\":{\"outlinewidth\":0,\"ticks\":\"\"}}}],\"histogram\":[{\"marker\":{\"pattern\":{\"fillmode\":\"overlay\",\"size\":10,\"solidity\":0.2}},\"type\":\"histogram\"}],\"scattergl\":[{\"marker\":{\"line\":{\"color\":\"#283442\"}},\"type\":\"scattergl\"}],\"scatter3d\":[{\"type\":\"scatter3d\",\"line\":{\"colorbar\":{\"outlinewidth\":0,\"ticks\":\"\"}},\"marker\":{\"colorbar\":{\"outlinewidth\":0,\"ticks\":\"\"}}}],\"scattermapbox\":[{\"type\":\"scattermapbox\",\"marker\":{\"colorbar\":{\"outlinewidth\":0,\"ticks\":\"\"}}}],\"scatterternary\":[{\"type\":\"scatterternary\",\"marker\":{\"colorbar\":{\"outlinewidth\":0,\"ticks\":\"\"}}}],\"scattercarpet\":[{\"type\":\"scattercarpet\",\"marker\":{\"colorbar\":{\"outlinewidth\":0,\"ticks\":\"\"}}}],\"carpet\":[{\"aaxis\":{\"endlinecolor\":\"#A2B1C6\",\"gridcolor\":\"#506784\",\"linecolor\":\"#506784\",\"minorgridcolor\":\"#506784\",\"startlinecolor\":\"#A2B1C6\"},\"baxis\":{\"endlinecolor\":\"#A2B1C6\",\"gridcolor\":\"#506784\",\"linecolor\":\"#506784\",\"minorgridcolor\":\"#506784\",\"startlinecolor\":\"#A2B1C6\"},\"type\":\"carpet\"}],\"table\":[{\"cells\":{\"fill\":{\"color\":\"#506784\"},\"line\":{\"color\":\"rgb(17,17,17)\"}},\"header\":{\"fill\":{\"color\":\"#2a3f5f\"},\"line\":{\"color\":\"rgb(17,17,17)\"}},\"type\":\"table\"}],\"barpolar\":[{\"marker\":{\"line\":{\"color\":\"rgb(17,17,17)\",\"width\":0.5},\"pattern\":{\"fillmode\":\"overlay\",\"size\":10,\"solidity\":0.2}},\"type\":\"barpolar\"}],\"pie\":[{\"automargin\":true,\"type\":\"pie\"}]},\"layout\":{\"autotypenumbers\":\"strict\",\"colorway\":[\"#636efa\",\"#EF553B\",\"#00cc96\",\"#ab63fa\",\"#FFA15A\",\"#19d3f3\",\"#FF6692\",\"#B6E880\",\"#FF97FF\",\"#FECB52\"],\"font\":{\"color\":\"#f2f5fa\"},\"hovermode\":\"closest\",\"hoverlabel\":{\"align\":\"left\"},\"paper_bgcolor\":\"rgb(17,17,17)\",\"plot_bgcolor\":\"rgb(17,17,17)\",\"polar\":{\"bgcolor\":\"rgb(17,17,17)\",\"angularaxis\":{\"gridcolor\":\"#506784\",\"linecolor\":\"#506784\",\"ticks\":\"\"},\"radialaxis\":{\"gridcolor\":\"#506784\",\"linecolor\":\"#506784\",\"ticks\":\"\"}},\"ternary\":{\"bgcolor\":\"rgb(17,17,17)\",\"aaxis\":{\"gridcolor\":\"#506784\",\"linecolor\":\"#506784\",\"ticks\":\"\"},\"baxis\":{\"gridcolor\":\"#506784\",\"linecolor\":\"#506784\",\"ticks\":\"\"},\"caxis\":{\"gridcolor\":\"#506784\",\"linecolor\":\"#506784\",\"ticks\":\"\"}},\"coloraxis\":{\"colorbar\":{\"outlinewidth\":0,\"ticks\":\"\"}},\"colorscale\":{\"sequential\":[[0.0,\"#0d0887\"],[0.1111111111111111,\"#46039f\"],[0.2222222222222222,\"#7201a8\"],[0.3333333333333333,\"#9c179e\"],[0.4444444444444444,\"#bd3786\"],[0.5555555555555556,\"#d8576b\"],[0.6666666666666666,\"#ed7953\"],[0.7777777777777778,\"#fb9f3a\"],[0.8888888888888888,\"#fdca26\"],[1.0,\"#f0f921\"]],\"sequentialminus\":[[0.0,\"#0d0887\"],[0.1111111111111111,\"#46039f\"],[0.2222222222222222,\"#7201a8\"],[0.3333333333333333,\"#9c179e\"],[0.4444444444444444,\"#bd3786\"],[0.5555555555555556,\"#d8576b\"],[0.6666666666666666,\"#ed7953\"],[0.7777777777777778,\"#fb9f3a\"],[0.8888888888888888,\"#fdca26\"],[1.0,\"#f0f921\"]],\"diverging\":[[0,\"#8e0152\"],[0.1,\"#c51b7d\"],[0.2,\"#de77ae\"],[0.3,\"#f1b6da\"],[0.4,\"#fde0ef\"],[0.5,\"#f7f7f7\"],[0.6,\"#e6f5d0\"],[0.7,\"#b8e186\"],[0.8,\"#7fbc41\"],[0.9,\"#4d9221\"],[1,\"#276419\"]]},\"xaxis\":{\"gridcolor\":\"#283442\",\"linecolor\":\"#506784\",\"ticks\":\"\",\"title\":{\"standoff\":15},\"zerolinecolor\":\"#283442\",\"automargin\":true,\"zerolinewidth\":2},\"yaxis\":{\"gridcolor\":\"#283442\",\"linecolor\":\"#506784\",\"ticks\":\"\",\"title\":{\"standoff\":15},\"zerolinecolor\":\"#283442\",\"automargin\":true,\"zerolinewidth\":2},\"scene\":{\"xaxis\":{\"backgroundcolor\":\"rgb(17,17,17)\",\"gridcolor\":\"#506784\",\"linecolor\":\"#506784\",\"showbackground\":true,\"ticks\":\"\",\"zerolinecolor\":\"#C8D4E3\",\"gridwidth\":2},\"yaxis\":{\"backgroundcolor\":\"rgb(17,17,17)\",\"gridcolor\":\"#506784\",\"linecolor\":\"#506784\",\"showbackground\":true,\"ticks\":\"\",\"zerolinecolor\":\"#C8D4E3\",\"gridwidth\":2},\"zaxis\":{\"backgroundcolor\":\"rgb(17,17,17)\",\"gridcolor\":\"#506784\",\"linecolor\":\"#506784\",\"showbackground\":true,\"ticks\":\"\",\"zerolinecolor\":\"#C8D4E3\",\"gridwidth\":2}},\"shapedefaults\":{\"line\":{\"color\":\"#f2f5fa\"}},\"annotationdefaults\":{\"arrowcolor\":\"#f2f5fa\",\"arrowhead\":0,\"arrowwidth\":1},\"geo\":{\"bgcolor\":\"rgb(17,17,17)\",\"landcolor\":\"rgb(17,17,17)\",\"subunitcolor\":\"#506784\",\"showland\":true,\"showlakes\":true,\"lakecolor\":\"rgb(17,17,17)\"},\"title\":{\"x\":0.05},\"updatemenudefaults\":{\"bgcolor\":\"#506784\",\"borderwidth\":0},\"sliderdefaults\":{\"bgcolor\":\"#C8D4E3\",\"borderwidth\":1,\"bordercolor\":\"rgb(17,17,17)\",\"tickwidth\":0},\"mapbox\":{\"style\":\"dark\"}}},\"xaxis\":{\"anchor\":\"y\",\"domain\":[0.0,1.0],\"title\":{\"text\":\"Track\"},\"categoryorder\":\"total descending\"},\"yaxis\":{\"anchor\":\"x\",\"domain\":[0.0,1.0],\"title\":{\"text\":\"Power\"}},\"coloraxis\":{\"colorbar\":{\"title\":{\"text\":\"Power\"}},\"colorscale\":[[0.0,\"rgb(255,247,236)\"],[0.125,\"rgb(254,232,200)\"],[0.25,\"rgb(253,212,158)\"],[0.375,\"rgb(253,187,132)\"],[0.5,\"rgb(252,141,89)\"],[0.625,\"rgb(239,101,72)\"],[0.75,\"rgb(215,48,31)\"],[0.875,\"rgb(179,0,0)\"],[1.0,\"rgb(127,0,0)\"]],\"cmin\":0.027519778820827262,\"cmax\":96.0410095418458,\"showscale\":false},\"legend\":{\"tracegroupgap\":0},\"title\":{\"text\":\"Streams Power Ranking (Top 20)\"},\"barmode\":\"relative\",\"height\":540,\"width\":960},                        {\"responsive\": true}                    ).then(function(){\n",
       "                            \n",
       "var gd = document.getElementById('b7832b2c-8655-4061-a122-214fd8f04ba5');\n",
       "var x = new MutationObserver(function (mutations, observer) {{\n",
       "        var display = window.getComputedStyle(gd).display;\n",
       "        if (!display || display === 'none') {{\n",
       "            console.log([gd, 'removed!']);\n",
       "            Plotly.purge(gd);\n",
       "            observer.disconnect();\n",
       "        }}\n",
       "}});\n",
       "\n",
       "// Listen for the removal of the full notebook cells\n",
       "var notebookContainer = gd.closest('#notebook-container');\n",
       "if (notebookContainer) {{\n",
       "    x.observe(notebookContainer, {childList: true});\n",
       "}}\n",
       "\n",
       "// Listen for the clearing of the current output cell\n",
       "var outputEl = gd.closest('.output');\n",
       "if (outputEl) {{\n",
       "    x.observe(outputEl, {childList: true});\n",
       "}}\n",
       "\n",
       "                        })                };                });            </script>        </div>"
      ]
     },
     "metadata": {},
     "output_type": "display_data"
    }
   ],
   "execution_count": 337
  }
 ],
 "metadata": {
  "kernelspec": {
   "display_name": "Python 3 (ipykernel)",
   "language": "python",
   "name": "python3"
  },
  "language_info": {
   "codemirror_mode": {
    "name": "ipython",
    "version": 3
   },
   "file_extension": ".py",
   "mimetype": "text/x-python",
   "name": "python",
   "nbconvert_exporter": "python",
   "pygments_lexer": "ipython3",
   "version": "3.11.10"
  }
 },
 "nbformat": 4,
 "nbformat_minor": 5
}
