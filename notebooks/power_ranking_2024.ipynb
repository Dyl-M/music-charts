{
 "cells": [
  {
   "cell_type": "markdown",
   "id": "7aaa225e4bcf3e36",
   "metadata": {
    "jp-MarkdownHeadingCollapsed": true
   },
   "source": [
    "#4on4 : 2024 Power Ranking\n",
    "---------------------------"
   ]
  },
  {
   "cell_type": "markdown",
   "id": "e1094bc035014d49",
   "metadata": {},
   "source": [
    "## Dependencies"
   ]
  },
  {
   "cell_type": "code",
   "id": "e57a10e7bdf0d679",
   "metadata": {},
   "source": [
    "import json\n",
    "import pandas as pd\n",
    "import plotly.express as px\n",
    "\n",
    "from sklearn.preprocessing import MinMaxScaler"
   ],
   "outputs": [],
   "execution_count": null
  },
  {
   "cell_type": "markdown",
   "id": "c9f21e81a783c0de",
   "metadata": {},
   "source": [
    "## Functions"
   ]
  },
  {
   "metadata": {},
   "cell_type": "code",
   "source": [
    "def load_data(file_path: str, category: str = None) -> pd.DataFrame:\n",
    "    \"\"\"Load data as pandas Dataframe, with basic information and selected statistics if needed\n",
    "    :param file_path: path to data as JSON file to parse\n",
    "    :param category: category of stats to select\n",
    "    :return: pandas Dataframe with all information requested.\n",
    "    \"\"\"\n",
    "    with open(file_path, 'r', encoding='utf-8') as j_file:\n",
    "        json_data = json.load(j_file)\n",
    "\n",
    "    with open('../data/stats_category.json', 'r', encoding='utf-8') as c_file:\n",
    "        stats_categories = json.load(c_file)\n",
    "\n",
    "    general_data_keys = ('artist_list', 'genre', 'label', 'title')\n",
    "    renaming = {'s_id': 'songstats_id', 's_title': 'songstats_title'}\n",
    "\n",
    "    ids = pd.DataFrame([{key: value for key, value in field['songstats_identifiers'].items()} for field in\n",
    "                        json_data]).rename(columns=renaming)\n",
    "\n",
    "    general_data = pd.DataFrame(\n",
    "        [{key: value for key, value in field.items() if key in general_data_keys} for field in json_data])\n",
    "\n",
    "    if not category:\n",
    "        return pd.concat((ids, general_data), axis=1)\n",
    "\n",
    "    stats_selected = pd.DataFrame(\n",
    "        [{key: value for key, value in field['data'].items() if key in stats_categories[category]}\n",
    "         for field in json_data]).fillna(0)\n",
    "\n",
    "    return pd.concat((ids, general_data, stats_selected), axis=1)"
   ],
   "id": "ddc6f319bc248fe4",
   "outputs": [],
   "execution_count": null
  },
  {
   "metadata": {},
   "cell_type": "code",
   "source": [
    "def plot_bar(dataframe: pd.DataFrame, x: str, y: str, title: str, x_label: str, y_label: str):\n",
    "    \"\"\"Compute a Bar Chart using Plotly express\n",
    "    :param dataframe: dataframe as input (has to be sorted)\n",
    "    :param x: x value for bar chart (labels)\n",
    "    :param y: y value for bar chart (feature)\n",
    "    :param title: title of the chart\n",
    "    :param x_label: x-axis label\n",
    "    :param y_label: y-axis label\n",
    "    :return: bar chart as plotly \"Figure\" object.\n",
    "    \"\"\"\n",
    "    if x_label is None:\n",
    "        x_label = x\n",
    "\n",
    "    if y_label is None:\n",
    "        y_label = y\n",
    "\n",
    "    fig = px.bar(data_frame=dataframe, y=y, x=x,\n",
    "                 labels={x: x_label, y: y_label},\n",
    "                 title=title, color=y,\n",
    "                 width=960, height=540, color_continuous_scale='orrd')\n",
    "\n",
    "    fig.update_layout(xaxis={'categoryorder': 'total descending'})\n",
    "    fig.update_coloraxes(showscale=False)\n",
    "    return fig"
   ],
   "id": "49210c144e6fa66b",
   "outputs": [],
   "execution_count": null
  },
  {
   "cell_type": "markdown",
   "id": "93b266adff3382b8",
   "metadata": {},
   "source": [
    "## Data Loading & Pre-treatments"
   ]
  },
  {
   "cell_type": "code",
   "id": "506bb966d1394729",
   "metadata": {},
   "source": [
    "data = load_data(file_path='../data/data_2024.json')\n",
    "general_field = data.columns.tolist()\n",
    "data"
   ],
   "outputs": [],
   "execution_count": null
  },
  {
   "cell_type": "code",
   "id": "9f578df92f0f9227",
   "metadata": {},
   "source": [
    "# Stats by artist\n",
    "data_art = data.explode('artist_list').reset_index(drop=True)\n",
    "data_art.rename({'artist_list': 'artist'}, axis=1, inplace=True)"
   ],
   "outputs": [],
   "execution_count": null
  },
  {
   "metadata": {},
   "cell_type": "code",
   "source": [
    "# Stats by labels\n",
    "data_lab = data.explode('label').reset_index(drop=True)\n",
    "data_lab = data_lab.loc[data_lab.label != '[no labels]']"
   ],
   "id": "63d37020a509ff65",
   "outputs": [],
   "execution_count": null
  },
  {
   "cell_type": "code",
   "id": "82be3e69b61c78c5",
   "metadata": {},
   "source": [
    "# Stats by genre\n",
    "data_gen = data.explode('genre').reset_index(drop=True)"
   ],
   "outputs": [],
   "execution_count": null
  },
  {
   "cell_type": "markdown",
   "id": "334551b0cc7be83b",
   "metadata": {},
   "source": [
    "## Basic statistics\n",
    "\n",
    "### Artists of the year by number of release\n"
   ]
  },
  {
   "cell_type": "code",
   "id": "63776666128b45f",
   "metadata": {},
   "source": [
    "data_art_count = (data_art[['artist', 'title']]\n",
    "                  .groupby('artist', as_index=False)\n",
    "                  .count()\n",
    "                  .rename({'title': 'n_release'}, axis=1)\n",
    "                  .sort_values('n_release', ascending=False)\n",
    "                  .reset_index(drop=True))\n",
    "\n",
    "data_art_count.describe()"
   ],
   "outputs": [],
   "execution_count": null
  },
  {
   "cell_type": "code",
   "id": "d50b2a295119b32a",
   "metadata": {},
   "source": [
    "bar_artists_release = plot_bar(data_art_count.head(10), 'artist', 'n_release',\n",
    "                               'Number of release by Artist (Top 10)<br><sup>Remixes included</sup>',\n",
    "                               'Artists', 'Number of releases')\n",
    "\n",
    "bar_artists_release.show()"
   ],
   "outputs": [],
   "execution_count": null
  },
  {
   "cell_type": "markdown",
   "id": "b26a1509d2088f5a",
   "metadata": {},
   "source": [
    "\n",
    "### Labels of the year by number of release"
   ]
  },
  {
   "metadata": {},
   "cell_type": "code",
   "source": [
    "data_lab_count = (data_lab[['label', 'title']]\n",
    "                  .groupby('label', as_index=False)\n",
    "                  .count()\n",
    "                  .rename({'title': 'n_release'}, axis=1)\n",
    "                  .sort_values('n_release', ascending=False)\n",
    "                  .reset_index(drop=True))\n",
    "\n",
    "data_lab_count.describe()"
   ],
   "id": "94e5f5adb2c31f7e",
   "outputs": [],
   "execution_count": null
  },
  {
   "metadata": {},
   "cell_type": "code",
   "source": [
    "bar_label_release = plot_bar(data_lab_count.head(10), 'label', 'n_release', 'Number of release by Label (Top 10)',\n",
    "                             'Labels', 'Number of releases')\n",
    "bar_label_release.show()"
   ],
   "id": "51f3fc05849b11c8",
   "outputs": [],
   "execution_count": null
  },
  {
   "cell_type": "markdown",
   "id": "cad023b39e1d6f09",
   "metadata": {},
   "source": [
    "### Genre of the year by number of release\n"
   ]
  },
  {
   "cell_type": "code",
   "id": "415dfa3bee807f4",
   "metadata": {},
   "source": [
    "data_gen_count = (data_gen[['genre', 'title']]\n",
    "                  .groupby('genre', as_index=False)\n",
    "                  .count()\n",
    "                  .rename({'title': 'n_release'}, axis=1)\n",
    "                  .sort_values('n_release', ascending=False)\n",
    "                  .reset_index(drop=True))\n",
    "\n",
    "data_gen_count.describe()"
   ],
   "outputs": [],
   "execution_count": null
  },
  {
   "cell_type": "code",
   "id": "8c03f3fbe91e8c5c",
   "metadata": {},
   "source": [
    "bar_genre_release = plot_bar(data_gen_count, 'genre', 'n_release', 'Number of release by Genre (Top 10)',\n",
    "                             'Music Genres', 'Number of releases')\n",
    "bar_genre_release.show()"
   ],
   "outputs": [],
   "execution_count": null
  },
  {
   "metadata": {},
   "cell_type": "markdown",
   "source": [
    "## Power Rankings by stats categories\n",
    "\n",
    "### Loading data"
   ],
   "id": "4eaade0bb1869d80"
  },
  {
   "metadata": {},
   "cell_type": "code",
   "source": [
    "data_pop = load_data(file_path='../data/data_2024.json', category='popularity')\n",
    "data_pop[data_pop.columns.difference(general_field)] = MinMaxScaler(feature_range=(0, 100)).fit_transform(\n",
    "    data_pop[data_pop.columns.difference(general_field)])\n",
    "\n",
    "data_pop"
   ],
   "id": "56df312d029bc6a7",
   "outputs": [],
   "execution_count": null
  },
  {
   "metadata": {},
   "cell_type": "markdown",
   "source": "### Share of value not recorded by stats",
   "id": "d1b1066d60b4b20a"
  },
  {
   "metadata": {},
   "cell_type": "code",
   "source": [
    "# \"prw\" stand for \"Power Ranking Weight\" : proportion of data available for each stat\n",
    "prw_pop = data_pop[data_pop.columns.difference(general_field)].astype(bool).sum(axis=0) / data_pop.shape[0]\n",
    "pr = data_pop[data_pop.columns.difference(general_field)].dot(prw_pop) / prw_pop.sum()\n",
    "\n",
    "pr_pop = pd.concat((data_pop, pr), axis=1)\n",
    "pr_pop.rename({0: \"PWR_POP\"}, axis=1, inplace=True)\n",
    "pr_pop"
   ],
   "id": "e985f869c74bb8ad",
   "outputs": [],
   "execution_count": null
  },
  {
   "metadata": {},
   "cell_type": "code",
   "source": [
    "bar_pr_pop = plot_bar(pr_pop.sort_values('PWR_POP', ascending=False).head(20), 'songstats_title', 'PWR_POP',\n",
    "                      'Popularity Power Ranking (Top 20)', 'Track', 'Power')\n",
    "bar_pr_pop.show()"
   ],
   "id": "d6e9d52edc47f0f4",
   "outputs": [],
   "execution_count": null
  }
 ],
 "metadata": {
  "kernelspec": {
   "display_name": "Python 3 (ipykernel)",
   "language": "python",
   "name": "python3"
  },
  "language_info": {
   "codemirror_mode": {
    "name": "ipython",
    "version": 3
   },
   "file_extension": ".py",
   "mimetype": "text/x-python",
   "name": "python",
   "nbconvert_exporter": "python",
   "pygments_lexer": "ipython3",
   "version": "3.11.10"
  }
 },
 "nbformat": 4,
 "nbformat_minor": 5
}
