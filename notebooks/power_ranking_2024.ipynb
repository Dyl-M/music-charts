{
 "cells": [
  {
   "metadata": {},
   "cell_type": "markdown",
   "source": [
    "4-ON-4 : The 2024 Power Ranking by [dyl_m](https://www.youtube.com/playlist?list=PLOMUdQFdS-XNqUpFzE89aHgwn0wrBidyG)\n",
    "----------------------------------------\n",
    "\n",
    "## Dependencies"
   ],
   "id": "7aaa225e4bcf3e36"
  },
  {
   "cell_type": "code",
   "id": "e57a10e7bdf0d679",
   "metadata": {},
   "source": [
    "import json\n",
    "import pandas as pd\n",
    "import plotly.express as px\n",
    "\n",
    "from sklearn.preprocessing import MinMaxScaler"
   ],
   "outputs": [],
   "execution_count": null
  },
  {
   "cell_type": "markdown",
   "id": "c9f21e81a783c0de",
   "metadata": {},
   "source": [
    "## Functions"
   ]
  },
  {
   "metadata": {},
   "cell_type": "code",
   "source": [
    "def load_data(file_path: str, category: str = None) -> pd.DataFrame:\n",
    "    \"\"\"Load data as pandas Dataframe, with basic information and selected statistics if needed\n",
    "    :param file_path: path to data as JSON file to parse\n",
    "    :param category: category of stats to select\n",
    "    :return: pandas Dataframe with all information requested.\n",
    "    \"\"\"\n",
    "    with open(file_path, 'r', encoding='utf-8') as j_file:\n",
    "        json_data = json.load(j_file)\n",
    "\n",
    "    with open('../data/stats_category.json', 'r', encoding='utf-8') as c_file:\n",
    "        stats_categories = json.load(c_file)\n",
    "\n",
    "    general_data_keys = ('artist_list', 'genre', 'label', 'title')\n",
    "    renaming = {'s_id': 'songstats_id', 's_title': 'songstats_title'}\n",
    "\n",
    "    ids = pd.DataFrame([{key: value for key, value in field['songstats_identifiers'].items()} for field in\n",
    "                        json_data]).rename(columns=renaming)\n",
    "\n",
    "    general_data = pd.DataFrame(\n",
    "        [{key: value for key, value in field.items() if key in general_data_keys} for field in json_data])\n",
    "\n",
    "    if not category:\n",
    "        return pd.concat((ids, general_data), axis=1)\n",
    "\n",
    "    stats_selected = pd.DataFrame(\n",
    "        [{key: value for key, value in field['data'].items() if key in stats_categories[category]}\n",
    "         for field in json_data]).fillna(0)\n",
    "\n",
    "    return pd.concat((ids, general_data, stats_selected), axis=1)"
   ],
   "id": "ddc6f319bc248fe4",
   "outputs": [],
   "execution_count": null
  },
  {
   "metadata": {},
   "cell_type": "code",
   "source": [
    "def rescale_stats(df: pd.DataFrame, other_fields: list) -> pd.DataFrame:\n",
    "    \"\"\"Rescale stats for better comparaison\n",
    "    :param df: input pandas Dataframe\n",
    "    :param other_fields: field to not rescale\n",
    "    :return: data rescaled.\n",
    "    \"\"\"\n",
    "    df[df.columns.difference(other_fields)] = MinMaxScaler(feature_range=(0, 100)).fit_transform(\n",
    "        df[df.columns.difference(other_fields)])\n",
    "\n",
    "    return df\n"
   ],
   "id": "67fbce3464eab2a1",
   "outputs": [],
   "execution_count": null
  },
  {
   "metadata": {},
   "cell_type": "code",
   "source": [
    "def compute_power(df: pd.DataFrame, other_fields: list) -> (pd.DataFrame, float):\n",
    "    \"\"\"Compute\n",
    "    :param df: input pandas Dataframe\n",
    "    :param other_fields: field to not rescale\n",
    "    :return: data with power ranking computed and category weight\n",
    "    \"\"\"\n",
    "    # \"prw\" stand for \"Power Ranking Weight\" : proportion of data available for each stat\n",
    "    prw = df[df.columns.difference(other_fields)].astype(bool).sum(axis=0) / df.shape[0]\n",
    "    pr = df[df.columns.difference(other_fields)].dot(prw) / prw.sum()\n",
    "\n",
    "    category_weight = prw.sum() / prw.shape[0]\n",
    "\n",
    "    pr_results = pd.concat((df, pr), axis=1)\n",
    "    pr_results.rename({0: \"PWR\"}, axis=1, inplace=True)\n",
    "\n",
    "    return pr_results, category_weight"
   ],
   "id": "567bde9b90b15858",
   "outputs": [],
   "execution_count": null
  },
  {
   "metadata": {},
   "cell_type": "code",
   "source": [
    "def plot_bar(dataframe: pd.DataFrame, x: str, y: str, title: str, x_label: str, y_label: str, col_range: tuple):\n",
    "    \"\"\"Compute a Bar Chart using Plotly express\n",
    "    :param dataframe: dataframe as input (has to be sorted)\n",
    "    :param x: x value for bar chart (labels)\n",
    "    :param y: y value for bar chart (feature)\n",
    "    :param title: title of the chart\n",
    "    :param x_label: x-axis label\n",
    "    :param y_label: y-axis label\n",
    "    :param col_range: color range for the chart\n",
    "    :return: bar chart as plotly \"Figure\" object.\n",
    "    \"\"\"\n",
    "    if x_label is None:\n",
    "        x_label = x\n",
    "\n",
    "    if y_label is None:\n",
    "        y_label = y\n",
    "\n",
    "    fig = px.bar(data_frame=dataframe, y=y, x=x,\n",
    "                 labels={x: x_label, y: y_label},\n",
    "                 title=title, color=y,\n",
    "                 width=960, height=540, color_continuous_scale='orrd', range_color=col_range)\n",
    "\n",
    "    fig.update_layout(xaxis={'categoryorder': 'total descending'})\n",
    "    fig.update_coloraxes(showscale=False)\n",
    "    return fig"
   ],
   "id": "49210c144e6fa66b",
   "outputs": [],
   "execution_count": null
  },
  {
   "metadata": {},
   "cell_type": "markdown",
   "source": "## Data Loading & Pre-treatments",
   "id": "93b266adff3382b8"
  },
  {
   "metadata": {},
   "cell_type": "code",
   "source": [
    "data = load_data(file_path='../data/data_2024.json')\n",
    "general_field = data.columns.tolist()\n",
    "data"
   ],
   "id": "506bb966d1394729",
   "outputs": [],
   "execution_count": null
  },
  {
   "metadata": {},
   "cell_type": "code",
   "source": [
    "# Stats by artist\n",
    "data_art = data.explode('artist_list').reset_index(drop=True)\n",
    "data_art.rename({'artist_list': 'artist'}, axis=1, inplace=True)"
   ],
   "id": "9f578df92f0f9227",
   "outputs": [],
   "execution_count": null
  },
  {
   "metadata": {},
   "cell_type": "code",
   "source": [
    "# Stats by labels\n",
    "data_lab = data.explode('label').reset_index(drop=True)\n",
    "data_lab = data_lab.loc[data_lab.label != '[no labels]']"
   ],
   "id": "63d37020a509ff65",
   "outputs": [],
   "execution_count": null
  },
  {
   "metadata": {},
   "cell_type": "code",
   "source": [
    "# Stats by genre\n",
    "data_gen = data.explode('genre').reset_index(drop=True)"
   ],
   "id": "82be3e69b61c78c5",
   "outputs": [],
   "execution_count": null
  },
  {
   "metadata": {},
   "cell_type": "markdown",
   "source": [
    "## Basic statistics\n",
    "### Artists of the year by number of release\n"
   ],
   "id": "334551b0cc7be83b"
  },
  {
   "metadata": {},
   "cell_type": "code",
   "source": [
    "data_art_count = (data_art[['artist', 'title']]\n",
    "                  .groupby('artist', as_index=False)\n",
    "                  .count()\n",
    "                  .rename({'title': 'n_release'}, axis=1)\n",
    "                  .sort_values('n_release', ascending=False)\n",
    "                  .reset_index(drop=True))\n",
    "\n",
    "data_art_count.describe()"
   ],
   "id": "63776666128b45f",
   "outputs": [],
   "execution_count": null
  },
  {
   "metadata": {},
   "cell_type": "code",
   "source": [
    "bar_artists_release = plot_bar(dataframe=data_art_count.head(10),\n",
    "                               x='artist',\n",
    "                               y='n_release',\n",
    "                               title='Number of release by Artist (Top 10)<br><sup>Remixes included</sup>',\n",
    "                               x_label='Artists',\n",
    "                               y_label='Number of releases',\n",
    "                               col_range=(data_art_count.n_release.min(), data_art_count.n_release.max()))\n",
    "\n",
    "bar_artists_release.show()"
   ],
   "id": "d50b2a295119b32a",
   "outputs": [],
   "execution_count": null
  },
  {
   "metadata": {},
   "cell_type": "markdown",
   "source": [
    "\n",
    "### Labels of the year by number of release"
   ],
   "id": "b26a1509d2088f5a"
  },
  {
   "metadata": {},
   "cell_type": "code",
   "source": [
    "data_lab_count = (data_lab[['label', 'title']]\n",
    "                  .groupby('label', as_index=False)\n",
    "                  .count()\n",
    "                  .rename({'title': 'n_release'}, axis=1)\n",
    "                  .sort_values('n_release', ascending=False)\n",
    "                  .reset_index(drop=True))\n",
    "\n",
    "data_lab_count.describe()"
   ],
   "id": "94e5f5adb2c31f7e",
   "outputs": [],
   "execution_count": null
  },
  {
   "metadata": {},
   "cell_type": "code",
   "source": [
    "bar_label_release = plot_bar(dataframe=data_lab_count.head(10),\n",
    "                             x='label',\n",
    "                             y='n_release',\n",
    "                             title='Number of release by Label (Top 10)',\n",
    "                             x_label='Labels',\n",
    "                             y_label='Number of releases',\n",
    "                             col_range=(data_lab_count.n_release.min(), data_lab_count.n_release.max()))\n",
    "bar_label_release.show()"
   ],
   "id": "51f3fc05849b11c8",
   "outputs": [],
   "execution_count": null
  },
  {
   "metadata": {},
   "cell_type": "markdown",
   "source": "### Genre of the year by number of release\n",
   "id": "cad023b39e1d6f09"
  },
  {
   "metadata": {},
   "cell_type": "code",
   "source": [
    "data_gen_count = (data_gen[['genre', 'title']]\n",
    "                  .groupby('genre', as_index=False)\n",
    "                  .count()\n",
    "                  .rename({'title': 'n_release'}, axis=1)\n",
    "                  .sort_values('n_release', ascending=False)\n",
    "                  .reset_index(drop=True))\n",
    "\n",
    "data_gen_count.describe()"
   ],
   "id": "415dfa3bee807f4",
   "outputs": [],
   "execution_count": null
  },
  {
   "metadata": {},
   "cell_type": "code",
   "source": [
    "bar_genre_release = plot_bar(dataframe=data_gen_count,\n",
    "                             x='genre',\n",
    "                             y='n_release',\n",
    "                             title='Number of release by Genre',\n",
    "                             x_label='Music Genres',\n",
    "                             y_label='Number of releases',\n",
    "                             col_range=(data_gen_count.n_release.min(), data_gen_count.n_release.max()))\n",
    "bar_genre_release.show()"
   ],
   "id": "8c03f3fbe91e8c5c",
   "outputs": [],
   "execution_count": null
  },
  {
   "metadata": {},
   "cell_type": "markdown",
   "source": [
    "## Power Rankings by stats categories\n",
    "### Loading data"
   ],
   "id": "69fa20f6e7403563"
  },
  {
   "metadata": {},
   "cell_type": "code",
   "source": [
    "data_cha = load_data(file_path='../data/data_2024.json', category='charts')\n",
    "data_eng = load_data(file_path='../data/data_2024.json', category='engagement')\n",
    "data_pla = load_data(file_path='../data/data_2024.json', category='playlists')\n",
    "data_pop = load_data(file_path='../data/data_2024.json', category='popularity')\n",
    "data_pro = load_data(file_path='../data/data_2024.json', category='professional_support')\n",
    "data_rea = load_data(file_path='../data/data_2024.json', category='reach')\n",
    "data_sho = load_data(file_path='../data/data_2024.json', category='shorts')\n",
    "data_str = load_data(file_path='../data/data_2024.json', category='streams')"
   ],
   "id": "de03ad78212ade95",
   "outputs": [],
   "execution_count": null
  },
  {
   "metadata": {},
   "cell_type": "markdown",
   "source": [
    "### Charts\n",
    "#### Rescale statistics"
   ],
   "id": "33e8141b1ea845df"
  },
  {
   "metadata": {},
   "cell_type": "code",
   "source": [
    "data_cha = rescale_stats(data_cha, general_field)\n",
    "data_cha"
   ],
   "id": "6b02e5b80fdfd079",
   "outputs": [],
   "execution_count": null
  },
  {
   "metadata": {},
   "cell_type": "markdown",
   "source": "#### Weighting by recorded by stats",
   "id": "e6ce8f8c6713b0eb"
  },
  {
   "metadata": {},
   "cell_type": "code",
   "source": [
    "pr_cha, w_cha = compute_power(data_cha, general_field)  # 'w_cha' is calculated for the final step of the Power Ranking\n",
    "pr_cha"
   ],
   "id": "17c871fdf5dcfd3c",
   "outputs": [],
   "execution_count": null
  },
  {
   "metadata": {},
   "cell_type": "markdown",
   "source": "#### Graphical Representation",
   "id": "424dbb03e5f2d577"
  },
  {
   "metadata": {},
   "cell_type": "code",
   "source": [
    "bar_pr_cha = plot_bar(dataframe=pr_cha.sort_values('PWR', ascending=False).head(20),\n",
    "                      x='songstats_title',\n",
    "                      y='PWR',\n",
    "                      title='Charts Power Ranking (Top 20)',\n",
    "                      x_label='Track',\n",
    "                      y_label='Power',\n",
    "                      col_range=(pr_cha.PWR.min(), pr_cha.PWR.max()))\n",
    "bar_pr_cha.show()"
   ],
   "id": "495ae3910e9f9e5e",
   "outputs": [],
   "execution_count": null
  },
  {
   "metadata": {},
   "cell_type": "markdown",
   "source": [
    "### Engagement\n",
    "#### Rescale statistics"
   ],
   "id": "8d3e46aa55125324"
  },
  {
   "metadata": {},
   "cell_type": "code",
   "source": [
    "data_eng = rescale_stats(data_eng, general_field)\n",
    "data_eng"
   ],
   "id": "208e9085f8a916b3",
   "outputs": [],
   "execution_count": null
  },
  {
   "metadata": {},
   "cell_type": "markdown",
   "source": "#### Weighting by recorded by stats",
   "id": "f082b54e7a3c4e9d"
  },
  {
   "metadata": {},
   "cell_type": "code",
   "source": [
    "pr_eng, w_eng = compute_power(data_eng, general_field)  # 'w_eng' is calculated for the final step of the Power Ranking\n",
    "pr_eng"
   ],
   "id": "2f9ccb565f11aee",
   "outputs": [],
   "execution_count": null
  },
  {
   "metadata": {},
   "cell_type": "markdown",
   "source": "#### Graphical Representation",
   "id": "a40ecdb64aeffff9"
  },
  {
   "metadata": {},
   "cell_type": "code",
   "source": [
    "bar_pr_eng = plot_bar(dataframe=pr_eng.sort_values('PWR', ascending=False).head(20),\n",
    "                      x='songstats_title',\n",
    "                      y='PWR',\n",
    "                      title='Engagement Power Ranking (Top 20)',\n",
    "                      x_label='Track',\n",
    "                      y_label='Power',\n",
    "                      col_range=(pr_eng.PWR.min(), pr_eng.PWR.max()))\n",
    "bar_pr_eng.show()"
   ],
   "id": "bc37e4707c20d1dd",
   "outputs": [],
   "execution_count": null
  },
  {
   "metadata": {},
   "cell_type": "markdown",
   "source": [
    "### Playlists\n",
    "#### Rescale statistics"
   ],
   "id": "40cc7d38b1098446"
  },
  {
   "metadata": {},
   "cell_type": "code",
   "source": [
    "data_pla = rescale_stats(data_pla, general_field)\n",
    "data_pla"
   ],
   "id": "185dd2882f7c83b0",
   "outputs": [],
   "execution_count": null
  },
  {
   "metadata": {},
   "cell_type": "markdown",
   "source": "#### Weighting by recorded by stats",
   "id": "22dea5cc0734cf01"
  },
  {
   "metadata": {},
   "cell_type": "code",
   "source": [
    "pr_pla, w_pla = compute_power(data_pla, general_field)  # 'w_pla' is calculated for the final step of the Power Ranking\n",
    "pr_pla"
   ],
   "id": "af677dd8a837fcfa",
   "outputs": [],
   "execution_count": null
  },
  {
   "metadata": {},
   "cell_type": "markdown",
   "source": "#### Graphical Representation",
   "id": "14d0272d3ec4c636"
  },
  {
   "metadata": {},
   "cell_type": "code",
   "source": [
    "bar_pr_pla = plot_bar(dataframe=pr_pla.sort_values('PWR', ascending=False).head(20),\n",
    "                      x='songstats_title',\n",
    "                      y='PWR',\n",
    "                      title='Playlist Power Ranking (Top 20)',\n",
    "                      x_label='Track',\n",
    "                      y_label='Power',\n",
    "                      col_range=(pr_pla.PWR.min(), pr_pla.PWR.max()))\n",
    "bar_pr_pla.show()"
   ],
   "id": "f10d999279639c94",
   "outputs": [],
   "execution_count": null
  },
  {
   "metadata": {},
   "cell_type": "markdown",
   "source": [
    "### Popularity\n",
    "#### Rescale statistics"
   ],
   "id": "4eaade0bb1869d80"
  },
  {
   "metadata": {},
   "cell_type": "code",
   "source": [
    "data_pop = rescale_stats(data_pop, general_field)\n",
    "data_pop"
   ],
   "id": "56df312d029bc6a7",
   "outputs": [],
   "execution_count": null
  },
  {
   "metadata": {},
   "cell_type": "markdown",
   "source": "#### Weighting by recorded by stats",
   "id": "d1b1066d60b4b20a"
  },
  {
   "metadata": {},
   "cell_type": "code",
   "source": [
    "pr_pop, w_pop = compute_power(data_pop, general_field)  # 'w_pop' is calculated for the final step of the Power Ranking\n",
    "pr_pop"
   ],
   "id": "e985f869c74bb8ad",
   "outputs": [],
   "execution_count": null
  },
  {
   "metadata": {},
   "cell_type": "markdown",
   "source": "#### Graphical Representation",
   "id": "a3b82fad33ee4c6d"
  },
  {
   "metadata": {},
   "cell_type": "code",
   "source": [
    "bar_pr_pop = plot_bar(dataframe=pr_pop.sort_values('PWR', ascending=False).head(20),\n",
    "                      x='songstats_title',\n",
    "                      y='PWR',\n",
    "                      title='Popularity Power Ranking (Top 20)',\n",
    "                      x_label='Track',\n",
    "                      y_label='Power',\n",
    "                      col_range=(pr_pop.PWR.min(), pr_pop.PWR.max()))\n",
    "bar_pr_pop.show()"
   ],
   "id": "d6e9d52edc47f0f4",
   "outputs": [],
   "execution_count": null
  },
  {
   "metadata": {},
   "cell_type": "markdown",
   "source": [
    "### Professional Support\n",
    "#### Rescale statistics"
   ],
   "id": "d3053484ec65d146"
  },
  {
   "metadata": {},
   "cell_type": "code",
   "source": [
    "data_pro = rescale_stats(data_pro, general_field)\n",
    "data_pro"
   ],
   "id": "de1b68ee35a80593",
   "outputs": [],
   "execution_count": null
  },
  {
   "metadata": {},
   "cell_type": "markdown",
   "source": "#### Weighting by recorded by stats",
   "id": "9819e8539c2eec7a"
  },
  {
   "metadata": {},
   "cell_type": "code",
   "source": [
    "pr_pro, w_pro = compute_power(data_pro, general_field)  # 'w_pro' is calculated for the final step of the Power Ranking\n",
    "pr_pro"
   ],
   "id": "c7f9cfc0bce7b743",
   "outputs": [],
   "execution_count": null
  },
  {
   "metadata": {},
   "cell_type": "markdown",
   "source": "#### Graphical Representation",
   "id": "148122783d03be04"
  },
  {
   "metadata": {},
   "cell_type": "code",
   "source": [
    "bar_pr_pro = plot_bar(dataframe=pr_pro.sort_values('PWR', ascending=False).head(20),\n",
    "                      x='songstats_title',\n",
    "                      y='PWR',\n",
    "                      title='Pro. Support Power Ranking (Top 20)',\n",
    "                      x_label='Track',\n",
    "                      y_label='Power',\n",
    "                      col_range=(pr_pro.PWR.min(), pr_pro.PWR.max()))\n",
    "bar_pr_pro.show()"
   ],
   "id": "cbba5c0230392dab",
   "outputs": [],
   "execution_count": null
  },
  {
   "metadata": {},
   "cell_type": "markdown",
   "source": [
    "### Reach\n",
    "#### Rescale statistics"
   ],
   "id": "75ea05902a2a5dd1"
  },
  {
   "metadata": {},
   "cell_type": "code",
   "source": [
    "data_rea = rescale_stats(data_rea, general_field)\n",
    "data_rea"
   ],
   "id": "c8f07ca07897a10d",
   "outputs": [],
   "execution_count": null
  },
  {
   "metadata": {},
   "cell_type": "markdown",
   "source": "#### Weighting by recorded by stats",
   "id": "761bd00bb5269ecb"
  },
  {
   "metadata": {},
   "cell_type": "code",
   "source": [
    "pr_rea, w_rea = compute_power(data_rea, general_field)  # 'w_rea' is calculated for the final step of the Power Ranking\n",
    "pr_rea"
   ],
   "id": "23bda554cf4c3ccc",
   "outputs": [],
   "execution_count": null
  },
  {
   "metadata": {},
   "cell_type": "markdown",
   "source": "#### Graphical Representation",
   "id": "330b80b7dfdfd24c"
  },
  {
   "metadata": {},
   "cell_type": "code",
   "source": [
    "bar_pr_rea = plot_bar(dataframe=pr_rea.sort_values('PWR', ascending=False).head(20),\n",
    "                      x='songstats_title',\n",
    "                      y='PWR',\n",
    "                      title='Reach Power Ranking (Top 20)',\n",
    "                      x_label='Track',\n",
    "                      y_label='Power',\n",
    "                      col_range=(pr_rea.PWR.min(), pr_rea.PWR.max()))\n",
    "bar_pr_rea.show()"
   ],
   "id": "8cc950840e633e68",
   "outputs": [],
   "execution_count": null
  },
  {
   "metadata": {},
   "cell_type": "markdown",
   "source": [
    "### Shorts\n",
    "#### Rescale statistics"
   ],
   "id": "fb42c829b7e4aa2"
  },
  {
   "metadata": {},
   "cell_type": "code",
   "source": [
    "data_sho = rescale_stats(data_sho, general_field)\n",
    "data_sho"
   ],
   "id": "9de0a295f9c6be27",
   "outputs": [],
   "execution_count": null
  },
  {
   "metadata": {},
   "cell_type": "markdown",
   "source": "#### Weighting by recorded by stats",
   "id": "a579d5092006ca04"
  },
  {
   "metadata": {},
   "cell_type": "code",
   "source": [
    "pr_sho, w_sho = compute_power(data_sho, general_field)  # 'w_sho' is calculated for the final step of the Power Ranking\n",
    "pr_sho"
   ],
   "id": "9727e5644f79f180",
   "outputs": [],
   "execution_count": null
  },
  {
   "metadata": {},
   "cell_type": "markdown",
   "source": "#### Graphical Representation",
   "id": "ba6b7661dca00df7"
  },
  {
   "metadata": {},
   "cell_type": "code",
   "source": [
    "bar_pr_sho = plot_bar(dataframe=pr_sho.sort_values('PWR', ascending=False).head(20),\n",
    "                      x='songstats_title',\n",
    "                      y='PWR',\n",
    "                      title='Shorts Power Ranking (Top 20)',\n",
    "                      x_label='Track',\n",
    "                      y_label='Power',\n",
    "                      col_range=(pr_sho.PWR.min(), pr_sho.PWR.max()))\n",
    "bar_pr_sho.show()"
   ],
   "id": "ccd4aec02381fbbc",
   "outputs": [],
   "execution_count": null
  },
  {
   "metadata": {},
   "cell_type": "markdown",
   "source": [
    "### Streams\n",
    "#### Rescale statistics"
   ],
   "id": "6619ba475383b0e5"
  },
  {
   "metadata": {},
   "cell_type": "code",
   "source": [
    "data_str = rescale_stats(data_str, general_field)\n",
    "data_str"
   ],
   "id": "fbc0f73c523e3ee4",
   "outputs": [],
   "execution_count": null
  },
  {
   "metadata": {},
   "cell_type": "markdown",
   "source": "#### Weighting by recorded by stats",
   "id": "d36a6a27a2c67c58"
  },
  {
   "metadata": {},
   "cell_type": "code",
   "source": [
    "pr_str, w_str = compute_power(data_str, general_field)  # 'w_str' is calculated for the final step of the Power Ranking\n",
    "pr_str"
   ],
   "id": "f7ca8033758003c6",
   "outputs": [],
   "execution_count": null
  },
  {
   "metadata": {},
   "cell_type": "markdown",
   "source": "#### Graphical Representation",
   "id": "59ec6a2821072582"
  },
  {
   "metadata": {},
   "cell_type": "code",
   "source": [
    "bar_pr_str = plot_bar(dataframe=pr_str.sort_values('PWR', ascending=False).head(20),\n",
    "                      x='songstats_title',\n",
    "                      y='PWR',\n",
    "                      title='Streams Power Ranking (Top 20)',\n",
    "                      x_label='Track',\n",
    "                      y_label='Power',\n",
    "                      col_range=(pr_str.PWR.min(), pr_str.PWR.max()))\n",
    "bar_pr_str.show()"
   ],
   "id": "8e734637069d29a5",
   "outputs": [],
   "execution_count": null
  },
  {
   "metadata": {},
   "cell_type": "markdown",
   "source": [
    "## Overall Power Ranking\n",
    "### Weights by category\n",
    "\n",
    "I redefine the weights applied to each category arbitrarily. This may be open to criticism, but it's a matter of\n",
    "differentiating the importance of each of the metrics in relation to the others. In my opinion, it's important not to\n",
    " put them on an equal basis. The level are :\n",
    "\n",
    "1. **Negligible**: no coefficient applied\n",
    "2. **Low Importance**: weight multiplied by 2\n",
    "3. **Average Importance**: weight multiplied by 3\n",
    "4. **High Importance**: weight multiplied by 4"
   ],
   "id": "de740e754f4cfc35"
  },
  {
   "metadata": {},
   "cell_type": "code",
   "source": [
    "# Negligible\n",
    "new_w_cha = w_cha\n",
    "new_w_eng = w_eng\n",
    "\n",
    "# Low\n",
    "new_w_rea = w_rea * 2\n",
    "new_w_sho = w_sho * 2\n",
    "\n",
    "# Mid\n",
    "new_w_pla = w_pla * 3\n",
    "new_w_pro = w_pro * 3\n",
    "\n",
    "# Important\n",
    "new_w_pop = w_pop * 4\n",
    "new_w_str = w_str * 4\n",
    "\n",
    "# Store them as DF\n",
    "new_weights_dict = {'pwr_cha': new_w_cha,\n",
    "                    'pwr_eng': new_w_eng,\n",
    "                    'pwr_pla': new_w_pla,\n",
    "                    'pwr_pop': new_w_pop,\n",
    "                    'pwr_pro': new_w_pro,\n",
    "                    'pwr_rea': new_w_rea,\n",
    "                    'pwr_sho': new_w_sho,\n",
    "                    'pwr_str': new_w_str}\n",
    "\n",
    "new_weights = pd.DataFrame.from_dict(new_weights_dict, orient='index')\n",
    "new_weights"
   ],
   "id": "50c552cb5ee1dab2",
   "outputs": [],
   "execution_count": null
  },
  {
   "metadata": {},
   "cell_type": "markdown",
   "source": "### Merging all data",
   "id": "3d9e182a07e34e96"
  },
  {
   "metadata": {},
   "cell_type": "code",
   "source": [
    "pr_cha.rename({'PWR': 'pwr_cha'}, axis=1, inplace=True)\n",
    "pr_eng.rename({'PWR': 'pwr_eng'}, axis=1, inplace=True)\n",
    "pr_pla.rename({'PWR': 'pwr_pla'}, axis=1, inplace=True)\n",
    "pr_pop.rename({'PWR': 'pwr_pop'}, axis=1, inplace=True)\n",
    "pr_pro.rename({'PWR': 'pwr_pro'}, axis=1, inplace=True)\n",
    "pr_rea.rename({'PWR': 'pwr_rea'}, axis=1, inplace=True)\n",
    "pr_sho.rename({'PWR': 'pwr_sho'}, axis=1, inplace=True)\n",
    "pr_str.rename({'PWR': 'pwr_str'}, axis=1, inplace=True)\n",
    "\n",
    "all_data = pd.concat([pr_cha[general_field + ['pwr_cha']],\n",
    "                      pr_eng.iloc[:,-1:],\n",
    "                      pr_pla.iloc[:,-1:],\n",
    "                      pr_pop.iloc[:,-1:],\n",
    "                      pr_pro.iloc[:,-1:],\n",
    "                      pr_rea.iloc[:,-1:],\n",
    "                      pr_sho.iloc[:,-1:],\n",
    "                      pr_str.iloc[:,-1:]], axis=1)\n",
    "\n",
    "all_data"
   ],
   "id": "92bb873bc94d38a4",
   "outputs": [],
   "execution_count": null
  },
  {
   "metadata": {},
   "cell_type": "code",
   "source": [
    "global_pr = all_data[all_data.columns.difference(general_field)].dot(new_weights) / new_weights.sum()\n",
    "\n",
    "power_ranking = (pd.concat((all_data, global_pr), axis=1)\n",
    "                 .rename({0: 'PWR'}, axis=1)\n",
    "                 .sort_values('PWR', ascending=False)\n",
    "                 .reset_index(drop=True))\n",
    "\n",
    "power_ranking.PWR = power_ranking.PWR.round(4)\n",
    "power_ranking"
   ],
   "id": "b5123d2b7d7a1acb",
   "outputs": [],
   "execution_count": null
  },
  {
   "metadata": {},
   "cell_type": "code",
   "source": [
    "bar_power_ranking = plot_bar(dataframe=power_ranking.head(20),\n",
    "                      x='songstats_title',\n",
    "                      y='PWR',\n",
    "                      title='GLOBAL POWER RANKING 2024 (Top 20)',\n",
    "                      x_label='Track',\n",
    "                      y_label='Power',\n",
    "                      col_range=(power_ranking.PWR.min(), power_ranking.PWR.max()))\n",
    "\n",
    "bar_power_ranking.show()"
   ],
   "id": "3476ec297cf57ae6",
   "outputs": [],
   "execution_count": null
  },
  {
   "metadata": {},
   "cell_type": "code",
   "source": "power_ranking[['songstats_id', 'PWR', 'title']].to_csv('../data/power_ranking_2024.csv', index=False, encoding='utf-8')",
   "id": "29745b8f497c616c",
   "outputs": [],
   "execution_count": null
  }
 ],
 "metadata": {
  "kernelspec": {
   "display_name": "Python 3 (ipykernel)",
   "language": "python",
   "name": "python3"
  },
  "language_info": {
   "codemirror_mode": {
    "name": "ipython",
    "version": 3
   },
   "file_extension": ".py",
   "mimetype": "text/x-python",
   "name": "python",
   "nbconvert_exporter": "python",
   "pygments_lexer": "ipython3",
   "version": "3.11.10"
  }
 },
 "nbformat": 4,
 "nbformat_minor": 5
}
